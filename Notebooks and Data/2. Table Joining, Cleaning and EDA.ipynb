{
 "cells": [
  {
   "cell_type": "markdown",
   "id": "96f805e3",
   "metadata": {},
   "source": [
    "**Author: Autumn Salsberry**\n",
    "\n",
    "Contact: <a href=\"https://www.linkedin.com/in/salsbeas/\">linkedin.com/in/salsbeas</a>\n",
    "\n",
    "BrainStation Capstone: Predicting Adoptability of Shelter Dogs\n",
    "\n",
    "August 8, 2022"
   ]
  },
  {
   "cell_type": "markdown",
   "id": "0db408c5",
   "metadata": {},
   "source": [
    "This notebook is for joining the relevant details from the three Austin, TX shelter data frames and cleaning the data for EDA in Tableau and modeling purposes. As noted in notebook 1, the breed and color of the animal from the intake and outcome datasets can be joined with the \"all\" dataset because this information is relevant to predicting if a dog will be adopted or not. After this join, there are a lot of categorical variables that will need to be converted to binaries or OneHotEncoded depending on the discoveries in basic EDA for each column type. "
   ]
  },
  {
   "cell_type": "markdown",
   "id": "dc289a9d",
   "metadata": {},
   "source": [
    "# Table of Contents\n",
    "\n",
    "* [Joining the Data Frames](#join)\n",
    "* [Clean the Data](#clean)\n",
    "    * [Date and Time Columns](#date)\n",
    "    * [Breed Columns](#breed)\n",
    "    * [Coat Color](#color)\n",
    "    * [Age](#age)\n",
    "    * [Fixed Status Columns](#fixed)\n",
    "    * [Outcome (Adopted) Column](#adopt)\n",
    "    * [Gender and Sex Columns](#sex)\n",
    "    * [Intake Condition Columns](#intake)\n",
    "    * [Split Date Columns](#split)\n",
    "* [Rename The Columns](#rename) \n",
    "* [Download the Data Frames](#download)"
   ]
  },
  {
   "cell_type": "code",
   "execution_count": 1,
   "id": "4864df33",
   "metadata": {},
   "outputs": [],
   "source": [
    "#upload the basic packages for discovery and cleaning\n",
    "import pandas as pd\n",
    "import numpy as np\n",
    "import matplotlib.pyplot as plt\n",
    "\n",
    "#for sorting dummies\n",
    "import re\n",
    "\n",
    "# for datetimes\n",
    "from datetime import timedelta\n",
    "\n",
    "#ignore warnigns\n",
    "import warnings\n",
    "warnings.filterwarnings(\"ignore\")"
   ]
  },
  {
   "cell_type": "code",
   "execution_count": 2,
   "id": "71cdd734",
   "metadata": {},
   "outputs": [],
   "source": [
    "#only working with the Austin, TX shelter data frames\n",
    "all_info_df = pd.read_csv('Tabular Data/all_records.csv')\n",
    "intakes = pd.read_csv('Tabular Data/Austin_Animal_Center_Intakes.csv')\n",
    "outcomes = pd.read_csv('Tabular Data/Austin_Animal_Center_Outcomes.csv')"
   ]
  },
  {
   "cell_type": "markdown",
   "id": "09444b09",
   "metadata": {},
   "source": [
    "# Goals\n",
    "\n",
    "* Join all three data frames on Animal ID\n",
    "* Explore the data and determine the best way to clean the data to prepare for further EDA and modeling\n",
    "* Export cleaned dataset for further EDA and modeling"
   ]
  },
  {
   "cell_type": "markdown",
   "id": "490fb781",
   "metadata": {},
   "source": [
    "# Joining the Data Frames\n",
    "<a class=\"anchor\" id=\"join\"></a>\n",
    "\n",
    "In this section I will join the tables using the common key \"Animal ID) and assure there are no duplicates. \n",
    "   \n",
    "The columns I will concatenate from `outcomes` to `all_info_df` are:\n",
    "   * `Date of Birth`\n",
    "   * `Breed`\n",
    "   * `Color`\n",
    "   \n",
    "Before joining the tables considering these columns, I will first remove the rows representing animals that were rescued other than dogs. Then I will create new intake and outcome data frames with only the relevant columns as noted above. Thus, I will have fewer rows to join on and fewer columns to concatenate. This will save some time. "
   ]
  },
  {
   "cell_type": "code",
   "execution_count": 3,
   "id": "61f24244",
   "metadata": {},
   "outputs": [
    {
     "data": {
      "text/html": [
       "<div>\n",
       "<style scoped>\n",
       "    .dataframe tbody tr th:only-of-type {\n",
       "        vertical-align: middle;\n",
       "    }\n",
       "\n",
       "    .dataframe tbody tr th {\n",
       "        vertical-align: top;\n",
       "    }\n",
       "\n",
       "    .dataframe thead th {\n",
       "        text-align: right;\n",
       "    }\n",
       "</style>\n",
       "<table border=\"1\" class=\"dataframe\">\n",
       "  <thead>\n",
       "    <tr style=\"text-align: right;\">\n",
       "      <th></th>\n",
       "      <th>Unnamed: 0</th>\n",
       "      <th>Animal ID</th>\n",
       "      <th>Name_intake</th>\n",
       "      <th>DateTime_intake</th>\n",
       "      <th>MonthYear_intake</th>\n",
       "      <th>Found_Location</th>\n",
       "      <th>Intake_Type</th>\n",
       "      <th>IntakeCondition</th>\n",
       "      <th>Animal_Type_intake</th>\n",
       "      <th>Sex</th>\n",
       "      <th>...</th>\n",
       "      <th>beagle</th>\n",
       "      <th>terrier</th>\n",
       "      <th>boxer</th>\n",
       "      <th>poodle</th>\n",
       "      <th>rottweiler</th>\n",
       "      <th>dachshund</th>\n",
       "      <th>chihuahua</th>\n",
       "      <th>pit bull</th>\n",
       "      <th>DateTime_length</th>\n",
       "      <th>Days_length</th>\n",
       "    </tr>\n",
       "  </thead>\n",
       "  <tbody>\n",
       "    <tr>\n",
       "      <th>1</th>\n",
       "      <td>1</td>\n",
       "      <td>A683644</td>\n",
       "      <td>*Zoey</td>\n",
       "      <td>2014-07-13 11:02:00</td>\n",
       "      <td>07/13/2014 11:02:00 AM</td>\n",
       "      <td>Austin (TX)</td>\n",
       "      <td>Owner Surrender</td>\n",
       "      <td>Nursing</td>\n",
       "      <td>Dog</td>\n",
       "      <td>Intact Female</td>\n",
       "      <td>...</td>\n",
       "      <td>0</td>\n",
       "      <td>0</td>\n",
       "      <td>0</td>\n",
       "      <td>0</td>\n",
       "      <td>0</td>\n",
       "      <td>0</td>\n",
       "      <td>0</td>\n",
       "      <td>0</td>\n",
       "      <td>115 days 23:04:00.000000000</td>\n",
       "      <td>12 weeks - 6 months</td>\n",
       "    </tr>\n",
       "    <tr>\n",
       "      <th>2</th>\n",
       "      <td>2</td>\n",
       "      <td>A676515</td>\n",
       "      <td>Rico</td>\n",
       "      <td>2014-04-11 08:45:00</td>\n",
       "      <td>04/11/2014 08:45:00 AM</td>\n",
       "      <td>615 E. Wonsley in Austin (TX)</td>\n",
       "      <td>Stray</td>\n",
       "      <td>Normal</td>\n",
       "      <td>Dog</td>\n",
       "      <td>Intact Male</td>\n",
       "      <td>...</td>\n",
       "      <td>0</td>\n",
       "      <td>0</td>\n",
       "      <td>0</td>\n",
       "      <td>0</td>\n",
       "      <td>0</td>\n",
       "      <td>0</td>\n",
       "      <td>0</td>\n",
       "      <td>1</td>\n",
       "      <td>3 days 09:53:00.000000000</td>\n",
       "      <td>0-7 days</td>\n",
       "    </tr>\n",
       "    <tr>\n",
       "      <th>3</th>\n",
       "      <td>3</td>\n",
       "      <td>A742953</td>\n",
       "      <td>NaN</td>\n",
       "      <td>2017-01-31 13:30:00</td>\n",
       "      <td>01/31/2017 01:30:00 PM</td>\n",
       "      <td>S Hwy 183 And Thompson Lane in Austin (TX)</td>\n",
       "      <td>Stray</td>\n",
       "      <td>Normal</td>\n",
       "      <td>Dog</td>\n",
       "      <td>Intact Male</td>\n",
       "      <td>...</td>\n",
       "      <td>0</td>\n",
       "      <td>0</td>\n",
       "      <td>0</td>\n",
       "      <td>0</td>\n",
       "      <td>0</td>\n",
       "      <td>0</td>\n",
       "      <td>0</td>\n",
       "      <td>0</td>\n",
       "      <td>4 days 00:47:00.000000000</td>\n",
       "      <td>0-7 days</td>\n",
       "    </tr>\n",
       "    <tr>\n",
       "      <th>11</th>\n",
       "      <td>11</td>\n",
       "      <td>A692161</td>\n",
       "      <td>George</td>\n",
       "      <td>2014-11-15 15:18:00</td>\n",
       "      <td>11/15/2014 03:18:00 PM</td>\n",
       "      <td>Avenue G/42Nd in Austin (TX)</td>\n",
       "      <td>Owner Surrender</td>\n",
       "      <td>Normal</td>\n",
       "      <td>Dog</td>\n",
       "      <td>Intact Male</td>\n",
       "      <td>...</td>\n",
       "      <td>0</td>\n",
       "      <td>0</td>\n",
       "      <td>0</td>\n",
       "      <td>0</td>\n",
       "      <td>0</td>\n",
       "      <td>0</td>\n",
       "      <td>0</td>\n",
       "      <td>1</td>\n",
       "      <td>6 days 03:37:00.000000000</td>\n",
       "      <td>0-7 days</td>\n",
       "    </tr>\n",
       "    <tr>\n",
       "      <th>14</th>\n",
       "      <td>14</td>\n",
       "      <td>A720597</td>\n",
       "      <td>*Franklin</td>\n",
       "      <td>2016-02-12 14:35:00</td>\n",
       "      <td>02/12/2016 02:35:00 PM</td>\n",
       "      <td>8413 Danville Dr in Austin (TX)</td>\n",
       "      <td>Stray</td>\n",
       "      <td>Injured</td>\n",
       "      <td>Dog</td>\n",
       "      <td>Intact Male</td>\n",
       "      <td>...</td>\n",
       "      <td>0</td>\n",
       "      <td>0</td>\n",
       "      <td>0</td>\n",
       "      <td>0</td>\n",
       "      <td>0</td>\n",
       "      <td>0</td>\n",
       "      <td>0</td>\n",
       "      <td>1</td>\n",
       "      <td>7 days 01:45:00.000000000</td>\n",
       "      <td>1-3 weeks</td>\n",
       "    </tr>\n",
       "  </tbody>\n",
       "</table>\n",
       "<p>5 rows × 38 columns</p>\n",
       "</div>"
      ],
      "text/plain": [
       "    Unnamed: 0 Animal ID Name_intake      DateTime_intake  \\\n",
       "1            1   A683644       *Zoey  2014-07-13 11:02:00   \n",
       "2            2   A676515        Rico  2014-04-11 08:45:00   \n",
       "3            3   A742953         NaN  2017-01-31 13:30:00   \n",
       "11          11   A692161      George  2014-11-15 15:18:00   \n",
       "14          14   A720597   *Franklin  2016-02-12 14:35:00   \n",
       "\n",
       "          MonthYear_intake                              Found_Location  \\\n",
       "1   07/13/2014 11:02:00 AM                                 Austin (TX)   \n",
       "2   04/11/2014 08:45:00 AM               615 E. Wonsley in Austin (TX)   \n",
       "3   01/31/2017 01:30:00 PM  S Hwy 183 And Thompson Lane in Austin (TX)   \n",
       "11  11/15/2014 03:18:00 PM                Avenue G/42Nd in Austin (TX)   \n",
       "14  02/12/2016 02:35:00 PM             8413 Danville Dr in Austin (TX)   \n",
       "\n",
       "        Intake_Type IntakeCondition Animal_Type_intake            Sex  ...  \\\n",
       "1   Owner Surrender         Nursing                Dog  Intact Female  ...   \n",
       "2             Stray          Normal                Dog    Intact Male  ...   \n",
       "3             Stray          Normal                Dog    Intact Male  ...   \n",
       "11  Owner Surrender          Normal                Dog    Intact Male  ...   \n",
       "14            Stray         Injured                Dog    Intact Male  ...   \n",
       "\n",
       "   beagle terrier boxer poodle rottweiler dachshund chihuahua pit bull  \\\n",
       "1       0       0     0      0          0         0         0        0   \n",
       "2       0       0     0      0          0         0         0        1   \n",
       "3       0       0     0      0          0         0         0        0   \n",
       "11      0       0     0      0          0         0         0        1   \n",
       "14      0       0     0      0          0         0         0        1   \n",
       "\n",
       "                DateTime_length          Days_length  \n",
       "1   115 days 23:04:00.000000000  12 weeks - 6 months  \n",
       "2     3 days 09:53:00.000000000             0-7 days  \n",
       "3     4 days 00:47:00.000000000             0-7 days  \n",
       "11    6 days 03:37:00.000000000             0-7 days  \n",
       "14    7 days 01:45:00.000000000            1-3 weeks  \n",
       "\n",
       "[5 rows x 38 columns]"
      ]
     },
     "execution_count": 3,
     "metadata": {},
     "output_type": "execute_result"
    }
   ],
   "source": [
    "#check to make sure my code for sorting out only dogs does what I want it to\n",
    "all_info_df[all_info_df['Animal_Type_intake'] == 'Dog'].head()"
   ]
  },
  {
   "cell_type": "code",
   "execution_count": 4,
   "id": "7cb1c941",
   "metadata": {},
   "outputs": [
    {
     "data": {
      "text/plain": [
       "array(['Dog'], dtype=object)"
      ]
     },
     "execution_count": 4,
     "metadata": {},
     "output_type": "execute_result"
    }
   ],
   "source": [
    "#make sure no other animals made the cut\n",
    "all_info_df[all_info_df['Animal_Type_intake'] == 'Dog']['Animal_Type_intake'].unique()"
   ]
  },
  {
   "cell_type": "code",
   "execution_count": 5,
   "id": "6abf5fdc",
   "metadata": {
    "scrolled": true
   },
   "outputs": [
    {
     "data": {
      "text/html": [
       "<div>\n",
       "<style scoped>\n",
       "    .dataframe tbody tr th:only-of-type {\n",
       "        vertical-align: middle;\n",
       "    }\n",
       "\n",
       "    .dataframe tbody tr th {\n",
       "        vertical-align: top;\n",
       "    }\n",
       "\n",
       "    .dataframe thead th {\n",
       "        text-align: right;\n",
       "    }\n",
       "</style>\n",
       "<table border=\"1\" class=\"dataframe\">\n",
       "  <thead>\n",
       "    <tr style=\"text-align: right;\">\n",
       "      <th></th>\n",
       "      <th>Animal ID</th>\n",
       "      <th>Name_intake</th>\n",
       "      <th>DateTime_intake</th>\n",
       "      <th>MonthYear_intake</th>\n",
       "      <th>Found_Location</th>\n",
       "      <th>Intake_Type</th>\n",
       "      <th>IntakeCondition</th>\n",
       "      <th>Sex</th>\n",
       "      <th>Age</th>\n",
       "      <th>Breed_intake</th>\n",
       "      <th>...</th>\n",
       "      <th>beagle</th>\n",
       "      <th>terrier</th>\n",
       "      <th>boxer</th>\n",
       "      <th>poodle</th>\n",
       "      <th>rottweiler</th>\n",
       "      <th>dachshund</th>\n",
       "      <th>chihuahua</th>\n",
       "      <th>pit bull</th>\n",
       "      <th>DateTime_length</th>\n",
       "      <th>Days_length</th>\n",
       "    </tr>\n",
       "  </thead>\n",
       "  <tbody>\n",
       "    <tr>\n",
       "      <th>0</th>\n",
       "      <td>A683644</td>\n",
       "      <td>*Zoey</td>\n",
       "      <td>2014-07-13 11:02:00</td>\n",
       "      <td>07/13/2014 11:02:00 AM</td>\n",
       "      <td>Austin (TX)</td>\n",
       "      <td>Owner Surrender</td>\n",
       "      <td>Nursing</td>\n",
       "      <td>Intact Female</td>\n",
       "      <td>4 weeks</td>\n",
       "      <td>Border Collie Mix</td>\n",
       "      <td>...</td>\n",
       "      <td>0</td>\n",
       "      <td>0</td>\n",
       "      <td>0</td>\n",
       "      <td>0</td>\n",
       "      <td>0</td>\n",
       "      <td>0</td>\n",
       "      <td>0</td>\n",
       "      <td>0</td>\n",
       "      <td>115 days 23:04:00.000000000</td>\n",
       "      <td>12 weeks - 6 months</td>\n",
       "    </tr>\n",
       "    <tr>\n",
       "      <th>1</th>\n",
       "      <td>A676515</td>\n",
       "      <td>Rico</td>\n",
       "      <td>2014-04-11 08:45:00</td>\n",
       "      <td>04/11/2014 08:45:00 AM</td>\n",
       "      <td>615 E. Wonsley in Austin (TX)</td>\n",
       "      <td>Stray</td>\n",
       "      <td>Normal</td>\n",
       "      <td>Intact Male</td>\n",
       "      <td>2 months</td>\n",
       "      <td>Pit Bull Mix</td>\n",
       "      <td>...</td>\n",
       "      <td>0</td>\n",
       "      <td>0</td>\n",
       "      <td>0</td>\n",
       "      <td>0</td>\n",
       "      <td>0</td>\n",
       "      <td>0</td>\n",
       "      <td>0</td>\n",
       "      <td>1</td>\n",
       "      <td>3 days 09:53:00.000000000</td>\n",
       "      <td>0-7 days</td>\n",
       "    </tr>\n",
       "    <tr>\n",
       "      <th>2</th>\n",
       "      <td>A742953</td>\n",
       "      <td>NaN</td>\n",
       "      <td>2017-01-31 13:30:00</td>\n",
       "      <td>01/31/2017 01:30:00 PM</td>\n",
       "      <td>S Hwy 183 And Thompson Lane in Austin (TX)</td>\n",
       "      <td>Stray</td>\n",
       "      <td>Normal</td>\n",
       "      <td>Intact Male</td>\n",
       "      <td>2 years</td>\n",
       "      <td>Saluki</td>\n",
       "      <td>...</td>\n",
       "      <td>0</td>\n",
       "      <td>0</td>\n",
       "      <td>0</td>\n",
       "      <td>0</td>\n",
       "      <td>0</td>\n",
       "      <td>0</td>\n",
       "      <td>0</td>\n",
       "      <td>0</td>\n",
       "      <td>4 days 00:47:00.000000000</td>\n",
       "      <td>0-7 days</td>\n",
       "    </tr>\n",
       "    <tr>\n",
       "      <th>3</th>\n",
       "      <td>A692161</td>\n",
       "      <td>George</td>\n",
       "      <td>2014-11-15 15:18:00</td>\n",
       "      <td>11/15/2014 03:18:00 PM</td>\n",
       "      <td>Avenue G/42Nd in Austin (TX)</td>\n",
       "      <td>Owner Surrender</td>\n",
       "      <td>Normal</td>\n",
       "      <td>Intact Male</td>\n",
       "      <td>5 months</td>\n",
       "      <td>Pit Bull Mix</td>\n",
       "      <td>...</td>\n",
       "      <td>0</td>\n",
       "      <td>0</td>\n",
       "      <td>0</td>\n",
       "      <td>0</td>\n",
       "      <td>0</td>\n",
       "      <td>0</td>\n",
       "      <td>0</td>\n",
       "      <td>1</td>\n",
       "      <td>6 days 03:37:00.000000000</td>\n",
       "      <td>0-7 days</td>\n",
       "    </tr>\n",
       "    <tr>\n",
       "      <th>4</th>\n",
       "      <td>A720597</td>\n",
       "      <td>*Franklin</td>\n",
       "      <td>2016-02-12 14:35:00</td>\n",
       "      <td>02/12/2016 02:35:00 PM</td>\n",
       "      <td>8413 Danville Dr in Austin (TX)</td>\n",
       "      <td>Stray</td>\n",
       "      <td>Injured</td>\n",
       "      <td>Intact Male</td>\n",
       "      <td>2 years</td>\n",
       "      <td>Pit Bull Mix</td>\n",
       "      <td>...</td>\n",
       "      <td>0</td>\n",
       "      <td>0</td>\n",
       "      <td>0</td>\n",
       "      <td>0</td>\n",
       "      <td>0</td>\n",
       "      <td>0</td>\n",
       "      <td>0</td>\n",
       "      <td>1</td>\n",
       "      <td>7 days 01:45:00.000000000</td>\n",
       "      <td>1-3 weeks</td>\n",
       "    </tr>\n",
       "  </tbody>\n",
       "</table>\n",
       "<p>5 rows × 36 columns</p>\n",
       "</div>"
      ],
      "text/plain": [
       "  Animal ID Name_intake      DateTime_intake        MonthYear_intake  \\\n",
       "0   A683644       *Zoey  2014-07-13 11:02:00  07/13/2014 11:02:00 AM   \n",
       "1   A676515        Rico  2014-04-11 08:45:00  04/11/2014 08:45:00 AM   \n",
       "2   A742953         NaN  2017-01-31 13:30:00  01/31/2017 01:30:00 PM   \n",
       "3   A692161      George  2014-11-15 15:18:00  11/15/2014 03:18:00 PM   \n",
       "4   A720597   *Franklin  2016-02-12 14:35:00  02/12/2016 02:35:00 PM   \n",
       "\n",
       "                               Found_Location      Intake_Type  \\\n",
       "0                                 Austin (TX)  Owner Surrender   \n",
       "1               615 E. Wonsley in Austin (TX)            Stray   \n",
       "2  S Hwy 183 And Thompson Lane in Austin (TX)            Stray   \n",
       "3                Avenue G/42Nd in Austin (TX)  Owner Surrender   \n",
       "4             8413 Danville Dr in Austin (TX)            Stray   \n",
       "\n",
       "  IntakeCondition            Sex       Age       Breed_intake  ... beagle  \\\n",
       "0         Nursing  Intact Female   4 weeks  Border Collie Mix  ...      0   \n",
       "1          Normal    Intact Male  2 months       Pit Bull Mix  ...      0   \n",
       "2          Normal    Intact Male   2 years             Saluki  ...      0   \n",
       "3          Normal    Intact Male  5 months       Pit Bull Mix  ...      0   \n",
       "4         Injured    Intact Male   2 years       Pit Bull Mix  ...      0   \n",
       "\n",
       "  terrier boxer poodle rottweiler dachshund chihuahua pit bull  \\\n",
       "0       0     0      0          0         0         0        0   \n",
       "1       0     0      0          0         0         0        1   \n",
       "2       0     0      0          0         0         0        0   \n",
       "3       0     0      0          0         0         0        1   \n",
       "4       0     0      0          0         0         0        1   \n",
       "\n",
       "               DateTime_length          Days_length  \n",
       "0  115 days 23:04:00.000000000  12 weeks - 6 months  \n",
       "1    3 days 09:53:00.000000000             0-7 days  \n",
       "2    4 days 00:47:00.000000000             0-7 days  \n",
       "3    6 days 03:37:00.000000000             0-7 days  \n",
       "4    7 days 01:45:00.000000000            1-3 weeks  \n",
       "\n",
       "[5 rows x 36 columns]"
      ]
     },
     "execution_count": 5,
     "metadata": {},
     "output_type": "execute_result"
    }
   ],
   "source": [
    "#create a new df with only dogs and reset the index\n",
    "dog_all_info_df = all_info_df[all_info_df['Animal_Type_intake'] == 'Dog']\n",
    "dog_all_info_df = dog_all_info_df.append(dog_all_info_df, ignore_index = True)\n",
    "\n",
    "# drop the 'Animal_Type_intake' column since this tells us the animal is a dog and we already know this\n",
    "dog_all_info_df.drop(['Unnamed: 0', 'Animal_Type_intake'], axis=1, inplace=True)\n",
    "\n",
    "#Take a look to make sure the df looks how I expect it to\n",
    "dog_all_info_df.head()"
   ]
  },
  {
   "cell_type": "code",
   "execution_count": 6,
   "id": "bb22a7ee",
   "metadata": {
    "scrolled": true
   },
   "outputs": [
    {
     "name": "stdout",
     "output_type": "stream",
     "text": [
      "<class 'pandas.core.frame.DataFrame'>\n",
      "RangeIndex: 96194 entries, 0 to 96193\n",
      "Data columns (total 36 columns):\n",
      " #   Column             Non-Null Count  Dtype \n",
      "---  ------             --------------  ----- \n",
      " 0   Animal ID          96194 non-null  object\n",
      " 1   Name_intake        84832 non-null  object\n",
      " 2   DateTime_intake    96194 non-null  object\n",
      " 3   MonthYear_intake   96194 non-null  object\n",
      " 4   Found_Location     96194 non-null  object\n",
      " 5   Intake_Type        96194 non-null  object\n",
      " 6   IntakeCondition    96194 non-null  object\n",
      " 7   Sex                96192 non-null  object\n",
      " 8   Age                96194 non-null  object\n",
      " 9   Breed_intake       96194 non-null  object\n",
      " 10  Color_intake       96194 non-null  object\n",
      " 11  Name_outcome       84832 non-null  object\n",
      " 12  DateTime_outcome   96194 non-null  object\n",
      " 13  MonthYear_outcome  96194 non-null  object\n",
      " 14  Outcome_Type       96192 non-null  object\n",
      " 15  Outcome_Subtype    25666 non-null  object\n",
      " 16  Sex_upon_Outcome   96190 non-null  object\n",
      " 17  Age_upon_Outcome   96192 non-null  object\n",
      " 18  gender_intake      95852 non-null  object\n",
      " 19  gender_outcome     95850 non-null  object\n",
      " 20  fixed_intake       96192 non-null  object\n",
      " 21  fixed_outcome      96190 non-null  object\n",
      " 22  fixed_changed      96194 non-null  int64 \n",
      " 23  Age_Bucket         96194 non-null  object\n",
      " 24  retriever          96194 non-null  int64 \n",
      " 25  shepherd           96194 non-null  int64 \n",
      " 26  beagle             96194 non-null  int64 \n",
      " 27  terrier            96194 non-null  int64 \n",
      " 28  boxer              96194 non-null  int64 \n",
      " 29  poodle             96194 non-null  int64 \n",
      " 30  rottweiler         96194 non-null  int64 \n",
      " 31  dachshund          96194 non-null  int64 \n",
      " 32  chihuahua          96194 non-null  int64 \n",
      " 33  pit bull           96194 non-null  int64 \n",
      " 34  DateTime_length    96194 non-null  object\n",
      " 35  Days_length        83538 non-null  object\n",
      "dtypes: int64(11), object(25)\n",
      "memory usage: 26.4+ MB\n"
     ]
    }
   ],
   "source": [
    "#Compare these columns with the intake columns to confirm which we need to concatenate\n",
    "dog_all_info_df.info()"
   ]
  },
  {
   "cell_type": "code",
   "execution_count": 7,
   "id": "ec04e8df",
   "metadata": {},
   "outputs": [
    {
     "name": "stdout",
     "output_type": "stream",
     "text": [
      "<class 'pandas.core.frame.DataFrame'>\n",
      "RangeIndex: 63328 entries, 0 to 63327\n",
      "Data columns (total 12 columns):\n",
      " #   Column            Non-Null Count  Dtype \n",
      "---  ------            --------------  ----- \n",
      " 0   Animal ID         63328 non-null  object\n",
      " 1   Name              44107 non-null  object\n",
      " 2   DateTime          63328 non-null  object\n",
      " 3   MonthYear         63328 non-null  object\n",
      " 4   Found Location    63328 non-null  object\n",
      " 5   Intake Type       63328 non-null  object\n",
      " 6   Intake Condition  63328 non-null  object\n",
      " 7   Animal Type       63328 non-null  object\n",
      " 8   Sex upon Intake   63327 non-null  object\n",
      " 9   Age upon Intake   63328 non-null  object\n",
      " 10  Breed             63328 non-null  object\n",
      " 11  Color             63328 non-null  object\n",
      "dtypes: object(12)\n",
      "memory usage: 5.8+ MB\n"
     ]
    }
   ],
   "source": [
    "#compare with above columns to see if any need to be concatenated\n",
    "intakes.info()"
   ]
  },
  {
   "cell_type": "markdown",
   "id": "b6a18390",
   "metadata": {},
   "source": [
    "All columns in the intake df are encapsulated in the all info df, so no merging is needed. Now, I'll do the same for the outcome df to see which columns need to be concatenated. "
   ]
  },
  {
   "cell_type": "code",
   "execution_count": 8,
   "id": "209657a7",
   "metadata": {
    "scrolled": true
   },
   "outputs": [
    {
     "name": "stdout",
     "output_type": "stream",
     "text": [
      "<class 'pandas.core.frame.DataFrame'>\n",
      "RangeIndex: 96194 entries, 0 to 96193\n",
      "Data columns (total 36 columns):\n",
      " #   Column             Non-Null Count  Dtype \n",
      "---  ------             --------------  ----- \n",
      " 0   Animal ID          96194 non-null  object\n",
      " 1   Name_intake        84832 non-null  object\n",
      " 2   DateTime_intake    96194 non-null  object\n",
      " 3   MonthYear_intake   96194 non-null  object\n",
      " 4   Found_Location     96194 non-null  object\n",
      " 5   Intake_Type        96194 non-null  object\n",
      " 6   IntakeCondition    96194 non-null  object\n",
      " 7   Sex                96192 non-null  object\n",
      " 8   Age                96194 non-null  object\n",
      " 9   Breed_intake       96194 non-null  object\n",
      " 10  Color_intake       96194 non-null  object\n",
      " 11  Name_outcome       84832 non-null  object\n",
      " 12  DateTime_outcome   96194 non-null  object\n",
      " 13  MonthYear_outcome  96194 non-null  object\n",
      " 14  Outcome_Type       96192 non-null  object\n",
      " 15  Outcome_Subtype    25666 non-null  object\n",
      " 16  Sex_upon_Outcome   96190 non-null  object\n",
      " 17  Age_upon_Outcome   96192 non-null  object\n",
      " 18  gender_intake      95852 non-null  object\n",
      " 19  gender_outcome     95850 non-null  object\n",
      " 20  fixed_intake       96192 non-null  object\n",
      " 21  fixed_outcome      96190 non-null  object\n",
      " 22  fixed_changed      96194 non-null  int64 \n",
      " 23  Age_Bucket         96194 non-null  object\n",
      " 24  retriever          96194 non-null  int64 \n",
      " 25  shepherd           96194 non-null  int64 \n",
      " 26  beagle             96194 non-null  int64 \n",
      " 27  terrier            96194 non-null  int64 \n",
      " 28  boxer              96194 non-null  int64 \n",
      " 29  poodle             96194 non-null  int64 \n",
      " 30  rottweiler         96194 non-null  int64 \n",
      " 31  dachshund          96194 non-null  int64 \n",
      " 32  chihuahua          96194 non-null  int64 \n",
      " 33  pit bull           96194 non-null  int64 \n",
      " 34  DateTime_length    96194 non-null  object\n",
      " 35  Days_length        83538 non-null  object\n",
      "dtypes: int64(11), object(25)\n",
      "memory usage: 26.4+ MB\n"
     ]
    }
   ],
   "source": [
    "#Compare these columns with the intake columns to confirm which we need to concatenate\n",
    "dog_all_info_df.info()"
   ]
  },
  {
   "cell_type": "code",
   "execution_count": 9,
   "id": "f7358554",
   "metadata": {},
   "outputs": [
    {
     "name": "stdout",
     "output_type": "stream",
     "text": [
      "<class 'pandas.core.frame.DataFrame'>\n",
      "RangeIndex: 63643 entries, 0 to 63642\n",
      "Data columns (total 12 columns):\n",
      " #   Column            Non-Null Count  Dtype \n",
      "---  ------            --------------  ----- \n",
      " 0   Animal ID         63643 non-null  object\n",
      " 1   Name              44458 non-null  object\n",
      " 2   DateTime          63643 non-null  object\n",
      " 3   MonthYear         63643 non-null  object\n",
      " 4   Date of Birth     63643 non-null  object\n",
      " 5   Outcome Type      63636 non-null  object\n",
      " 6   Outcome Subtype   29729 non-null  object\n",
      " 7   Animal Type       63643 non-null  object\n",
      " 8   Sex upon Outcome  63639 non-null  object\n",
      " 9   Age upon Outcome  63622 non-null  object\n",
      " 10  Breed             63643 non-null  object\n",
      " 11  Color             63643 non-null  object\n",
      "dtypes: object(12)\n",
      "memory usage: 5.8+ MB\n"
     ]
    }
   ],
   "source": [
    "#compare with above columns to see if any need to be concatenated\n",
    "outcomes.info()"
   ]
  },
  {
   "cell_type": "markdown",
   "id": "638393fe",
   "metadata": {},
   "source": [
    "The `Date of Birth` column is not represented in the all info df, so I will need to concatenate that. The breed and color of a dog will not change from intake to outcome, so those are encapsulated in the df already. So I will clean the outcomes df to only include dogs and DOB to merge with the all info df. "
   ]
  },
  {
   "cell_type": "code",
   "execution_count": 10,
   "id": "e3da2efc",
   "metadata": {},
   "outputs": [
    {
     "data": {
      "text/html": [
       "<div>\n",
       "<style scoped>\n",
       "    .dataframe tbody tr th:only-of-type {\n",
       "        vertical-align: middle;\n",
       "    }\n",
       "\n",
       "    .dataframe tbody tr th {\n",
       "        vertical-align: top;\n",
       "    }\n",
       "\n",
       "    .dataframe thead th {\n",
       "        text-align: right;\n",
       "    }\n",
       "</style>\n",
       "<table border=\"1\" class=\"dataframe\">\n",
       "  <thead>\n",
       "    <tr style=\"text-align: right;\">\n",
       "      <th></th>\n",
       "      <th>Animal ID</th>\n",
       "      <th>Date of Birth</th>\n",
       "    </tr>\n",
       "  </thead>\n",
       "  <tbody>\n",
       "    <tr>\n",
       "      <th>0</th>\n",
       "      <td>A658751</td>\n",
       "      <td>07/14/2011</td>\n",
       "    </tr>\n",
       "    <tr>\n",
       "      <th>1</th>\n",
       "      <td>A666430</td>\n",
       "      <td>11/06/2012</td>\n",
       "    </tr>\n",
       "    <tr>\n",
       "      <th>2</th>\n",
       "      <td>A675708</td>\n",
       "      <td>03/31/2013</td>\n",
       "    </tr>\n",
       "    <tr>\n",
       "      <th>3</th>\n",
       "      <td>A680386</td>\n",
       "      <td>06/02/2005</td>\n",
       "    </tr>\n",
       "    <tr>\n",
       "      <th>4</th>\n",
       "      <td>A713785</td>\n",
       "      <td>05/29/2015</td>\n",
       "    </tr>\n",
       "  </tbody>\n",
       "</table>\n",
       "</div>"
      ],
      "text/plain": [
       "  Animal ID Date of Birth\n",
       "0   A658751    07/14/2011\n",
       "1   A666430    11/06/2012\n",
       "2   A675708    03/31/2013\n",
       "3   A680386    06/02/2005\n",
       "4   A713785    05/29/2015"
      ]
     },
     "execution_count": 10,
     "metadata": {},
     "output_type": "execute_result"
    }
   ],
   "source": [
    "#do the same for the intake df as I did for the all info df\n",
    "dog_outcomes = outcomes[outcomes['Animal Type'] == 'Dog']\n",
    "dog_outcomes.drop('Animal Type', axis=1, inplace=True)\n",
    "dog_outcomes = dog_outcomes.append(dog_outcomes, ignore_index = True)\n",
    "\n",
    "#only keep the columns I need to \n",
    "dog_outcomes = dog_outcomes[['Animal ID', 'Date of Birth']]\n",
    "dog_outcomes.head()"
   ]
  },
  {
   "cell_type": "code",
   "execution_count": 11,
   "id": "82472119",
   "metadata": {},
   "outputs": [
    {
     "data": {
      "text/html": [
       "<div>\n",
       "<style scoped>\n",
       "    .dataframe tbody tr th:only-of-type {\n",
       "        vertical-align: middle;\n",
       "    }\n",
       "\n",
       "    .dataframe tbody tr th {\n",
       "        vertical-align: top;\n",
       "    }\n",
       "\n",
       "    .dataframe thead th {\n",
       "        text-align: right;\n",
       "    }\n",
       "</style>\n",
       "<table border=\"1\" class=\"dataframe\">\n",
       "  <thead>\n",
       "    <tr style=\"text-align: right;\">\n",
       "      <th></th>\n",
       "      <th>Animal ID</th>\n",
       "      <th>Name_intake</th>\n",
       "      <th>DateTime_intake</th>\n",
       "      <th>MonthYear_intake</th>\n",
       "      <th>Found_Location</th>\n",
       "      <th>Intake_Type</th>\n",
       "      <th>IntakeCondition</th>\n",
       "      <th>Sex</th>\n",
       "      <th>Age</th>\n",
       "      <th>Breed_intake</th>\n",
       "      <th>...</th>\n",
       "      <th>terrier</th>\n",
       "      <th>boxer</th>\n",
       "      <th>poodle</th>\n",
       "      <th>rottweiler</th>\n",
       "      <th>dachshund</th>\n",
       "      <th>chihuahua</th>\n",
       "      <th>pit bull</th>\n",
       "      <th>DateTime_length</th>\n",
       "      <th>Days_length</th>\n",
       "      <th>Date of Birth</th>\n",
       "    </tr>\n",
       "  </thead>\n",
       "  <tbody>\n",
       "    <tr>\n",
       "      <th>0</th>\n",
       "      <td>A683644</td>\n",
       "      <td>*Zoey</td>\n",
       "      <td>2014-07-13 11:02:00</td>\n",
       "      <td>07/13/2014 11:02:00 AM</td>\n",
       "      <td>Austin (TX)</td>\n",
       "      <td>Owner Surrender</td>\n",
       "      <td>Nursing</td>\n",
       "      <td>Intact Female</td>\n",
       "      <td>4 weeks</td>\n",
       "      <td>Border Collie Mix</td>\n",
       "      <td>...</td>\n",
       "      <td>0</td>\n",
       "      <td>0</td>\n",
       "      <td>0</td>\n",
       "      <td>0</td>\n",
       "      <td>0</td>\n",
       "      <td>0</td>\n",
       "      <td>0</td>\n",
       "      <td>115 days 23:04:00.000000000</td>\n",
       "      <td>12 weeks - 6 months</td>\n",
       "      <td>06/13/2014</td>\n",
       "    </tr>\n",
       "    <tr>\n",
       "      <th>1</th>\n",
       "      <td>A676515</td>\n",
       "      <td>Rico</td>\n",
       "      <td>2014-04-11 08:45:00</td>\n",
       "      <td>04/11/2014 08:45:00 AM</td>\n",
       "      <td>615 E. Wonsley in Austin (TX)</td>\n",
       "      <td>Stray</td>\n",
       "      <td>Normal</td>\n",
       "      <td>Intact Male</td>\n",
       "      <td>2 months</td>\n",
       "      <td>Pit Bull Mix</td>\n",
       "      <td>...</td>\n",
       "      <td>0</td>\n",
       "      <td>0</td>\n",
       "      <td>0</td>\n",
       "      <td>0</td>\n",
       "      <td>0</td>\n",
       "      <td>0</td>\n",
       "      <td>1</td>\n",
       "      <td>3 days 09:53:00.000000000</td>\n",
       "      <td>0-7 days</td>\n",
       "      <td>01/11/2014</td>\n",
       "    </tr>\n",
       "    <tr>\n",
       "      <th>2</th>\n",
       "      <td>A742953</td>\n",
       "      <td>NaN</td>\n",
       "      <td>2017-01-31 13:30:00</td>\n",
       "      <td>01/31/2017 01:30:00 PM</td>\n",
       "      <td>S Hwy 183 And Thompson Lane in Austin (TX)</td>\n",
       "      <td>Stray</td>\n",
       "      <td>Normal</td>\n",
       "      <td>Intact Male</td>\n",
       "      <td>2 years</td>\n",
       "      <td>Saluki</td>\n",
       "      <td>...</td>\n",
       "      <td>0</td>\n",
       "      <td>0</td>\n",
       "      <td>0</td>\n",
       "      <td>0</td>\n",
       "      <td>0</td>\n",
       "      <td>0</td>\n",
       "      <td>0</td>\n",
       "      <td>4 days 00:47:00.000000000</td>\n",
       "      <td>0-7 days</td>\n",
       "      <td>01/31/2015</td>\n",
       "    </tr>\n",
       "    <tr>\n",
       "      <th>3</th>\n",
       "      <td>A692161</td>\n",
       "      <td>George</td>\n",
       "      <td>2014-11-15 15:18:00</td>\n",
       "      <td>11/15/2014 03:18:00 PM</td>\n",
       "      <td>Avenue G/42Nd in Austin (TX)</td>\n",
       "      <td>Owner Surrender</td>\n",
       "      <td>Normal</td>\n",
       "      <td>Intact Male</td>\n",
       "      <td>5 months</td>\n",
       "      <td>Pit Bull Mix</td>\n",
       "      <td>...</td>\n",
       "      <td>0</td>\n",
       "      <td>0</td>\n",
       "      <td>0</td>\n",
       "      <td>0</td>\n",
       "      <td>0</td>\n",
       "      <td>0</td>\n",
       "      <td>1</td>\n",
       "      <td>6 days 03:37:00.000000000</td>\n",
       "      <td>0-7 days</td>\n",
       "      <td>06/15/2014</td>\n",
       "    </tr>\n",
       "    <tr>\n",
       "      <th>4</th>\n",
       "      <td>A720597</td>\n",
       "      <td>*Franklin</td>\n",
       "      <td>2016-02-12 14:35:00</td>\n",
       "      <td>02/12/2016 02:35:00 PM</td>\n",
       "      <td>8413 Danville Dr in Austin (TX)</td>\n",
       "      <td>Stray</td>\n",
       "      <td>Injured</td>\n",
       "      <td>Intact Male</td>\n",
       "      <td>2 years</td>\n",
       "      <td>Pit Bull Mix</td>\n",
       "      <td>...</td>\n",
       "      <td>0</td>\n",
       "      <td>0</td>\n",
       "      <td>0</td>\n",
       "      <td>0</td>\n",
       "      <td>0</td>\n",
       "      <td>0</td>\n",
       "      <td>1</td>\n",
       "      <td>7 days 01:45:00.000000000</td>\n",
       "      <td>1-3 weeks</td>\n",
       "      <td>02/12/2014</td>\n",
       "    </tr>\n",
       "  </tbody>\n",
       "</table>\n",
       "<p>5 rows × 37 columns</p>\n",
       "</div>"
      ],
      "text/plain": [
       "  Animal ID Name_intake      DateTime_intake        MonthYear_intake  \\\n",
       "0   A683644       *Zoey  2014-07-13 11:02:00  07/13/2014 11:02:00 AM   \n",
       "1   A676515        Rico  2014-04-11 08:45:00  04/11/2014 08:45:00 AM   \n",
       "2   A742953         NaN  2017-01-31 13:30:00  01/31/2017 01:30:00 PM   \n",
       "3   A692161      George  2014-11-15 15:18:00  11/15/2014 03:18:00 PM   \n",
       "4   A720597   *Franklin  2016-02-12 14:35:00  02/12/2016 02:35:00 PM   \n",
       "\n",
       "                               Found_Location      Intake_Type  \\\n",
       "0                                 Austin (TX)  Owner Surrender   \n",
       "1               615 E. Wonsley in Austin (TX)            Stray   \n",
       "2  S Hwy 183 And Thompson Lane in Austin (TX)            Stray   \n",
       "3                Avenue G/42Nd in Austin (TX)  Owner Surrender   \n",
       "4             8413 Danville Dr in Austin (TX)            Stray   \n",
       "\n",
       "  IntakeCondition            Sex       Age       Breed_intake  ... terrier  \\\n",
       "0         Nursing  Intact Female   4 weeks  Border Collie Mix  ...       0   \n",
       "1          Normal    Intact Male  2 months       Pit Bull Mix  ...       0   \n",
       "2          Normal    Intact Male   2 years             Saluki  ...       0   \n",
       "3          Normal    Intact Male  5 months       Pit Bull Mix  ...       0   \n",
       "4         Injured    Intact Male   2 years       Pit Bull Mix  ...       0   \n",
       "\n",
       "  boxer poodle rottweiler dachshund chihuahua pit bull  \\\n",
       "0     0      0          0         0         0        0   \n",
       "1     0      0          0         0         0        1   \n",
       "2     0      0          0         0         0        0   \n",
       "3     0      0          0         0         0        1   \n",
       "4     0      0          0         0         0        1   \n",
       "\n",
       "               DateTime_length          Days_length Date of Birth  \n",
       "0  115 days 23:04:00.000000000  12 weeks - 6 months    06/13/2014  \n",
       "1    3 days 09:53:00.000000000             0-7 days    01/11/2014  \n",
       "2    4 days 00:47:00.000000000             0-7 days    01/31/2015  \n",
       "3    6 days 03:37:00.000000000             0-7 days    06/15/2014  \n",
       "4    7 days 01:45:00.000000000            1-3 weeks    02/12/2014  \n",
       "\n",
       "[5 rows x 37 columns]"
      ]
     },
     "execution_count": 11,
     "metadata": {},
     "output_type": "execute_result"
    }
   ],
   "source": [
    "#join the outcome df with the all info df into 'shelter_df'\n",
    "shelter_df= pd.merge(dog_all_info_df, dog_outcomes, how='inner', on= 'Animal ID')\n",
    "shelter_df.drop_duplicates(subset=['Animal ID'], keep='first', inplace=True, ignore_index=True)\n",
    "\n",
    "#make sure the new df looks as expected\n",
    "shelter_df.head()"
   ]
  },
  {
   "cell_type": "code",
   "execution_count": 12,
   "id": "427d31a4",
   "metadata": {},
   "outputs": [
    {
     "name": "stdout",
     "output_type": "stream",
     "text": [
      "<class 'pandas.core.frame.DataFrame'>\n",
      "RangeIndex: 31134 entries, 0 to 31133\n",
      "Data columns (total 37 columns):\n",
      " #   Column             Non-Null Count  Dtype \n",
      "---  ------             --------------  ----- \n",
      " 0   Animal ID          31134 non-null  object\n",
      " 1   Name_intake        25659 non-null  object\n",
      " 2   DateTime_intake    31134 non-null  object\n",
      " 3   MonthYear_intake   31134 non-null  object\n",
      " 4   Found_Location     31134 non-null  object\n",
      " 5   Intake_Type        31134 non-null  object\n",
      " 6   IntakeCondition    31134 non-null  object\n",
      " 7   Sex                31133 non-null  object\n",
      " 8   Age                31134 non-null  object\n",
      " 9   Breed_intake       31134 non-null  object\n",
      " 10  Color_intake       31134 non-null  object\n",
      " 11  Name_outcome       25659 non-null  object\n",
      " 12  DateTime_outcome   31134 non-null  object\n",
      " 13  MonthYear_outcome  31134 non-null  object\n",
      " 14  Outcome_Type       31133 non-null  object\n",
      " 15  Outcome_Subtype    10294 non-null  object\n",
      " 16  Sex_upon_Outcome   31132 non-null  object\n",
      " 17  Age_upon_Outcome   31133 non-null  object\n",
      " 18  gender_intake      30963 non-null  object\n",
      " 19  gender_outcome     30962 non-null  object\n",
      " 20  fixed_intake       31133 non-null  object\n",
      " 21  fixed_outcome      31132 non-null  object\n",
      " 22  fixed_changed      31134 non-null  int64 \n",
      " 23  Age_Bucket         31134 non-null  object\n",
      " 24  retriever          31134 non-null  int64 \n",
      " 25  shepherd           31134 non-null  int64 \n",
      " 26  beagle             31134 non-null  int64 \n",
      " 27  terrier            31134 non-null  int64 \n",
      " 28  boxer              31134 non-null  int64 \n",
      " 29  poodle             31134 non-null  int64 \n",
      " 30  rottweiler         31134 non-null  int64 \n",
      " 31  dachshund          31134 non-null  int64 \n",
      " 32  chihuahua          31134 non-null  int64 \n",
      " 33  pit bull           31134 non-null  int64 \n",
      " 34  DateTime_length    31134 non-null  object\n",
      " 35  Days_length        30042 non-null  object\n",
      " 36  Date of Birth      31134 non-null  object\n",
      "dtypes: int64(11), object(26)\n",
      "memory usage: 8.8+ MB\n"
     ]
    }
   ],
   "source": [
    "#inspect that all of the column names are still there\n",
    "shelter_df.info()"
   ]
  },
  {
   "cell_type": "code",
   "execution_count": 13,
   "id": "adb7ac4e",
   "metadata": {
    "scrolled": true
   },
   "outputs": [
    {
     "name": "stdout",
     "output_type": "stream",
     "text": [
      "<class 'pandas.core.frame.DataFrame'>\n",
      "RangeIndex: 31134 entries, 0 to 31133\n",
      "Data columns (total 36 columns):\n",
      " #   Column             Non-Null Count  Dtype \n",
      "---  ------             --------------  ----- \n",
      " 0   Animal ID          31134 non-null  object\n",
      " 1   Name_intake        25659 non-null  object\n",
      " 2   DateTime_intake    31134 non-null  object\n",
      " 3   MonthYear_intake   31134 non-null  object\n",
      " 4   Found_Location     31134 non-null  object\n",
      " 5   Intake_Type        31134 non-null  object\n",
      " 6   IntakeCondition    31134 non-null  object\n",
      " 7   Sex                31133 non-null  object\n",
      " 8   Age                31134 non-null  object\n",
      " 9   Breed_intake       31134 non-null  object\n",
      " 10  Color_intake       31134 non-null  object\n",
      " 11  DateTime_outcome   31134 non-null  object\n",
      " 12  MonthYear_outcome  31134 non-null  object\n",
      " 13  Outcome_Type       31133 non-null  object\n",
      " 14  Outcome_Subtype    10294 non-null  object\n",
      " 15  Sex_upon_Outcome   31132 non-null  object\n",
      " 16  Age_upon_Outcome   31133 non-null  object\n",
      " 17  gender_intake      30963 non-null  object\n",
      " 18  gender_outcome     30962 non-null  object\n",
      " 19  fixed_intake       31133 non-null  object\n",
      " 20  fixed_outcome      31132 non-null  object\n",
      " 21  fixed_changed      31134 non-null  object\n",
      " 22  Age_Bucket         31134 non-null  object\n",
      " 23  retriever          31134 non-null  object\n",
      " 24  shepherd           31134 non-null  object\n",
      " 25  beagle             31134 non-null  object\n",
      " 26  terrier            31134 non-null  object\n",
      " 27  boxer              31134 non-null  object\n",
      " 28  poodle             31134 non-null  object\n",
      " 29  rottweiler         31134 non-null  object\n",
      " 30  dachshund          31134 non-null  object\n",
      " 31  chihuahua          31134 non-null  object\n",
      " 32  pit bull           31134 non-null  object\n",
      " 33  DateTime_length    31134 non-null  object\n",
      " 34  Days_length        30042 non-null  object\n",
      " 35  Date of Birth      31134 non-null  object\n",
      "dtypes: object(36)\n",
      "memory usage: 8.6+ MB\n"
     ]
    }
   ],
   "source": [
    "#See which columns are duplicates after the join\n",
    "shelter_df.T.drop_duplicates().T.info()"
   ]
  },
  {
   "cell_type": "code",
   "execution_count": 14,
   "id": "220c203b",
   "metadata": {},
   "outputs": [],
   "source": [
    "shelter_df = shelter_df.T.drop_duplicates().T"
   ]
  },
  {
   "cell_type": "markdown",
   "id": "8b45cc76",
   "metadata": {},
   "source": [
    "Only one column dropped was `Name_outcome` which was in the original all info df downloaded from Kaggle, so it looks like adding the DOB column was worth while. Now I will check to see if there are any duplicate rows. "
   ]
  },
  {
   "cell_type": "code",
   "execution_count": 15,
   "id": "0693efc0",
   "metadata": {},
   "outputs": [
    {
     "data": {
      "text/plain": [
       "31134"
      ]
     },
     "execution_count": 15,
     "metadata": {},
     "output_type": "execute_result"
    }
   ],
   "source": [
    "shelter_df['Animal ID'].count()"
   ]
  },
  {
   "cell_type": "code",
   "execution_count": 16,
   "id": "f7bccefe",
   "metadata": {},
   "outputs": [
    {
     "data": {
      "text/plain": [
       "31134"
      ]
     },
     "execution_count": 16,
     "metadata": {},
     "output_type": "execute_result"
    }
   ],
   "source": [
    "shelter_df.drop_duplicates()['Animal ID'].count()"
   ]
  },
  {
   "cell_type": "markdown",
   "id": "0a470593",
   "metadata": {},
   "source": [
    "There are no duplicate rows. Now that there is one df and there are no duplicate columns or rows, I can set the Animal ID as the index."
   ]
  },
  {
   "cell_type": "code",
   "execution_count": 17,
   "id": "12ec46b1",
   "metadata": {},
   "outputs": [],
   "source": [
    "shelter_df.set_index('Animal ID', inplace=True)"
   ]
  },
  {
   "cell_type": "markdown",
   "id": "406fa091",
   "metadata": {},
   "source": [
    "# Cleaning the Data\n",
    "<a class=\"anchor\" id=\"clean\"></a>\n",
    "\n",
    "Now that I only have one data frame, it is time to explore each column and see if there is any redundant information. If the information is not redundant I will analyze the content and if it is not numerical, I will determine the best way to convert it into a binary or numerical column. I also want a data frame that is suitable for EDA in Tableau that corresponds with the modeling df, so I will make sure to create this at the same time to assure it contains the same information.  \n",
    "\n",
    "## Dates and Time Columns\n",
    "<a class=\"anchor\" id=\"date\"></a>\n",
    "\n",
    "Looking at the column names, there are a lot of columns referring to dates and times. I will dive into these columns a little deeper and determine if they are redundant or add value to the df. It's also important to consider if there are any clerical errors in the data. For example, outcome dates should be after intake and/or DOB. "
   ]
  },
  {
   "cell_type": "code",
   "execution_count": 18,
   "id": "c2793377",
   "metadata": {},
   "outputs": [],
   "source": [
    "#collect all of the date and time columns into one df and make a copy\n",
    "dates_df = shelter_df[['DateTime_intake', 'MonthYear_intake', 'DateTime_outcome', 'MonthYear_outcome']]"
   ]
  },
  {
   "cell_type": "code",
   "execution_count": 19,
   "id": "e85a3875",
   "metadata": {},
   "outputs": [],
   "source": [
    "#convert them to datetime format to make it easier to compare\n",
    "for column in dates_df[['DateTime_intake', 'MonthYear_intake', 'DateTime_outcome', 'MonthYear_outcome']]:\n",
    "    dates_df[column] = pd.to_datetime(dates_df[column])  "
   ]
  },
  {
   "cell_type": "code",
   "execution_count": 20,
   "id": "2422bc1b",
   "metadata": {},
   "outputs": [
    {
     "name": "stdout",
     "output_type": "stream",
     "text": [
      "<class 'pandas.core.frame.DataFrame'>\n",
      "Index: 31134 entries, A683644 to A746072\n",
      "Data columns (total 4 columns):\n",
      " #   Column             Non-Null Count  Dtype         \n",
      "---  ------             --------------  -----         \n",
      " 0   DateTime_intake    31134 non-null  datetime64[ns]\n",
      " 1   MonthYear_intake   31134 non-null  datetime64[ns]\n",
      " 2   DateTime_outcome   31134 non-null  datetime64[ns]\n",
      " 3   MonthYear_outcome  31134 non-null  datetime64[ns]\n",
      "dtypes: datetime64[ns](4)\n",
      "memory usage: 1.2+ MB\n"
     ]
    }
   ],
   "source": [
    "#make sure they were changed as expected and no rows were dropped unexpectadly \n",
    "dates_df.info()"
   ]
  },
  {
   "cell_type": "markdown",
   "id": "2fdb3527",
   "metadata": {},
   "source": [
    "All date columns are in datetime format now and there are no NaNs in any of the columns. "
   ]
  },
  {
   "cell_type": "code",
   "execution_count": 21,
   "id": "df024e7c",
   "metadata": {
    "scrolled": true
   },
   "outputs": [
    {
     "data": {
      "text/plain": [
       "DateTime_intake      30042\n",
       "MonthYear_intake     30042\n",
       "DateTime_outcome     30042\n",
       "MonthYear_outcome    30042\n",
       "dtype: int64"
      ]
     },
     "execution_count": 21,
     "metadata": {},
     "output_type": "execute_result"
    }
   ],
   "source": [
    "#Are there any date errors?\n",
    "#The outcome date should always be after the intake date\n",
    "dates_df[(dates_df['DateTime_outcome']-dates_df['DateTime_intake']).dt.days>=0].count()"
   ]
  },
  {
   "cell_type": "code",
   "execution_count": 22,
   "id": "251e7935",
   "metadata": {},
   "outputs": [
    {
     "data": {
      "text/plain": [
       "'There are 30042 dogs with outcome dates on the same day or after their intake. That means 3.51% were labeled incorrectly.'"
      ]
     },
     "execution_count": 22,
     "metadata": {},
     "output_type": "execute_result"
    }
   ],
   "source": [
    "f\"There are {30042} dogs with outcome dates on the same day or after their intake. That means {round(100-30042/31134*100,2)}% were labeled incorrectly.\""
   ]
  },
  {
   "cell_type": "markdown",
   "id": "19c16500",
   "metadata": {},
   "source": [
    "It looks like there are only 3.5% of rows did not have an outcome date after the intake date. It's not extremely clear why this may be, but it is such a small percent of the data that I feel comfortable dropping these rows. "
   ]
  },
  {
   "cell_type": "code",
   "execution_count": 23,
   "id": "8a1e05c5",
   "metadata": {
    "scrolled": true
   },
   "outputs": [
    {
     "data": {
      "text/html": [
       "<div>\n",
       "<style scoped>\n",
       "    .dataframe tbody tr th:only-of-type {\n",
       "        vertical-align: middle;\n",
       "    }\n",
       "\n",
       "    .dataframe tbody tr th {\n",
       "        vertical-align: top;\n",
       "    }\n",
       "\n",
       "    .dataframe thead th {\n",
       "        text-align: right;\n",
       "    }\n",
       "</style>\n",
       "<table border=\"1\" class=\"dataframe\">\n",
       "  <thead>\n",
       "    <tr style=\"text-align: right;\">\n",
       "      <th></th>\n",
       "      <th>DateTime_intake</th>\n",
       "      <th>MonthYear_intake</th>\n",
       "      <th>DateTime_outcome</th>\n",
       "      <th>MonthYear_outcome</th>\n",
       "    </tr>\n",
       "    <tr>\n",
       "      <th>Animal ID</th>\n",
       "      <th></th>\n",
       "      <th></th>\n",
       "      <th></th>\n",
       "      <th></th>\n",
       "    </tr>\n",
       "  </thead>\n",
       "  <tbody>\n",
       "    <tr>\n",
       "      <th>A683644</th>\n",
       "      <td>2014-07-13 11:02:00</td>\n",
       "      <td>2014-07-13 11:02:00</td>\n",
       "      <td>2014-11-06 10:06:00</td>\n",
       "      <td>2014-11-06 10:06:00</td>\n",
       "    </tr>\n",
       "    <tr>\n",
       "      <th>A676515</th>\n",
       "      <td>2014-04-11 08:45:00</td>\n",
       "      <td>2014-04-11 08:45:00</td>\n",
       "      <td>2014-04-14 18:38:00</td>\n",
       "      <td>2014-04-14 18:38:00</td>\n",
       "    </tr>\n",
       "    <tr>\n",
       "      <th>A742953</th>\n",
       "      <td>2017-01-31 13:30:00</td>\n",
       "      <td>2017-01-31 13:30:00</td>\n",
       "      <td>2017-02-04 14:17:00</td>\n",
       "      <td>2017-02-04 14:17:00</td>\n",
       "    </tr>\n",
       "    <tr>\n",
       "      <th>A692161</th>\n",
       "      <td>2014-11-15 15:18:00</td>\n",
       "      <td>2014-11-15 15:18:00</td>\n",
       "      <td>2014-11-21 18:55:00</td>\n",
       "      <td>2014-11-21 18:55:00</td>\n",
       "    </tr>\n",
       "    <tr>\n",
       "      <th>A720597</th>\n",
       "      <td>2016-02-12 14:35:00</td>\n",
       "      <td>2016-02-12 14:35:00</td>\n",
       "      <td>2016-02-19 16:20:00</td>\n",
       "      <td>2016-02-19 16:20:00</td>\n",
       "    </tr>\n",
       "  </tbody>\n",
       "</table>\n",
       "</div>"
      ],
      "text/plain": [
       "              DateTime_intake    MonthYear_intake    DateTime_outcome  \\\n",
       "Animal ID                                                               \n",
       "A683644   2014-07-13 11:02:00 2014-07-13 11:02:00 2014-11-06 10:06:00   \n",
       "A676515   2014-04-11 08:45:00 2014-04-11 08:45:00 2014-04-14 18:38:00   \n",
       "A742953   2017-01-31 13:30:00 2017-01-31 13:30:00 2017-02-04 14:17:00   \n",
       "A692161   2014-11-15 15:18:00 2014-11-15 15:18:00 2014-11-21 18:55:00   \n",
       "A720597   2016-02-12 14:35:00 2016-02-12 14:35:00 2016-02-19 16:20:00   \n",
       "\n",
       "            MonthYear_outcome  \n",
       "Animal ID                      \n",
       "A683644   2014-11-06 10:06:00  \n",
       "A676515   2014-04-14 18:38:00  \n",
       "A742953   2017-02-04 14:17:00  \n",
       "A692161   2014-11-21 18:55:00  \n",
       "A720597   2016-02-19 16:20:00  "
      ]
     },
     "execution_count": 23,
     "metadata": {},
     "output_type": "execute_result"
    }
   ],
   "source": [
    "#only use dogs that outcome day is after intake date\n",
    "dates_df = dates_df[(dates_df['DateTime_outcome']-dates_df['DateTime_intake']).dt.days>=0]\n",
    "dates_df.head()"
   ]
  },
  {
   "cell_type": "markdown",
   "id": "53084d59",
   "metadata": {},
   "source": [
    "It seems like the DateTime and MonthYear columns are the exact same information now that they are in datetime format, so I will check to see if that is true using correlation. If they are 1 to 1 correlated, then they are duplicate columns. "
   ]
  },
  {
   "cell_type": "code",
   "execution_count": 24,
   "id": "5e69e0fd",
   "metadata": {},
   "outputs": [
    {
     "data": {
      "image/png": "[encoded data removed]",
      "text/plain": [
       "<Figure size 432x288 with 1 Axes>"
      ]
     },
     "metadata": {
      "needs_background": "light"
     },
     "output_type": "display_data"
    }
   ],
   "source": [
    "# how correlated are the DateTime\n",
    "x = dates_df['DateTime_intake']\n",
    "y = dates_df['MonthYear_intake']\n",
    "\n",
    "plt.figure()\n",
    "plt.scatter(x, y)\n",
    "plt.xlabel('DateTime_intake')\n",
    "plt.ylabel('MonthYear_intake')\n",
    "plt.title('Correlation of Intake Dates')\n",
    "plt.show()"
   ]
  },
  {
   "cell_type": "code",
   "execution_count": 25,
   "id": "cc69969e",
   "metadata": {},
   "outputs": [
    {
     "data": {
      "image/png": "[encoded data removed]",
      "text/plain": [
       "<Figure size 432x288 with 1 Axes>"
      ]
     },
     "metadata": {
      "needs_background": "light"
     },
     "output_type": "display_data"
    }
   ],
   "source": [
    "x = dates_df['DateTime_outcome']\n",
    "y = dates_df['MonthYear_outcome']\n",
    "\n",
    "plt.figure()\n",
    "plt.scatter(x, y)\n",
    "plt.xlabel('DateTime_outcome')\n",
    "plt.ylabel('MonthYear_outcome')\n",
    "plt.title('Correlation of Outcome Dates')\n",
    "plt.show()\n"
   ]
  },
  {
   "cell_type": "markdown",
   "id": "db9562eb",
   "metadata": {},
   "source": [
    "These columns seem to have been different formats with the same information before. Now that they are in the same format, using the drop_duplicates function will show that they are redundant columns. "
   ]
  },
  {
   "cell_type": "code",
   "execution_count": 26,
   "id": "dc1fb069",
   "metadata": {},
   "outputs": [
    {
     "name": "stdout",
     "output_type": "stream",
     "text": [
      "<class 'pandas.core.frame.DataFrame'>\n",
      "Index: 30042 entries, A683644 to A746072\n",
      "Data columns (total 4 columns):\n",
      " #   Column             Non-Null Count  Dtype         \n",
      "---  ------             --------------  -----         \n",
      " 0   DateTime_intake    30042 non-null  datetime64[ns]\n",
      " 1   MonthYear_intake   30042 non-null  datetime64[ns]\n",
      " 2   DateTime_outcome   30042 non-null  datetime64[ns]\n",
      " 3   MonthYear_outcome  30042 non-null  datetime64[ns]\n",
      "dtypes: datetime64[ns](4)\n",
      "memory usage: 1.1+ MB\n"
     ]
    }
   ],
   "source": [
    "#run this to compare to the columns after the drop function to see which were dropped\n",
    "dates_df.info()"
   ]
  },
  {
   "cell_type": "code",
   "execution_count": 27,
   "id": "9055d310",
   "metadata": {},
   "outputs": [
    {
     "name": "stdout",
     "output_type": "stream",
     "text": [
      "<class 'pandas.core.frame.DataFrame'>\n",
      "Index: 30042 entries, A683644 to A746072\n",
      "Data columns (total 2 columns):\n",
      " #   Column            Non-Null Count  Dtype         \n",
      "---  ------            --------------  -----         \n",
      " 0   DateTime_intake   30042 non-null  datetime64[ns]\n",
      " 1   DateTime_outcome  30042 non-null  datetime64[ns]\n",
      "dtypes: datetime64[ns](2)\n",
      "memory usage: 1.7+ MB\n"
     ]
    }
   ],
   "source": [
    "# drop duplicates and compare info command to see which were dropped\n",
    "dates_df = dates_df.T.drop_duplicates().T\n",
    "dates_df.info()"
   ]
  },
  {
   "cell_type": "markdown",
   "id": "2c710f03",
   "metadata": {},
   "source": [
    "The MonthYear columns from both intake and outcome were dropped. This confirms that these were redundant columns in different formats previously. Since they are redundant, they can also be dropped from the shelter_df. "
   ]
  },
  {
   "cell_type": "code",
   "execution_count": 28,
   "id": "37b3365e",
   "metadata": {},
   "outputs": [],
   "source": [
    "#drop them from the shelter_df since they are duplicates\n",
    "shelter_df.drop(['MonthYear_intake', 'MonthYear_outcome'], axis=1, inplace=True)"
   ]
  },
  {
   "cell_type": "code",
   "execution_count": 29,
   "id": "3f26bfdb",
   "metadata": {},
   "outputs": [],
   "source": [
    "#convert the remaining date columns in the shelter_df to be datetime format\n",
    "#I will include DOB since it is also a date while I'm at it\n",
    "for column in shelter_df[['DateTime_intake', 'DateTime_outcome', 'Date of Birth']]:\n",
    "    shelter_df[column] = pd.to_datetime(shelter_df[column]) "
   ]
  },
  {
   "cell_type": "code",
   "execution_count": 30,
   "id": "9058903a",
   "metadata": {
    "scrolled": true
   },
   "outputs": [
    {
     "name": "stdout",
     "output_type": "stream",
     "text": [
      "<class 'pandas.core.frame.DataFrame'>\n",
      "Index: 31134 entries, A683644 to A746072\n",
      "Data columns (total 33 columns):\n",
      " #   Column            Non-Null Count  Dtype         \n",
      "---  ------            --------------  -----         \n",
      " 0   Name_intake       25659 non-null  object        \n",
      " 1   DateTime_intake   31134 non-null  datetime64[ns]\n",
      " 2   Found_Location    31134 non-null  object        \n",
      " 3   Intake_Type       31134 non-null  object        \n",
      " 4   IntakeCondition   31134 non-null  object        \n",
      " 5   Sex               31133 non-null  object        \n",
      " 6   Age               31134 non-null  object        \n",
      " 7   Breed_intake      31134 non-null  object        \n",
      " 8   Color_intake      31134 non-null  object        \n",
      " 9   DateTime_outcome  31134 non-null  datetime64[ns]\n",
      " 10  Outcome_Type      31133 non-null  object        \n",
      " 11  Outcome_Subtype   10294 non-null  object        \n",
      " 12  Sex_upon_Outcome  31132 non-null  object        \n",
      " 13  Age_upon_Outcome  31133 non-null  object        \n",
      " 14  gender_intake     30963 non-null  object        \n",
      " 15  gender_outcome    30962 non-null  object        \n",
      " 16  fixed_intake      31133 non-null  object        \n",
      " 17  fixed_outcome     31132 non-null  object        \n",
      " 18  fixed_changed     31134 non-null  object        \n",
      " 19  Age_Bucket        31134 non-null  object        \n",
      " 20  retriever         31134 non-null  object        \n",
      " 21  shepherd          31134 non-null  object        \n",
      " 22  beagle            31134 non-null  object        \n",
      " 23  terrier           31134 non-null  object        \n",
      " 24  boxer             31134 non-null  object        \n",
      " 25  poodle            31134 non-null  object        \n",
      " 26  rottweiler        31134 non-null  object        \n",
      " 27  dachshund         31134 non-null  object        \n",
      " 28  chihuahua         31134 non-null  object        \n",
      " 29  pit bull          31134 non-null  object        \n",
      " 30  DateTime_length   31134 non-null  object        \n",
      " 31  Days_length       30042 non-null  object        \n",
      " 32  Date of Birth     31134 non-null  datetime64[ns]\n",
      "dtypes: datetime64[ns](3), object(30)\n",
      "memory usage: 8.1+ MB\n"
     ]
    }
   ],
   "source": [
    "#check that columns were dropped and formats changed as intended \n",
    "shelter_df.info()"
   ]
  },
  {
   "cell_type": "markdown",
   "id": "f8e7fe01",
   "metadata": {},
   "source": [
    "Now that the date columns have been explored and cleaned, I will look into the length columns. I suspect that similar to the dates columns, the length columns are duplicates with different formats as well. "
   ]
  },
  {
   "cell_type": "code",
   "execution_count": 31,
   "id": "7368953e",
   "metadata": {
    "scrolled": true
   },
   "outputs": [
    {
     "data": {
      "text/plain": [
       "array(['12 weeks - 6 months', '0-7 days', '1-3 weeks', '7-12 weeks',\n",
       "       '3-6 weeks', '1-2 years', nan, '6-12 months', '2+ years'],\n",
       "      dtype=object)"
      ]
     },
     "execution_count": 31,
     "metadata": {},
     "output_type": "execute_result"
    }
   ],
   "source": [
    "#what kind of data is in this column?\n",
    "shelter_df['Days_length'].unique()"
   ]
  },
  {
   "cell_type": "code",
   "execution_count": 32,
   "id": "af81ebb0",
   "metadata": {},
   "outputs": [
    {
     "data": {
      "text/plain": [
       "0-7 days               18021\n",
       "1-3 weeks               6815\n",
       "3-6 weeks               2162\n",
       "7-12 weeks              1541\n",
       "12 weeks - 6 months      832\n",
       "6-12 months              445\n",
       "1-2 years                181\n",
       "2+ years                  45\n",
       "Name: Days_length, dtype: int64"
      ]
     },
     "execution_count": 32,
     "metadata": {},
     "output_type": "execute_result"
    }
   ],
   "source": [
    "#what is the distribution of these bins\n",
    "shelter_df['Days_length'].value_counts()"
   ]
  },
  {
   "cell_type": "code",
   "execution_count": 33,
   "id": "7c53278f",
   "metadata": {},
   "outputs": [
    {
     "data": {
      "text/plain": [
       "1092"
      ]
     },
     "execution_count": 33,
     "metadata": {},
     "output_type": "execute_result"
    }
   ],
   "source": [
    "#how many null values?\n",
    "shelter_df['Days_length'].isna().sum()"
   ]
  },
  {
   "cell_type": "markdown",
   "id": "ad00767c",
   "metadata": {},
   "source": [
    "The 'Days_length' column is binned. There are 1092 missing values. I will now compare this with the 'DateTime_length' column. "
   ]
  },
  {
   "cell_type": "code",
   "execution_count": 34,
   "id": "c0994128",
   "metadata": {
    "scrolled": true
   },
   "outputs": [
    {
     "data": {
      "text/plain": [
       "array(['115 days 23:04:00.000000000', '3 days 09:53:00.000000000',\n",
       "       '4 days 00:47:00.000000000', ..., '1 days 00:53:00.000000000',\n",
       "       '-2 days +01:14:00.000000000', '17 days 01:32:00.000000000'],\n",
       "      dtype=object)"
      ]
     },
     "execution_count": 34,
     "metadata": {},
     "output_type": "execute_result"
    }
   ],
   "source": [
    "#what kind of data is in this column?\n",
    "shelter_df['DateTime_length'].unique()"
   ]
  },
  {
   "cell_type": "code",
   "execution_count": 35,
   "id": "0ce9c836",
   "metadata": {},
   "outputs": [
    {
     "data": {
      "text/plain": [
       "0 days 01:19:00.000000000       19\n",
       "0 days 02:14:00.000000000       19\n",
       "0 days 00:45:00.000000000       18\n",
       "0 days 01:32:00.000000000       18\n",
       "0 days 02:40:00.000000000       17\n",
       "                                ..\n",
       "-62 days +00:53:00.000000000     1\n",
       "90 days 04:56:00.000000000       1\n",
       "101 days 01:05:00.000000000      1\n",
       "40 days 23:21:00.000000000       1\n",
       "17 days 01:32:00.000000000       1\n",
       "Name: DateTime_length, Length: 16834, dtype: int64"
      ]
     },
     "execution_count": 35,
     "metadata": {},
     "output_type": "execute_result"
    }
   ],
   "source": [
    "#what is the distribution of these bins\n",
    "shelter_df['DateTime_length'].value_counts()"
   ]
  },
  {
   "cell_type": "code",
   "execution_count": 36,
   "id": "34c003cb",
   "metadata": {},
   "outputs": [
    {
     "data": {
      "text/plain": [
       "0"
      ]
     },
     "execution_count": 36,
     "metadata": {},
     "output_type": "execute_result"
    }
   ],
   "source": [
    "#how many null values?\n",
    "shelter_df['DateTime_length'].isna().sum()"
   ]
  },
  {
   "cell_type": "markdown",
   "id": "debe6bca",
   "metadata": {},
   "source": [
    "Unexpectedly, the 'DateTime_length' is not binned, but in number of days. The binned data will be useful for EDA and the number of days could be useful for modeling. I will clean this column to only include the number of days in the shelter, excluding more minute time details. "
   ]
  },
  {
   "cell_type": "code",
   "execution_count": 37,
   "id": "70378c6e",
   "metadata": {},
   "outputs": [
    {
     "data": {
      "text/plain": [
       "5 days 08:56:00.000000000      1\n",
       "10 days 19:16:00.000000000     1\n",
       "3 days 22:19:00.000000000      2\n",
       "6 days 02:01:00.000000000      9\n",
       "50 days 01:51:00.000000000     1\n",
       "11 days 21:43:00.000000000     2\n",
       "14 days 00:09:00.000000000     1\n",
       "11 days 06:17:00.000000000     1\n",
       "47 days 04:50:00.000000000     1\n",
       "122 days 21:06:00.000000000    1\n",
       "0 days 05:35:00.000000000      2\n",
       "59 days 22:13:00.000000000     1\n",
       "10 days 20:34:00.000000000     2\n",
       "8 days 14:05:00.000000000      1\n",
       "0 days 02:36:00.000000000      4\n",
       "194 days 18:29:00.000000000    1\n",
       "23 days 04:30:00.000000000     1\n",
       "9 days 08:41:00.000000000      1\n",
       "3 days 12:11:00.000000000      3\n",
       "-4 days +06:09:00.000000000    1\n",
       "Name: DateTime_length, dtype: int64"
      ]
     },
     "execution_count": 37,
     "metadata": {},
     "output_type": "execute_result"
    }
   ],
   "source": [
    "# are there any negative values?\n",
    "shelter_df['DateTime_length'].value_counts().sample(20)"
   ]
  },
  {
   "cell_type": "markdown",
   "id": "0f1f4220",
   "metadata": {},
   "source": [
    "It looks like we have some negative values, so I will include them as is and try to figure out why that is."
   ]
  },
  {
   "cell_type": "code",
   "execution_count": 38,
   "id": "37bf41bf",
   "metadata": {},
   "outputs": [
    {
     "data": {
      "text/plain": [
       "Animal ID\n",
       "A683644    115\n",
       "A676515      3\n",
       "A742953      4\n",
       "A692161      6\n",
       "A720597      7\n",
       "          ... \n",
       "A746624      1\n",
       "A746460      4\n",
       "A746689      0\n",
       "A746466      4\n",
       "A746072      4\n",
       "Name: DateTime_length, Length: 31134, dtype: object"
      ]
     },
     "execution_count": 38,
     "metadata": {},
     "output_type": "execute_result"
    }
   ],
   "source": [
    "# extracing the days from this column, including the negative sign and excluding the word \"day\" and any other detail\n",
    "# extract 3 numbers together, or 2 numbers together or 1 number from the string\n",
    "shelter_df['DateTime_length'].str.extract(r'(.[0-9]{,3})', expand=False)"
   ]
  },
  {
   "cell_type": "code",
   "execution_count": 39,
   "id": "d8305194",
   "metadata": {},
   "outputs": [],
   "source": [
    "#save the day lengths into that column\n",
    "shelter_df['DateTime_length'] = shelter_df['DateTime_length'].str.extract(r'(.[0-9]{,3})', expand=False)"
   ]
  },
  {
   "cell_type": "code",
   "execution_count": 40,
   "id": "34aa6799",
   "metadata": {},
   "outputs": [
    {
     "data": {
      "text/plain": [
       "0"
      ]
     },
     "execution_count": 40,
     "metadata": {},
     "output_type": "execute_result"
    }
   ],
   "source": [
    "#no null created in the extraction\n",
    "shelter_df['DateTime_length'].isna().sum()"
   ]
  },
  {
   "cell_type": "code",
   "execution_count": 41,
   "id": "e671bef7",
   "metadata": {},
   "outputs": [
    {
     "data": {
      "text/plain": [
       "0     4357\n",
       "4     4061\n",
       "5     2338\n",
       "1     2121\n",
       "3     1883\n",
       "6     1643\n",
       "2     1618\n",
       "7     1183\n",
       "8     1004\n",
       "9      901\n",
       "10     786\n",
       "11     586\n",
       "12     433\n",
       "13     361\n",
       "14     312\n",
       "16     252\n",
       "15     236\n",
       "17     209\n",
       "18     200\n",
       "19     179\n",
       "Name: DateTime_length, dtype: int64"
      ]
     },
     "execution_count": 41,
     "metadata": {},
     "output_type": "execute_result"
    }
   ],
   "source": [
    "shelter_df['DateTime_length'].value_counts().head(20)"
   ]
  },
  {
   "cell_type": "code",
   "execution_count": 42,
   "id": "001c42ec",
   "metadata": {},
   "outputs": [],
   "source": [
    "#change the numbers to ints\n",
    "shelter_df['DateTime_length'] = pd.to_numeric(shelter_df['DateTime_length'])"
   ]
  },
  {
   "cell_type": "code",
   "execution_count": 43,
   "id": "d74b3b9c",
   "metadata": {
    "scrolled": true
   },
   "outputs": [
    {
     "data": {
      "text/plain": [
       "DateTime_length  DateTime_intake      DateTime_outcome   \n",
       "-1               2015-06-19 17:17:00  2015-06-19 00:00:00    11\n",
       "                 2015-04-02 14:00:00  2015-04-02 00:00:00    10\n",
       "                 2016-01-25 11:47:00  2016-01-25 00:00:00     5\n",
       "                 2014-06-26 11:25:00  2014-06-26 08:59:00     4\n",
       "-177             2016-01-10 19:07:00  2015-07-17 19:17:00     3\n",
       "-1               2014-06-26 11:25:00  2014-06-26 08:58:00     3\n",
       "                 2015-04-02 14:44:00  2015-04-02 00:00:00     3\n",
       "                 2015-03-30 14:39:00  2015-03-30 00:00:00     2\n",
       "-98              2014-04-08 15:23:00  2013-12-31 16:42:00     2\n",
       "-322             2015-01-09 11:45:00  2014-02-21 13:04:00     2\n",
       "-1               2014-06-26 11:25:00  2014-06-26 08:57:00     2\n",
       "-19              2015-10-29 11:47:00  2015-10-10 16:58:00     1\n",
       "-20              2014-12-20 12:00:00  2014-11-30 18:20:00     1\n",
       "                 2015-04-12 14:29:00  2015-03-23 17:08:00     1\n",
       "                 2015-08-08 12:28:00  2015-07-19 13:17:00     1\n",
       "                 2015-11-21 15:28:00  2015-11-01 17:10:00     1\n",
       "                 2016-03-19 12:25:00  2016-02-28 19:09:00     1\n",
       "                 2016-05-12 17:26:00  2016-04-23 15:49:00     1\n",
       "-19              2013-11-06 17:36:00  2013-10-18 17:43:00     1\n",
       "                 2014-09-17 13:36:00  2014-08-29 15:04:00     1\n",
       "dtype: int64"
      ]
     },
     "execution_count": 43,
     "metadata": {},
     "output_type": "execute_result"
    }
   ],
   "source": [
    "#take a look at the negatives\n",
    "shelter_df[shelter_df['DateTime_length']<0][['DateTime_length', 'DateTime_intake', 'DateTime_outcome']].value_counts().head(20)"
   ]
  },
  {
   "cell_type": "code",
   "execution_count": 44,
   "id": "c7ff5f20",
   "metadata": {},
   "outputs": [
    {
     "data": {
      "text/plain": [
       "1092"
      ]
     },
     "execution_count": 44,
     "metadata": {},
     "output_type": "execute_result"
    }
   ],
   "source": [
    "shelter_df[shelter_df['DateTime_length']<0]['DateTime_intake'].count()"
   ]
  },
  {
   "cell_type": "code",
   "execution_count": 45,
   "id": "a93b307b",
   "metadata": {},
   "outputs": [
    {
     "data": {
      "text/plain": [
       "'This is affecting 3.51% of the data.'"
      ]
     },
     "execution_count": 45,
     "metadata": {},
     "output_type": "execute_result"
    }
   ],
   "source": [
    "f\"This is affecting {round(1092/31134*100, 2)}% of the data.\""
   ]
  },
  {
   "cell_type": "markdown",
   "id": "9183bc56",
   "metadata": {},
   "source": [
    "All of these intake times are after the outcome time. It's likely that whoever input the data simply put it in backwards, but that means the date columns for each of these rows are also compramised. Since this is only affecting 3.5% of the data, I am going to drop these columns. "
   ]
  },
  {
   "cell_type": "code",
   "execution_count": 46,
   "id": "d999d607",
   "metadata": {},
   "outputs": [],
   "source": [
    "#check to see if it worked\n",
    "shelter_df=shelter_df[shelter_df['DateTime_length']>=0]"
   ]
  },
  {
   "cell_type": "markdown",
   "id": "ee3b2008",
   "metadata": {},
   "source": [
    "The lengths are still in float type, but I'm not sure why. I tried several methods to fix this including int(), astype() and a for loop to no avail. It's going to take up more space than necessary, but it's not worth the extra time to continue trouble shooting this issue. \n",
    "I would like to see how closely correlated these two length columns are. I will do this by binning the 'DateTime_length' column and plotting these two binned columns on the x and y axis to see if they are 1:1 correlated. "
   ]
  },
  {
   "cell_type": "code",
   "execution_count": 47,
   "id": "02936e39",
   "metadata": {},
   "outputs": [
    {
     "data": {
      "text/plain": [
       "0"
      ]
     },
     "execution_count": 47,
     "metadata": {},
     "output_type": "execute_result"
    }
   ],
   "source": [
    "# I'm going to bin the data to compare these two columns\n",
    "# source: https://towardsdatascience.com/sort-and-segment-your-data-into-bins-to-get-sorted-ranges-pandas-cut-and-qcut-7785931bbfde\n",
    "cut_length = ['0-7 days', \"1-3 weeks\", '3-6 weeks', '7-12 weeks', '12 weeks - 6 months', \n",
    "              '6-12 months', '1-2 years', '2+ years']\n",
    "cut_bins =[-1, 7, 21, 42, 84, 183, 365, 730, max(shelter_df['DateTime_length'])]\n",
    "binned_DateTime_length = pd.cut(shelter_df['DateTime_length'], bins=cut_bins, labels = cut_length)\n",
    "binned_DateTime_length.isna().sum()"
   ]
  },
  {
   "cell_type": "markdown",
   "id": "617ee3e5",
   "metadata": {},
   "source": [
    "Not sure where these NaN values came from, but they are the same quantity as the NaNs in 'Days_length' so it shouldn't affect my comparison of the two columns. "
   ]
  },
  {
   "cell_type": "code",
   "execution_count": 48,
   "id": "ebc82643",
   "metadata": {},
   "outputs": [
    {
     "data": {
      "image/png": "[encoded data removed]",
      "text/plain": [
       "<Figure size 1080x1800 with 3 Axes>"
      ]
     },
     "metadata": {
      "needs_background": "light"
     },
     "output_type": "display_data"
    }
   ],
   "source": [
    "x = np.linspace(-5,17500,100)\n",
    "y = x\n",
    "\n",
    "plt.figure(figsize=(15, 25))\n",
    "\n",
    "plt.subplot(3, 1, 1)\n",
    "binned_DateTime_length.value_counts().plot(kind='bar', label='DateTime_length', color='red')\n",
    "shelter_df['Days_length'].value_counts().plot(kind='bar', label ='Days_length', color='blue')\n",
    "plt.legend()\n",
    "plt.ylabel('Value Counts')\n",
    "plt.ylim((0,20000))\n",
    "plt.xticks(rotation=45)\n",
    "plt.title('Comparing Binned Length Distibution')\n",
    "\n",
    "plt.subplot(3, 1, 2)\n",
    "shelter_df['Days_length'].value_counts().plot(kind='bar', label ='Days_length', color='blue')\n",
    "binned_DateTime_length.value_counts().plot(kind='bar', label='DateTime_length', color='red')\n",
    "plt.legend()\n",
    "plt.ylabel('Value Counts')\n",
    "plt.ylim((0,20000))\n",
    "plt.xticks(rotation=45)\n",
    "plt.title('Comparing Binned Length Distibution')\n",
    "\n",
    "plt.subplot(3,1, 3)\n",
    "plt.scatter(binned_DateTime_length.value_counts(), shelter_df['Days_length'].value_counts())\n",
    "plt.xlabel('Pre-Binned Counts')\n",
    "plt.ylabel('Artifically-Binned Counts')\n",
    "plt.title('Correlation of Length Column Data')\n",
    "plt.plot(x,y)\n",
    "\n",
    "plt.tight_layout()\n",
    "plt.show()"
   ]
  },
  {
   "cell_type": "markdown",
   "id": "8121b928",
   "metadata": {},
   "source": [
    "It looks like the original binning process was not as straight forward as hopped or the labels were not very accurate, so there are some slight differences in the distributions above. In the first bar chart I plotting 'Days_length' on top of 'DateTime_length' and it's clear there are more dogs in the 0-7 day category for 'DateTime_length' bins as well the 12 weeks -6 month bin. For the second chart, I did the opposite and you can see there are more dogs in the 1-3 week bin for 'Days_length' column as well as 3-6 weeks, 6-12 months and 2+years. Despite the binning issue, their distributions are quite similar and they are highly correlated. For this reason, I feel comfortable using 'Days_length' for EDA purposes while modeling with 'DateTime_length'. If an issue arises around this or if this column becomes fundamental to the accuracy of the model in the future, I will reconsider the accuracy of this data. \n",
    "\n",
    "Now I will get these cleaned columns into the EDA df and drop 'Days_length' from the modeling df"
   ]
  },
  {
   "cell_type": "code",
   "execution_count": 49,
   "id": "ba28bbee",
   "metadata": {},
   "outputs": [
    {
     "name": "stdout",
     "output_type": "stream",
     "text": [
      "<class 'pandas.core.frame.DataFrame'>\n",
      "Index: 30042 entries, A683644 to A746072\n",
      "Data columns (total 15 columns):\n",
      " #   Column           Non-Null Count  Dtype         \n",
      "---  ------           --------------  -----         \n",
      " 0   Name_intake      24606 non-null  object        \n",
      " 1   Found_Location   30042 non-null  object        \n",
      " 2   Intake_Type      30042 non-null  object        \n",
      " 3   IntakeCondition  30042 non-null  object        \n",
      " 4   Outcome_Type     30041 non-null  object        \n",
      " 5   Outcome_Subtype  10152 non-null  object        \n",
      " 6   gender_intake    29884 non-null  object        \n",
      " 7   fixed_changed    30042 non-null  object        \n",
      " 8   fixed_intake     30041 non-null  object        \n",
      " 9   fixed_outcome    30040 non-null  object        \n",
      " 10  Breed_intake     30042 non-null  object        \n",
      " 11  Color_intake     30042 non-null  object        \n",
      " 12  Date of Birth    30042 non-null  datetime64[ns]\n",
      " 13  Age_Bucket       30042 non-null  object        \n",
      " 14  Days_length      30042 non-null  object        \n",
      "dtypes: datetime64[ns](1), object(14)\n",
      "memory usage: 3.7+ MB\n"
     ]
    }
   ],
   "source": [
    "# Add columns to the EDA dataframe that don't need to be updated first\n",
    "EDA_shelter_df = shelter_df[['Name_intake', 'Found_Location', 'Intake_Type', 'IntakeCondition', \n",
    "                             'Outcome_Type', 'Outcome_Subtype', 'gender_intake', 'fixed_changed', 'fixed_intake', \n",
    "                             'fixed_outcome', 'Breed_intake', 'Color_intake', 'Date of Birth', 'Age_Bucket', \n",
    "                             'Days_length']]\n",
    "\n",
    "#checking that I did what was intended\n",
    "EDA_shelter_df.info()"
   ]
  },
  {
   "cell_type": "code",
   "execution_count": 50,
   "id": "9c53e8a3",
   "metadata": {},
   "outputs": [
    {
     "name": "stdout",
     "output_type": "stream",
     "text": [
      "<class 'pandas.core.frame.DataFrame'>\n",
      "Index: 30042 entries, A683644 to A746072\n",
      "Data columns (total 17 columns):\n",
      " #   Column           Non-Null Count  Dtype         \n",
      "---  ------           --------------  -----         \n",
      " 0   Name_intake      24606 non-null  object        \n",
      " 1   Found_Location   30042 non-null  object        \n",
      " 2   Intake_Type      30042 non-null  object        \n",
      " 3   IntakeCondition  30042 non-null  object        \n",
      " 4   Outcome_Type     30041 non-null  object        \n",
      " 5   Outcome_Subtype  10152 non-null  object        \n",
      " 6   gender_intake    29884 non-null  object        \n",
      " 7   fixed_changed    30042 non-null  object        \n",
      " 8   fixed_intake     30041 non-null  object        \n",
      " 9   fixed_outcome    30040 non-null  object        \n",
      " 10  Breed_intake     30042 non-null  object        \n",
      " 11  Color_intake     30042 non-null  object        \n",
      " 12  Date of Birth    30042 non-null  datetime64[ns]\n",
      " 13  Age_Bucket       30042 non-null  object        \n",
      " 14  Days_length      30042 non-null  object        \n",
      " 15  intake_date      30042 non-null  datetime64[ns]\n",
      " 16  outcome_date     30042 non-null  datetime64[ns]\n",
      "dtypes: datetime64[ns](3), object(14)\n",
      "memory usage: 4.1+ MB\n"
     ]
    }
   ],
   "source": [
    "#add the cleaned date columns for EDA purposes\n",
    "EDA_shelter_df[['intake_date', 'outcome_date']] = dates_df[['DateTime_intake', 'DateTime_outcome']]\n",
    "#checking that I did what was intended\n",
    "EDA_shelter_df.info()"
   ]
  },
  {
   "cell_type": "code",
   "execution_count": 51,
   "id": "2df1220f",
   "metadata": {},
   "outputs": [
    {
     "name": "stdout",
     "output_type": "stream",
     "text": [
      "<class 'pandas.core.frame.DataFrame'>\n",
      "Index: 30042 entries, A683644 to A746072\n",
      "Data columns (total 32 columns):\n",
      " #   Column            Non-Null Count  Dtype         \n",
      "---  ------            --------------  -----         \n",
      " 0   Name_intake       24606 non-null  object        \n",
      " 1   DateTime_intake   30042 non-null  datetime64[ns]\n",
      " 2   Found_Location    30042 non-null  object        \n",
      " 3   Intake_Type       30042 non-null  object        \n",
      " 4   IntakeCondition   30042 non-null  object        \n",
      " 5   Sex               30041 non-null  object        \n",
      " 6   Age               30042 non-null  object        \n",
      " 7   Breed_intake      30042 non-null  object        \n",
      " 8   Color_intake      30042 non-null  object        \n",
      " 9   DateTime_outcome  30042 non-null  datetime64[ns]\n",
      " 10  Outcome_Type      30041 non-null  object        \n",
      " 11  Outcome_Subtype   10152 non-null  object        \n",
      " 12  Sex_upon_Outcome  30040 non-null  object        \n",
      " 13  Age_upon_Outcome  30041 non-null  object        \n",
      " 14  gender_intake     29884 non-null  object        \n",
      " 15  gender_outcome    29883 non-null  object        \n",
      " 16  fixed_intake      30041 non-null  object        \n",
      " 17  fixed_outcome     30040 non-null  object        \n",
      " 18  fixed_changed     30042 non-null  object        \n",
      " 19  Age_Bucket        30042 non-null  object        \n",
      " 20  retriever         30042 non-null  object        \n",
      " 21  shepherd          30042 non-null  object        \n",
      " 22  beagle            30042 non-null  object        \n",
      " 23  terrier           30042 non-null  object        \n",
      " 24  boxer             30042 non-null  object        \n",
      " 25  poodle            30042 non-null  object        \n",
      " 26  rottweiler        30042 non-null  object        \n",
      " 27  dachshund         30042 non-null  object        \n",
      " 28  chihuahua         30042 non-null  object        \n",
      " 29  pit bull          30042 non-null  object        \n",
      " 30  DateTime_length   30042 non-null  int64         \n",
      " 31  Date of Birth     30042 non-null  datetime64[ns]\n",
      "dtypes: datetime64[ns](3), int64(1), object(28)\n",
      "memory usage: 7.6+ MB\n"
     ]
    }
   ],
   "source": [
    "#now that this column is in the EDA df, I won't need it in this df anymore\n",
    "shelter_df.drop('Days_length', axis=1, inplace=True)\n",
    "\n",
    "#checking that they're really dropped\n",
    "shelter_df.info()"
   ]
  },
  {
   "cell_type": "markdown",
   "id": "86e2cfde",
   "metadata": {},
   "source": [
    "Now that the columns related to dates and times are explored, cleaned and sorted into their respective dfs, I will do the same for the breed information. "
   ]
  },
  {
   "cell_type": "markdown",
   "id": "9fe2e5f3",
   "metadata": {},
   "source": [
    "## Breed Columns\n",
    "<a class=\"anchor\" id=\"breed\"></a>\n",
    "\n",
    "There are already 10 dummy columns for the breeds of dogs. There is a possibility that these will be enough to model with and the categorical breed column could be dropped in this case. I will explore the data first and then determine the best plan of action moving forward. "
   ]
  },
  {
   "cell_type": "code",
   "execution_count": 52,
   "id": "8e2be5af",
   "metadata": {},
   "outputs": [
    {
     "data": {
      "text/html": [
       "<div>\n",
       "<style scoped>\n",
       "    .dataframe tbody tr th:only-of-type {\n",
       "        vertical-align: middle;\n",
       "    }\n",
       "\n",
       "    .dataframe tbody tr th {\n",
       "        vertical-align: top;\n",
       "    }\n",
       "\n",
       "    .dataframe thead th {\n",
       "        text-align: right;\n",
       "    }\n",
       "</style>\n",
       "<table border=\"1\" class=\"dataframe\">\n",
       "  <thead>\n",
       "    <tr style=\"text-align: right;\">\n",
       "      <th></th>\n",
       "      <th>0</th>\n",
       "    </tr>\n",
       "  </thead>\n",
       "  <tbody>\n",
       "    <tr>\n",
       "      <th>0</th>\n",
       "      <td>Border Collie Mix</td>\n",
       "    </tr>\n",
       "    <tr>\n",
       "      <th>1</th>\n",
       "      <td>Pit Bull Mix</td>\n",
       "    </tr>\n",
       "    <tr>\n",
       "      <th>2</th>\n",
       "      <td>Saluki</td>\n",
       "    </tr>\n",
       "    <tr>\n",
       "      <th>3</th>\n",
       "      <td>Anatol Shepherd Mix</td>\n",
       "    </tr>\n",
       "    <tr>\n",
       "      <th>4</th>\n",
       "      <td>Boxer/Labrador Retriever</td>\n",
       "    </tr>\n",
       "    <tr>\n",
       "      <th>...</th>\n",
       "      <td>...</td>\n",
       "    </tr>\n",
       "    <tr>\n",
       "      <th>1715</th>\n",
       "      <td>Australian Kelpie/Bull Terrier</td>\n",
       "    </tr>\n",
       "    <tr>\n",
       "      <th>1716</th>\n",
       "      <td>Australian Kelpie/Border Collie</td>\n",
       "    </tr>\n",
       "    <tr>\n",
       "      <th>1717</th>\n",
       "      <td>Brittany/Border Collie</td>\n",
       "    </tr>\n",
       "    <tr>\n",
       "      <th>1718</th>\n",
       "      <td>Akita/Mastiff</td>\n",
       "    </tr>\n",
       "    <tr>\n",
       "      <th>1719</th>\n",
       "      <td>Dachshund Longhair/Maltese</td>\n",
       "    </tr>\n",
       "  </tbody>\n",
       "</table>\n",
       "<p>1720 rows × 1 columns</p>\n",
       "</div>"
      ],
      "text/plain": [
       "                                    0\n",
       "0                   Border Collie Mix\n",
       "1                        Pit Bull Mix\n",
       "2                              Saluki\n",
       "3                 Anatol Shepherd Mix\n",
       "4            Boxer/Labrador Retriever\n",
       "...                               ...\n",
       "1715   Australian Kelpie/Bull Terrier\n",
       "1716  Australian Kelpie/Border Collie\n",
       "1717           Brittany/Border Collie\n",
       "1718                    Akita/Mastiff\n",
       "1719       Dachshund Longhair/Maltese\n",
       "\n",
       "[1720 rows x 1 columns]"
      ]
     },
     "execution_count": 52,
     "metadata": {},
     "output_type": "execute_result"
    }
   ],
   "source": [
    "#how many unique breeds are listed\n",
    "pd.DataFrame(shelter_df['Breed_intake'].unique())\n",
    "# 1759 unique mixes"
   ]
  },
  {
   "cell_type": "markdown",
   "id": "45dffc24",
   "metadata": {},
   "source": [
    "There are 1759 unique breed combinations, but many of these are mixed breeds, so there are likely fewer breeds actually represented in the data. The 10 bins already in the df are:\n",
    "* retriever        \n",
    "* shepherd       \n",
    "* beagle       \n",
    "* terrier      \n",
    "* boxer        \n",
    "* poodle        \n",
    "* rottweiler        \n",
    "* dachshund        \n",
    "* chihuahua       \n",
    "* pit bull\n",
    "\n",
    " Let me look at the most common mixes from this column and see if there is overlap."
   ]
  },
  {
   "cell_type": "code",
   "execution_count": 53,
   "id": "6a15ecd4",
   "metadata": {},
   "outputs": [
    {
     "data": {
      "text/plain": [
       "Pit Bull Mix                 3791\n",
       "Chihuahua Shorthair Mix      3448\n",
       "Labrador Retriever Mix       2952\n",
       "German Shepherd Mix          1253\n",
       "Australian Cattle Dog Mix     745\n",
       "Dachshund Mix                 611\n",
       "Miniature Poodle Mix          460\n",
       "Border Collie Mix             421\n",
       "Boxer Mix                     410\n",
       "Australian Shepherd Mix       329\n",
       "Rat Terrier Mix               316\n",
       "Jack Russell Terrier Mix      301\n",
       "Yorkshire Terrier Mix         298\n",
       "Catahoula Mix                 298\n",
       "Miniature Schnauzer Mix       286\n",
       "Chihuahua Longhair Mix        261\n",
       "Beagle Mix                    256\n",
       "Siberian Husky Mix            254\n",
       "Cairn Terrier Mix             245\n",
       "Great Pyrenees Mix            229\n",
       "Name: Breed_intake, dtype: int64"
      ]
     },
     "execution_count": 53,
     "metadata": {},
     "output_type": "execute_result"
    }
   ],
   "source": [
    "shelter_df['Breed_intake'].value_counts().head(20)"
   ]
  },
  {
   "cell_type": "markdown",
   "id": "1100152b",
   "metadata": {},
   "source": [
    "Pit Bulls, Chihuahuas, Labradors and German Shepherd are the most common, but Labradors are not represented in the original bins. To start I will try to pull out the breeds from the `Breed_intake` list and sort it into the established bins and see how many are missing. I will do this by splitting the dogs with multiple breeds listed, creating more breed bins to represent the most common 20 breeds and then creating a function to recognize the breed and enter a dummy into one of those columns if applicable. "
   ]
  },
  {
   "cell_type": "code",
   "execution_count": 54,
   "id": "02920ee7",
   "metadata": {},
   "outputs": [
    {
     "data": {
      "text/plain": [
       "Breed1        0\n",
       "Breed2    24898\n",
       "Breed3    30023\n",
       "dtype: int64"
      ]
     },
     "execution_count": 54,
     "metadata": {},
     "output_type": "execute_result"
    }
   ],
   "source": [
    "# Split up the entries with multiple breeds seperated by the '/' delimitor \n",
    "shelter_df[['Breed1', 'Breed2', 'Breed3']] = shelter_df.Breed_intake.str.split(\"/\", expand=True)\n",
    "\n",
    "shelter_df[['Breed1', 'Breed2', 'Breed3']].isna().sum()"
   ]
  },
  {
   "cell_type": "code",
   "execution_count": 55,
   "id": "7e84f45e",
   "metadata": {},
   "outputs": [],
   "source": [
    "#add dummy columns for 6 breeds that were in the top 20, but not already encapsulated in the original bins\n",
    "columns_to_add = ['cattle dog', 'collie', 'catahoula', 'schnauzer', 'husky', 'pyrenees', 'other_breeds']        \n",
    "\n",
    "for i in range(len(columns_to_add)):\n",
    "    shelter_df[columns_to_add[i]] = [0]*30042"
   ]
  },
  {
   "cell_type": "markdown",
   "id": "669a2afc",
   "metadata": {},
   "source": [
    "Now that the breeds are split and the columns are created for the dummy variables, I will create a function to recognize which breed the dog is and add a dummy to the corresponding dummy variable column. Starting with: \n",
    "* retriever        \n",
    "* shepherd       \n",
    "* beagle       \n",
    "* terrier      \n",
    "* boxer        \n",
    "* poodle        \n",
    "* rottweiler        \n",
    "* dachshund        \n",
    "* chihuahua       \n",
    "* pit bull\n",
    "* cattle dog\n",
    "* border collie\n",
    "* catahoula\n",
    "* schnauzer\n",
    "* husky\n",
    "* pyrenees"
   ]
  },
  {
   "cell_type": "code",
   "execution_count": 56,
   "id": "9eaa4f46",
   "metadata": {},
   "outputs": [],
   "source": [
    "# sort the dogs into their breeds (not mutually exclusive bins)\n",
    "def breed_dummies(df, column):     \n",
    "    for i , row in enumerate(df.values):\n",
    "\n",
    "\n",
    "        # skip the nulls\n",
    "        if pd.isnull(column[i]) == True:\n",
    "            pass\n",
    "\n",
    "        #breeds that were already dummified\n",
    "        elif re.findall(r\"(.*[R|r]etriever.*)\", column[i]):\n",
    "            if shelter_df['retriever'][i] == 0:\n",
    "                shelter_df['retriever'][i] += 1\n",
    "                \n",
    "        elif re.findall(r\"(.*[S|s]hepherd.*)\", column[i]):\n",
    "            if shelter_df['shepherd'][i] == 0:\n",
    "                shelter_df['shepherd'][i] += 1\n",
    "                \n",
    "        elif re.findall(r\"(.*[B|b]eagle.*)\", column[i]):\n",
    "            if shelter_df['beagle'][i] == 0:\n",
    "                shelter_df['beagle'][i] += 1\n",
    "                \n",
    "        elif re.findall(r\"(.*[T|t]errier.*)\", column[i]):\n",
    "            if shelter_df['terrier'][i] == 0:\n",
    "                shelter_df['terrier'][i] += 1\n",
    "                \n",
    "        elif re.findall(r\"(.*[B|b]oxer.*)\", column[i]):\n",
    "            if shelter_df['boxer'][i] == 0:\n",
    "                shelter_df['boxer'][i] += 1\n",
    "                \n",
    "        elif re.findall(r\"(.*[P|p]oodle.*)\", column[i]):\n",
    "            if shelter_df['poodle'][i] == 0:\n",
    "                shelter_df['poodle'][i] += 1\n",
    "                \n",
    "        elif re.findall(r\"(.*[R|r]ottweiler.*)\", column[i]):    \n",
    "            if shelter_df['rottweiler'][i] == 0:\n",
    "                shelter_df['rottweiler'][i] += 1\n",
    "                \n",
    "        elif re.findall(r\"(.*[D|d]achshund.*)\", column[i]):\n",
    "            if shelter_df['dachshund'][i] == 0:\n",
    "                shelter_df['dachshund'][i] += 1\n",
    "                \n",
    "        elif re.findall(r\"(.*[C|c]hihuahua.*)\", column[i]):\n",
    "            if shelter_df['chihuahua'][i] == 0:\n",
    "                shelter_df['chihuahua'][i] += 1\n",
    "                \n",
    "        elif re.findall(r\"(.*[P|p]it [B|b]ull.*)\", column[i]):\n",
    "            if shelter_df['pit bull'][i] == 0:\n",
    "                shelter_df['pit bull'][i] += 1\n",
    "\n",
    "\n",
    "\n",
    "        #these breeds were not dummies in original data, but are top 20 in this data            \n",
    "        elif re.findall(r\"(.*[C|c]attle [D|d]og.*)\", column[i]):\n",
    "            if shelter_df['cattle dog'][i] == 0:\n",
    "                shelter_df['cattle dog'][i] += 1\n",
    "                \n",
    "        elif re.findall(r\"(.*[C|c]ollie.*)\", column[i]):\n",
    "            if shelter_df['collie'][i] == 0:\n",
    "                shelter_df['collie'][i] += 1\n",
    "                   \n",
    "        elif re.findall(r\"(.*[C|c]atahoula.*)\", column[i]):\n",
    "            if shelter_df['catahoula'][i] == 0:\n",
    "                shelter_df['catahoula'][i] += 1\n",
    "                \n",
    "        elif re.findall(r\"(.*[S|s]chnauzer.*)\", column[i]):\n",
    "            if shelter_df['schnauzer'][i] == 0:\n",
    "                shelter_df['schnauzer'][i] += 1\n",
    "                \n",
    "        elif re.findall(r\"(.*[H|h]usky.*)\", column[i]):\n",
    "            if shelter_df['husky'][i] == 0:\n",
    "                shelter_df['husky'][i] += 1\n",
    "                \n",
    "        elif re.findall(r\"(.*[P|p]yrenees.*)\", column[i]):\n",
    "            if shelter_df['pyrenees'][i] == 0:\n",
    "                shelter_df['pyrenees'][i] += 1\n",
    "            \n",
    "        else:\n",
    "            if shelter_df['other_breeds'][i] == 0:\n",
    "                shelter_df['other_breeds'][i] += 1\n",
    "            # of the single entry breeds, only 1965 in the 'other' column with these 31 breeds"
   ]
  },
  {
   "cell_type": "code",
   "execution_count": 57,
   "id": "e8d667d3",
   "metadata": {},
   "outputs": [
    {
     "data": {
      "text/plain": [
       "retriever       4836\n",
       "shepherd        2686\n",
       "beagle           573\n",
       "terrier         3054\n",
       "boxer            746\n",
       "poodle           962\n",
       "rottweiler       383\n",
       "dachshund       1462\n",
       "chihuahua       4933\n",
       "pit bull        4630\n",
       "cattle dog         0\n",
       "collie             0\n",
       "catahoula          0\n",
       "schnauzer          0\n",
       "husky              0\n",
       "pyrenees           0\n",
       "other_breeds       0\n",
       "dtype: object"
      ]
     },
     "execution_count": 57,
     "metadata": {},
     "output_type": "execute_result"
    }
   ],
   "source": [
    "# shows there are dummies already from the original data\n",
    "shelter_df[['retriever', 'shepherd', 'beagle', 'terrier', 'boxer', 'poodle', 'rottweiler', 'dachshund', 'chihuahua', \n",
    "            'pit bull', 'cattle dog', 'collie', 'catahoula', 'schnauzer', 'husky', 'pyrenees', 'other_breeds']].sum()\n"
   ]
  },
  {
   "cell_type": "code",
   "execution_count": 58,
   "id": "10658054",
   "metadata": {},
   "outputs": [],
   "source": [
    "#checking dummies for single select breeds and adding new dummies for additional breeds\n",
    "breed_dummies(shelter_df, shelter_df['Breed1'])"
   ]
  },
  {
   "cell_type": "code",
   "execution_count": 59,
   "id": "a528362c",
   "metadata": {},
   "outputs": [],
   "source": [
    "#making dummies for first of multi select\n",
    "breed_dummies(shelter_df, shelter_df['Breed2'])"
   ]
  },
  {
   "cell_type": "code",
   "execution_count": 60,
   "id": "0bc353bf",
   "metadata": {},
   "outputs": [],
   "source": [
    "#making dummies for second of multi select\n",
    "breed_dummies(shelter_df, shelter_df['Breed3'])"
   ]
  },
  {
   "cell_type": "code",
   "execution_count": 61,
   "id": "04cbdaab",
   "metadata": {},
   "outputs": [
    {
     "data": {
      "text/plain": [
       "retriever       4836\n",
       "shepherd        2686\n",
       "beagle           573\n",
       "terrier         3054\n",
       "boxer            746\n",
       "poodle           962\n",
       "rottweiler       383\n",
       "dachshund       1462\n",
       "chihuahua       4933\n",
       "pit bull        4630\n",
       "cattle dog      1199\n",
       "collie           883\n",
       "catahoula        485\n",
       "schnauzer        532\n",
       "husky            464\n",
       "pyrenees         392\n",
       "other_breeds    6638\n",
       "dtype: object"
      ]
     },
     "execution_count": 61,
     "metadata": {},
     "output_type": "execute_result"
    }
   ],
   "source": [
    "# see the difference after running the function on the split breed columns\n",
    "shelter_df[['retriever', 'shepherd', 'beagle', 'terrier', 'boxer', 'poodle', 'rottweiler', 'dachshund', 'chihuahua', \n",
    "            'pit bull', 'cattle dog', 'collie', 'catahoula', 'schnauzer', 'husky', 'pyrenees', 'other_breeds']].sum()\n"
   ]
  },
  {
   "cell_type": "markdown",
   "id": "95bd4b6c",
   "metadata": {},
   "source": [
    "There are quite a few breeds added to the 'other_breed' bin, so I would like to add some more dummy variable columns to account for that. I will use the next 10 most popular breeds to add to the function and check again to see how many dogs fall into the 'other_breeds' column after that."
   ]
  },
  {
   "cell_type": "code",
   "execution_count": 62,
   "id": "4500596e",
   "metadata": {},
   "outputs": [
    {
     "data": {
      "text/plain": [
       "Rottweiler Mix                   219\n",
       "Shih Tzu Mix                     202\n",
       "Pointer Mix                      201\n",
       "American Bulldog Mix             194\n",
       "Chihuahua Shorthair/Dachshund    188\n",
       "Staffordshire Mix                169\n",
       "Australian Kelpie Mix            164\n",
       "Plott Hound Mix                  161\n",
       "Black Mouth Cur Mix              158\n",
       "Chihuahua Shorthair              153\n",
       "Name: Breed_intake, dtype: int64"
      ]
     },
     "execution_count": 62,
     "metadata": {},
     "output_type": "execute_result"
    }
   ],
   "source": [
    "#what are the next 10 most popular dogs breeds in this dataset\n",
    "shelter_df['Breed_intake'].value_counts()[20:30]"
   ]
  },
  {
   "cell_type": "markdown",
   "id": "1b23947e",
   "metadata": {},
   "source": [
    "Looking at the 'Chihuahua Shorthair/Dachshund' it's clear that specific mixes are starting to be part of the most popular breeds. I will makes sure to consider both/all breeds in the combination when adding each breed to the function.\n",
    "\n",
    "Rottweiler, Chihuahua and Dachshund are already represented in the dummy variables, so I will add:\n",
    "* Shih Tzu Mix\n",
    "* Pointer Mix\n",
    "* American Bulldog Mix\n",
    "* Staffordshire Mix\n",
    "* Australian Kelpie Mix\n",
    "* Black Mouth Cur Mix\n",
    "* Plott Hound Mix "
   ]
  },
  {
   "cell_type": "code",
   "execution_count": 63,
   "id": "3a24f6c2",
   "metadata": {},
   "outputs": [],
   "source": [
    "#add dummy columns for 7 breeds that were in the top 20-30, but not already encapsulated in the bins\n",
    "columns_to_add = ['shih tzu', 'pointer', 'bulldog', 'kelpie', 'black mouth cur', 'hound', 'other_breeds']        \n",
    "\n",
    "for i in range(len(columns_to_add)):\n",
    "    shelter_df[columns_to_add[i]] = [0]*30042"
   ]
  },
  {
   "cell_type": "code",
   "execution_count": 64,
   "id": "f07304f5",
   "metadata": {},
   "outputs": [],
   "source": [
    "#added up to top 30 breeds\n",
    "\n",
    "# sort the dogs into their breeds (not mutually exclusive bins)\n",
    "def breed_dummies(df, column):     \n",
    "    for i , row in enumerate(df.values):\n",
    "\n",
    "\n",
    "        # skip the nulls\n",
    "        if pd.isnull(column[i]) == True:\n",
    "            pass\n",
    "\n",
    "        #breeds that were already dummified\n",
    "        elif re.findall(r\"(.*[R|r]etriever.*)\", column[i]):\n",
    "            if shelter_df['retriever'][i] == 0:\n",
    "                shelter_df['retriever'][i] += 1\n",
    "                \n",
    "        elif re.findall(r\"(.*[S|s]hepherd.*)\", column[i]):\n",
    "            if shelter_df['shepherd'][i] == 0:\n",
    "                shelter_df['shepherd'][i] += 1\n",
    "                \n",
    "        elif re.findall(r\"(.*[B|b]eagle.*)\", column[i]):\n",
    "            if shelter_df['beagle'][i] == 0:\n",
    "                shelter_df['beagle'][i] += 1\n",
    "                \n",
    "        elif re.findall(r\"(.*[T|t]errier.*)\", column[i]):\n",
    "            if shelter_df['terrier'][i] == 0:\n",
    "                shelter_df['terrier'][i] += 1\n",
    "                \n",
    "        elif re.findall(r\"(.*[B|b]oxer.*)\", column[i]):\n",
    "            if shelter_df['boxer'][i] == 0:\n",
    "                shelter_df['boxer'][i] += 1\n",
    "                \n",
    "        elif re.findall(r\"(.*[P|p]oodle.*)\", column[i]):\n",
    "            if shelter_df['poodle'][i] == 0:\n",
    "                shelter_df['poodle'][i] += 1\n",
    "                \n",
    "        elif re.findall(r\"(.*[R|r]ottweiler.*)\", column[i]):    \n",
    "            if shelter_df['rottweiler'][i] == 0:\n",
    "                shelter_df['rottweiler'][i] += 1\n",
    "                \n",
    "        elif re.findall(r\"(.*[D|d]achshund.*)\", column[i]):\n",
    "            if shelter_df['dachshund'][i] == 0:\n",
    "                shelter_df['dachshund'][i] += 1\n",
    "                \n",
    "        elif re.findall(r\"(.*[C|c]hihuahua.*)\", column[i]):\n",
    "            if shelter_df['chihuahua'][i] == 0:\n",
    "                shelter_df['chihuahua'][i] += 1\n",
    "                \n",
    "        elif re.findall(r\"(.*[P|p]it [B|b]ull.*)|(.*[S|s]taffordshire.*)\", column[i]):\n",
    "            if shelter_df['pit bull'][i] == 0:\n",
    "                shelter_df['pit bull'][i] += 1\n",
    "\n",
    "\n",
    "\n",
    "        #these breeds were not dummies in original data, but are top 20 in this data            \n",
    "        elif re.findall(r\"(.*[C|c]attle [D|d]og.*)\", column[i]):\n",
    "            if shelter_df['cattle dog'][i] == 0:\n",
    "                shelter_df['cattle dog'][i] += 1\n",
    "                \n",
    "        elif re.findall(r\"(.*[C|c]ollie.*)\", column[i]):\n",
    "            if shelter_df['collie'][i] == 0:\n",
    "                shelter_df['collie'][i] += 1\n",
    "                   \n",
    "        elif re.findall(r\"(.*[C|c]atahoula.*)\", column[i]):\n",
    "            if shelter_df['catahoula'][i] == 0:\n",
    "                shelter_df['catahoula'][i] += 1\n",
    "                \n",
    "        elif re.findall(r\"(.*[S|s]chnauzer.*)\", column[i]):\n",
    "            if shelter_df['schnauzer'][i] == 0:\n",
    "                shelter_df['schnauzer'][i] += 1\n",
    "                \n",
    "        elif re.findall(r\"(.*[H|h]usky.*)\", column[i]):\n",
    "            if shelter_df['husky'][i] == 0:\n",
    "                shelter_df['husky'][i] += 1\n",
    "                \n",
    "        elif re.findall(r\"(.*[P|p]yrenees.*)\", column[i]):\n",
    "            if shelter_df['pyrenees'][i] == 0:\n",
    "                shelter_df['pyrenees'][i] += 1\n",
    "\n",
    "        #these 20-30 most popular breeds\n",
    "        elif re.findall(r\"(.*[S|s]hih [T|t]zu.*)\", column[i]):\n",
    "            if shelter_df['shih tzu'][i] == 0:\n",
    "                shelter_df['shih tzu'][i] += 1\n",
    "                \n",
    "        elif re.findall(r\"(.*[P|p]ointer.*)\", column[i]):\n",
    "            if shelter_df['pointer'][i] == 0:\n",
    "                shelter_df['pointer'][i] += 1\n",
    "                \n",
    "        elif re.findall(r\"(.*[B|b]ulldog.*)\", column[i]):\n",
    "            if shelter_df['bulldog'][i] == 0:\n",
    "                shelter_df['bulldog'][i] += 1\n",
    "                \n",
    "        elif re.findall(r\"(.*[K|k]elpie.*)\", column[i]):\n",
    "            if shelter_df['kelpie'][i] == 0:\n",
    "                shelter_df['kelpie'][i] += 1\n",
    "                \n",
    "        elif re.findall(r\"(.*[M|m]outh [C|c]ur.*)\", column[i]):\n",
    "            if shelter_df['black mouth cur'][i] == 0:\n",
    "                shelter_df['black mouth cur'][i] += 1\n",
    "                            \n",
    "        elif re.findall(r\"(.*[H|h]ound.*)\", column[i]):\n",
    "            if shelter_df['hound'][i] == 0:\n",
    "                shelter_df['hound'][i] += 1\n",
    "                \n",
    "                \n",
    "                \n",
    "        else:\n",
    "            if shelter_df['other_breeds'][i] == 0:\n",
    "                shelter_df['other_breeds'][i] += 1\n",
    "            # of the single entry breeds, only 1965 in the 'other' column with these 31 breeds"
   ]
  },
  {
   "cell_type": "code",
   "execution_count": 65,
   "id": "b26e58a8",
   "metadata": {
    "scrolled": true
   },
   "outputs": [
    {
     "data": {
      "text/plain": [
       "retriever          4836\n",
       "shepherd           2686\n",
       "beagle              573\n",
       "terrier            3054\n",
       "boxer               746\n",
       "poodle              962\n",
       "rottweiler          383\n",
       "dachshund          1462\n",
       "chihuahua          4933\n",
       "pit bull           4630\n",
       "cattle dog         1199\n",
       "collie              883\n",
       "catahoula           485\n",
       "schnauzer           532\n",
       "husky               464\n",
       "pyrenees            392\n",
       "shih tzu              0\n",
       "pointer               0\n",
       "bulldog               0\n",
       "kelpie                0\n",
       "black mouth cur       0\n",
       "hound                 0\n",
       "other_breeds          0\n",
       "dtype: object"
      ]
     },
     "execution_count": 65,
     "metadata": {},
     "output_type": "execute_result"
    }
   ],
   "source": [
    "#make sure those columns were created correctly and to compare numbers after running the function\n",
    "shelter_df[['retriever', 'shepherd', 'beagle', 'terrier', 'boxer', 'poodle', 'rottweiler', 'dachshund', 'chihuahua', \n",
    "            'pit bull', 'cattle dog', 'collie', 'catahoula', 'schnauzer', 'husky', 'pyrenees', 'shih tzu', 'pointer', \n",
    "            'bulldog', 'kelpie', 'black mouth cur', 'hound','other_breeds']].sum()"
   ]
  },
  {
   "cell_type": "code",
   "execution_count": 66,
   "id": "3f75c64b",
   "metadata": {},
   "outputs": [],
   "source": [
    "#checking dummies for single select breeds and adding new dummies for additional breeds\n",
    "breed_dummies(shelter_df, shelter_df['Breed1'])\n",
    "\n",
    "#making dummies for first of multi select\n",
    "breed_dummies(shelter_df, shelter_df['Breed2'])\n",
    "\n",
    "#making dummies for second of multi select\n",
    "breed_dummies(shelter_df, shelter_df['Breed3'])"
   ]
  },
  {
   "cell_type": "code",
   "execution_count": 67,
   "id": "74842c25",
   "metadata": {
    "scrolled": false
   },
   "outputs": [
    {
     "data": {
      "text/plain": [
       "retriever          4836\n",
       "shepherd           2686\n",
       "beagle              573\n",
       "terrier            3054\n",
       "boxer               746\n",
       "poodle              962\n",
       "rottweiler          383\n",
       "dachshund          1462\n",
       "chihuahua          4933\n",
       "pit bull           4846\n",
       "cattle dog         1199\n",
       "collie              883\n",
       "catahoula           485\n",
       "schnauzer           532\n",
       "husky               464\n",
       "pyrenees            392\n",
       "shih tzu            352\n",
       "pointer             424\n",
       "bulldog             402\n",
       "kelpie              229\n",
       "black mouth cur     210\n",
       "hound               803\n",
       "other_breeds       4209\n",
       "dtype: object"
      ]
     },
     "execution_count": 67,
     "metadata": {},
     "output_type": "execute_result"
    }
   ],
   "source": [
    "#make sure the function worked\n",
    "shelter_df[['retriever', 'shepherd', 'beagle', 'terrier', 'boxer', 'poodle', 'rottweiler', 'dachshund', 'chihuahua', \n",
    "            'pit bull', 'cattle dog', 'collie', 'catahoula', 'schnauzer', 'husky', 'pyrenees', 'shih tzu', 'pointer', \n",
    "            'bulldog', 'kelpie', 'black mouth cur', 'hound','other_breeds']].sum()"
   ]
  },
  {
   "cell_type": "code",
   "execution_count": 68,
   "id": "fa25f4b0",
   "metadata": {},
   "outputs": [
    {
     "data": {
      "text/plain": [
       "'There are now 4336 dogs with breeds not listed in the breed dummy variables, that is 13.94% of dogs in this df.'"
      ]
     },
     "execution_count": 68,
     "metadata": {},
     "output_type": "execute_result"
    }
   ],
   "source": [
    "f\"There are now 4336 dogs with breeds not listed in the breed dummy variables, that is {round(4336/31115*100, 2)}% of dogs in this df.\""
   ]
  },
  {
   "cell_type": "markdown",
   "id": "f0b028fd",
   "metadata": {},
   "source": [
    "It went from almost 7000 'other_breeds' to 4500 'other_breeds' by adding the 7 more dummy variables but I would ideally like that to be under 10%, so I will add a few more \"common\" breeds using the same approach as before. "
   ]
  },
  {
   "cell_type": "code",
   "execution_count": 69,
   "id": "d523e098",
   "metadata": {},
   "outputs": [
    {
     "data": {
      "text/plain": [
       "Pit Bull                              146\n",
       "Labrador Retriever/Pit Bull           144\n",
       "Labrador Retriever                    144\n",
       "American Staffordshire Terrier Mix    142\n",
       "Anatol Shepherd Mix                   141\n",
       "Dachshund/Chihuahua Shorthair         134\n",
       "German Shepherd                       134\n",
       "Golden Retriever Mix                  126\n",
       "Queensland Heeler Mix                 124\n",
       "Miniature Pinscher Mix                120\n",
       "Maltese Mix                           113\n",
       "Chow Chow Mix                         112\n",
       "German Shepherd/Labrador Retriever    105\n",
       "American Pit Bull Terrier Mix         103\n",
       "Labrador Retriever/German Shepherd     98\n",
       "Pug Mix                                94\n",
       "Lhasa Apso Mix                         90\n",
       "Cardigan Welsh Corgi Mix               88\n",
       "Pomeranian Mix                         88\n",
       "Shih Tzu                               87\n",
       "Dachshund                              87\n",
       "Toy Poodle Mix                         81\n",
       "Doberman Pinsch Mix                    81\n",
       "Cocker Spaniel Mix                     80\n",
       "Basset Hound Mix                       76\n",
       "Border Terrier Mix                     76\n",
       "Blue Lacy Mix                          75\n",
       "Boston Terrier Mix                     68\n",
       "Rottweiler                             67\n",
       "Manchester Terrier Mix                 66\n",
       "Name: Breed_intake, dtype: int64"
      ]
     },
     "execution_count": 69,
     "metadata": {},
     "output_type": "execute_result"
    }
   ],
   "source": [
    "#what are the next 10 most popular dogs breeds in this dataset\n",
    "shelter_df['Breed_intake'].value_counts()[30:60]"
   ]
  },
  {
   "cell_type": "markdown",
   "id": "8e5387d9",
   "metadata": {},
   "source": [
    "Considering the next 30 most common breeds in this data frame, I will add these 11 breeds that were not encapsulated in the other bins already created:\n",
    "* Queensland Heeler Mix\n",
    "* Miniature Pinscher Mix\n",
    "* Maltese Mix\n",
    "* Chow Chow Mix\n",
    "* Pug Mix\n",
    "* Lhasa Apso Mix\n",
    "* Pomeranian Mix\n",
    "* Cardigan Welsh Corgi Mix\n",
    "* Doberman Pinsch Mix\n",
    "* Cocker Spaniel Mix\n",
    "* Blue Lacy Mix"
   ]
  },
  {
   "cell_type": "code",
   "execution_count": 70,
   "id": "c8df13cc",
   "metadata": {},
   "outputs": [],
   "source": [
    "#add dummy columns for 7 breeds that were in the top 20-30, but not already encapsulated in the bins\n",
    "columns_to_add = ['heeler', 'pinscher', 'maltese', 'chow', 'pug', 'lhasa apso', 'pomeranian', 'corgi', 'spaniel', \n",
    "                  'blue lacy', 'other_breeds']        \n",
    "\n",
    "for i in range(len(columns_to_add)):\n",
    "    shelter_df[columns_to_add[i]] = [0]*30042"
   ]
  },
  {
   "cell_type": "code",
   "execution_count": 71,
   "id": "cb07fc79",
   "metadata": {},
   "outputs": [],
   "source": [
    "# sort the dogs into their breeds (not mutually exclusive bins)\n",
    "def breed_dummies(df, column):     \n",
    "    for i , row in enumerate(df.values):\n",
    "\n",
    "\n",
    "        # skip the nulls\n",
    "        if pd.isnull(column[i]) == True:\n",
    "            pass\n",
    "\n",
    "        #breeds that were already dummified\n",
    "        elif re.findall(r\"(.*[R|r]etriever.*)\", column[i]):\n",
    "            if shelter_df['retriever'][i] == 0:\n",
    "                shelter_df['retriever'][i] += 1\n",
    "                \n",
    "        elif re.findall(r\"(.*[S|s]hepherd.*)\", column[i]):\n",
    "            if shelter_df['shepherd'][i] == 0:\n",
    "                shelter_df['shepherd'][i] += 1\n",
    "                \n",
    "        elif re.findall(r\"(.*[B|b]eagle.*)\", column[i]):\n",
    "            if shelter_df['beagle'][i] == 0:\n",
    "                shelter_df['beagle'][i] += 1\n",
    "                \n",
    "        elif re.findall(r\"(.*[T|t]errier.*)\", column[i]):\n",
    "            if shelter_df['terrier'][i] == 0:\n",
    "                shelter_df['terrier'][i] += 1\n",
    "                \n",
    "        elif re.findall(r\"(.*[B|b]oxer.*)\", column[i]):\n",
    "            if shelter_df['boxer'][i] == 0:\n",
    "                shelter_df['boxer'][i] += 1\n",
    "                \n",
    "        elif re.findall(r\"(.*[P|p]oodle.*)\", column[i]):\n",
    "            if shelter_df['poodle'][i] == 0:\n",
    "                shelter_df['poodle'][i] += 1\n",
    "                \n",
    "        elif re.findall(r\"(.*[R|r]ottweiler.*)\", column[i]):    \n",
    "            if shelter_df['rottweiler'][i] == 0:\n",
    "                shelter_df['rottweiler'][i] += 1\n",
    "                \n",
    "        elif re.findall(r\"(.*[D|d]achshund.*)\", column[i]):\n",
    "            if shelter_df['dachshund'][i] == 0:\n",
    "                shelter_df['dachshund'][i] += 1\n",
    "                \n",
    "        elif re.findall(r\"(.*[C|c]hihuahua.*)\", column[i]):\n",
    "            if shelter_df['chihuahua'][i] == 0:\n",
    "                shelter_df['chihuahua'][i] += 1\n",
    "                \n",
    "        elif re.findall(r\"(.*[P|p]it [B|b]ull.*)|(.*[S|s]taffordshire.*)\", column[i]):\n",
    "            if shelter_df['pit bull'][i] == 0:\n",
    "                shelter_df['pit bull'][i] += 1\n",
    "\n",
    "\n",
    "        #these breeds were not dummies in original data, but are top 20 in this data            \n",
    "        elif re.findall(r\"(.*[C|c]attle [D|d]og.*)\", column[i]):\n",
    "            if shelter_df['cattle dog'][i] == 0:\n",
    "                shelter_df['cattle dog'][i] += 1\n",
    "                \n",
    "        elif re.findall(r\"(.*[C|c]ollie.*)\", column[i]):\n",
    "            if shelter_df['collie'][i] == 0:\n",
    "                shelter_df['collie'][i] += 1\n",
    "                   \n",
    "        elif re.findall(r\"(.*[C|c]atahoula.*)\", column[i]):\n",
    "            if shelter_df['catahoula'][i] == 0:\n",
    "                shelter_df['catahoula'][i] += 1\n",
    "                \n",
    "        elif re.findall(r\"(.*[S|s]chnauzer.*)\", column[i]):\n",
    "            if shelter_df['schnauzer'][i] == 0:\n",
    "                shelter_df['schnauzer'][i] += 1\n",
    "                \n",
    "        elif re.findall(r\"(.*[H|h]usky.*)\", column[i]):\n",
    "            if shelter_df['husky'][i] == 0:\n",
    "                shelter_df['husky'][i] += 1\n",
    "                \n",
    "        elif re.findall(r\"(.*[P|p]yrenees.*)\", column[i]):\n",
    "            if shelter_df['pyrenees'][i] == 0:\n",
    "                shelter_df['pyrenees'][i] += 1\n",
    "\n",
    "        #these 20-30 most popular breeds\n",
    "        elif re.findall(r\"(.*[S|s]hih [T|t]zu.*)\", column[i]):\n",
    "            if shelter_df['shih tzu'][i] == 0:\n",
    "                shelter_df['shih tzu'][i] += 1\n",
    "                \n",
    "        elif re.findall(r\"(.*[P|p]ointer.*)\", column[i]):\n",
    "            if shelter_df['pointer'][i] == 0:\n",
    "                shelter_df['pointer'][i] += 1\n",
    "                \n",
    "        elif re.findall(r\"(.*[B|b]ulldog.*)\", column[i]):\n",
    "            if shelter_df['bulldog'][i] == 0:\n",
    "                shelter_df['bulldog'][i] += 1\n",
    "                \n",
    "        elif re.findall(r\"(.*[K|k]elpie.*)\", column[i]):\n",
    "            if shelter_df['kelpie'][i] == 0:\n",
    "                shelter_df['kelpie'][i] += 1\n",
    "                \n",
    "        elif re.findall(r\"(.*[M|m]outh [C|c]ur.*)\", column[i]):\n",
    "            if shelter_df['black mouth cur'][i] == 0:\n",
    "                shelter_df['black mouth cur'][i] += 1\n",
    "                            \n",
    "        elif re.findall(r\"(.*[H|h]ound.*)\", column[i]):\n",
    "            if shelter_df['hound'][i] == 0:\n",
    "                shelter_df['hound'][i] += 1\n",
    "                \n",
    "\n",
    "        #breeds in the top 60\n",
    "        elif re.findall(r\"(.*[H|h]eeler.*)\", column[i]):\n",
    "            if shelter_df['heeler'][i] == 0:\n",
    "                shelter_df['heeler'][i] += 1\n",
    "                \n",
    "        elif re.findall(r\"(.*[P|p]insch.*)\", column[i]):\n",
    "            if shelter_df['pinscher'][i] == 0:\n",
    "                shelter_df['pinscher'][i] += 1\n",
    "            \n",
    "        elif re.findall(r\"(.*[M|m]altese.*)\", column[i]):\n",
    "            if shelter_df['maltese'][i] == 0:\n",
    "                shelter_df['maltese'][i] += 1\n",
    "                \n",
    "        elif re.findall(r\"(.*[C|c]how.*)\", column[i]):\n",
    "            if shelter_df['chow'][i] == 0:\n",
    "                shelter_df['chow'][i] += 1\n",
    "                           \n",
    "        elif re.findall(r\"(.*[P|p]ug.*)\", column[i]):\n",
    "            if shelter_df['pug'][i] == 0:\n",
    "                shelter_df['pug'][i] += 1\n",
    " \n",
    "        elif re.findall(r\"(.*[A|a]pso.*)\", column[i]):\n",
    "            if shelter_df['lhasa apso'][i] == 0:\n",
    "                shelter_df['lhasa apso'][i] += 1\n",
    "                \n",
    "        elif re.findall(r\"(.*[P|p]omeranian.*)\", column[i]):\n",
    "            if shelter_df['pomeranian'][i] == 0:\n",
    "                shelter_df['pomeranian'][i] += 1\n",
    "            \n",
    "        elif re.findall(r\"(.*[C|c]orgi.*)\", column[i]):\n",
    "            if shelter_df['corgi'][i] == 0:\n",
    "                shelter_df['corgi'][i] += 1\n",
    "                     \n",
    "        elif re.findall(r\"(.*[S|s]pan.*)\", column[i]):\n",
    "            if shelter_df['spaniel'][i] == 0:\n",
    "                shelter_df['spaniel'][i] += 1\n",
    "                \n",
    "        elif re.findall(r\"(.*[B|b]lue [L|l]acy.*)\", column[i]):\n",
    "            if shelter_df['blue lacy'][i] == 0:\n",
    "                shelter_df['blue lacy'][i] += 1\n",
    "\n",
    "            \n",
    "        else:\n",
    "            if shelter_df['other_breeds'][i] == 0:\n",
    "                shelter_df['other_breeds'][i] += 1\n",
    "            # of the single entry breeds, only 1965 in the 'other' column with these 31 breedsy"
   ]
  },
  {
   "cell_type": "code",
   "execution_count": 72,
   "id": "e3677fac",
   "metadata": {},
   "outputs": [
    {
     "data": {
      "text/plain": [
       "retriever          4836\n",
       "shepherd           2686\n",
       "beagle              573\n",
       "terrier            3054\n",
       "boxer               746\n",
       "poodle              962\n",
       "rottweiler          383\n",
       "dachshund          1462\n",
       "chihuahua          4933\n",
       "pit bull           4846\n",
       "cattle dog         1199\n",
       "collie              883\n",
       "catahoula           485\n",
       "schnauzer           532\n",
       "husky               464\n",
       "pyrenees            392\n",
       "shih tzu            352\n",
       "pointer             424\n",
       "bulldog             402\n",
       "kelpie              229\n",
       "black mouth cur     210\n",
       "hound               803\n",
       "heeler                0\n",
       "pinscher              0\n",
       "maltese               0\n",
       "chow                  0\n",
       "pug                   0\n",
       "lhasa apso            0\n",
       "pomeranian            0\n",
       "corgi                 0\n",
       "spaniel               0\n",
       "blue lacy             0\n",
       "other_breeds          0\n",
       "dtype: object"
      ]
     },
     "execution_count": 72,
     "metadata": {},
     "output_type": "execute_result"
    }
   ],
   "source": [
    "#make sure the columns added properly \n",
    "shelter_df[['retriever', 'shepherd', 'beagle', 'terrier', 'boxer', 'poodle', 'rottweiler', 'dachshund', 'chihuahua', \n",
    "            'pit bull', 'cattle dog', 'collie', 'catahoula', 'schnauzer', 'husky', 'pyrenees', 'shih tzu', 'pointer', \n",
    "            'bulldog', 'kelpie', 'black mouth cur', 'hound','heeler', 'pinscher', 'maltese', 'chow', \n",
    "            'pug', 'lhasa apso', 'pomeranian', 'corgi', 'spaniel', 'blue lacy', 'other_breeds']].sum()"
   ]
  },
  {
   "cell_type": "code",
   "execution_count": 73,
   "id": "32f62da7",
   "metadata": {},
   "outputs": [],
   "source": [
    "#checking dummies for single select breeds and adding new dummies for additional breeds\n",
    "breed_dummies(shelter_df, shelter_df['Breed1'])\n",
    "\n",
    "#making dummies for first of multi select\n",
    "breed_dummies(shelter_df, shelter_df['Breed2'])\n",
    "\n",
    "#making dummies for second of multi select\n",
    "breed_dummies(shelter_df, shelter_df['Breed3'])"
   ]
  },
  {
   "cell_type": "code",
   "execution_count": 74,
   "id": "353c9c02",
   "metadata": {
    "scrolled": true
   },
   "outputs": [
    {
     "data": {
      "text/plain": [
       "retriever          4836\n",
       "shepherd           2686\n",
       "beagle              573\n",
       "terrier            3054\n",
       "boxer               746\n",
       "poodle              962\n",
       "rottweiler          383\n",
       "dachshund          1462\n",
       "chihuahua          4933\n",
       "pit bull           4846\n",
       "cattle dog         1199\n",
       "collie              883\n",
       "catahoula           485\n",
       "schnauzer           532\n",
       "husky               464\n",
       "pyrenees            392\n",
       "shih tzu            352\n",
       "pointer             424\n",
       "bulldog             402\n",
       "kelpie              229\n",
       "black mouth cur     210\n",
       "hound               803\n",
       "heeler              167\n",
       "pinscher            345\n",
       "maltese             239\n",
       "chow                257\n",
       "pug                 265\n",
       "lhasa apso          149\n",
       "pomeranian          155\n",
       "corgi               290\n",
       "spaniel             285\n",
       "blue lacy           126\n",
       "other_breeds       2002\n",
       "dtype: object"
      ]
     },
     "execution_count": 74,
     "metadata": {},
     "output_type": "execute_result"
    }
   ],
   "source": [
    "#make sure the function worked\n",
    "shelter_df[['retriever', 'shepherd', 'beagle', 'terrier', 'boxer', 'poodle', 'rottweiler', 'dachshund', 'chihuahua', \n",
    "            'pit bull', 'cattle dog', 'collie', 'catahoula', 'schnauzer', 'husky', 'pyrenees', 'shih tzu', 'pointer', \n",
    "            'bulldog', 'kelpie', 'black mouth cur', 'hound','heeler', 'pinscher', 'maltese', 'chow', \n",
    "            'pug', 'lhasa apso', 'pomeranian', 'corgi', 'spaniel', 'blue lacy', 'other_breeds']].sum()"
   ]
  },
  {
   "cell_type": "code",
   "execution_count": 75,
   "id": "e845117c",
   "metadata": {},
   "outputs": [
    {
     "data": {
      "text/plain": [
       "\"There are 2076 dogs with breeds in the 'other' category now, that is only 6.91% of dogs.\""
      ]
     },
     "execution_count": 75,
     "metadata": {},
     "output_type": "execute_result"
    }
   ],
   "source": [
    "f\"There are 2076 dogs with breeds in the 'other' category now, that is only {round(2076/30042*100, 2)}% of dogs.\""
   ]
  },
  {
   "cell_type": "markdown",
   "id": "827fb6eb",
   "metadata": {},
   "source": [
    "I now feel comfortable that I have a comprehensive list of all of the dog breeds represented in this dataset. I will drop the split breed columns and \"other_breeds\", but first I will use the split breed columns in the EDA df, then I will drop them from the shelter_df.  "
   ]
  },
  {
   "cell_type": "code",
   "execution_count": 76,
   "id": "2c71771d",
   "metadata": {},
   "outputs": [
    {
     "data": {
      "text/html": [
       "<div>\n",
       "<style scoped>\n",
       "    .dataframe tbody tr th:only-of-type {\n",
       "        vertical-align: middle;\n",
       "    }\n",
       "\n",
       "    .dataframe tbody tr th {\n",
       "        vertical-align: top;\n",
       "    }\n",
       "\n",
       "    .dataframe thead th {\n",
       "        text-align: right;\n",
       "    }\n",
       "</style>\n",
       "<table border=\"1\" class=\"dataframe\">\n",
       "  <thead>\n",
       "    <tr style=\"text-align: right;\">\n",
       "      <th></th>\n",
       "      <th>Name_intake</th>\n",
       "      <th>Found_Location</th>\n",
       "      <th>Intake_Type</th>\n",
       "      <th>IntakeCondition</th>\n",
       "      <th>Outcome_Type</th>\n",
       "      <th>Outcome_Subtype</th>\n",
       "      <th>gender_intake</th>\n",
       "      <th>fixed_changed</th>\n",
       "      <th>fixed_intake</th>\n",
       "      <th>fixed_outcome</th>\n",
       "      <th>Breed_intake</th>\n",
       "      <th>Color_intake</th>\n",
       "      <th>Date of Birth</th>\n",
       "      <th>Age_Bucket</th>\n",
       "      <th>Days_length</th>\n",
       "      <th>intake_date</th>\n",
       "      <th>outcome_date</th>\n",
       "      <th>Breed1</th>\n",
       "      <th>Breed2</th>\n",
       "      <th>Breed3</th>\n",
       "    </tr>\n",
       "    <tr>\n",
       "      <th>Animal ID</th>\n",
       "      <th></th>\n",
       "      <th></th>\n",
       "      <th></th>\n",
       "      <th></th>\n",
       "      <th></th>\n",
       "      <th></th>\n",
       "      <th></th>\n",
       "      <th></th>\n",
       "      <th></th>\n",
       "      <th></th>\n",
       "      <th></th>\n",
       "      <th></th>\n",
       "      <th></th>\n",
       "      <th></th>\n",
       "      <th></th>\n",
       "      <th></th>\n",
       "      <th></th>\n",
       "      <th></th>\n",
       "      <th></th>\n",
       "      <th></th>\n",
       "    </tr>\n",
       "  </thead>\n",
       "  <tbody>\n",
       "    <tr>\n",
       "      <th>A683644</th>\n",
       "      <td>*Zoey</td>\n",
       "      <td>Austin (TX)</td>\n",
       "      <td>Owner Surrender</td>\n",
       "      <td>Nursing</td>\n",
       "      <td>Adoption</td>\n",
       "      <td>Foster</td>\n",
       "      <td>Female</td>\n",
       "      <td>1</td>\n",
       "      <td>Intact</td>\n",
       "      <td>Spayed</td>\n",
       "      <td>Border Collie Mix</td>\n",
       "      <td>Brown/White</td>\n",
       "      <td>2014-06-13</td>\n",
       "      <td>1-6 weeks</td>\n",
       "      <td>12 weeks - 6 months</td>\n",
       "      <td>2014-07-13 11:02:00</td>\n",
       "      <td>2014-11-06 10:06:00</td>\n",
       "      <td>Border Collie Mix</td>\n",
       "      <td>None</td>\n",
       "      <td>None</td>\n",
       "    </tr>\n",
       "    <tr>\n",
       "      <th>A676515</th>\n",
       "      <td>Rico</td>\n",
       "      <td>615 E. Wonsley in Austin (TX)</td>\n",
       "      <td>Stray</td>\n",
       "      <td>Normal</td>\n",
       "      <td>Return to Owner</td>\n",
       "      <td>NaN</td>\n",
       "      <td>Male</td>\n",
       "      <td>1</td>\n",
       "      <td>Intact</td>\n",
       "      <td>Neutered</td>\n",
       "      <td>Pit Bull Mix</td>\n",
       "      <td>White/Brown</td>\n",
       "      <td>2014-01-11</td>\n",
       "      <td>1-6 months</td>\n",
       "      <td>0-7 days</td>\n",
       "      <td>2014-04-11 08:45:00</td>\n",
       "      <td>2014-04-14 18:38:00</td>\n",
       "      <td>Pit Bull Mix</td>\n",
       "      <td>None</td>\n",
       "      <td>None</td>\n",
       "    </tr>\n",
       "    <tr>\n",
       "      <th>A742953</th>\n",
       "      <td>NaN</td>\n",
       "      <td>S Hwy 183 And Thompson Lane in Austin (TX)</td>\n",
       "      <td>Stray</td>\n",
       "      <td>Normal</td>\n",
       "      <td>Transfer</td>\n",
       "      <td>Partner</td>\n",
       "      <td>Male</td>\n",
       "      <td>0</td>\n",
       "      <td>Intact</td>\n",
       "      <td>Intact</td>\n",
       "      <td>Saluki</td>\n",
       "      <td>Sable/Cream</td>\n",
       "      <td>2015-01-31</td>\n",
       "      <td>1-3 years</td>\n",
       "      <td>0-7 days</td>\n",
       "      <td>2017-01-31 13:30:00</td>\n",
       "      <td>2017-02-04 14:17:00</td>\n",
       "      <td>Saluki</td>\n",
       "      <td>None</td>\n",
       "      <td>None</td>\n",
       "    </tr>\n",
       "    <tr>\n",
       "      <th>A692161</th>\n",
       "      <td>George</td>\n",
       "      <td>Avenue G/42Nd in Austin (TX)</td>\n",
       "      <td>Owner Surrender</td>\n",
       "      <td>Normal</td>\n",
       "      <td>Adoption</td>\n",
       "      <td>NaN</td>\n",
       "      <td>Male</td>\n",
       "      <td>1</td>\n",
       "      <td>Intact</td>\n",
       "      <td>Neutered</td>\n",
       "      <td>Pit Bull Mix</td>\n",
       "      <td>Brown/White</td>\n",
       "      <td>2014-06-15</td>\n",
       "      <td>1-6 months</td>\n",
       "      <td>0-7 days</td>\n",
       "      <td>2014-11-15 15:18:00</td>\n",
       "      <td>2014-11-21 18:55:00</td>\n",
       "      <td>Pit Bull Mix</td>\n",
       "      <td>None</td>\n",
       "      <td>None</td>\n",
       "    </tr>\n",
       "    <tr>\n",
       "      <th>A720597</th>\n",
       "      <td>*Franklin</td>\n",
       "      <td>8413 Danville Dr in Austin (TX)</td>\n",
       "      <td>Stray</td>\n",
       "      <td>Injured</td>\n",
       "      <td>Transfer</td>\n",
       "      <td>Partner</td>\n",
       "      <td>Male</td>\n",
       "      <td>0</td>\n",
       "      <td>Intact</td>\n",
       "      <td>Intact</td>\n",
       "      <td>Pit Bull Mix</td>\n",
       "      <td>Blue</td>\n",
       "      <td>2014-02-12</td>\n",
       "      <td>1-3 years</td>\n",
       "      <td>1-3 weeks</td>\n",
       "      <td>2016-02-12 14:35:00</td>\n",
       "      <td>2016-02-19 16:20:00</td>\n",
       "      <td>Pit Bull Mix</td>\n",
       "      <td>None</td>\n",
       "      <td>None</td>\n",
       "    </tr>\n",
       "  </tbody>\n",
       "</table>\n",
       "</div>"
      ],
      "text/plain": [
       "          Name_intake                              Found_Location  \\\n",
       "Animal ID                                                           \n",
       "A683644         *Zoey                                 Austin (TX)   \n",
       "A676515          Rico               615 E. Wonsley in Austin (TX)   \n",
       "A742953           NaN  S Hwy 183 And Thompson Lane in Austin (TX)   \n",
       "A692161        George                Avenue G/42Nd in Austin (TX)   \n",
       "A720597     *Franklin             8413 Danville Dr in Austin (TX)   \n",
       "\n",
       "               Intake_Type IntakeCondition     Outcome_Type Outcome_Subtype  \\\n",
       "Animal ID                                                                     \n",
       "A683644    Owner Surrender         Nursing         Adoption          Foster   \n",
       "A676515              Stray          Normal  Return to Owner             NaN   \n",
       "A742953              Stray          Normal         Transfer         Partner   \n",
       "A692161    Owner Surrender          Normal         Adoption             NaN   \n",
       "A720597              Stray         Injured         Transfer         Partner   \n",
       "\n",
       "          gender_intake fixed_changed fixed_intake fixed_outcome  \\\n",
       "Animal ID                                                          \n",
       "A683644          Female             1       Intact        Spayed   \n",
       "A676515            Male             1       Intact      Neutered   \n",
       "A742953            Male             0       Intact        Intact   \n",
       "A692161            Male             1       Intact      Neutered   \n",
       "A720597            Male             0       Intact        Intact   \n",
       "\n",
       "                Breed_intake Color_intake Date of Birth  Age_Bucket  \\\n",
       "Animal ID                                                             \n",
       "A683644    Border Collie Mix  Brown/White    2014-06-13   1-6 weeks   \n",
       "A676515         Pit Bull Mix  White/Brown    2014-01-11  1-6 months   \n",
       "A742953               Saluki  Sable/Cream    2015-01-31   1-3 years   \n",
       "A692161         Pit Bull Mix  Brown/White    2014-06-15  1-6 months   \n",
       "A720597         Pit Bull Mix         Blue    2014-02-12   1-3 years   \n",
       "\n",
       "                   Days_length         intake_date        outcome_date  \\\n",
       "Animal ID                                                                \n",
       "A683644    12 weeks - 6 months 2014-07-13 11:02:00 2014-11-06 10:06:00   \n",
       "A676515               0-7 days 2014-04-11 08:45:00 2014-04-14 18:38:00   \n",
       "A742953               0-7 days 2017-01-31 13:30:00 2017-02-04 14:17:00   \n",
       "A692161               0-7 days 2014-11-15 15:18:00 2014-11-21 18:55:00   \n",
       "A720597              1-3 weeks 2016-02-12 14:35:00 2016-02-19 16:20:00   \n",
       "\n",
       "                      Breed1 Breed2 Breed3  \n",
       "Animal ID                                   \n",
       "A683644    Border Collie Mix   None   None  \n",
       "A676515         Pit Bull Mix   None   None  \n",
       "A742953               Saluki   None   None  \n",
       "A692161         Pit Bull Mix   None   None  \n",
       "A720597         Pit Bull Mix   None   None  "
      ]
     },
     "execution_count": 76,
     "metadata": {},
     "output_type": "execute_result"
    }
   ],
   "source": [
    "EDA_shelter_df[['Breed1', 'Breed2', 'Breed3']] = shelter_df[['Breed1', 'Breed2', 'Breed3']]\n",
    "EDA_shelter_df.head()"
   ]
  },
  {
   "cell_type": "code",
   "execution_count": 77,
   "id": "2b626274",
   "metadata": {},
   "outputs": [],
   "source": [
    "#drop the categorical rows now that we have the dummies\n",
    "shelter_df.drop(['Breed_intake', 'Breed1', 'Breed2', 'Breed3', 'other_breeds'], axis = 1, inplace=True)"
   ]
  },
  {
   "cell_type": "code",
   "execution_count": 78,
   "id": "c41e766a",
   "metadata": {},
   "outputs": [
    {
     "name": "stdout",
     "output_type": "stream",
     "text": [
      "<class 'pandas.core.frame.DataFrame'>\n",
      "Index: 30042 entries, A683644 to A746072\n",
      "Data columns (total 53 columns):\n",
      " #   Column            Non-Null Count  Dtype         \n",
      "---  ------            --------------  -----         \n",
      " 0   Name_intake       24606 non-null  object        \n",
      " 1   DateTime_intake   30042 non-null  datetime64[ns]\n",
      " 2   Found_Location    30042 non-null  object        \n",
      " 3   Intake_Type       30042 non-null  object        \n",
      " 4   IntakeCondition   30042 non-null  object        \n",
      " 5   Sex               30041 non-null  object        \n",
      " 6   Age               30042 non-null  object        \n",
      " 7   Color_intake      30042 non-null  object        \n",
      " 8   DateTime_outcome  30042 non-null  datetime64[ns]\n",
      " 9   Outcome_Type      30041 non-null  object        \n",
      " 10  Outcome_Subtype   10152 non-null  object        \n",
      " 11  Sex_upon_Outcome  30040 non-null  object        \n",
      " 12  Age_upon_Outcome  30041 non-null  object        \n",
      " 13  gender_intake     29884 non-null  object        \n",
      " 14  gender_outcome    29883 non-null  object        \n",
      " 15  fixed_intake      30041 non-null  object        \n",
      " 16  fixed_outcome     30040 non-null  object        \n",
      " 17  fixed_changed     30042 non-null  object        \n",
      " 18  Age_Bucket        30042 non-null  object        \n",
      " 19  retriever         30042 non-null  int32         \n",
      " 20  shepherd          30042 non-null  int32         \n",
      " 21  beagle            30042 non-null  int32         \n",
      " 22  terrier           30042 non-null  int32         \n",
      " 23  boxer             30042 non-null  int32         \n",
      " 24  poodle            30042 non-null  int32         \n",
      " 25  rottweiler        30042 non-null  int32         \n",
      " 26  dachshund         30042 non-null  int32         \n",
      " 27  chihuahua         30042 non-null  int32         \n",
      " 28  pit bull          30042 non-null  int32         \n",
      " 29  DateTime_length   30042 non-null  int64         \n",
      " 30  Date of Birth     30042 non-null  datetime64[ns]\n",
      " 31  cattle dog        30042 non-null  int32         \n",
      " 32  collie            30042 non-null  int32         \n",
      " 33  catahoula         30042 non-null  int32         \n",
      " 34  schnauzer         30042 non-null  int32         \n",
      " 35  husky             30042 non-null  int32         \n",
      " 36  pyrenees          30042 non-null  int32         \n",
      " 37  shih tzu          30042 non-null  int32         \n",
      " 38  pointer           30042 non-null  int32         \n",
      " 39  bulldog           30042 non-null  int32         \n",
      " 40  kelpie            30042 non-null  int32         \n",
      " 41  black mouth cur   30042 non-null  int32         \n",
      " 42  hound             30042 non-null  int32         \n",
      " 43  heeler            30042 non-null  int32         \n",
      " 44  pinscher          30042 non-null  int32         \n",
      " 45  maltese           30042 non-null  int32         \n",
      " 46  chow              30042 non-null  int32         \n",
      " 47  pug               30042 non-null  int32         \n",
      " 48  lhasa apso        30042 non-null  int32         \n",
      " 49  pomeranian        30042 non-null  int32         \n",
      " 50  corgi             30042 non-null  int32         \n",
      " 51  spaniel           30042 non-null  int32         \n",
      " 52  blue lacy         30042 non-null  int32         \n",
      "dtypes: datetime64[ns](3), int32(32), int64(1), object(17)\n",
      "memory usage: 9.7+ MB\n"
     ]
    }
   ],
   "source": [
    "shelter_df[['retriever', 'shepherd', 'beagle', 'terrier', 'boxer', 'poodle', 'rottweiler', 'dachshund', 'chihuahua', \n",
    "            'pit bull', 'cattle dog', 'collie', 'catahoula', 'schnauzer', 'husky', 'pyrenees', 'shih tzu', 'pointer', \n",
    "            'bulldog', 'kelpie', 'black mouth cur', 'hound','heeler', 'pinscher', 'maltese', 'chow', \n",
    "            'pug', 'lhasa apso', 'pomeranian', 'corgi', 'spaniel', 'blue lacy']] = shelter_df[['retriever', 'shepherd', \n",
    "                                        'beagle', 'terrier', 'boxer', 'poodle', 'rottweiler', 'dachshund', 'chihuahua', \n",
    "                                        'pit bull', 'cattle dog', 'collie', 'catahoula', 'schnauzer', 'husky', 'pyrenees', \n",
    "                                        'shih tzu', 'pointer', 'bulldog', 'kelpie', 'black mouth cur', 'hound','heeler',\n",
    "                                        'pinscher', 'maltese', 'chow', 'pug', 'lhasa apso', 'pomeranian',\n",
    "                                        'corgi', 'spaniel', 'blue lacy']].astype(int)\n",
    "shelter_df.info()"
   ]
  },
  {
   "cell_type": "markdown",
   "id": "696479ca",
   "metadata": {},
   "source": [
    "Now that the extra breed columns have been deleted. I will check that the function worked properly and all dummies have at most a 1 in them. "
   ]
  },
  {
   "cell_type": "code",
   "execution_count": 79,
   "id": "3b003e04",
   "metadata": {},
   "outputs": [
    {
     "name": "stdout",
     "output_type": "stream",
     "text": [
      "[0 1]\n",
      "[0 1]\n",
      "[0 1]\n",
      "[0 1]\n",
      "[0 1]\n",
      "[0 1]\n",
      "[0 1]\n",
      "[0 1]\n",
      "[0 1]\n",
      "[0 1]\n",
      "[0 1]\n",
      "[1 0]\n",
      "[0 1]\n",
      "[0 1]\n",
      "[0 1]\n",
      "[0 1]\n",
      "[0 1]\n",
      "[0 1]\n",
      "[0 1]\n",
      "[0 1]\n",
      "[0 1]\n",
      "[0 1]\n",
      "[0 1]\n",
      "[0 1]\n",
      "[0 1]\n",
      "[0 1]\n",
      "[0 1]\n",
      "[0 1]\n",
      "[0 1]\n",
      "[0 1]\n",
      "[0 1]\n",
      "[0 1]\n"
     ]
    }
   ],
   "source": [
    "for column in shelter_df[['retriever', 'shepherd', 'beagle', 'terrier', 'boxer', 'poodle', 'rottweiler', 'dachshund', \n",
    "                          'chihuahua', 'pit bull', 'cattle dog', 'collie', 'catahoula', 'schnauzer', 'husky', 'pyrenees', \n",
    "                          'shih tzu', 'pointer', 'bulldog', 'kelpie', 'black mouth cur', 'hound', 'heeler', \n",
    "                          'pinscher', 'maltese', 'chow', 'pug', 'lhasa apso', 'pomeranian', 'corgi', 'spaniel', \n",
    "                          'blue lacy']]:\n",
    "    print(shelter_df[column].unique())"
   ]
  },
  {
   "cell_type": "markdown",
   "id": "a4613c3c",
   "metadata": {},
   "source": [
    "Perfect, all dummy variable columns are binary and I will move on to cleaning the dog's coat color next. "
   ]
  },
  {
   "cell_type": "markdown",
   "id": "4e3e81d9",
   "metadata": {},
   "source": [
    "## Coat Color\n",
    "<a class=\"anchor\" id=\"color\"></a>\n",
    "\n",
    "Just as many people adopt a dog based on their breed, many people are partial to a specific coat color within that breed. Since this information is present in the data, it might be worth while to OneHotEncode the coat colors, similar to how I did with the breeds above. First I will start with understanding how the color data is stored in the cells.  "
   ]
  },
  {
   "cell_type": "code",
   "execution_count": 80,
   "id": "6c7cd6a7",
   "metadata": {},
   "outputs": [
    {
     "data": {
      "text/html": [
       "<div>\n",
       "<style scoped>\n",
       "    .dataframe tbody tr th:only-of-type {\n",
       "        vertical-align: middle;\n",
       "    }\n",
       "\n",
       "    .dataframe tbody tr th {\n",
       "        vertical-align: top;\n",
       "    }\n",
       "\n",
       "    .dataframe thead th {\n",
       "        text-align: right;\n",
       "    }\n",
       "</style>\n",
       "<table border=\"1\" class=\"dataframe\">\n",
       "  <thead>\n",
       "    <tr style=\"text-align: right;\">\n",
       "      <th></th>\n",
       "      <th>0</th>\n",
       "    </tr>\n",
       "  </thead>\n",
       "  <tbody>\n",
       "    <tr>\n",
       "      <th>0</th>\n",
       "      <td>Brown/White</td>\n",
       "    </tr>\n",
       "    <tr>\n",
       "      <th>1</th>\n",
       "      <td>White/Brown</td>\n",
       "    </tr>\n",
       "    <tr>\n",
       "      <th>2</th>\n",
       "      <td>Sable/Cream</td>\n",
       "    </tr>\n",
       "    <tr>\n",
       "      <th>3</th>\n",
       "      <td>Blue</td>\n",
       "    </tr>\n",
       "    <tr>\n",
       "      <th>4</th>\n",
       "      <td>Brown/Tan</td>\n",
       "    </tr>\n",
       "    <tr>\n",
       "      <th>...</th>\n",
       "      <td>...</td>\n",
       "    </tr>\n",
       "    <tr>\n",
       "      <th>312</th>\n",
       "      <td>Red Tick/Brown Merle</td>\n",
       "    </tr>\n",
       "    <tr>\n",
       "      <th>313</th>\n",
       "      <td>Sable/Red Merle</td>\n",
       "    </tr>\n",
       "    <tr>\n",
       "      <th>314</th>\n",
       "      <td>Blue Smoke/White</td>\n",
       "    </tr>\n",
       "    <tr>\n",
       "      <th>315</th>\n",
       "      <td>Cream/Silver</td>\n",
       "    </tr>\n",
       "    <tr>\n",
       "      <th>316</th>\n",
       "      <td>Cream/Yellow</td>\n",
       "    </tr>\n",
       "  </tbody>\n",
       "</table>\n",
       "<p>317 rows × 1 columns</p>\n",
       "</div>"
      ],
      "text/plain": [
       "                        0\n",
       "0             Brown/White\n",
       "1             White/Brown\n",
       "2             Sable/Cream\n",
       "3                    Blue\n",
       "4               Brown/Tan\n",
       "..                    ...\n",
       "312  Red Tick/Brown Merle\n",
       "313       Sable/Red Merle\n",
       "314      Blue Smoke/White\n",
       "315          Cream/Silver\n",
       "316          Cream/Yellow\n",
       "\n",
       "[317 rows x 1 columns]"
      ]
     },
     "execution_count": 80,
     "metadata": {},
     "output_type": "execute_result"
    }
   ],
   "source": [
    "#how is the data stored in the cells\n",
    "pd.DataFrame(shelter_df['Color_intake'].unique())"
   ]
  },
  {
   "cell_type": "code",
   "execution_count": 81,
   "id": "d670995d",
   "metadata": {},
   "outputs": [
    {
     "data": {
      "text/plain": [
       "Black/White            3353\n",
       "Black                  1673\n",
       "White                  1613\n",
       "Brown/White            1568\n",
       "Tan/White              1566\n",
       "Tricolor               1427\n",
       "Tan                    1340\n",
       "Black/Tan              1296\n",
       "Brown                  1207\n",
       "White/Brown             996\n",
       "White/Black             987\n",
       "Black/Brown             874\n",
       "Brown Brindle/White     847\n",
       "Blue/White              784\n",
       "White/Tan               754\n",
       "Brown/Black             669\n",
       "Red                     647\n",
       "Red/White               613\n",
       "Brown Brindle           490\n",
       "Tan/Black               395\n",
       "Name: Color_intake, dtype: int64"
      ]
     },
     "execution_count": 81,
     "metadata": {},
     "output_type": "execute_result"
    }
   ],
   "source": [
    "shelter_df['Color_intake'].value_counts().head(20)"
   ]
  },
  {
   "cell_type": "markdown",
   "id": "3bfe228a",
   "metadata": {},
   "source": [
    "It looks like coat color is stored the same way breed was, so I can use the same process to clean this data. I will start by splitting the colors into 2 columns and creating dummy variables for all of the unique  colors represented in the top 20 most common coat colors in this df which are:\n",
    "* Black\n",
    "* White\n",
    "* Brown\n",
    "* Tan\n",
    "* Tricolor\n",
    "* Brindle\n",
    "* Blue\n",
    "* Red\n",
    "* Chocolate"
   ]
  },
  {
   "cell_type": "code",
   "execution_count": 82,
   "id": "5c77a9ef",
   "metadata": {},
   "outputs": [
    {
     "data": {
      "text/plain": [
       "Black            7569\n",
       "White            5262\n",
       "Brown            3680\n",
       "Tan              3491\n",
       "Tricolor         1509\n",
       "Red              1495\n",
       "Brown Brindle    1377\n",
       "Blue             1028\n",
       "Chocolate         798\n",
       "Sable             582\n",
       "Name: Color1, dtype: int64"
      ]
     },
     "execution_count": 82,
     "metadata": {},
     "output_type": "execute_result"
    }
   ],
   "source": [
    "#spliting up the color entries with multiple colors seperated by a slash\n",
    "shelter_df[['Color1', 'Color2']] = shelter_df.Color_intake.str.split(\"/\", expand=True)\n",
    "shelter_df['Color1'].value_counts().head(10)"
   ]
  },
  {
   "cell_type": "markdown",
   "id": "4e357e8d",
   "metadata": {},
   "source": [
    "It looks like the top 10 colors in the first coat color split column agree with the top 10 most common among the unsplit data. There was an addition of the color sable, so I will also create a dummy variable for this color. "
   ]
  },
  {
   "cell_type": "code",
   "execution_count": 83,
   "id": "ae4463b2",
   "metadata": {},
   "outputs": [
    {
     "data": {
      "text/plain": [
       "Color1        0\n",
       "Color2    10927\n",
       "dtype: int64"
      ]
     },
     "execution_count": 83,
     "metadata": {},
     "output_type": "execute_result"
    }
   ],
   "source": [
    "#check to make sure the first split column doesn't have any NaNs\n",
    "shelter_df[['Color1', 'Color2']].isna().sum()"
   ]
  },
  {
   "cell_type": "code",
   "execution_count": 84,
   "id": "7d8c5299",
   "metadata": {},
   "outputs": [],
   "source": [
    "#doing the same thing for color we did for breed because of multiselect\n",
    "#creating dummy columns for the most popular colors\n",
    "columns_to_add=['black', 'white', 'brown', 'tan', 'tricolor', 'brindle', 'blue', 'red', 'chocolate', 'sable', \n",
    "                'other_color']\n",
    "\n",
    "for i in range(len(columns_to_add)):\n",
    "    shelter_df[columns_to_add[i]] = [0]*30042"
   ]
  },
  {
   "cell_type": "code",
   "execution_count": 85,
   "id": "2a419120",
   "metadata": {},
   "outputs": [],
   "source": [
    "#filtering through the columns to make dummies for the colors, not mutually exclusive\n",
    "def color_dummies(df, column):    \n",
    "    for i , row in enumerate(df.values):\n",
    "\n",
    "        # loop over the nulls\n",
    "        if pd.isnull(column[i]) :\n",
    "            pass\n",
    "\n",
    "        \n",
    "        #top 10 most common colors\n",
    "        elif re.findall(r\"([B|b]lack)\", column[i]):\n",
    "            if df['black'][i] == 0:\n",
    "                df['black'][i] += 1\n",
    "                \n",
    "        elif re.findall(r\"([W|w]hite)\", column[i]):\n",
    "            if df['white'][i] == 0:\n",
    "                df['white'][i] += 1\n",
    "                \n",
    "        elif re.findall(r\"([B|b]rown)\", column[i]):\n",
    "            if df['brown'][i] == 0:\n",
    "                df['brown'][i] += 1\n",
    "                \n",
    "        elif re.findall(r\"([T|t]an)\", column[i]):\n",
    "            if df['tan'][i] == 0:\n",
    "                df['tan'][i] += 1\n",
    "                \n",
    "        elif re.findall(r\"([T|t]ricolor)\", column[i]):\n",
    "            if df['tricolor'][i] == 0:\n",
    "                df['tricolor'][i] += 1\n",
    "                \n",
    "        elif re.findall(r\"([B|b]rindle)\", column[i]):\n",
    "            if df['brindle'][i] == 0:\n",
    "                df['brindle'][i] += 1\n",
    "                \n",
    "        elif re.findall(r\"([B|b]lue)\", column[i]):\n",
    "            if df['blue'][i] == 0:\n",
    "                df['blue'][i] += 1\n",
    "                \n",
    "        elif re.findall(r\"([R|r]ed)\", column[i]):\n",
    "            if df['red'][i] == 0:\n",
    "                df['red'][i] += 1\n",
    "                \n",
    "        elif re.findall(r\"([C|c]hocolate)\", column[i]):\n",
    "            if df['chocolate'][i] == 0:\n",
    "                df['chocolate'][i] += 1\n",
    "            \n",
    "        elif re.findall(r\"([S|s]able)\", column[i]):\n",
    "            if df['sable'][i] == 0:\n",
    "                df['sable'][i] += 1\n",
    "                \n",
    "\n",
    "        else:\n",
    "            if df['other_color'][i] == 0:\n",
    "                df['other_color'][i] += 1\n"
   ]
  },
  {
   "cell_type": "code",
   "execution_count": 86,
   "id": "b5e237c9",
   "metadata": {},
   "outputs": [
    {
     "data": {
      "text/plain": [
       "black          0\n",
       "white          0\n",
       "brown          0\n",
       "tan            0\n",
       "tricolor       0\n",
       "brindle        0\n",
       "blue           0\n",
       "red            0\n",
       "chocolate      0\n",
       "sable          0\n",
       "other_color    0\n",
       "dtype: int64"
      ]
     },
     "execution_count": 86,
     "metadata": {},
     "output_type": "execute_result"
    }
   ],
   "source": [
    "#make sure the columns were created correctly\n",
    "shelter_df[['black', 'white', 'brown', 'tan', 'tricolor', 'brindle', 'blue', 'red', 'chocolate', 'sable', \n",
    "                'other_color']].sum()"
   ]
  },
  {
   "cell_type": "code",
   "execution_count": 87,
   "id": "ff29056c",
   "metadata": {},
   "outputs": [],
   "source": [
    "#run the first split column through the function\n",
    "color_dummies(shelter_df, shelter_df['Color1'])"
   ]
  },
  {
   "cell_type": "code",
   "execution_count": 88,
   "id": "51d5a01d",
   "metadata": {},
   "outputs": [],
   "source": [
    "#run the second split column through the function\n",
    "color_dummies(shelter_df, shelter_df['Color2'])"
   ]
  },
  {
   "cell_type": "code",
   "execution_count": 89,
   "id": "84eec4b9",
   "metadata": {},
   "outputs": [
    {
     "data": {
      "text/plain": [
       "black          10167\n",
       "white          15598\n",
       "brown           7523\n",
       "tan             6141\n",
       "tricolor        1702\n",
       "brindle           67\n",
       "blue            1635\n",
       "red             1859\n",
       "chocolate        873\n",
       "sable            582\n",
       "other_color     2866\n",
       "dtype: int64"
      ]
     },
     "execution_count": 89,
     "metadata": {},
     "output_type": "execute_result"
    }
   ],
   "source": [
    "#Check to see if the function worked as intended\n",
    "shelter_df[['black', 'white', 'brown', 'tan', 'tricolor', 'brindle', 'blue', 'red', 'chocolate', 'sable', \n",
    "                'other_color']].sum()"
   ]
  },
  {
   "cell_type": "code",
   "execution_count": 90,
   "id": "6cf387a6",
   "metadata": {},
   "outputs": [
    {
     "data": {
      "text/plain": [
       "\"There are 2866 dogs with coat colors in the 'other_color' class, this is 9.54% of dogs in this dataset.\""
      ]
     },
     "execution_count": 90,
     "metadata": {},
     "output_type": "execute_result"
    }
   ],
   "source": [
    "f\"There are 2866 dogs with coat colors in the 'other_color' class, this is {round(2866/30042*100, 2)}% of dogs in this dataset.\""
   ]
  },
  {
   "cell_type": "markdown",
   "id": "0cbad610",
   "metadata": {},
   "source": [
    "Continuing with the same heuristic, I feel comfortable using these top 10 colors and dropping the color columns since the 'other_color' class is less than 10% of the dogs in the dataset. First I will save the split color columns to the EDA df and then delete all color columns that aren't OneHotEncoded from the shelter df. "
   ]
  },
  {
   "cell_type": "code",
   "execution_count": 91,
   "id": "fc14119c",
   "metadata": {},
   "outputs": [
    {
     "name": "stdout",
     "output_type": "stream",
     "text": [
      "<class 'pandas.core.frame.DataFrame'>\n",
      "Index: 30042 entries, A683644 to A746072\n",
      "Data columns (total 22 columns):\n",
      " #   Column           Non-Null Count  Dtype         \n",
      "---  ------           --------------  -----         \n",
      " 0   Name_intake      24606 non-null  object        \n",
      " 1   Found_Location   30042 non-null  object        \n",
      " 2   Intake_Type      30042 non-null  object        \n",
      " 3   IntakeCondition  30042 non-null  object        \n",
      " 4   Outcome_Type     30041 non-null  object        \n",
      " 5   Outcome_Subtype  10152 non-null  object        \n",
      " 6   gender_intake    29884 non-null  object        \n",
      " 7   fixed_changed    30042 non-null  object        \n",
      " 8   fixed_intake     30041 non-null  object        \n",
      " 9   fixed_outcome    30040 non-null  object        \n",
      " 10  Breed_intake     30042 non-null  object        \n",
      " 11  Color_intake     30042 non-null  object        \n",
      " 12  Date of Birth    30042 non-null  datetime64[ns]\n",
      " 13  Age_Bucket       30042 non-null  object        \n",
      " 14  Days_length      30042 non-null  object        \n",
      " 15  intake_date      30042 non-null  datetime64[ns]\n",
      " 16  outcome_date     30042 non-null  datetime64[ns]\n",
      " 17  Breed1           30042 non-null  object        \n",
      " 18  Breed2           5144 non-null   object        \n",
      " 19  Breed3           19 non-null     object        \n",
      " 20  Color1           30042 non-null  object        \n",
      " 21  Color2           19115 non-null  object        \n",
      "dtypes: datetime64[ns](3), object(19)\n",
      "memory usage: 6.3+ MB\n"
     ]
    }
   ],
   "source": [
    "#add the split color columns to the EDA df before dropping them\n",
    "EDA_shelter_df[['Color1', 'Color2']] = shelter_df[['Color1', 'Color2']]\n",
    "EDA_shelter_df.info()"
   ]
  },
  {
   "cell_type": "code",
   "execution_count": 92,
   "id": "7a767906",
   "metadata": {},
   "outputs": [],
   "source": [
    "#can drop the categorical columns and 'other_color' column now that we have already dummified the data\n",
    "shelter_df.drop(['Color_intake', 'Color1', 'Color2', 'other_color'], axis=1, inplace=True)"
   ]
  },
  {
   "cell_type": "code",
   "execution_count": 93,
   "id": "4bc75df0",
   "metadata": {
    "scrolled": true
   },
   "outputs": [
    {
     "name": "stdout",
     "output_type": "stream",
     "text": [
      "<class 'pandas.core.frame.DataFrame'>\n",
      "Index: 30042 entries, A683644 to A746072\n",
      "Data columns (total 62 columns):\n",
      " #   Column            Non-Null Count  Dtype         \n",
      "---  ------            --------------  -----         \n",
      " 0   Name_intake       24606 non-null  object        \n",
      " 1   DateTime_intake   30042 non-null  datetime64[ns]\n",
      " 2   Found_Location    30042 non-null  object        \n",
      " 3   Intake_Type       30042 non-null  object        \n",
      " 4   IntakeCondition   30042 non-null  object        \n",
      " 5   Sex               30041 non-null  object        \n",
      " 6   Age               30042 non-null  object        \n",
      " 7   DateTime_outcome  30042 non-null  datetime64[ns]\n",
      " 8   Outcome_Type      30041 non-null  object        \n",
      " 9   Outcome_Subtype   10152 non-null  object        \n",
      " 10  Sex_upon_Outcome  30040 non-null  object        \n",
      " 11  Age_upon_Outcome  30041 non-null  object        \n",
      " 12  gender_intake     29884 non-null  object        \n",
      " 13  gender_outcome    29883 non-null  object        \n",
      " 14  fixed_intake      30041 non-null  object        \n",
      " 15  fixed_outcome     30040 non-null  object        \n",
      " 16  fixed_changed     30042 non-null  object        \n",
      " 17  Age_Bucket        30042 non-null  object        \n",
      " 18  retriever         30042 non-null  int32         \n",
      " 19  shepherd          30042 non-null  int32         \n",
      " 20  beagle            30042 non-null  int32         \n",
      " 21  terrier           30042 non-null  int32         \n",
      " 22  boxer             30042 non-null  int32         \n",
      " 23  poodle            30042 non-null  int32         \n",
      " 24  rottweiler        30042 non-null  int32         \n",
      " 25  dachshund         30042 non-null  int32         \n",
      " 26  chihuahua         30042 non-null  int32         \n",
      " 27  pit bull          30042 non-null  int32         \n",
      " 28  DateTime_length   30042 non-null  int64         \n",
      " 29  Date of Birth     30042 non-null  datetime64[ns]\n",
      " 30  cattle dog        30042 non-null  int32         \n",
      " 31  collie            30042 non-null  int32         \n",
      " 32  catahoula         30042 non-null  int32         \n",
      " 33  schnauzer         30042 non-null  int32         \n",
      " 34  husky             30042 non-null  int32         \n",
      " 35  pyrenees          30042 non-null  int32         \n",
      " 36  shih tzu          30042 non-null  int32         \n",
      " 37  pointer           30042 non-null  int32         \n",
      " 38  bulldog           30042 non-null  int32         \n",
      " 39  kelpie            30042 non-null  int32         \n",
      " 40  black mouth cur   30042 non-null  int32         \n",
      " 41  hound             30042 non-null  int32         \n",
      " 42  heeler            30042 non-null  int32         \n",
      " 43  pinscher          30042 non-null  int32         \n",
      " 44  maltese           30042 non-null  int32         \n",
      " 45  chow              30042 non-null  int32         \n",
      " 46  pug               30042 non-null  int32         \n",
      " 47  lhasa apso        30042 non-null  int32         \n",
      " 48  pomeranian        30042 non-null  int32         \n",
      " 49  corgi             30042 non-null  int32         \n",
      " 50  spaniel           30042 non-null  int32         \n",
      " 51  blue lacy         30042 non-null  int32         \n",
      " 52  black             30042 non-null  int64         \n",
      " 53  white             30042 non-null  int64         \n",
      " 54  brown             30042 non-null  int64         \n",
      " 55  tan               30042 non-null  int64         \n",
      " 56  tricolor          30042 non-null  int64         \n",
      " 57  brindle           30042 non-null  int64         \n",
      " 58  blue              30042 non-null  int64         \n",
      " 59  red               30042 non-null  int64         \n",
      " 60  chocolate         30042 non-null  int64         \n",
      " 61  sable             30042 non-null  int64         \n",
      "dtypes: datetime64[ns](3), int32(32), int64(11), object(16)\n",
      "memory usage: 11.8+ MB\n"
     ]
    }
   ],
   "source": [
    "#making sure the columns dropped properly\n",
    "shelter_df.info()"
   ]
  },
  {
   "cell_type": "markdown",
   "id": "68910764",
   "metadata": {},
   "source": [
    "Lastly, I need to confirm that the function worked properly and that the OneHotEncoded columns are all binary. "
   ]
  },
  {
   "cell_type": "code",
   "execution_count": 94,
   "id": "c811edfa",
   "metadata": {},
   "outputs": [
    {
     "name": "stdout",
     "output_type": "stream",
     "text": [
      "[0 1]\n",
      "[1 0]\n",
      "[1 0]\n",
      "[0 1]\n",
      "[0 1]\n",
      "[0 1]\n",
      "[0 1]\n",
      "[0 1]\n",
      "[0 1]\n",
      "[0 1]\n"
     ]
    }
   ],
   "source": [
    "# checking that dummies did not get duplicated on accident, should all be boolean\n",
    "for column in shelter_df[['black', 'white', 'brown', 'tan', 'tricolor', 'brindle', 'blue', 'red', 'chocolate', 'sable']]:\n",
    "    print(shelter_df[column].unique())"
   ]
  },
  {
   "cell_type": "markdown",
   "id": "382bc5ea",
   "metadata": {},
   "source": [
    "Perfect, they are all binary and I can move on to cleaning the age column. "
   ]
  },
  {
   "cell_type": "markdown",
   "id": "27b42df1",
   "metadata": {},
   "source": [
    "## Age\n",
    "<a class=\"anchor\" id=\"age\"></a>\n",
    "\n",
    "Right now, the age column is an object type, but it should be able to be an int or float. I will dig into this column and determine the best plan to clean this data. "
   ]
  },
  {
   "cell_type": "code",
   "execution_count": 95,
   "id": "f6de46d8",
   "metadata": {},
   "outputs": [
    {
     "data": {
      "text/plain": [
       "array(['4 weeks', '2 months', '2 years', '5 months', '3 months',\n",
       "       '3 years', '1 year', '10 months', '9 years', '4 years', '5 years',\n",
       "       '7 years', '11 months', '7 months', '8 years', '1 month',\n",
       "       '6 years', '13 years', '4 months', '9 months', '11 years',\n",
       "       '10 years', '14 years', '2 weeks', '1 week', '3 weeks', '6 months',\n",
       "       '0 years', '8 months', '2 days', '1 weeks', '6 days', '12 years',\n",
       "       '1 day', '16 years', '15 years', '3 days', '17 years', '5 weeks',\n",
       "       '5 days', '18 years', '4 days', '19 years', '20 years'],\n",
       "      dtype=object)"
      ]
     },
     "execution_count": 95,
     "metadata": {},
     "output_type": "execute_result"
    }
   ],
   "source": [
    "#what does the data in this column look like?\n",
    "shelter_df['Age'].unique()"
   ]
  },
  {
   "cell_type": "code",
   "execution_count": 96,
   "id": "a7125fd4",
   "metadata": {},
   "outputs": [
    {
     "data": {
      "text/plain": [
       "1 year       5641\n",
       "2 years      5200\n",
       "3 years      2575\n",
       "1 month      1792\n",
       "4 years      1514\n",
       "5 years      1415\n",
       "2 months     1346\n",
       "6 years       983\n",
       "4 months      817\n",
       "7 years       804\n",
       "5 months      780\n",
       "8 years       721\n",
       "3 months      624\n",
       "9 months      604\n",
       "10 years      580\n",
       "6 months      564\n",
       "7 months      495\n",
       "9 years       445\n",
       "8 months      401\n",
       "10 months     350\n",
       "12 years      310\n",
       "11 months     264\n",
       "4 weeks       229\n",
       "11 years      226\n",
       "13 years      186\n",
       "0 years       161\n",
       "14 years      130\n",
       "1 week        124\n",
       "15 years      105\n",
       "2 weeks        91\n",
       "1 day          88\n",
       "3 weeks        83\n",
       "1 weeks        61\n",
       "16 years       57\n",
       "4 days         54\n",
       "2 days         53\n",
       "3 days         44\n",
       "5 weeks        32\n",
       "5 days         29\n",
       "6 days         28\n",
       "17 years       20\n",
       "18 years        9\n",
       "19 years        6\n",
       "20 years        1\n",
       "Name: Age, dtype: int64"
      ]
     },
     "execution_count": 96,
     "metadata": {},
     "output_type": "execute_result"
    }
   ],
   "source": [
    "shelter_df['Age'].value_counts()"
   ]
  },
  {
   "cell_type": "markdown",
   "id": "32c9ae9f",
   "metadata": {},
   "source": [
    "Since the ages are entered in terms of different units (days, weeks, months, years), I will choose to calculate ages in months because the puppies will not have too small of fractions in this representation and the elder dogs will not have too large of ages also. I will do this conversion using a function that reads in the unit and the number and converts it accordingly to age in months (int). "
   ]
  },
  {
   "cell_type": "code",
   "execution_count": 97,
   "id": "3a9568a9",
   "metadata": {},
   "outputs": [],
   "source": [
    "# creates a mapper to convert all ages to months\n",
    "# assosiating each age in months with an index so it can be mapped into the same column\n",
    "\n",
    "def age_to_int(age, num, unit):\n",
    "    age_in_months = {}\n",
    "    \n",
    "    for i in range(len(num)):\n",
    "    \n",
    "        if (unit[i] == 0):\n",
    "            age_in_months[age[i]]=0\n",
    "            #assuming only newborns were labeled 0 anything\n",
    "        elif (unit[i] == 'day' )| (unit[i] == 'days'):\n",
    "            age_in_months[age[i]]=round(num[i]/30, 2)\n",
    "            #assuming 30 days in a month\n",
    "        elif (unit[i] == 'week') | (unit[i] == 'weeks'):\n",
    "            age_in_months[age[i]]=round(num[i]/4.3, 2)\n",
    "            #assuming 4.3 weeks in a month\n",
    "        elif (unit[i] == 'month') | (unit[i] == 'months'):\n",
    "            age_in_months[age[i]]= num[i]\n",
    "            #using month as our standard unit for this function\n",
    "        elif (unit[i] == 'year') | (unit[i] == 'years'):\n",
    "            age_in_months[age[i]]=num[i]*12\n",
    "            #12 months in a year\n",
    "            #this function doesn't miss any rows as checked by an else statement\n",
    "        else:\n",
    "            age_in_months[age[i]]='invalid age'\n",
    "            #this function doesn't miss any rows as checked by an else statement\n",
    "        \n",
    "    return age_in_months"
   ]
  },
  {
   "cell_type": "markdown",
   "id": "f48e912c",
   "metadata": {},
   "source": [
    "Now that I have a function to convert the ages, I will extract the age number and age unit from the age column"
   ]
  },
  {
   "cell_type": "code",
   "execution_count": 98,
   "id": "509c68a8",
   "metadata": {},
   "outputs": [],
   "source": [
    "#splitting the age into num and unit to run through the function above\n",
    "num = shelter_df['Age'].str.extract(r'([0-9]{,2})', expand=False)\n",
    "num = num.astype(int)\n",
    "unit = shelter_df['Age'].str.extract(r'([A-z]{,6}$)', expand=False)\n"
   ]
  },
  {
   "cell_type": "markdown",
   "id": "4dc3ab3f",
   "metadata": {},
   "source": [
    "With those pieces, I can create a mapper using the function I create above and use it to write over the old age entries. "
   ]
  },
  {
   "cell_type": "code",
   "execution_count": 99,
   "id": "71aabf67",
   "metadata": {},
   "outputs": [],
   "source": [
    "#this will create a map that I can use to map the old ages to the new ages in months\n",
    "ages = age_to_int(shelter_df['Age'],num,unit)"
   ]
  },
  {
   "cell_type": "code",
   "execution_count": 100,
   "id": "68ae7e9f",
   "metadata": {},
   "outputs": [
    {
     "data": {
      "text/plain": [
       "Animal ID\n",
       "A683644     0.93\n",
       "A676515     2.00\n",
       "A742953    24.00\n",
       "A692161     5.00\n",
       "A720597    24.00\n",
       "           ...  \n",
       "A746624    72.00\n",
       "A746460     2.00\n",
       "A746689    24.00\n",
       "A746466     2.00\n",
       "A746072    24.00\n",
       "Name: Age, Length: 30042, dtype: float64"
      ]
     },
     "execution_count": 100,
     "metadata": {},
     "output_type": "execute_result"
    }
   ],
   "source": [
    "#use the dictionary to map the ages in months over the object type ages\n",
    "shelter_df['Age'].map(ages)"
   ]
  },
  {
   "cell_type": "code",
   "execution_count": 101,
   "id": "01c01e26",
   "metadata": {},
   "outputs": [
    {
     "data": {
      "text/plain": [
       "Animal ID\n",
       "A683644     0.93\n",
       "A676515     2.00\n",
       "A742953    24.00\n",
       "A692161     5.00\n",
       "A720597    24.00\n",
       "           ...  \n",
       "A746624    72.00\n",
       "A746460     2.00\n",
       "A746689    24.00\n",
       "A746466     2.00\n",
       "A746072    24.00\n",
       "Name: Age, Length: 30042, dtype: float64"
      ]
     },
     "execution_count": 101,
     "metadata": {},
     "output_type": "execute_result"
    }
   ],
   "source": [
    "#save the new ages in months in the age column\n",
    "shelter_df['Age'] = shelter_df['Age'].map(ages)\n",
    "shelter_df['Age']"
   ]
  },
  {
   "cell_type": "markdown",
   "id": "a2b67191",
   "metadata": {},
   "source": [
    "Since this column is cleaned, I will add it to the EDA df also. "
   ]
  },
  {
   "cell_type": "code",
   "execution_count": 102,
   "id": "499de8ef",
   "metadata": {},
   "outputs": [
    {
     "name": "stdout",
     "output_type": "stream",
     "text": [
      "<class 'pandas.core.frame.DataFrame'>\n",
      "Index: 30042 entries, A683644 to A746072\n",
      "Data columns (total 23 columns):\n",
      " #   Column           Non-Null Count  Dtype         \n",
      "---  ------           --------------  -----         \n",
      " 0   Name_intake      24606 non-null  object        \n",
      " 1   Found_Location   30042 non-null  object        \n",
      " 2   Intake_Type      30042 non-null  object        \n",
      " 3   IntakeCondition  30042 non-null  object        \n",
      " 4   Outcome_Type     30041 non-null  object        \n",
      " 5   Outcome_Subtype  10152 non-null  object        \n",
      " 6   gender_intake    29884 non-null  object        \n",
      " 7   fixed_changed    30042 non-null  object        \n",
      " 8   fixed_intake     30041 non-null  object        \n",
      " 9   fixed_outcome    30040 non-null  object        \n",
      " 10  Breed_intake     30042 non-null  object        \n",
      " 11  Color_intake     30042 non-null  object        \n",
      " 12  Date of Birth    30042 non-null  datetime64[ns]\n",
      " 13  Age_Bucket       30042 non-null  object        \n",
      " 14  Days_length      30042 non-null  object        \n",
      " 15  intake_date      30042 non-null  datetime64[ns]\n",
      " 16  outcome_date     30042 non-null  datetime64[ns]\n",
      " 17  Breed1           30042 non-null  object        \n",
      " 18  Breed2           5144 non-null   object        \n",
      " 19  Breed3           19 non-null     object        \n",
      " 20  Color1           30042 non-null  object        \n",
      " 21  Color2           19115 non-null  object        \n",
      " 22  age_months       30042 non-null  float64       \n",
      "dtypes: datetime64[ns](3), float64(1), object(19)\n",
      "memory usage: 6.5+ MB\n"
     ]
    }
   ],
   "source": [
    "EDA_shelter_df['age_months'] = shelter_df['Age']\n",
    "EDA_shelter_df.info()"
   ]
  },
  {
   "cell_type": "markdown",
   "id": "5d6fa13b",
   "metadata": {},
   "source": [
    "I will take a look at the 'Age_upon_Outcome' column and see if there is a need to do something similar to it. "
   ]
  },
  {
   "cell_type": "code",
   "execution_count": 103,
   "id": "7909e2a3",
   "metadata": {},
   "outputs": [
    {
     "data": {
      "text/plain": [
       "array(['4 months', '3 months', '2 years', '5 months', '3 years', '1 year',\n",
       "       '10 months', '9 years', '4 years', '5 years', '7 years',\n",
       "       '2 months', '8 months', '8 years', '1 month', '11 months',\n",
       "       '6 years', '13 years', '9 months', '11 years', '10 years',\n",
       "       '14 years', '6 months', '2 weeks', '1 weeks', '3 weeks',\n",
       "       '12 years', '7 months', '1 day', '6 days', '16 years', '15 years',\n",
       "       '4 weeks', '3 days', '2 days', '17 years', '0 years', '1 week',\n",
       "       '5 days', '18 years', '4 days', '5 weeks', nan, '19 years',\n",
       "       '20 years'], dtype=object)"
      ]
     },
     "execution_count": 103,
     "metadata": {},
     "output_type": "execute_result"
    }
   ],
   "source": [
    "#what does the data in this column look like\n",
    "shelter_df['Age_upon_Outcome'].unique()"
   ]
  },
  {
   "cell_type": "code",
   "execution_count": 104,
   "id": "810c950b",
   "metadata": {},
   "outputs": [
    {
     "data": {
      "text/plain": [
       "1 year       5725\n",
       "2 years      5195\n",
       "3 years      2624\n",
       "2 months     2378\n",
       "4 years      1538\n",
       "5 years      1420\n",
       "6 years       999\n",
       "1 month       977\n",
       "7 years       803\n",
       "8 years       768\n",
       "5 months      740\n",
       "4 months      738\n",
       "3 months      704\n",
       "6 months      676\n",
       "10 months     637\n",
       "10 years      598\n",
       "8 months      533\n",
       "9 years       436\n",
       "7 months      382\n",
       "12 years      323\n",
       "9 months      304\n",
       "11 months     251\n",
       "11 years      226\n",
       "13 years      195\n",
       "14 years      133\n",
       "2 weeks       108\n",
       "15 years      106\n",
       "4 weeks       101\n",
       "2 days         60\n",
       "16 years       57\n",
       "3 weeks        54\n",
       "1 weeks        50\n",
       "1 week         41\n",
       "6 days         32\n",
       "1 day          27\n",
       "0 years        22\n",
       "17 years       21\n",
       "3 days         14\n",
       "5 days         14\n",
       "18 years        9\n",
       "5 weeks         8\n",
       "4 days          7\n",
       "19 years        6\n",
       "20 years        1\n",
       "Name: Age_upon_Outcome, dtype: int64"
      ]
     },
     "execution_count": 104,
     "metadata": {},
     "output_type": "execute_result"
    }
   ],
   "source": [
    "#Which are the most common ages upon outcome\n",
    "shelter_df['Age_upon_Outcome'].value_counts()"
   ]
  },
  {
   "cell_type": "code",
   "execution_count": 105,
   "id": "fa53e5e3",
   "metadata": {},
   "outputs": [
    {
     "data": {
      "text/plain": [
       "1"
      ]
     },
     "execution_count": 105,
     "metadata": {},
     "output_type": "execute_result"
    }
   ],
   "source": [
    "#how many NaN are there\n",
    "shelter_df['Age_upon_Outcome'].isna().sum()"
   ]
  },
  {
   "cell_type": "markdown",
   "id": "806b520b",
   "metadata": {},
   "source": [
    "There is one NaN in this column. I will have a quick look into it and if it is an easy fix, I will fill it and continue cleaning the data like I did with the previous age column. "
   ]
  },
  {
   "cell_type": "code",
   "execution_count": 106,
   "id": "0934140e",
   "metadata": {},
   "outputs": [
    {
     "data": {
      "text/html": [
       "<div>\n",
       "<style scoped>\n",
       "    .dataframe tbody tr th:only-of-type {\n",
       "        vertical-align: middle;\n",
       "    }\n",
       "\n",
       "    .dataframe tbody tr th {\n",
       "        vertical-align: top;\n",
       "    }\n",
       "\n",
       "    .dataframe thead th {\n",
       "        text-align: right;\n",
       "    }\n",
       "</style>\n",
       "<table border=\"1\" class=\"dataframe\">\n",
       "  <thead>\n",
       "    <tr style=\"text-align: right;\">\n",
       "      <th></th>\n",
       "      <th>Name_intake</th>\n",
       "      <th>DateTime_intake</th>\n",
       "      <th>Found_Location</th>\n",
       "      <th>Intake_Type</th>\n",
       "      <th>IntakeCondition</th>\n",
       "      <th>Sex</th>\n",
       "      <th>Age</th>\n",
       "      <th>DateTime_outcome</th>\n",
       "      <th>Outcome_Type</th>\n",
       "      <th>Outcome_Subtype</th>\n",
       "      <th>...</th>\n",
       "      <th>black</th>\n",
       "      <th>white</th>\n",
       "      <th>brown</th>\n",
       "      <th>tan</th>\n",
       "      <th>tricolor</th>\n",
       "      <th>brindle</th>\n",
       "      <th>blue</th>\n",
       "      <th>red</th>\n",
       "      <th>chocolate</th>\n",
       "      <th>sable</th>\n",
       "    </tr>\n",
       "    <tr>\n",
       "      <th>Animal ID</th>\n",
       "      <th></th>\n",
       "      <th></th>\n",
       "      <th></th>\n",
       "      <th></th>\n",
       "      <th></th>\n",
       "      <th></th>\n",
       "      <th></th>\n",
       "      <th></th>\n",
       "      <th></th>\n",
       "      <th></th>\n",
       "      <th></th>\n",
       "      <th></th>\n",
       "      <th></th>\n",
       "      <th></th>\n",
       "      <th></th>\n",
       "      <th></th>\n",
       "      <th></th>\n",
       "      <th></th>\n",
       "      <th></th>\n",
       "      <th></th>\n",
       "      <th></th>\n",
       "    </tr>\n",
       "  </thead>\n",
       "  <tbody>\n",
       "    <tr>\n",
       "      <th>A737705</th>\n",
       "      <td>*Heddy</td>\n",
       "      <td>2016-11-02 20:15:00</td>\n",
       "      <td>1607 Barney in Austin (TX)</td>\n",
       "      <td>Stray</td>\n",
       "      <td>Normal</td>\n",
       "      <td>Intact Female</td>\n",
       "      <td>36.0</td>\n",
       "      <td>2016-11-19 16:35:00</td>\n",
       "      <td>NaN</td>\n",
       "      <td>NaN</td>\n",
       "      <td>...</td>\n",
       "      <td>1</td>\n",
       "      <td>1</td>\n",
       "      <td>0</td>\n",
       "      <td>0</td>\n",
       "      <td>0</td>\n",
       "      <td>0</td>\n",
       "      <td>0</td>\n",
       "      <td>0</td>\n",
       "      <td>0</td>\n",
       "      <td>0</td>\n",
       "    </tr>\n",
       "  </tbody>\n",
       "</table>\n",
       "<p>1 rows × 62 columns</p>\n",
       "</div>"
      ],
      "text/plain": [
       "          Name_intake     DateTime_intake              Found_Location  \\\n",
       "Animal ID                                                               \n",
       "A737705        *Heddy 2016-11-02 20:15:00  1607 Barney in Austin (TX)   \n",
       "\n",
       "          Intake_Type IntakeCondition            Sex   Age  \\\n",
       "Animal ID                                                    \n",
       "A737705         Stray          Normal  Intact Female  36.0   \n",
       "\n",
       "             DateTime_outcome Outcome_Type Outcome_Subtype  ... black white  \\\n",
       "Animal ID                                                   ...               \n",
       "A737705   2016-11-19 16:35:00          NaN             NaN  ...     1     1   \n",
       "\n",
       "          brown tan tricolor brindle blue red  chocolate  sable  \n",
       "Animal ID                                                        \n",
       "A737705       0   0        0       0    0   0          0      0  \n",
       "\n",
       "[1 rows x 62 columns]"
      ]
     },
     "execution_count": 106,
     "metadata": {},
     "output_type": "execute_result"
    }
   ],
   "source": [
    "#which row has a null \n",
    "shelter_df[shelter_df['Age_upon_Outcome'].isna()==True]"
   ]
  },
  {
   "cell_type": "code",
   "execution_count": 107,
   "id": "afc86089",
   "metadata": {},
   "outputs": [
    {
     "data": {
      "text/html": [
       "<div>\n",
       "<style scoped>\n",
       "    .dataframe tbody tr th:only-of-type {\n",
       "        vertical-align: middle;\n",
       "    }\n",
       "\n",
       "    .dataframe tbody tr th {\n",
       "        vertical-align: top;\n",
       "    }\n",
       "\n",
       "    .dataframe thead th {\n",
       "        text-align: right;\n",
       "    }\n",
       "</style>\n",
       "<table border=\"1\" class=\"dataframe\">\n",
       "  <thead>\n",
       "    <tr style=\"text-align: right;\">\n",
       "      <th></th>\n",
       "      <th>DateTime_length</th>\n",
       "    </tr>\n",
       "    <tr>\n",
       "      <th>Animal ID</th>\n",
       "      <th></th>\n",
       "    </tr>\n",
       "  </thead>\n",
       "  <tbody>\n",
       "    <tr>\n",
       "      <th>A737705</th>\n",
       "      <td>16</td>\n",
       "    </tr>\n",
       "  </tbody>\n",
       "</table>\n",
       "</div>"
      ],
      "text/plain": [
       "           DateTime_length\n",
       "Animal ID                 \n",
       "A737705                 16"
      ]
     },
     "execution_count": 107,
     "metadata": {},
     "output_type": "execute_result"
    }
   ],
   "source": [
    "#Can I use age and DatTime_length to calculate a value to put there\n",
    "shelter_df[shelter_df['Age_upon_Outcome'].isna()==True][['DateTime_length']]"
   ]
  },
  {
   "cell_type": "markdown",
   "id": "f0772759",
   "metadata": {},
   "source": [
    "The dog was in the shelter for 16 days and it was 36 months old. Thus, it was 36.5 years old when it left the shelter. I will fill this in after cleaning the rest of the data so that it stays in the same format. "
   ]
  },
  {
   "cell_type": "code",
   "execution_count": 108,
   "id": "e6c9487e",
   "metadata": {
    "scrolled": true
   },
   "outputs": [],
   "source": [
    "#extract the age number and age unit as last time\n",
    "num = shelter_df['Age_upon_Outcome'].str.extract(r'([0-9]{,2})', expand=False)\n",
    "num = num.astype(float)\n",
    "unit = shelter_df['Age_upon_Outcome'].str.extract(r'([A-z]{,6}$)', expand=False)\n",
    "\n",
    "#create the age mapper using the function\n",
    "ages = age_to_int(shelter_df['Age_upon_Outcome'],num,unit)"
   ]
  },
  {
   "cell_type": "code",
   "execution_count": 109,
   "id": "58162810",
   "metadata": {},
   "outputs": [
    {
     "data": {
      "text/plain": [
       "array([4.0, 3.0, 24.0, 5.0, 36.0, 12.0, 10.0, 108.0, 48.0, 60.0, 84.0,\n",
       "       2.0, 8.0, 96.0, 1.0, 11.0, 72.0, 156.0, 9.0, 132.0, 120.0, 168.0,\n",
       "       6.0, 0.47, 0.23, 0.7, 144.0, 7.0, 0.03, 0.2, 192.0, 180.0, 0.93,\n",
       "       0.1, 0.07, 204.0, 0.0, 0.17, 216.0, 0.13, 1.16, 'invalid age',\n",
       "       228.0, 240.0], dtype=object)"
      ]
     },
     "execution_count": 109,
     "metadata": {},
     "output_type": "execute_result"
    }
   ],
   "source": [
    "#use the mapper to redefine the entries\n",
    "shelter_df['Age_upon_Outcome'] = shelter_df['Age_upon_Outcome'].map(ages)\n",
    "shelter_df['Age_upon_Outcome'].unique()"
   ]
  },
  {
   "cell_type": "code",
   "execution_count": 110,
   "id": "d1682b70",
   "metadata": {},
   "outputs": [
    {
     "data": {
      "text/plain": [
       "array([4.0, 3.0, 24.0, 5.0, 36.0, 12.0, 10.0, 108.0, 48.0, 60.0, 84.0,\n",
       "       2.0, 8.0, 96.0, 1.0, 11.0, 72.0, 156.0, 9.0, 132.0, 120.0, 168.0,\n",
       "       6.0, 0.47, 0.23, 0.7, 144.0, 7.0, 0.03, 0.2, 192.0, 180.0, 0.93,\n",
       "       0.1, 0.07, 204.0, 0.0, 0.17, 216.0, 0.13, 1.16, 'invalid age',\n",
       "       228.0, 240.0], dtype=object)"
      ]
     },
     "execution_count": 110,
     "metadata": {},
     "output_type": "execute_result"
    }
   ],
   "source": [
    "shelter_df['Age_upon_Outcome'].unique()"
   ]
  },
  {
   "cell_type": "markdown",
   "id": "93644f78",
   "metadata": {},
   "source": [
    "The NaN was caught in the function and now reads \"invalid age\", so I will fill it as planned. "
   ]
  },
  {
   "cell_type": "code",
   "execution_count": 111,
   "id": "003bd1e1",
   "metadata": {},
   "outputs": [
    {
     "data": {
      "text/html": [
       "<div>\n",
       "<style scoped>\n",
       "    .dataframe tbody tr th:only-of-type {\n",
       "        vertical-align: middle;\n",
       "    }\n",
       "\n",
       "    .dataframe tbody tr th {\n",
       "        vertical-align: top;\n",
       "    }\n",
       "\n",
       "    .dataframe thead th {\n",
       "        text-align: right;\n",
       "    }\n",
       "</style>\n",
       "<table border=\"1\" class=\"dataframe\">\n",
       "  <thead>\n",
       "    <tr style=\"text-align: right;\">\n",
       "      <th></th>\n",
       "      <th>Name_intake</th>\n",
       "      <th>DateTime_intake</th>\n",
       "      <th>Found_Location</th>\n",
       "      <th>Intake_Type</th>\n",
       "      <th>IntakeCondition</th>\n",
       "      <th>Sex</th>\n",
       "      <th>Age</th>\n",
       "      <th>DateTime_outcome</th>\n",
       "      <th>Outcome_Type</th>\n",
       "      <th>Outcome_Subtype</th>\n",
       "      <th>...</th>\n",
       "      <th>black</th>\n",
       "      <th>white</th>\n",
       "      <th>brown</th>\n",
       "      <th>tan</th>\n",
       "      <th>tricolor</th>\n",
       "      <th>brindle</th>\n",
       "      <th>blue</th>\n",
       "      <th>red</th>\n",
       "      <th>chocolate</th>\n",
       "      <th>sable</th>\n",
       "    </tr>\n",
       "    <tr>\n",
       "      <th>Animal ID</th>\n",
       "      <th></th>\n",
       "      <th></th>\n",
       "      <th></th>\n",
       "      <th></th>\n",
       "      <th></th>\n",
       "      <th></th>\n",
       "      <th></th>\n",
       "      <th></th>\n",
       "      <th></th>\n",
       "      <th></th>\n",
       "      <th></th>\n",
       "      <th></th>\n",
       "      <th></th>\n",
       "      <th></th>\n",
       "      <th></th>\n",
       "      <th></th>\n",
       "      <th></th>\n",
       "      <th></th>\n",
       "      <th></th>\n",
       "      <th></th>\n",
       "      <th></th>\n",
       "    </tr>\n",
       "  </thead>\n",
       "  <tbody>\n",
       "    <tr>\n",
       "      <th>A737705</th>\n",
       "      <td>*Heddy</td>\n",
       "      <td>2016-11-02 20:15:00</td>\n",
       "      <td>1607 Barney in Austin (TX)</td>\n",
       "      <td>Stray</td>\n",
       "      <td>Normal</td>\n",
       "      <td>Intact Female</td>\n",
       "      <td>36.0</td>\n",
       "      <td>2016-11-19 16:35:00</td>\n",
       "      <td>NaN</td>\n",
       "      <td>NaN</td>\n",
       "      <td>...</td>\n",
       "      <td>1</td>\n",
       "      <td>1</td>\n",
       "      <td>0</td>\n",
       "      <td>0</td>\n",
       "      <td>0</td>\n",
       "      <td>0</td>\n",
       "      <td>0</td>\n",
       "      <td>0</td>\n",
       "      <td>0</td>\n",
       "      <td>0</td>\n",
       "    </tr>\n",
       "  </tbody>\n",
       "</table>\n",
       "<p>1 rows × 62 columns</p>\n",
       "</div>"
      ],
      "text/plain": [
       "          Name_intake     DateTime_intake              Found_Location  \\\n",
       "Animal ID                                                               \n",
       "A737705        *Heddy 2016-11-02 20:15:00  1607 Barney in Austin (TX)   \n",
       "\n",
       "          Intake_Type IntakeCondition            Sex   Age  \\\n",
       "Animal ID                                                    \n",
       "A737705         Stray          Normal  Intact Female  36.0   \n",
       "\n",
       "             DateTime_outcome Outcome_Type Outcome_Subtype  ... black white  \\\n",
       "Animal ID                                                   ...               \n",
       "A737705   2016-11-19 16:35:00          NaN             NaN  ...     1     1   \n",
       "\n",
       "          brown tan tricolor brindle blue red  chocolate  sable  \n",
       "Animal ID                                                        \n",
       "A737705       0   0        0       0    0   0          0      0  \n",
       "\n",
       "[1 rows x 62 columns]"
      ]
     },
     "execution_count": 111,
     "metadata": {},
     "output_type": "execute_result"
    }
   ],
   "source": [
    "#confirm the 'invalid age' is from where expected\n",
    "shelter_df[shelter_df['Age_upon_Outcome'] == 'invalid age']"
   ]
  },
  {
   "cell_type": "markdown",
   "id": "64d0e96a",
   "metadata": {},
   "source": [
    "Great, it's the same dog with the NaN before, now I can map 'invalid age' to 36.5 months since this dog was 36 months old when it got to the shelter and was there for 16 days. "
   ]
  },
  {
   "cell_type": "code",
   "execution_count": 112,
   "id": "b0d49836",
   "metadata": {},
   "outputs": [],
   "source": [
    "#located the 'invalid age' and replace it with the calculated real age at outcome date\n",
    "for i, age in enumerate(shelter_df['Age_upon_Outcome']):\n",
    "    if age == 'invalid age':\n",
    "        shelter_df['Age_upon_Outcome'][i]='36.5'"
   ]
  },
  {
   "cell_type": "code",
   "execution_count": 113,
   "id": "72c9bd08",
   "metadata": {},
   "outputs": [
    {
     "data": {
      "text/plain": [
       "array([4.0, 3.0, 24.0, 5.0, 36.0, 12.0, 10.0, 108.0, 48.0, 60.0, 84.0,\n",
       "       2.0, 8.0, 96.0, 1.0, 11.0, 72.0, 156.0, 9.0, 132.0, 120.0, 168.0,\n",
       "       6.0, 0.47, 0.23, 0.7, 144.0, 7.0, 0.03, 0.2, 192.0, 180.0, 0.93,\n",
       "       0.1, 0.07, 204.0, 0.0, 0.17, 216.0, 0.13, 1.16, '36.5', 228.0,\n",
       "       240.0], dtype=object)"
      ]
     },
     "execution_count": 113,
     "metadata": {},
     "output_type": "execute_result"
    }
   ],
   "source": [
    "#confirm there ar eno more 'invalid age' entries\n",
    "shelter_df['Age_upon_Outcome'].unique()"
   ]
  },
  {
   "cell_type": "code",
   "execution_count": 114,
   "id": "4b24c723",
   "metadata": {},
   "outputs": [
    {
     "data": {
      "text/plain": [
       "Animal ID\n",
       "A683644     4.0\n",
       "A676515     3.0\n",
       "A742953    24.0\n",
       "A692161     5.0\n",
       "A720597    24.0\n",
       "           ... \n",
       "A746624    72.0\n",
       "A746460     2.0\n",
       "A746689    24.0\n",
       "A746466     2.0\n",
       "A746072    24.0\n",
       "Name: Age_upon_Outcome, Length: 30042, dtype: float64"
      ]
     },
     "execution_count": 114,
     "metadata": {},
     "output_type": "execute_result"
    }
   ],
   "source": [
    "#convert the column to floats now that it's all numeric values\n",
    "shelter_df['Age_upon_Outcome'] = pd.to_numeric(shelter_df['Age_upon_Outcome'])\n",
    "shelter_df['Age_upon_Outcome']"
   ]
  },
  {
   "cell_type": "markdown",
   "id": "8696cf79",
   "metadata": {},
   "source": [
    "Now that this column is also clean I will add it to the EDA df also. "
   ]
  },
  {
   "cell_type": "code",
   "execution_count": 115,
   "id": "39c16f06",
   "metadata": {},
   "outputs": [
    {
     "name": "stdout",
     "output_type": "stream",
     "text": [
      "<class 'pandas.core.frame.DataFrame'>\n",
      "Index: 30042 entries, A683644 to A746072\n",
      "Data columns (total 24 columns):\n",
      " #   Column              Non-Null Count  Dtype         \n",
      "---  ------              --------------  -----         \n",
      " 0   Name_intake         24606 non-null  object        \n",
      " 1   Found_Location      30042 non-null  object        \n",
      " 2   Intake_Type         30042 non-null  object        \n",
      " 3   IntakeCondition     30042 non-null  object        \n",
      " 4   Outcome_Type        30041 non-null  object        \n",
      " 5   Outcome_Subtype     10152 non-null  object        \n",
      " 6   gender_intake       29884 non-null  object        \n",
      " 7   fixed_changed       30042 non-null  object        \n",
      " 8   fixed_intake        30041 non-null  object        \n",
      " 9   fixed_outcome       30040 non-null  object        \n",
      " 10  Breed_intake        30042 non-null  object        \n",
      " 11  Color_intake        30042 non-null  object        \n",
      " 12  Date of Birth       30042 non-null  datetime64[ns]\n",
      " 13  Age_Bucket          30042 non-null  object        \n",
      " 14  Days_length         30042 non-null  object        \n",
      " 15  intake_date         30042 non-null  datetime64[ns]\n",
      " 16  outcome_date        30042 non-null  datetime64[ns]\n",
      " 17  Breed1              30042 non-null  object        \n",
      " 18  Breed2              5144 non-null   object        \n",
      " 19  Breed3              19 non-null     object        \n",
      " 20  Color1              30042 non-null  object        \n",
      " 21  Color2              19115 non-null  object        \n",
      " 22  age_months          30042 non-null  float64       \n",
      " 23  outcome_age_months  30042 non-null  float64       \n",
      "dtypes: datetime64[ns](3), float64(2), object(19)\n",
      "memory usage: 6.7+ MB\n"
     ]
    }
   ],
   "source": [
    "EDA_shelter_df['outcome_age_months'] = shelter_df['Age_upon_Outcome']\n",
    "EDA_shelter_df.info()"
   ]
  },
  {
   "cell_type": "markdown",
   "id": "ecd853bb",
   "metadata": {},
   "source": [
    "Next I will compare the three age columns 'Age_Bucket','Age', 'Age_upon_Outcome' to consider if they are redundant or not. I'll do this by binning the data in a style similar to how I did with the dates above and compare the columns with each other to check for correlation.  "
   ]
  },
  {
   "cell_type": "code",
   "execution_count": 116,
   "id": "1288b25a",
   "metadata": {},
   "outputs": [
    {
     "data": {
      "text/html": [
       "<div>\n",
       "<style scoped>\n",
       "    .dataframe tbody tr th:only-of-type {\n",
       "        vertical-align: middle;\n",
       "    }\n",
       "\n",
       "    .dataframe tbody tr th {\n",
       "        vertical-align: top;\n",
       "    }\n",
       "\n",
       "    .dataframe thead th {\n",
       "        text-align: right;\n",
       "    }\n",
       "</style>\n",
       "<table border=\"1\" class=\"dataframe\">\n",
       "  <thead>\n",
       "    <tr style=\"text-align: right;\">\n",
       "      <th></th>\n",
       "      <th>Age_Bucket</th>\n",
       "      <th>Age</th>\n",
       "      <th>Age_upon_Outcome</th>\n",
       "    </tr>\n",
       "    <tr>\n",
       "      <th>Animal ID</th>\n",
       "      <th></th>\n",
       "      <th></th>\n",
       "      <th></th>\n",
       "    </tr>\n",
       "  </thead>\n",
       "  <tbody>\n",
       "    <tr>\n",
       "      <th>A683644</th>\n",
       "      <td>1-6 weeks</td>\n",
       "      <td>0.93</td>\n",
       "      <td>4.0</td>\n",
       "    </tr>\n",
       "    <tr>\n",
       "      <th>A676515</th>\n",
       "      <td>1-6 months</td>\n",
       "      <td>2.00</td>\n",
       "      <td>3.0</td>\n",
       "    </tr>\n",
       "    <tr>\n",
       "      <th>A742953</th>\n",
       "      <td>1-3 years</td>\n",
       "      <td>24.00</td>\n",
       "      <td>24.0</td>\n",
       "    </tr>\n",
       "    <tr>\n",
       "      <th>A692161</th>\n",
       "      <td>1-6 months</td>\n",
       "      <td>5.00</td>\n",
       "      <td>5.0</td>\n",
       "    </tr>\n",
       "    <tr>\n",
       "      <th>A720597</th>\n",
       "      <td>1-3 years</td>\n",
       "      <td>24.00</td>\n",
       "      <td>24.0</td>\n",
       "    </tr>\n",
       "  </tbody>\n",
       "</table>\n",
       "</div>"
      ],
      "text/plain": [
       "           Age_Bucket    Age  Age_upon_Outcome\n",
       "Animal ID                                     \n",
       "A683644     1-6 weeks   0.93               4.0\n",
       "A676515    1-6 months   2.00               3.0\n",
       "A742953     1-3 years  24.00              24.0\n",
       "A692161    1-6 months   5.00               5.0\n",
       "A720597     1-3 years  24.00              24.0"
      ]
     },
     "execution_count": 116,
     "metadata": {},
     "output_type": "execute_result"
    }
   ],
   "source": [
    "# what does the data look like in these columns\n",
    "shelter_df[['Age_Bucket','Age', 'Age_upon_Outcome']].head()"
   ]
  },
  {
   "cell_type": "code",
   "execution_count": 117,
   "id": "acf712d2",
   "metadata": {
    "scrolled": true
   },
   "outputs": [],
   "source": [
    "# I'm going to bin the data in age to compare it to Age_Bucket\n",
    "cut_age_month = ['Less than 1 week', '1-6 weeks', '1-6 months', '7-12 months', '1-3 years', '4-6 years', '7+ years']\n",
    "cut_bins1 =[-1, 7/30, 1.5, 6, 12, 36, 72, max(shelter_df['Age'])]\n",
    "binned_age1 = pd.cut(shelter_df['Age'], bins=cut_bins1, labels = cut_age_month)"
   ]
  },
  {
   "cell_type": "code",
   "execution_count": 118,
   "id": "6689b8a3",
   "metadata": {},
   "outputs": [
    {
     "data": {
      "text/plain": [
       "0"
      ]
     },
     "execution_count": 118,
     "metadata": {},
     "output_type": "execute_result"
    }
   ],
   "source": [
    "binned_age1.isna().sum()"
   ]
  },
  {
   "cell_type": "code",
   "execution_count": 119,
   "id": "27989672",
   "metadata": {},
   "outputs": [
    {
     "data": {
      "image/png": "[encoded data removed]",
      "text/plain": [
       "<Figure size 1080x360 with 3 Axes>"
      ]
     },
     "metadata": {
      "needs_background": "light"
     },
     "output_type": "display_data"
    }
   ],
   "source": [
    "#checking if the columns are correlated\n",
    "x = np.linspace(-5,17500,100)\n",
    "y = x\n",
    "\n",
    "plt.figure(figsize=(15, 5))\n",
    "\n",
    "plt.subplot(1, 3, 1)\n",
    "binned_age1.value_counts().sort_values().plot(kind='bar')\n",
    "plt.ylabel('Value Counts')\n",
    "plt.ylim((0, 14500))\n",
    "plt.xticks(rotation=45)\n",
    "plt.title('Manually Binned Age Category Counts')\n",
    "\n",
    "plt.subplot(1, 3, 2)\n",
    "shelter_df['Age_Bucket'].value_counts().sort_values().plot(kind='bar')\n",
    "plt.ylabel('Value Counts')\n",
    "plt.ylim((0, 14500))\n",
    "plt.xticks(rotation=45)\n",
    "plt.title('Age_Bucket Predetermined Bin Category Counts')\n",
    "\n",
    "plt.subplot(1, 3, 3)\n",
    "plt.scatter(binned_age1.value_counts().sort_index(), shelter_df['Age_Bucket'].value_counts().sort_index())\n",
    "plt.xlabel('Manually Binned Age Category Counts')\n",
    "plt.ylabel('Age_Bucket Category Counts')\n",
    "plt.title('Correlation of Age Columns')\n",
    "plt.plot(x,y)\n",
    "\n",
    "plt.tight_layout()\n",
    "plt.show()"
   ]
  },
  {
   "cell_type": "markdown",
   "id": "ec2d4b2c",
   "metadata": {},
   "source": [
    "The bins did not save in the same order even though they were sorted. This is affecting my ability to check for correlation, so I will manually reorder the bins. "
   ]
  },
  {
   "cell_type": "code",
   "execution_count": 120,
   "id": "ce5e95d5",
   "metadata": {},
   "outputs": [],
   "source": [
    "#this is to plot the histograms in the same order\n",
    "ordered_age_bucket = []\n",
    "    \n",
    "for bucket in shelter_df['Age_Bucket']:\n",
    "    \n",
    "    if bucket == 'Less than 1 week' :\n",
    "        ordered_age_bucket.append('1. Less than 1 week')\n",
    "        \n",
    "    elif bucket == '1-6 weeks' :\n",
    "        ordered_age_bucket.append('2. 1-6 weeks')\n",
    "        \n",
    "    elif bucket == '1-6 months' :\n",
    "        ordered_age_bucket.append('3. 1-6 months')\n",
    "        \n",
    "    elif bucket == '7-12 months' :\n",
    "        ordered_age_bucket.append('4. 7-12 months')\n",
    "        \n",
    "    elif bucket == '1-3 years':\n",
    "        ordered_age_bucket.append('5. 1-3 years')\n",
    "        \n",
    "    elif bucket == '4-6 years':\n",
    "        ordered_age_bucket.append('6. 4-6 years')\n",
    "        \n",
    "    elif bucket == '7+ years':\n",
    "        ordered_age_bucket.append('7. 7+ years')\n",
    "        \n",
    "    else:\n",
    "        print('what happened?')\n",
    "        \n",
    "ordered_age_bucket = pd.DataFrame(ordered_age_bucket)"
   ]
  },
  {
   "cell_type": "code",
   "execution_count": 121,
   "id": "dbfe6640",
   "metadata": {},
   "outputs": [
    {
     "data": {
      "image/png": "[encoded data removed]",
      "text/plain": [
       "<Figure size 1080x360 with 3 Axes>"
      ]
     },
     "metadata": {
      "needs_background": "light"
     },
     "output_type": "display_data"
    }
   ],
   "source": [
    "#checking if the columns are correlated\n",
    "x = np.linspace(-5,17500,100)\n",
    "y = x\n",
    "\n",
    "plt.figure(figsize=(15, 5))\n",
    "\n",
    "plt.subplot(1, 3, 1)\n",
    "binned_age1.value_counts().sort_index().plot(kind='bar')\n",
    "plt.ylabel('Value Counts')\n",
    "plt.ylim((0, 15000))\n",
    "plt.xticks(rotation=45)\n",
    "plt.title('Manually Binned Age Category Counts')\n",
    "\n",
    "plt.subplot(1, 3, 2)\n",
    "ordered_age_bucket.value_counts().sort_index().plot(kind='bar')\n",
    "plt.ylabel('Value Counts')\n",
    "plt.ylim((0, 15000))\n",
    "plt.xticks(rotation=45)\n",
    "plt.title('Age_Bucket Predetermined Bin Category Counts')\n",
    "\n",
    "plt.subplot(1, 3, 3)\n",
    "plt.scatter(binned_age1.value_counts().sort_index(), ordered_age_bucket.value_counts().sort_index())\n",
    "plt.xlabel('Manually Binned Age Category Counts')\n",
    "plt.ylabel('Age_Bucket Category Counts')\n",
    "plt.title('Correlation of Age Columns')\n",
    "plt.plot(x,y)\n",
    "\n",
    "plt.tight_layout()\n",
    "plt.show()"
   ]
  },
  {
   "cell_type": "markdown",
   "id": "31134ba9",
   "metadata": {},
   "source": [
    "These bins have different distributions, so I can safely keep both for modeling and further EDA. Now I can do the same comparison with the Age upon Outcome column as well. "
   ]
  },
  {
   "cell_type": "code",
   "execution_count": 122,
   "id": "bc5373a4",
   "metadata": {},
   "outputs": [
    {
     "data": {
      "text/plain": [
       "Animal ID\n",
       "A683644     4.0\n",
       "A676515     3.0\n",
       "A742953    24.0\n",
       "A692161     5.0\n",
       "A720597    24.0\n",
       "           ... \n",
       "A746624    72.0\n",
       "A746460     2.0\n",
       "A746689    24.0\n",
       "A746466     2.0\n",
       "A746072    24.0\n",
       "Name: Age_upon_Outcome, Length: 30042, dtype: float64"
      ]
     },
     "execution_count": 122,
     "metadata": {},
     "output_type": "execute_result"
    }
   ],
   "source": [
    "shelter_df['Age_upon_Outcome']"
   ]
  },
  {
   "cell_type": "code",
   "execution_count": 123,
   "id": "3b04615f",
   "metadata": {},
   "outputs": [],
   "source": [
    "# I'm going to bin the data in age_in_month to compare it to Age_Bucket\n",
    "cut_age_outcome = ['Less than 1 week', '1-6 weeks', '1-6 months', '7-12 months', '1-3 years', '4-6 years', '7+ years']\n",
    "cut_bins2 =[-1, 7/30, 1.5, 6, 12, 36, 72, max(shelter_df['Age_upon_Outcome'])]\n",
    "binned_age2 = pd.cut(shelter_df['Age_upon_Outcome'], bins=cut_bins2, labels = cut_age_outcome)"
   ]
  },
  {
   "cell_type": "code",
   "execution_count": 124,
   "id": "2ebc3df7",
   "metadata": {},
   "outputs": [
    {
     "data": {
      "text/plain": [
       "0"
      ]
     },
     "execution_count": 124,
     "metadata": {},
     "output_type": "execute_result"
    }
   ],
   "source": [
    "binned_age2.isna().sum()"
   ]
  },
  {
   "cell_type": "code",
   "execution_count": 125,
   "id": "5051fa66",
   "metadata": {},
   "outputs": [
    {
     "data": {
      "image/png": "[encoded data removed]",
      "text/plain": [
       "<Figure size 1080x360 with 3 Axes>"
      ]
     },
     "metadata": {
      "needs_background": "light"
     },
     "output_type": "display_data"
    }
   ],
   "source": [
    "#checking if the next two dates are correlated\n",
    "x = np.linspace(-5,17500,100)\n",
    "y = x\n",
    "\n",
    "plt.figure(figsize=(15, 5))\n",
    "\n",
    "plt.subplot(1, 3, 1)\n",
    "binned_age2.value_counts().sort_index().plot(kind='bar')\n",
    "plt.ylabel('Value Counts')\n",
    "plt.ylim((0, 15500))\n",
    "plt.xticks(rotation=45)\n",
    "plt.title('Manually Binned Age Category Counts')\n",
    "\n",
    "plt.subplot(1, 3, 2)\n",
    "ordered_age_bucket.value_counts().sort_index().plot(kind='bar')\n",
    "plt.ylabel('Value Counts')\n",
    "plt.ylim((0, 15500))\n",
    "plt.xticks(rotation=45)\n",
    "plt.title('Age_Bucket Predetermined Bin Category Counts')\n",
    "\n",
    "plt.subplot(1, 3, 3)\n",
    "plt.scatter(binned_age2.value_counts().sort_index(), ordered_age_bucket.value_counts().sort_index())\n",
    "plt.xlabel('Manually Binned Age Category Counts')\n",
    "plt.ylabel('Age_Bucket Category Counts')\n",
    "plt.title('Correlation of Age Columns')\n",
    "plt.plot(x,y)\n",
    "\n",
    "plt.tight_layout()\n",
    "plt.show()"
   ]
  },
  {
   "cell_type": "markdown",
   "id": "b72c9e9b",
   "metadata": {},
   "source": [
    "Likewise, these distributions are not very similar, so both can be saved to use in building models as well as further EDA. As a sanity check, I will confirm the age and age upon outcome columns are not 1:1 correlated. "
   ]
  },
  {
   "cell_type": "code",
   "execution_count": 126,
   "id": "5e647a23",
   "metadata": {},
   "outputs": [
    {
     "data": {
      "image/png": "[encoded data removed]",
      "text/plain": [
       "<Figure size 1080x360 with 3 Axes>"
      ]
     },
     "metadata": {
      "needs_background": "light"
     },
     "output_type": "display_data"
    }
   ],
   "source": [
    "#checking if they're correlated with each other\n",
    "x = np.linspace(-5,17500,100)\n",
    "y = x\n",
    "\n",
    "plt.figure(figsize=(15, 5))\n",
    "\n",
    "plt.subplot(1, 3, 1)\n",
    "binned_age1.value_counts().sort_index().plot(kind='bar')\n",
    "plt.ylabel('Value Counts')\n",
    "plt.ylim((0, 9000))\n",
    "plt.xticks(rotation=45)\n",
    "plt.title('Manually Binned Age Category Counts')\n",
    "\n",
    "plt.subplot(1, 3, 2)\n",
    "binned_age2.value_counts().sort_index().plot(kind='bar')\n",
    "plt.ylabel('Value Counts')\n",
    "plt.ylim((0, 9000))\n",
    "plt.xticks(rotation=45)\n",
    "plt.title('Manually Binned Age_Outcome Category Counts')\n",
    "\n",
    "plt.subplot(1, 3, 3)\n",
    "plt.scatter(binned_age1.value_counts().sort_index(), binned_age2.value_counts().sort_index())\n",
    "plt.xlabel('Manually Binned Age Category Counts')\n",
    "plt.ylabel('Manually Binned Age_Outcome Category Counts')\n",
    "plt.title('Correlation of Age Columns')\n",
    "plt.plot(x,y)\n",
    "\n",
    "plt.tight_layout()\n",
    "plt.show()"
   ]
  },
  {
   "cell_type": "markdown",
   "id": "7465d023",
   "metadata": {},
   "source": [
    "Oddly, the two age columns are more correlated with each other (but 1:1) than with the bucket column. This may be because of the bin categories are a bit ambiguous in the data that came pre-binned. For this reason, I don't feel comfortable dropping any of these columns completely. I will keep the Age_Bucket in the EDA df and the two age in months columns in the shelter df. "
   ]
  },
  {
   "cell_type": "code",
   "execution_count": 127,
   "id": "3783979c",
   "metadata": {},
   "outputs": [],
   "source": [
    "shelter_df.drop('Age_Bucket', axis=1, inplace=True)"
   ]
  },
  {
   "cell_type": "code",
   "execution_count": 128,
   "id": "86189bec",
   "metadata": {},
   "outputs": [
    {
     "data": {
      "text/plain": [
       "Index(['Name_intake', 'DateTime_intake', 'Found_Location', 'Intake_Type',\n",
       "       'IntakeCondition', 'Sex', 'Age', 'DateTime_outcome', 'Outcome_Type',\n",
       "       'Outcome_Subtype', 'Sex_upon_Outcome', 'Age_upon_Outcome',\n",
       "       'gender_intake', 'gender_outcome', 'fixed_intake', 'fixed_outcome',\n",
       "       'fixed_changed', 'retriever', 'shepherd', 'beagle', 'terrier', 'boxer',\n",
       "       'poodle', 'rottweiler', 'dachshund', 'chihuahua', 'pit bull',\n",
       "       'DateTime_length', 'Date of Birth', 'cattle dog', 'collie', 'catahoula',\n",
       "       'schnauzer', 'husky', 'pyrenees', 'shih tzu', 'pointer', 'bulldog',\n",
       "       'kelpie', 'black mouth cur', 'hound', 'heeler', 'pinscher', 'maltese',\n",
       "       'chow', 'pug', 'lhasa apso', 'pomeranian', 'corgi', 'spaniel',\n",
       "       'blue lacy', 'black', 'white', 'brown', 'tan', 'tricolor', 'brindle',\n",
       "       'blue', 'red', 'chocolate', 'sable'],\n",
       "      dtype='object')"
      ]
     },
     "execution_count": 128,
     "metadata": {},
     "output_type": "execute_result"
    }
   ],
   "source": [
    "shelter_df.columns"
   ]
  },
  {
   "cell_type": "markdown",
   "id": "d4c71969",
   "metadata": {},
   "source": [
    "Finally, I would like to compare age and date of birth columns. If they are highly correlated, I will drop the DOB column. "
   ]
  },
  {
   "cell_type": "code",
   "execution_count": 129,
   "id": "38b1b796",
   "metadata": {},
   "outputs": [
    {
     "data": {
      "image/png": "[encoded data removed]",
      "text/plain": [
       "<Figure size 1080x360 with 3 Axes>"
      ]
     },
     "metadata": {
      "needs_background": "light"
     },
     "output_type": "display_data"
    }
   ],
   "source": [
    "#checking if they're correlated with each other\n",
    "plt.figure(figsize=(15, 5))\n",
    "\n",
    "plt.subplot(1, 3, 1)\n",
    "plt.hist(shelter_df['Age'])\n",
    "plt.ylabel('Value Counts')\n",
    "#plt.ylim((0, 9000))\n",
    "plt.title('Age of Dog Distibution')\n",
    "\n",
    "plt.subplot(1, 3, 2)\n",
    "plt.hist(shelter_df['Date of Birth'])\n",
    "plt.ylabel('Value Counts')\n",
    "#plt.ylim((0, 9000))\n",
    "plt.title('DOB Distribution')\n",
    "\n",
    "plt.subplot(1, 3, 3)\n",
    "plt.scatter(shelter_df['Age'], shelter_df['Date of Birth'])\n",
    "plt.xlabel('Age')\n",
    "plt.ylabel('DOB')\n",
    "plt.title('Correlation of Age and DOB')\n",
    "\n",
    "plt.tight_layout()\n",
    "plt.show()"
   ]
  },
  {
   "cell_type": "markdown",
   "id": "d01d0e0e",
   "metadata": {},
   "source": [
    "They are not perfectly correlated, but they are correlated enough that I think it would be redundant to include the DOB in the modeling df."
   ]
  },
  {
   "cell_type": "code",
   "execution_count": 130,
   "id": "8e64bce4",
   "metadata": {},
   "outputs": [],
   "source": [
    "#drop the dob column\n",
    "shelter_df.drop('Date of Birth', axis=1, inplace=True)"
   ]
  },
  {
   "cell_type": "markdown",
   "id": "0c332827",
   "metadata": {},
   "source": [
    "## Fixed Status Columns\n",
    "<a class=\"anchor\" id=\"fixed\"></a>\n",
    "\n",
    "There are several columns that identify if a dog has been spayed or neutered. I will sort through these and see if any of them are redundant and how they can be cleaned to used for modeling. "
   ]
  },
  {
   "cell_type": "code",
   "execution_count": 131,
   "id": "0978117b",
   "metadata": {},
   "outputs": [
    {
     "data": {
      "text/html": [
       "<div>\n",
       "<style scoped>\n",
       "    .dataframe tbody tr th:only-of-type {\n",
       "        vertical-align: middle;\n",
       "    }\n",
       "\n",
       "    .dataframe tbody tr th {\n",
       "        vertical-align: top;\n",
       "    }\n",
       "\n",
       "    .dataframe thead th {\n",
       "        text-align: right;\n",
       "    }\n",
       "</style>\n",
       "<table border=\"1\" class=\"dataframe\">\n",
       "  <thead>\n",
       "    <tr style=\"text-align: right;\">\n",
       "      <th></th>\n",
       "      <th>fixed_outcome</th>\n",
       "      <th>fixed_intake</th>\n",
       "      <th>fixed_changed</th>\n",
       "    </tr>\n",
       "    <tr>\n",
       "      <th>Animal ID</th>\n",
       "      <th></th>\n",
       "      <th></th>\n",
       "      <th></th>\n",
       "    </tr>\n",
       "  </thead>\n",
       "  <tbody>\n",
       "    <tr>\n",
       "      <th>A683644</th>\n",
       "      <td>Spayed</td>\n",
       "      <td>Intact</td>\n",
       "      <td>1</td>\n",
       "    </tr>\n",
       "    <tr>\n",
       "      <th>A676515</th>\n",
       "      <td>Neutered</td>\n",
       "      <td>Intact</td>\n",
       "      <td>1</td>\n",
       "    </tr>\n",
       "    <tr>\n",
       "      <th>A742953</th>\n",
       "      <td>Intact</td>\n",
       "      <td>Intact</td>\n",
       "      <td>0</td>\n",
       "    </tr>\n",
       "    <tr>\n",
       "      <th>A692161</th>\n",
       "      <td>Neutered</td>\n",
       "      <td>Intact</td>\n",
       "      <td>1</td>\n",
       "    </tr>\n",
       "    <tr>\n",
       "      <th>A720597</th>\n",
       "      <td>Intact</td>\n",
       "      <td>Intact</td>\n",
       "      <td>0</td>\n",
       "    </tr>\n",
       "    <tr>\n",
       "      <th>...</th>\n",
       "      <td>...</td>\n",
       "      <td>...</td>\n",
       "      <td>...</td>\n",
       "    </tr>\n",
       "    <tr>\n",
       "      <th>A746624</th>\n",
       "      <td>Intact</td>\n",
       "      <td>Intact</td>\n",
       "      <td>0</td>\n",
       "    </tr>\n",
       "    <tr>\n",
       "      <th>A746460</th>\n",
       "      <td>Neutered</td>\n",
       "      <td>Intact</td>\n",
       "      <td>1</td>\n",
       "    </tr>\n",
       "    <tr>\n",
       "      <th>A746689</th>\n",
       "      <td>Spayed</td>\n",
       "      <td>Spayed</td>\n",
       "      <td>0</td>\n",
       "    </tr>\n",
       "    <tr>\n",
       "      <th>A746466</th>\n",
       "      <td>Neutered</td>\n",
       "      <td>Intact</td>\n",
       "      <td>1</td>\n",
       "    </tr>\n",
       "    <tr>\n",
       "      <th>A746072</th>\n",
       "      <td>Neutered</td>\n",
       "      <td>Neutered</td>\n",
       "      <td>0</td>\n",
       "    </tr>\n",
       "  </tbody>\n",
       "</table>\n",
       "<p>30042 rows × 3 columns</p>\n",
       "</div>"
      ],
      "text/plain": [
       "          fixed_outcome fixed_intake fixed_changed\n",
       "Animal ID                                         \n",
       "A683644          Spayed       Intact             1\n",
       "A676515        Neutered       Intact             1\n",
       "A742953          Intact       Intact             0\n",
       "A692161        Neutered       Intact             1\n",
       "A720597          Intact       Intact             0\n",
       "...                 ...          ...           ...\n",
       "A746624          Intact       Intact             0\n",
       "A746460        Neutered       Intact             1\n",
       "A746689          Spayed       Spayed             0\n",
       "A746466        Neutered       Intact             1\n",
       "A746072        Neutered     Neutered             0\n",
       "\n",
       "[30042 rows x 3 columns]"
      ]
     },
     "execution_count": 131,
     "metadata": {},
     "output_type": "execute_result"
    }
   ],
   "source": [
    "shelter_df[['fixed_outcome', 'fixed_intake', 'fixed_changed']]"
   ]
  },
  {
   "cell_type": "markdown",
   "id": "0448fed6",
   "metadata": {},
   "source": [
    "The fixed_changed column is already binary so I will change the dtype to int. "
   ]
  },
  {
   "cell_type": "code",
   "execution_count": 132,
   "id": "466cf18c",
   "metadata": {},
   "outputs": [],
   "source": [
    "shelter_df['fixed_changed'] = shelter_df['fixed_changed'].astype(int)"
   ]
  },
  {
   "cell_type": "code",
   "execution_count": 133,
   "id": "18559caf",
   "metadata": {},
   "outputs": [
    {
     "name": "stdout",
     "output_type": "stream",
     "text": [
      "<class 'pandas.core.frame.DataFrame'>\n",
      "Index: 30042 entries, A683644 to A746072\n",
      "Data columns (total 60 columns):\n",
      " #   Column            Non-Null Count  Dtype         \n",
      "---  ------            --------------  -----         \n",
      " 0   Name_intake       24606 non-null  object        \n",
      " 1   DateTime_intake   30042 non-null  datetime64[ns]\n",
      " 2   Found_Location    30042 non-null  object        \n",
      " 3   Intake_Type       30042 non-null  object        \n",
      " 4   IntakeCondition   30042 non-null  object        \n",
      " 5   Sex               30041 non-null  object        \n",
      " 6   Age               30042 non-null  float64       \n",
      " 7   DateTime_outcome  30042 non-null  datetime64[ns]\n",
      " 8   Outcome_Type      30041 non-null  object        \n",
      " 9   Outcome_Subtype   10152 non-null  object        \n",
      " 10  Sex_upon_Outcome  30040 non-null  object        \n",
      " 11  Age_upon_Outcome  30042 non-null  float64       \n",
      " 12  gender_intake     29884 non-null  object        \n",
      " 13  gender_outcome    29883 non-null  object        \n",
      " 14  fixed_intake      30041 non-null  object        \n",
      " 15  fixed_outcome     30040 non-null  object        \n",
      " 16  fixed_changed     30042 non-null  int32         \n",
      " 17  retriever         30042 non-null  int32         \n",
      " 18  shepherd          30042 non-null  int32         \n",
      " 19  beagle            30042 non-null  int32         \n",
      " 20  terrier           30042 non-null  int32         \n",
      " 21  boxer             30042 non-null  int32         \n",
      " 22  poodle            30042 non-null  int32         \n",
      " 23  rottweiler        30042 non-null  int32         \n",
      " 24  dachshund         30042 non-null  int32         \n",
      " 25  chihuahua         30042 non-null  int32         \n",
      " 26  pit bull          30042 non-null  int32         \n",
      " 27  DateTime_length   30042 non-null  int64         \n",
      " 28  cattle dog        30042 non-null  int32         \n",
      " 29  collie            30042 non-null  int32         \n",
      " 30  catahoula         30042 non-null  int32         \n",
      " 31  schnauzer         30042 non-null  int32         \n",
      " 32  husky             30042 non-null  int32         \n",
      " 33  pyrenees          30042 non-null  int32         \n",
      " 34  shih tzu          30042 non-null  int32         \n",
      " 35  pointer           30042 non-null  int32         \n",
      " 36  bulldog           30042 non-null  int32         \n",
      " 37  kelpie            30042 non-null  int32         \n",
      " 38  black mouth cur   30042 non-null  int32         \n",
      " 39  hound             30042 non-null  int32         \n",
      " 40  heeler            30042 non-null  int32         \n",
      " 41  pinscher          30042 non-null  int32         \n",
      " 42  maltese           30042 non-null  int32         \n",
      " 43  chow              30042 non-null  int32         \n",
      " 44  pug               30042 non-null  int32         \n",
      " 45  lhasa apso        30042 non-null  int32         \n",
      " 46  pomeranian        30042 non-null  int32         \n",
      " 47  corgi             30042 non-null  int32         \n",
      " 48  spaniel           30042 non-null  int32         \n",
      " 49  blue lacy         30042 non-null  int32         \n",
      " 50  black             30042 non-null  int64         \n",
      " 51  white             30042 non-null  int64         \n",
      " 52  brown             30042 non-null  int64         \n",
      " 53  tan               30042 non-null  int64         \n",
      " 54  tricolor          30042 non-null  int64         \n",
      " 55  brindle           30042 non-null  int64         \n",
      " 56  blue              30042 non-null  int64         \n",
      " 57  red               30042 non-null  int64         \n",
      " 58  chocolate         30042 non-null  int64         \n",
      " 59  sable             30042 non-null  int64         \n",
      "dtypes: datetime64[ns](2), float64(2), int32(33), int64(11), object(12)\n",
      "memory usage: 11.2+ MB\n"
     ]
    }
   ],
   "source": [
    "shelter_df.info()"
   ]
  },
  {
   "cell_type": "code",
   "execution_count": 134,
   "id": "aa4d9e5b",
   "metadata": {},
   "outputs": [
    {
     "data": {
      "text/html": [
       "<div>\n",
       "<style scoped>\n",
       "    .dataframe tbody tr th:only-of-type {\n",
       "        vertical-align: middle;\n",
       "    }\n",
       "\n",
       "    .dataframe tbody tr th {\n",
       "        vertical-align: top;\n",
       "    }\n",
       "\n",
       "    .dataframe thead th {\n",
       "        text-align: right;\n",
       "    }\n",
       "</style>\n",
       "<table border=\"1\" class=\"dataframe\">\n",
       "  <thead>\n",
       "    <tr style=\"text-align: right;\">\n",
       "      <th></th>\n",
       "      <th>fixed_outcome</th>\n",
       "      <th>fixed_intake</th>\n",
       "    </tr>\n",
       "    <tr>\n",
       "      <th>Animal ID</th>\n",
       "      <th></th>\n",
       "      <th></th>\n",
       "    </tr>\n",
       "  </thead>\n",
       "  <tbody>\n",
       "    <tr>\n",
       "      <th>A683644</th>\n",
       "      <td>Spayed</td>\n",
       "      <td>Intact</td>\n",
       "    </tr>\n",
       "    <tr>\n",
       "      <th>A676515</th>\n",
       "      <td>Neutered</td>\n",
       "      <td>Intact</td>\n",
       "    </tr>\n",
       "    <tr>\n",
       "      <th>A742953</th>\n",
       "      <td>Intact</td>\n",
       "      <td>Intact</td>\n",
       "    </tr>\n",
       "    <tr>\n",
       "      <th>A692161</th>\n",
       "      <td>Neutered</td>\n",
       "      <td>Intact</td>\n",
       "    </tr>\n",
       "    <tr>\n",
       "      <th>A720597</th>\n",
       "      <td>Intact</td>\n",
       "      <td>Intact</td>\n",
       "    </tr>\n",
       "    <tr>\n",
       "      <th>...</th>\n",
       "      <td>...</td>\n",
       "      <td>...</td>\n",
       "    </tr>\n",
       "    <tr>\n",
       "      <th>A746624</th>\n",
       "      <td>Intact</td>\n",
       "      <td>Intact</td>\n",
       "    </tr>\n",
       "    <tr>\n",
       "      <th>A746460</th>\n",
       "      <td>Neutered</td>\n",
       "      <td>Intact</td>\n",
       "    </tr>\n",
       "    <tr>\n",
       "      <th>A746689</th>\n",
       "      <td>Spayed</td>\n",
       "      <td>Spayed</td>\n",
       "    </tr>\n",
       "    <tr>\n",
       "      <th>A746466</th>\n",
       "      <td>Neutered</td>\n",
       "      <td>Intact</td>\n",
       "    </tr>\n",
       "    <tr>\n",
       "      <th>A746072</th>\n",
       "      <td>Neutered</td>\n",
       "      <td>Neutered</td>\n",
       "    </tr>\n",
       "  </tbody>\n",
       "</table>\n",
       "<p>30042 rows × 2 columns</p>\n",
       "</div>"
      ],
      "text/plain": [
       "          fixed_outcome fixed_intake\n",
       "Animal ID                           \n",
       "A683644          Spayed       Intact\n",
       "A676515        Neutered       Intact\n",
       "A742953          Intact       Intact\n",
       "A692161        Neutered       Intact\n",
       "A720597          Intact       Intact\n",
       "...                 ...          ...\n",
       "A746624          Intact       Intact\n",
       "A746460        Neutered       Intact\n",
       "A746689          Spayed       Spayed\n",
       "A746466        Neutered       Intact\n",
       "A746072        Neutered     Neutered\n",
       "\n",
       "[30042 rows x 2 columns]"
      ]
     },
     "execution_count": 134,
     "metadata": {},
     "output_type": "execute_result"
    }
   ],
   "source": [
    "shelter_df[['fixed_outcome', 'fixed_intake']]"
   ]
  },
  {
   "cell_type": "markdown",
   "id": "84b15ca2",
   "metadata": {},
   "source": [
    "Since we have the fixed_intake status and the fixed_changed status, we don't need the fixed_outcome column. It is redundant. "
   ]
  },
  {
   "cell_type": "code",
   "execution_count": 135,
   "id": "b036250d",
   "metadata": {},
   "outputs": [],
   "source": [
    "shelter_df.drop('fixed_outcome', axis=1, inplace=True)"
   ]
  },
  {
   "cell_type": "markdown",
   "id": "e9f3dcfa",
   "metadata": {},
   "source": [
    "The fixed_intake column is essentially binary right now. It explains that either the dog is fixed or not, but male and female dogs have different surgery types to become fixed, so they use different words for these procedures. Since the type of surgery they have had is irrelevant to this project, I will map these two columns to fixed (1) and note fixed (0)."
   ]
  },
  {
   "cell_type": "code",
   "execution_count": 136,
   "id": "d67b0163",
   "metadata": {},
   "outputs": [
    {
     "data": {
      "text/plain": [
       "array(['Intact', 'Neutered', 'Spayed', 'Unknown', nan], dtype=object)"
      ]
     },
     "execution_count": 136,
     "metadata": {},
     "output_type": "execute_result"
    }
   ],
   "source": [
    "#What are the possible classes for this column\n",
    "shelter_df['fixed_intake'].unique()"
   ]
  },
  {
   "cell_type": "code",
   "execution_count": 137,
   "id": "a1d5bc11",
   "metadata": {},
   "outputs": [
    {
     "name": "stdout",
     "output_type": "stream",
     "text": [
      "There is/are 1 NaN value(s).\n"
     ]
    },
    {
     "data": {
      "text/plain": [
       "Intact      20100\n",
       "Neutered     5261\n",
       "Spayed       4523\n",
       "Unknown       157\n",
       "Name: fixed_intake, dtype: int64"
      ]
     },
     "execution_count": 137,
     "metadata": {},
     "output_type": "execute_result"
    }
   ],
   "source": [
    "#how many dogs are in the unknown and NaN classes\n",
    "print(f\"There is/are {shelter_df['fixed_intake'].isna().sum()} NaN value(s).\")\n",
    "shelter_df['fixed_intake'].value_counts()"
   ]
  },
  {
   "cell_type": "markdown",
   "id": "bdca2bbe",
   "metadata": {},
   "source": [
    "Intact will be mapped to 0 because they are not fixed, both neutered and spayed will map to 1 because they are fixed. In the case of unknown, it is safest to assume these dogs are not fixed for practical purposes, so I will map them to 0 also. As for the NaN, I will investigate after the mapping to see if there is any way to fill in that value. "
   ]
  },
  {
   "cell_type": "code",
   "execution_count": 138,
   "id": "64db5cba",
   "metadata": {},
   "outputs": [
    {
     "data": {
      "text/plain": [
       "array([ 0.,  1., nan])"
      ]
     },
     "execution_count": 138,
     "metadata": {},
     "output_type": "execute_result"
    }
   ],
   "source": [
    "#mapped the categorical data over to 1: know is fixed and 0: not fixed or unknown\n",
    "shelter_df['fixed_intake'] = shelter_df['fixed_intake'].map({'Spayed':1, 'Neutered':1, 'Intact':0, 'Unknown':0})\n",
    "\n",
    "shelter_df['fixed_intake'].unique()"
   ]
  },
  {
   "cell_type": "code",
   "execution_count": 139,
   "id": "96a67e15",
   "metadata": {},
   "outputs": [
    {
     "data": {
      "text/plain": [
       "1"
      ]
     },
     "execution_count": 139,
     "metadata": {},
     "output_type": "execute_result"
    }
   ],
   "source": [
    "shelter_df['fixed_intake'].isna().sum()"
   ]
  },
  {
   "cell_type": "code",
   "execution_count": 140,
   "id": "7d81e3b6",
   "metadata": {},
   "outputs": [
    {
     "data": {
      "text/plain": [
       "array([0, 1])"
      ]
     },
     "execution_count": 140,
     "metadata": {},
     "output_type": "execute_result"
    }
   ],
   "source": [
    "#filled nan with 0 because same as unknown and changed the colunm from floats to ints\n",
    "shelter_df['fixed_intake'] = shelter_df['fixed_intake'].fillna(0)\n",
    "shelter_df['fixed_intake'] = shelter_df['fixed_intake'].astype(int)\n",
    "shelter_df['fixed_intake'].unique()"
   ]
  },
  {
   "cell_type": "code",
   "execution_count": 141,
   "id": "dbfae60d",
   "metadata": {},
   "outputs": [
    {
     "name": "stdout",
     "output_type": "stream",
     "text": [
      "<class 'pandas.core.frame.DataFrame'>\n",
      "Index: 30042 entries, A683644 to A746072\n",
      "Data columns (total 24 columns):\n",
      " #   Column              Non-Null Count  Dtype         \n",
      "---  ------              --------------  -----         \n",
      " 0   Name_intake         24606 non-null  object        \n",
      " 1   Found_Location      30042 non-null  object        \n",
      " 2   Intake_Type         30042 non-null  object        \n",
      " 3   IntakeCondition     30042 non-null  object        \n",
      " 4   Outcome_Type        30041 non-null  object        \n",
      " 5   Outcome_Subtype     10152 non-null  object        \n",
      " 6   gender_intake       29884 non-null  object        \n",
      " 7   fixed_changed       30042 non-null  object        \n",
      " 8   fixed_intake        30042 non-null  int32         \n",
      " 9   fixed_outcome       30040 non-null  object        \n",
      " 10  Breed_intake        30042 non-null  object        \n",
      " 11  Color_intake        30042 non-null  object        \n",
      " 12  Date of Birth       30042 non-null  datetime64[ns]\n",
      " 13  Age_Bucket          30042 non-null  object        \n",
      " 14  Days_length         30042 non-null  object        \n",
      " 15  intake_date         30042 non-null  datetime64[ns]\n",
      " 16  outcome_date        30042 non-null  datetime64[ns]\n",
      " 17  Breed1              30042 non-null  object        \n",
      " 18  Breed2              5144 non-null   object        \n",
      " 19  Breed3              19 non-null     object        \n",
      " 20  Color1              30042 non-null  object        \n",
      " 21  Color2              19115 non-null  object        \n",
      " 22  age_months          30042 non-null  float64       \n",
      " 23  outcome_age_months  30042 non-null  float64       \n",
      "dtypes: datetime64[ns](3), float64(2), int32(1), object(18)\n",
      "memory usage: 6.6+ MB\n"
     ]
    }
   ],
   "source": [
    "EDA_shelter_df['fixed_intake'] = shelter_df['fixed_intake']\n",
    "EDA_shelter_df.info()"
   ]
  },
  {
   "cell_type": "code",
   "execution_count": 142,
   "id": "f7485a0b",
   "metadata": {},
   "outputs": [
    {
     "name": "stdout",
     "output_type": "stream",
     "text": [
      "<class 'pandas.core.frame.DataFrame'>\n",
      "Index: 30042 entries, A683644 to A746072\n",
      "Data columns (total 59 columns):\n",
      " #   Column            Non-Null Count  Dtype         \n",
      "---  ------            --------------  -----         \n",
      " 0   Name_intake       24606 non-null  object        \n",
      " 1   DateTime_intake   30042 non-null  datetime64[ns]\n",
      " 2   Found_Location    30042 non-null  object        \n",
      " 3   Intake_Type       30042 non-null  object        \n",
      " 4   IntakeCondition   30042 non-null  object        \n",
      " 5   Sex               30041 non-null  object        \n",
      " 6   Age               30042 non-null  float64       \n",
      " 7   DateTime_outcome  30042 non-null  datetime64[ns]\n",
      " 8   Outcome_Type      30041 non-null  object        \n",
      " 9   Outcome_Subtype   10152 non-null  object        \n",
      " 10  Sex_upon_Outcome  30040 non-null  object        \n",
      " 11  Age_upon_Outcome  30042 non-null  float64       \n",
      " 12  gender_intake     29884 non-null  object        \n",
      " 13  gender_outcome    29883 non-null  object        \n",
      " 14  fixed_intake      30042 non-null  int32         \n",
      " 15  fixed_changed     30042 non-null  int32         \n",
      " 16  retriever         30042 non-null  int32         \n",
      " 17  shepherd          30042 non-null  int32         \n",
      " 18  beagle            30042 non-null  int32         \n",
      " 19  terrier           30042 non-null  int32         \n",
      " 20  boxer             30042 non-null  int32         \n",
      " 21  poodle            30042 non-null  int32         \n",
      " 22  rottweiler        30042 non-null  int32         \n",
      " 23  dachshund         30042 non-null  int32         \n",
      " 24  chihuahua         30042 non-null  int32         \n",
      " 25  pit bull          30042 non-null  int32         \n",
      " 26  DateTime_length   30042 non-null  int64         \n",
      " 27  cattle dog        30042 non-null  int32         \n",
      " 28  collie            30042 non-null  int32         \n",
      " 29  catahoula         30042 non-null  int32         \n",
      " 30  schnauzer         30042 non-null  int32         \n",
      " 31  husky             30042 non-null  int32         \n",
      " 32  pyrenees          30042 non-null  int32         \n",
      " 33  shih tzu          30042 non-null  int32         \n",
      " 34  pointer           30042 non-null  int32         \n",
      " 35  bulldog           30042 non-null  int32         \n",
      " 36  kelpie            30042 non-null  int32         \n",
      " 37  black mouth cur   30042 non-null  int32         \n",
      " 38  hound             30042 non-null  int32         \n",
      " 39  heeler            30042 non-null  int32         \n",
      " 40  pinscher          30042 non-null  int32         \n",
      " 41  maltese           30042 non-null  int32         \n",
      " 42  chow              30042 non-null  int32         \n",
      " 43  pug               30042 non-null  int32         \n",
      " 44  lhasa apso        30042 non-null  int32         \n",
      " 45  pomeranian        30042 non-null  int32         \n",
      " 46  corgi             30042 non-null  int32         \n",
      " 47  spaniel           30042 non-null  int32         \n",
      " 48  blue lacy         30042 non-null  int32         \n",
      " 49  black             30042 non-null  int64         \n",
      " 50  white             30042 non-null  int64         \n",
      " 51  brown             30042 non-null  int64         \n",
      " 52  tan               30042 non-null  int64         \n",
      " 53  tricolor          30042 non-null  int64         \n",
      " 54  brindle           30042 non-null  int64         \n",
      " 55  blue              30042 non-null  int64         \n",
      " 56  red               30042 non-null  int64         \n",
      " 57  chocolate         30042 non-null  int64         \n",
      " 58  sable             30042 non-null  int64         \n",
      "dtypes: datetime64[ns](2), float64(2), int32(34), int64(11), object(10)\n",
      "memory usage: 10.9+ MB\n"
     ]
    }
   ],
   "source": [
    "shelter_df.info()"
   ]
  },
  {
   "cell_type": "markdown",
   "id": "dcd90a8b",
   "metadata": {},
   "source": [
    "## Outcome (Adopted) Columns\n",
    "<a class=\"anchor\" id=\"adopt\"></a>\n",
    "\n",
    "`Outcome_Type` - is the target variable for this project. I will dig into it and determine how best to convert the data in this column. "
   ]
  },
  {
   "cell_type": "code",
   "execution_count": 143,
   "id": "e8bed208",
   "metadata": {},
   "outputs": [
    {
     "data": {
      "text/plain": [
       "array(['Adoption', 'Return to Owner', 'Transfer', 'Euthanasia', 'Died',\n",
       "       'Missing', 'Disposal', 'Rto-Adopt', nan], dtype=object)"
      ]
     },
     "execution_count": 143,
     "metadata": {},
     "output_type": "execute_result"
    }
   ],
   "source": [
    "#what does the data look like in this columns\n",
    "shelter_df['Outcome_Type'].unique()"
   ]
  },
  {
   "cell_type": "code",
   "execution_count": 144,
   "id": "167f1fdc",
   "metadata": {},
   "outputs": [
    {
     "data": {
      "text/plain": [
       "Adoption           13225\n",
       "Return to Owner     8306\n",
       "Transfer            7087\n",
       "Euthanasia          1282\n",
       "Died                 112\n",
       "Missing               10\n",
       "Rto-Adopt             10\n",
       "Disposal               9\n",
       "Name: Outcome_Type, dtype: int64"
      ]
     },
     "execution_count": 144,
     "metadata": {},
     "output_type": "execute_result"
    }
   ],
   "source": [
    "#how many dogs are in each class\n",
    "shelter_df['Outcome_Type'].value_counts()"
   ]
  },
  {
   "cell_type": "code",
   "execution_count": 145,
   "id": "ce421b26",
   "metadata": {},
   "outputs": [
    {
     "data": {
      "text/plain": [
       "1"
      ]
     },
     "execution_count": 145,
     "metadata": {},
     "output_type": "execute_result"
    }
   ],
   "source": [
    "#are there are NaNs?\n",
    "shelter_df['Outcome_Type'].isna().sum()"
   ]
  },
  {
   "cell_type": "code",
   "execution_count": 146,
   "id": "92f41e09",
   "metadata": {},
   "outputs": [
    {
     "data": {
      "text/html": [
       "<div>\n",
       "<style scoped>\n",
       "    .dataframe tbody tr th:only-of-type {\n",
       "        vertical-align: middle;\n",
       "    }\n",
       "\n",
       "    .dataframe tbody tr th {\n",
       "        vertical-align: top;\n",
       "    }\n",
       "\n",
       "    .dataframe thead th {\n",
       "        text-align: right;\n",
       "    }\n",
       "</style>\n",
       "<table border=\"1\" class=\"dataframe\">\n",
       "  <thead>\n",
       "    <tr style=\"text-align: right;\">\n",
       "      <th></th>\n",
       "      <th>Name_intake</th>\n",
       "      <th>DateTime_intake</th>\n",
       "      <th>Found_Location</th>\n",
       "      <th>Intake_Type</th>\n",
       "      <th>IntakeCondition</th>\n",
       "      <th>Sex</th>\n",
       "      <th>Age</th>\n",
       "      <th>DateTime_outcome</th>\n",
       "      <th>Outcome_Type</th>\n",
       "      <th>Outcome_Subtype</th>\n",
       "      <th>...</th>\n",
       "      <th>black</th>\n",
       "      <th>white</th>\n",
       "      <th>brown</th>\n",
       "      <th>tan</th>\n",
       "      <th>tricolor</th>\n",
       "      <th>brindle</th>\n",
       "      <th>blue</th>\n",
       "      <th>red</th>\n",
       "      <th>chocolate</th>\n",
       "      <th>sable</th>\n",
       "    </tr>\n",
       "    <tr>\n",
       "      <th>Animal ID</th>\n",
       "      <th></th>\n",
       "      <th></th>\n",
       "      <th></th>\n",
       "      <th></th>\n",
       "      <th></th>\n",
       "      <th></th>\n",
       "      <th></th>\n",
       "      <th></th>\n",
       "      <th></th>\n",
       "      <th></th>\n",
       "      <th></th>\n",
       "      <th></th>\n",
       "      <th></th>\n",
       "      <th></th>\n",
       "      <th></th>\n",
       "      <th></th>\n",
       "      <th></th>\n",
       "      <th></th>\n",
       "      <th></th>\n",
       "      <th></th>\n",
       "      <th></th>\n",
       "    </tr>\n",
       "  </thead>\n",
       "  <tbody>\n",
       "    <tr>\n",
       "      <th>A737705</th>\n",
       "      <td>*Heddy</td>\n",
       "      <td>2016-11-02 20:15:00</td>\n",
       "      <td>1607 Barney in Austin (TX)</td>\n",
       "      <td>Stray</td>\n",
       "      <td>Normal</td>\n",
       "      <td>Intact Female</td>\n",
       "      <td>36.0</td>\n",
       "      <td>2016-11-19 16:35:00</td>\n",
       "      <td>NaN</td>\n",
       "      <td>NaN</td>\n",
       "      <td>...</td>\n",
       "      <td>1</td>\n",
       "      <td>1</td>\n",
       "      <td>0</td>\n",
       "      <td>0</td>\n",
       "      <td>0</td>\n",
       "      <td>0</td>\n",
       "      <td>0</td>\n",
       "      <td>0</td>\n",
       "      <td>0</td>\n",
       "      <td>0</td>\n",
       "    </tr>\n",
       "  </tbody>\n",
       "</table>\n",
       "<p>1 rows × 59 columns</p>\n",
       "</div>"
      ],
      "text/plain": [
       "          Name_intake     DateTime_intake              Found_Location  \\\n",
       "Animal ID                                                               \n",
       "A737705        *Heddy 2016-11-02 20:15:00  1607 Barney in Austin (TX)   \n",
       "\n",
       "          Intake_Type IntakeCondition            Sex   Age  \\\n",
       "Animal ID                                                    \n",
       "A737705         Stray          Normal  Intact Female  36.0   \n",
       "\n",
       "             DateTime_outcome Outcome_Type Outcome_Subtype  ... black  white  \\\n",
       "Animal ID                                                   ...                \n",
       "A737705   2016-11-19 16:35:00          NaN             NaN  ...     1      1   \n",
       "\n",
       "          brown tan  tricolor  brindle  blue  red  chocolate  sable  \n",
       "Animal ID                                                            \n",
       "A737705       0   0         0        0     0    0          0      0  \n",
       "\n",
       "[1 rows x 59 columns]"
      ]
     },
     "execution_count": 146,
     "metadata": {},
     "output_type": "execute_result"
    }
   ],
   "source": [
    "#which row has the NaN?\n",
    "shelter_df[shelter_df['Outcome_Type'].isna()==True]"
   ]
  },
  {
   "cell_type": "markdown",
   "id": "2a3b1a65",
   "metadata": {},
   "source": [
    "This is the same dog that was missing the age on outcome. It's possible that this dog is still at the shelter or the outcome info is missing for some other reasons. Since this one dog will not affect the predictive power of future models and it has several missing columns, I will drop it. "
   ]
  },
  {
   "cell_type": "code",
   "execution_count": 147,
   "id": "0a9db72e",
   "metadata": {},
   "outputs": [
    {
     "data": {
      "text/html": [
       "<div>\n",
       "<style scoped>\n",
       "    .dataframe tbody tr th:only-of-type {\n",
       "        vertical-align: middle;\n",
       "    }\n",
       "\n",
       "    .dataframe tbody tr th {\n",
       "        vertical-align: top;\n",
       "    }\n",
       "\n",
       "    .dataframe thead th {\n",
       "        text-align: right;\n",
       "    }\n",
       "</style>\n",
       "<table border=\"1\" class=\"dataframe\">\n",
       "  <thead>\n",
       "    <tr style=\"text-align: right;\">\n",
       "      <th></th>\n",
       "      <th>Name_intake</th>\n",
       "      <th>DateTime_intake</th>\n",
       "      <th>Found_Location</th>\n",
       "      <th>Intake_Type</th>\n",
       "      <th>IntakeCondition</th>\n",
       "      <th>Sex</th>\n",
       "      <th>Age</th>\n",
       "      <th>DateTime_outcome</th>\n",
       "      <th>Outcome_Type</th>\n",
       "      <th>Outcome_Subtype</th>\n",
       "      <th>...</th>\n",
       "      <th>black</th>\n",
       "      <th>white</th>\n",
       "      <th>brown</th>\n",
       "      <th>tan</th>\n",
       "      <th>tricolor</th>\n",
       "      <th>brindle</th>\n",
       "      <th>blue</th>\n",
       "      <th>red</th>\n",
       "      <th>chocolate</th>\n",
       "      <th>sable</th>\n",
       "    </tr>\n",
       "    <tr>\n",
       "      <th>Animal ID</th>\n",
       "      <th></th>\n",
       "      <th></th>\n",
       "      <th></th>\n",
       "      <th></th>\n",
       "      <th></th>\n",
       "      <th></th>\n",
       "      <th></th>\n",
       "      <th></th>\n",
       "      <th></th>\n",
       "      <th></th>\n",
       "      <th></th>\n",
       "      <th></th>\n",
       "      <th></th>\n",
       "      <th></th>\n",
       "      <th></th>\n",
       "      <th></th>\n",
       "      <th></th>\n",
       "      <th></th>\n",
       "      <th></th>\n",
       "      <th></th>\n",
       "      <th></th>\n",
       "    </tr>\n",
       "  </thead>\n",
       "  <tbody>\n",
       "    <tr>\n",
       "      <th>A683644</th>\n",
       "      <td>*Zoey</td>\n",
       "      <td>2014-07-13 11:02:00</td>\n",
       "      <td>Austin (TX)</td>\n",
       "      <td>Owner Surrender</td>\n",
       "      <td>Nursing</td>\n",
       "      <td>Intact Female</td>\n",
       "      <td>0.93</td>\n",
       "      <td>2014-11-06 10:06:00</td>\n",
       "      <td>Adoption</td>\n",
       "      <td>Foster</td>\n",
       "      <td>...</td>\n",
       "      <td>0</td>\n",
       "      <td>1</td>\n",
       "      <td>1</td>\n",
       "      <td>0</td>\n",
       "      <td>0</td>\n",
       "      <td>0</td>\n",
       "      <td>0</td>\n",
       "      <td>0</td>\n",
       "      <td>0</td>\n",
       "      <td>0</td>\n",
       "    </tr>\n",
       "    <tr>\n",
       "      <th>A676515</th>\n",
       "      <td>Rico</td>\n",
       "      <td>2014-04-11 08:45:00</td>\n",
       "      <td>615 E. Wonsley in Austin (TX)</td>\n",
       "      <td>Stray</td>\n",
       "      <td>Normal</td>\n",
       "      <td>Intact Male</td>\n",
       "      <td>2.00</td>\n",
       "      <td>2014-04-14 18:38:00</td>\n",
       "      <td>Return to Owner</td>\n",
       "      <td>NaN</td>\n",
       "      <td>...</td>\n",
       "      <td>0</td>\n",
       "      <td>1</td>\n",
       "      <td>1</td>\n",
       "      <td>0</td>\n",
       "      <td>0</td>\n",
       "      <td>0</td>\n",
       "      <td>0</td>\n",
       "      <td>0</td>\n",
       "      <td>0</td>\n",
       "      <td>0</td>\n",
       "    </tr>\n",
       "    <tr>\n",
       "      <th>A742953</th>\n",
       "      <td>NaN</td>\n",
       "      <td>2017-01-31 13:30:00</td>\n",
       "      <td>S Hwy 183 And Thompson Lane in Austin (TX)</td>\n",
       "      <td>Stray</td>\n",
       "      <td>Normal</td>\n",
       "      <td>Intact Male</td>\n",
       "      <td>24.00</td>\n",
       "      <td>2017-02-04 14:17:00</td>\n",
       "      <td>Transfer</td>\n",
       "      <td>Partner</td>\n",
       "      <td>...</td>\n",
       "      <td>0</td>\n",
       "      <td>0</td>\n",
       "      <td>0</td>\n",
       "      <td>0</td>\n",
       "      <td>0</td>\n",
       "      <td>0</td>\n",
       "      <td>0</td>\n",
       "      <td>0</td>\n",
       "      <td>0</td>\n",
       "      <td>1</td>\n",
       "    </tr>\n",
       "    <tr>\n",
       "      <th>A692161</th>\n",
       "      <td>George</td>\n",
       "      <td>2014-11-15 15:18:00</td>\n",
       "      <td>Avenue G/42Nd in Austin (TX)</td>\n",
       "      <td>Owner Surrender</td>\n",
       "      <td>Normal</td>\n",
       "      <td>Intact Male</td>\n",
       "      <td>5.00</td>\n",
       "      <td>2014-11-21 18:55:00</td>\n",
       "      <td>Adoption</td>\n",
       "      <td>NaN</td>\n",
       "      <td>...</td>\n",
       "      <td>0</td>\n",
       "      <td>1</td>\n",
       "      <td>1</td>\n",
       "      <td>0</td>\n",
       "      <td>0</td>\n",
       "      <td>0</td>\n",
       "      <td>0</td>\n",
       "      <td>0</td>\n",
       "      <td>0</td>\n",
       "      <td>0</td>\n",
       "    </tr>\n",
       "    <tr>\n",
       "      <th>A720597</th>\n",
       "      <td>*Franklin</td>\n",
       "      <td>2016-02-12 14:35:00</td>\n",
       "      <td>8413 Danville Dr in Austin (TX)</td>\n",
       "      <td>Stray</td>\n",
       "      <td>Injured</td>\n",
       "      <td>Intact Male</td>\n",
       "      <td>24.00</td>\n",
       "      <td>2016-02-19 16:20:00</td>\n",
       "      <td>Transfer</td>\n",
       "      <td>Partner</td>\n",
       "      <td>...</td>\n",
       "      <td>0</td>\n",
       "      <td>0</td>\n",
       "      <td>0</td>\n",
       "      <td>0</td>\n",
       "      <td>0</td>\n",
       "      <td>0</td>\n",
       "      <td>1</td>\n",
       "      <td>0</td>\n",
       "      <td>0</td>\n",
       "      <td>0</td>\n",
       "    </tr>\n",
       "    <tr>\n",
       "      <th>...</th>\n",
       "      <td>...</td>\n",
       "      <td>...</td>\n",
       "      <td>...</td>\n",
       "      <td>...</td>\n",
       "      <td>...</td>\n",
       "      <td>...</td>\n",
       "      <td>...</td>\n",
       "      <td>...</td>\n",
       "      <td>...</td>\n",
       "      <td>...</td>\n",
       "      <td>...</td>\n",
       "      <td>...</td>\n",
       "      <td>...</td>\n",
       "      <td>...</td>\n",
       "      <td>...</td>\n",
       "      <td>...</td>\n",
       "      <td>...</td>\n",
       "      <td>...</td>\n",
       "      <td>...</td>\n",
       "      <td>...</td>\n",
       "      <td>...</td>\n",
       "    </tr>\n",
       "    <tr>\n",
       "      <th>A746624</th>\n",
       "      <td>Cuddles</td>\n",
       "      <td>2017-04-05 18:39:00</td>\n",
       "      <td>Aspen Glenn Blvd &amp; Alpine Autumn Dr in Austin ...</td>\n",
       "      <td>Stray</td>\n",
       "      <td>Normal</td>\n",
       "      <td>Intact Female</td>\n",
       "      <td>72.00</td>\n",
       "      <td>2017-04-07 17:42:00</td>\n",
       "      <td>Return to Owner</td>\n",
       "      <td>NaN</td>\n",
       "      <td>...</td>\n",
       "      <td>0</td>\n",
       "      <td>1</td>\n",
       "      <td>0</td>\n",
       "      <td>0</td>\n",
       "      <td>0</td>\n",
       "      <td>0</td>\n",
       "      <td>0</td>\n",
       "      <td>0</td>\n",
       "      <td>0</td>\n",
       "      <td>0</td>\n",
       "    </tr>\n",
       "    <tr>\n",
       "      <th>A746460</th>\n",
       "      <td>Spanky</td>\n",
       "      <td>2017-04-03 15:02:00</td>\n",
       "      <td>4858 Yager Ln in Travis (TX)</td>\n",
       "      <td>Stray</td>\n",
       "      <td>Normal</td>\n",
       "      <td>Intact Male</td>\n",
       "      <td>2.00</td>\n",
       "      <td>2017-04-07 18:56:00</td>\n",
       "      <td>Adoption</td>\n",
       "      <td>NaN</td>\n",
       "      <td>...</td>\n",
       "      <td>0</td>\n",
       "      <td>1</td>\n",
       "      <td>1</td>\n",
       "      <td>0</td>\n",
       "      <td>0</td>\n",
       "      <td>0</td>\n",
       "      <td>0</td>\n",
       "      <td>0</td>\n",
       "      <td>0</td>\n",
       "      <td>0</td>\n",
       "    </tr>\n",
       "    <tr>\n",
       "      <th>A746689</th>\n",
       "      <td>Marylin</td>\n",
       "      <td>2017-04-07 12:36:00</td>\n",
       "      <td>Sweet Leaf And St Patricks in Pflugerville (TX)</td>\n",
       "      <td>Stray</td>\n",
       "      <td>Normal</td>\n",
       "      <td>Spayed Female</td>\n",
       "      <td>24.00</td>\n",
       "      <td>2017-04-08 11:32:00</td>\n",
       "      <td>Return to Owner</td>\n",
       "      <td>NaN</td>\n",
       "      <td>...</td>\n",
       "      <td>0</td>\n",
       "      <td>1</td>\n",
       "      <td>0</td>\n",
       "      <td>1</td>\n",
       "      <td>0</td>\n",
       "      <td>0</td>\n",
       "      <td>0</td>\n",
       "      <td>0</td>\n",
       "      <td>0</td>\n",
       "      <td>0</td>\n",
       "    </tr>\n",
       "    <tr>\n",
       "      <th>A746466</th>\n",
       "      <td>Wilson Fitzg</td>\n",
       "      <td>2017-04-03 15:02:00</td>\n",
       "      <td>4858 Yager Ln in Travis (TX)</td>\n",
       "      <td>Stray</td>\n",
       "      <td>Normal</td>\n",
       "      <td>Intact Male</td>\n",
       "      <td>2.00</td>\n",
       "      <td>2017-04-08 12:21:00</td>\n",
       "      <td>Adoption</td>\n",
       "      <td>Offsite</td>\n",
       "      <td>...</td>\n",
       "      <td>0</td>\n",
       "      <td>1</td>\n",
       "      <td>1</td>\n",
       "      <td>0</td>\n",
       "      <td>0</td>\n",
       "      <td>0</td>\n",
       "      <td>0</td>\n",
       "      <td>0</td>\n",
       "      <td>0</td>\n",
       "      <td>0</td>\n",
       "    </tr>\n",
       "    <tr>\n",
       "      <th>A746072</th>\n",
       "      <td>Ace</td>\n",
       "      <td>2017-03-28 16:49:00</td>\n",
       "      <td>9318 Ih 35 in Austin (TX)</td>\n",
       "      <td>Stray</td>\n",
       "      <td>Normal</td>\n",
       "      <td>Neutered Male</td>\n",
       "      <td>24.00</td>\n",
       "      <td>2017-04-01 18:50:00</td>\n",
       "      <td>Adoption</td>\n",
       "      <td>NaN</td>\n",
       "      <td>...</td>\n",
       "      <td>1</td>\n",
       "      <td>0</td>\n",
       "      <td>0</td>\n",
       "      <td>1</td>\n",
       "      <td>0</td>\n",
       "      <td>0</td>\n",
       "      <td>0</td>\n",
       "      <td>0</td>\n",
       "      <td>0</td>\n",
       "      <td>0</td>\n",
       "    </tr>\n",
       "  </tbody>\n",
       "</table>\n",
       "<p>30041 rows × 59 columns</p>\n",
       "</div>"
      ],
      "text/plain": [
       "            Name_intake     DateTime_intake  \\\n",
       "Animal ID                                     \n",
       "A683644           *Zoey 2014-07-13 11:02:00   \n",
       "A676515            Rico 2014-04-11 08:45:00   \n",
       "A742953             NaN 2017-01-31 13:30:00   \n",
       "A692161          George 2014-11-15 15:18:00   \n",
       "A720597       *Franklin 2016-02-12 14:35:00   \n",
       "...                 ...                 ...   \n",
       "A746624         Cuddles 2017-04-05 18:39:00   \n",
       "A746460          Spanky 2017-04-03 15:02:00   \n",
       "A746689         Marylin 2017-04-07 12:36:00   \n",
       "A746466    Wilson Fitzg 2017-04-03 15:02:00   \n",
       "A746072             Ace 2017-03-28 16:49:00   \n",
       "\n",
       "                                              Found_Location      Intake_Type  \\\n",
       "Animal ID                                                                       \n",
       "A683644                                          Austin (TX)  Owner Surrender   \n",
       "A676515                        615 E. Wonsley in Austin (TX)            Stray   \n",
       "A742953           S Hwy 183 And Thompson Lane in Austin (TX)            Stray   \n",
       "A692161                         Avenue G/42Nd in Austin (TX)  Owner Surrender   \n",
       "A720597                      8413 Danville Dr in Austin (TX)            Stray   \n",
       "...                                                      ...              ...   \n",
       "A746624    Aspen Glenn Blvd & Alpine Autumn Dr in Austin ...            Stray   \n",
       "A746460                         4858 Yager Ln in Travis (TX)            Stray   \n",
       "A746689      Sweet Leaf And St Patricks in Pflugerville (TX)            Stray   \n",
       "A746466                         4858 Yager Ln in Travis (TX)            Stray   \n",
       "A746072                            9318 Ih 35 in Austin (TX)            Stray   \n",
       "\n",
       "          IntakeCondition            Sex    Age    DateTime_outcome  \\\n",
       "Animal ID                                                             \n",
       "A683644           Nursing  Intact Female   0.93 2014-11-06 10:06:00   \n",
       "A676515            Normal    Intact Male   2.00 2014-04-14 18:38:00   \n",
       "A742953            Normal    Intact Male  24.00 2017-02-04 14:17:00   \n",
       "A692161            Normal    Intact Male   5.00 2014-11-21 18:55:00   \n",
       "A720597           Injured    Intact Male  24.00 2016-02-19 16:20:00   \n",
       "...                   ...            ...    ...                 ...   \n",
       "A746624            Normal  Intact Female  72.00 2017-04-07 17:42:00   \n",
       "A746460            Normal    Intact Male   2.00 2017-04-07 18:56:00   \n",
       "A746689            Normal  Spayed Female  24.00 2017-04-08 11:32:00   \n",
       "A746466            Normal    Intact Male   2.00 2017-04-08 12:21:00   \n",
       "A746072            Normal  Neutered Male  24.00 2017-04-01 18:50:00   \n",
       "\n",
       "              Outcome_Type Outcome_Subtype  ... black  white brown tan  \\\n",
       "Animal ID                                   ...                          \n",
       "A683644           Adoption          Foster  ...     0      1     1   0   \n",
       "A676515    Return to Owner             NaN  ...     0      1     1   0   \n",
       "A742953           Transfer         Partner  ...     0      0     0   0   \n",
       "A692161           Adoption             NaN  ...     0      1     1   0   \n",
       "A720597           Transfer         Partner  ...     0      0     0   0   \n",
       "...                    ...             ...  ...   ...    ...   ...  ..   \n",
       "A746624    Return to Owner             NaN  ...     0      1     0   0   \n",
       "A746460           Adoption             NaN  ...     0      1     1   0   \n",
       "A746689    Return to Owner             NaN  ...     0      1     0   1   \n",
       "A746466           Adoption         Offsite  ...     0      1     1   0   \n",
       "A746072           Adoption             NaN  ...     1      0     0   1   \n",
       "\n",
       "           tricolor  brindle  blue  red  chocolate  sable  \n",
       "Animal ID                                                  \n",
       "A683644           0        0     0    0          0      0  \n",
       "A676515           0        0     0    0          0      0  \n",
       "A742953           0        0     0    0          0      1  \n",
       "A692161           0        0     0    0          0      0  \n",
       "A720597           0        0     1    0          0      0  \n",
       "...             ...      ...   ...  ...        ...    ...  \n",
       "A746624           0        0     0    0          0      0  \n",
       "A746460           0        0     0    0          0      0  \n",
       "A746689           0        0     0    0          0      0  \n",
       "A746466           0        0     0    0          0      0  \n",
       "A746072           0        0     0    0          0      0  \n",
       "\n",
       "[30041 rows x 59 columns]"
      ]
     },
     "execution_count": 147,
     "metadata": {},
     "output_type": "execute_result"
    }
   ],
   "source": [
    "#all of the rows with outcome status\n",
    "shelter_df[shelter_df['Outcome_Type'].isna()!=True]"
   ]
  },
  {
   "cell_type": "code",
   "execution_count": 148,
   "id": "f6a87bb2",
   "metadata": {
    "scrolled": true
   },
   "outputs": [
    {
     "name": "stdout",
     "output_type": "stream",
     "text": [
      "<class 'pandas.core.frame.DataFrame'>\n",
      "Index: 30041 entries, A683644 to A746072\n",
      "Data columns (total 59 columns):\n",
      " #   Column            Non-Null Count  Dtype         \n",
      "---  ------            --------------  -----         \n",
      " 0   Name_intake       24605 non-null  object        \n",
      " 1   DateTime_intake   30041 non-null  datetime64[ns]\n",
      " 2   Found_Location    30041 non-null  object        \n",
      " 3   Intake_Type       30041 non-null  object        \n",
      " 4   IntakeCondition   30041 non-null  object        \n",
      " 5   Sex               30040 non-null  object        \n",
      " 6   Age               30041 non-null  float64       \n",
      " 7   DateTime_outcome  30041 non-null  datetime64[ns]\n",
      " 8   Outcome_Type      30041 non-null  object        \n",
      " 9   Outcome_Subtype   10152 non-null  object        \n",
      " 10  Sex_upon_Outcome  30040 non-null  object        \n",
      " 11  Age_upon_Outcome  30041 non-null  float64       \n",
      " 12  gender_intake     29883 non-null  object        \n",
      " 13  gender_outcome    29883 non-null  object        \n",
      " 14  fixed_intake      30041 non-null  int32         \n",
      " 15  fixed_changed     30041 non-null  int32         \n",
      " 16  retriever         30041 non-null  int32         \n",
      " 17  shepherd          30041 non-null  int32         \n",
      " 18  beagle            30041 non-null  int32         \n",
      " 19  terrier           30041 non-null  int32         \n",
      " 20  boxer             30041 non-null  int32         \n",
      " 21  poodle            30041 non-null  int32         \n",
      " 22  rottweiler        30041 non-null  int32         \n",
      " 23  dachshund         30041 non-null  int32         \n",
      " 24  chihuahua         30041 non-null  int32         \n",
      " 25  pit bull          30041 non-null  int32         \n",
      " 26  DateTime_length   30041 non-null  int64         \n",
      " 27  cattle dog        30041 non-null  int32         \n",
      " 28  collie            30041 non-null  int32         \n",
      " 29  catahoula         30041 non-null  int32         \n",
      " 30  schnauzer         30041 non-null  int32         \n",
      " 31  husky             30041 non-null  int32         \n",
      " 32  pyrenees          30041 non-null  int32         \n",
      " 33  shih tzu          30041 non-null  int32         \n",
      " 34  pointer           30041 non-null  int32         \n",
      " 35  bulldog           30041 non-null  int32         \n",
      " 36  kelpie            30041 non-null  int32         \n",
      " 37  black mouth cur   30041 non-null  int32         \n",
      " 38  hound             30041 non-null  int32         \n",
      " 39  heeler            30041 non-null  int32         \n",
      " 40  pinscher          30041 non-null  int32         \n",
      " 41  maltese           30041 non-null  int32         \n",
      " 42  chow              30041 non-null  int32         \n",
      " 43  pug               30041 non-null  int32         \n",
      " 44  lhasa apso        30041 non-null  int32         \n",
      " 45  pomeranian        30041 non-null  int32         \n",
      " 46  corgi             30041 non-null  int32         \n",
      " 47  spaniel           30041 non-null  int32         \n",
      " 48  blue lacy         30041 non-null  int32         \n",
      " 49  black             30041 non-null  int64         \n",
      " 50  white             30041 non-null  int64         \n",
      " 51  brown             30041 non-null  int64         \n",
      " 52  tan               30041 non-null  int64         \n",
      " 53  tricolor          30041 non-null  int64         \n",
      " 54  brindle           30041 non-null  int64         \n",
      " 55  blue              30041 non-null  int64         \n",
      " 56  red               30041 non-null  int64         \n",
      " 57  chocolate         30041 non-null  int64         \n",
      " 58  sable             30041 non-null  int64         \n",
      "dtypes: datetime64[ns](2), float64(2), int32(34), int64(11), object(10)\n",
      "memory usage: 9.9+ MB\n"
     ]
    }
   ],
   "source": [
    "#the new df after dropping that column\n",
    "shelter_df = shelter_df[shelter_df['Outcome_Type'].isna()!=True]\n",
    "shelter_df.info()"
   ]
  },
  {
   "cell_type": "raw",
   "id": "ad078ddb",
   "metadata": {},
   "source": [
    "Considering these outcome classes for the target variable I would like to make 2 seperate data frames. The first will be all adopted dogs (1) versus all dogs that were not adopted (0). The second will be more specific because it does not seem fair to say that dogs that were returned to their owner or died were not adoptable. This is data frame dogs that were adopted will be 1 and dogs that were transfered or euthenized will be 0. I will ssplit the current shelter df into to data frames now. `shelter_df` will be processed with all adopted dogs compared to all dogs not adopted and `adopt_partner_shelter_df` will be all adopted dogs versus transfered or euthanized dogs. "
   ]
  },
  {
   "cell_type": "code",
   "execution_count": 149,
   "id": "0e27b034",
   "metadata": {},
   "outputs": [],
   "source": [
    "#copy to df to make a more specific target variable category\n",
    "adopt_partner_shelter_df = shelter_df.copy()\n",
    "\n",
    "#only keep adopted, transfered or euthanized dogs\n",
    "adopt_partner_shelter_df = adopt_partner_shelter_df[(adopt_partner_shelter_df['Outcome_Type'] == 'Transfer')\n",
    "                                                    |(adopt_partner_shelter_df['Outcome_Type'] == 'Adoption')\n",
    "                                                    |(adopt_partner_shelter_df['Outcome_Type'] == 'Euthanasia')]"
   ]
  },
  {
   "cell_type": "code",
   "execution_count": 150,
   "id": "f4d3b7f8",
   "metadata": {},
   "outputs": [
    {
     "data": {
      "text/plain": [
       "(21594, 59)"
      ]
     },
     "execution_count": 150,
     "metadata": {},
     "output_type": "execute_result"
    }
   ],
   "source": [
    "#how many dogs are left after dropping the other outcome types\n",
    "adopt_partner_shelter_df.shape"
   ]
  },
  {
   "cell_type": "markdown",
   "id": "ef893b28",
   "metadata": {},
   "source": [
    "There are around 9000 fewer rows in this df, but this should still be enough data to build a model. Now I will convert the outcome type for the shelter df where adopt is 1 and all other outcomes are 0. "
   ]
  },
  {
   "cell_type": "code",
   "execution_count": 151,
   "id": "a4c028cb",
   "metadata": {},
   "outputs": [
    {
     "data": {
      "text/plain": [
       "0"
      ]
     },
     "execution_count": 151,
     "metadata": {},
     "output_type": "execute_result"
    }
   ],
   "source": [
    "#are there any NaNs\n",
    "shelter_df['Outcome_Type'].isna().sum()"
   ]
  },
  {
   "cell_type": "code",
   "execution_count": 152,
   "id": "50f04c04",
   "metadata": {},
   "outputs": [
    {
     "data": {
      "text/plain": [
       "0"
      ]
     },
     "execution_count": 152,
     "metadata": {},
     "output_type": "execute_result"
    }
   ],
   "source": [
    "#are there any NaNs\n",
    "adopt_partner_shelter_df['Outcome_Type'].isna().sum()"
   ]
  },
  {
   "cell_type": "code",
   "execution_count": 153,
   "id": "3eb00aee",
   "metadata": {},
   "outputs": [
    {
     "name": "stdout",
     "output_type": "stream",
     "text": [
      "0\n",
      "0\n"
     ]
    }
   ],
   "source": [
    "#convert outcome to binary\n",
    "shelter_df['Outcome_Type'] = np.where(shelter_df['Outcome_Type']=='Adoption', 1, 0)\n",
    "adopt_partner_shelter_df['Outcome_Type'] = np.where(adopt_partner_shelter_df['Outcome_Type']=='Adoption', 1, 0)\n",
    "\n",
    "#check to make sure there are no NaNs after the mapping\n",
    "print(shelter_df['Outcome_Type'].isna().sum())\n",
    "print(adopt_partner_shelter_df['Outcome_Type'].isna().sum())"
   ]
  },
  {
   "cell_type": "code",
   "execution_count": 154,
   "id": "c596c299",
   "metadata": {},
   "outputs": [
    {
     "data": {
      "text/plain": [
       "count    30041.000000\n",
       "mean         0.440232\n",
       "std          0.496423\n",
       "min          0.000000\n",
       "25%          0.000000\n",
       "50%          0.000000\n",
       "75%          1.000000\n",
       "max          1.000000\n",
       "Name: Outcome_Type, dtype: float64"
      ]
     },
     "execution_count": 154,
     "metadata": {},
     "output_type": "execute_result"
    }
   ],
   "source": [
    "#does the target variable column make sense? \n",
    "shelter_df['Outcome_Type'].describe()"
   ]
  },
  {
   "cell_type": "code",
   "execution_count": 155,
   "id": "33b5a9b5",
   "metadata": {},
   "outputs": [
    {
     "data": {
      "text/plain": [
       "count    21594.000000\n",
       "mean         0.612439\n",
       "std          0.487205\n",
       "min          0.000000\n",
       "25%          0.000000\n",
       "50%          1.000000\n",
       "75%          1.000000\n",
       "max          1.000000\n",
       "Name: Outcome_Type, dtype: float64"
      ]
     },
     "execution_count": 155,
     "metadata": {},
     "output_type": "execute_result"
    }
   ],
   "source": [
    "#does the target variable column make siense?\n",
    "adopt_partner_shelter_df['Outcome_Type'].describe()"
   ]
  },
  {
   "cell_type": "markdown",
   "id": "0e50c41e",
   "metadata": {},
   "source": [
    "Both data frames now have a binary target variable column based on the criteria mentioned above. The distributions are logical for the dataset I'm working with and there are no NaNs in the column. Now I will convert the columns to int values. I will not include this in the EDA df because it already has the outcome types that can be grouped on Tableau. "
   ]
  },
  {
   "cell_type": "code",
   "execution_count": 156,
   "id": "d9f8f89c",
   "metadata": {},
   "outputs": [
    {
     "name": "stdout",
     "output_type": "stream",
     "text": [
      "[1 0]\n"
     ]
    },
    {
     "data": {
      "text/plain": [
       "array([1, 0])"
      ]
     },
     "execution_count": 156,
     "metadata": {},
     "output_type": "execute_result"
    }
   ],
   "source": [
    "#change the colunm  to ints\n",
    "shelter_df['Outcome_Type'] = shelter_df['Outcome_Type'].astype(int)\n",
    "adopt_partner_shelter_df['Outcome_Type'] = adopt_partner_shelter_df['Outcome_Type'].astype(int)\n",
    "print(shelter_df['Outcome_Type'].unique())\n",
    "adopt_partner_shelter_df['Outcome_Type'].unique()"
   ]
  },
  {
   "cell_type": "markdown",
   "id": "d0c4c908",
   "metadata": {},
   "source": [
    "For the `Outcome_Subtype` column I will take a look at the data and determine what I should do to clean it."
   ]
  },
  {
   "cell_type": "code",
   "execution_count": 157,
   "id": "fe418a05",
   "metadata": {},
   "outputs": [
    {
     "data": {
      "text/plain": [
       "array(['Foster', nan, 'Partner', 'Aggressive', 'Suffering', 'Offsite',\n",
       "       'Behavior', 'In Kennel', 'Medical', 'Rabies Risk',\n",
       "       'Possible Theft', 'At Vet', 'In Foster', 'In Surgery',\n",
       "       'Court/Investigation', 'Enroute', 'Barn'], dtype=object)"
      ]
     },
     "execution_count": 157,
     "metadata": {},
     "output_type": "execute_result"
    }
   ],
   "source": [
    "#what does the data look like\n",
    "shelter_df['Outcome_Subtype'].unique()"
   ]
  },
  {
   "cell_type": "code",
   "execution_count": 158,
   "id": "1df4f387",
   "metadata": {},
   "outputs": [
    {
     "data": {
      "text/plain": [
       "Partner                7086\n",
       "Foster                 1519\n",
       "Suffering               608\n",
       "Aggressive              411\n",
       "Offsite                 161\n",
       "Behavior                124\n",
       "In Kennel                71\n",
       "Rabies Risk              71\n",
       "Medical                  53\n",
       "In Foster                17\n",
       "At Vet                   11\n",
       "Court/Investigation      11\n",
       "In Surgery                4\n",
       "Possible Theft            2\n",
       "Enroute                   2\n",
       "Barn                      1\n",
       "Name: Outcome_Subtype, dtype: int64"
      ]
     },
     "execution_count": 158,
     "metadata": {},
     "output_type": "execute_result"
    }
   ],
   "source": [
    "#what is the distribution\n",
    "shelter_df['Outcome_Subtype'].value_counts()"
   ]
  },
  {
   "cell_type": "code",
   "execution_count": 159,
   "id": "5a28db3c",
   "metadata": {},
   "outputs": [
    {
     "data": {
      "text/plain": [
       "Outcome_Type  Outcome_Subtype    \n",
       "0             Aggressive              411\n",
       "              At Vet                   11\n",
       "              Barn                      1\n",
       "              Behavior                124\n",
       "              Court/Investigation      11\n",
       "              Enroute                   2\n",
       "              In Foster                17\n",
       "              In Kennel                71\n",
       "              In Surgery                4\n",
       "              Medical                  53\n",
       "              Partner                7086\n",
       "              Possible Theft            2\n",
       "              Rabies Risk              71\n",
       "              Suffering               608\n",
       "1             Foster                 1519\n",
       "              Offsite                 161\n",
       "Name: Outcome_Type, dtype: int64"
      ]
     },
     "execution_count": 159,
     "metadata": {},
     "output_type": "execute_result"
    }
   ],
   "source": [
    "#are these categories mutually exclusive among the outcome types\n",
    "shelter_df.groupby(['Outcome_Type', 'Outcome_Subtype'])['Outcome_Type'].count()"
   ]
  },
  {
   "cell_type": "code",
   "execution_count": 160,
   "id": "1a7285c1",
   "metadata": {},
   "outputs": [
    {
     "data": {
      "text/plain": [
       "19889"
      ]
     },
     "execution_count": 160,
     "metadata": {},
     "output_type": "execute_result"
    }
   ],
   "source": [
    "#how many null values are there\n",
    "shelter_df['Outcome_Subtype'].isna().sum()"
   ]
  },
  {
   "cell_type": "markdown",
   "id": "57a4aa06",
   "metadata": {},
   "source": [
    "Considering there are so many NaNs and the 2 largest subtypes Partner and Foster are indicative of their outcome type, I feel comfortable deleting this column all together. "
   ]
  },
  {
   "cell_type": "code",
   "execution_count": 161,
   "id": "157a7042",
   "metadata": {},
   "outputs": [
    {
     "name": "stdout",
     "output_type": "stream",
     "text": [
      "<class 'pandas.core.frame.DataFrame'>\n",
      "Index: 30041 entries, A683644 to A746072\n",
      "Data columns (total 58 columns):\n",
      " #   Column            Non-Null Count  Dtype         \n",
      "---  ------            --------------  -----         \n",
      " 0   Name_intake       24605 non-null  object        \n",
      " 1   DateTime_intake   30041 non-null  datetime64[ns]\n",
      " 2   Found_Location    30041 non-null  object        \n",
      " 3   Intake_Type       30041 non-null  object        \n",
      " 4   IntakeCondition   30041 non-null  object        \n",
      " 5   Sex               30040 non-null  object        \n",
      " 6   Age               30041 non-null  float64       \n",
      " 7   DateTime_outcome  30041 non-null  datetime64[ns]\n",
      " 8   Outcome_Type      30041 non-null  int32         \n",
      " 9   Sex_upon_Outcome  30040 non-null  object        \n",
      " 10  Age_upon_Outcome  30041 non-null  float64       \n",
      " 11  gender_intake     29883 non-null  object        \n",
      " 12  gender_outcome    29883 non-null  object        \n",
      " 13  fixed_intake      30041 non-null  int32         \n",
      " 14  fixed_changed     30041 non-null  int32         \n",
      " 15  retriever         30041 non-null  int32         \n",
      " 16  shepherd          30041 non-null  int32         \n",
      " 17  beagle            30041 non-null  int32         \n",
      " 18  terrier           30041 non-null  int32         \n",
      " 19  boxer             30041 non-null  int32         \n",
      " 20  poodle            30041 non-null  int32         \n",
      " 21  rottweiler        30041 non-null  int32         \n",
      " 22  dachshund         30041 non-null  int32         \n",
      " 23  chihuahua         30041 non-null  int32         \n",
      " 24  pit bull          30041 non-null  int32         \n",
      " 25  DateTime_length   30041 non-null  int64         \n",
      " 26  cattle dog        30041 non-null  int32         \n",
      " 27  collie            30041 non-null  int32         \n",
      " 28  catahoula         30041 non-null  int32         \n",
      " 29  schnauzer         30041 non-null  int32         \n",
      " 30  husky             30041 non-null  int32         \n",
      " 31  pyrenees          30041 non-null  int32         \n",
      " 32  shih tzu          30041 non-null  int32         \n",
      " 33  pointer           30041 non-null  int32         \n",
      " 34  bulldog           30041 non-null  int32         \n",
      " 35  kelpie            30041 non-null  int32         \n",
      " 36  black mouth cur   30041 non-null  int32         \n",
      " 37  hound             30041 non-null  int32         \n",
      " 38  heeler            30041 non-null  int32         \n",
      " 39  pinscher          30041 non-null  int32         \n",
      " 40  maltese           30041 non-null  int32         \n",
      " 41  chow              30041 non-null  int32         \n",
      " 42  pug               30041 non-null  int32         \n",
      " 43  lhasa apso        30041 non-null  int32         \n",
      " 44  pomeranian        30041 non-null  int32         \n",
      " 45  corgi             30041 non-null  int32         \n",
      " 46  spaniel           30041 non-null  int32         \n",
      " 47  blue lacy         30041 non-null  int32         \n",
      " 48  black             30041 non-null  int64         \n",
      " 49  white             30041 non-null  int64         \n",
      " 50  brown             30041 non-null  int64         \n",
      " 51  tan               30041 non-null  int64         \n",
      " 52  tricolor          30041 non-null  int64         \n",
      " 53  brindle           30041 non-null  int64         \n",
      " 54  blue              30041 non-null  int64         \n",
      " 55  red               30041 non-null  int64         \n",
      " 56  chocolate         30041 non-null  int64         \n",
      " 57  sable             30041 non-null  int64         \n",
      "dtypes: datetime64[ns](2), float64(2), int32(35), int64(11), object(8)\n",
      "memory usage: 9.5+ MB\n"
     ]
    }
   ],
   "source": [
    "#drop the subtype column\n",
    "shelter_df.drop('Outcome_Subtype', axis=1, inplace=True)\n",
    "adopt_partner_shelter_df.drop('Outcome_Subtype', axis=1, inplace=True)\n",
    "shelter_df.info()"
   ]
  },
  {
   "cell_type": "markdown",
   "id": "e28ec3be",
   "metadata": {},
   "source": [
    "Not that the outcome columns are cleaned up, I will move onto the gender and sex columns. "
   ]
  },
  {
   "cell_type": "markdown",
   "id": "88cd9842",
   "metadata": {},
   "source": [
    "# Gender and Sex Columns\n",
    "<a class=\"anchor\" id=\"sex\"></a>\n",
    "\n",
    "With just a few more columns that need to be cleaned, I would like to compare the `gender_intake` and `gender_outcome` columns. Logically speaking, there shouldn't be a change in gender at the shelter, so I will look into why these columns were not considered duplicates. I will also look into the 'Sex' column because this should be the same as gender for dogs. "
   ]
  },
  {
   "cell_type": "code",
   "execution_count": 162,
   "id": "010dd3ca",
   "metadata": {},
   "outputs": [
    {
     "data": {
      "text/html": [
       "<div>\n",
       "<style scoped>\n",
       "    .dataframe tbody tr th:only-of-type {\n",
       "        vertical-align: middle;\n",
       "    }\n",
       "\n",
       "    .dataframe tbody tr th {\n",
       "        vertical-align: top;\n",
       "    }\n",
       "\n",
       "    .dataframe thead th {\n",
       "        text-align: right;\n",
       "    }\n",
       "</style>\n",
       "<table border=\"1\" class=\"dataframe\">\n",
       "  <thead>\n",
       "    <tr style=\"text-align: right;\">\n",
       "      <th></th>\n",
       "      <th>gender_intake</th>\n",
       "      <th>gender_outcome</th>\n",
       "      <th>Sex</th>\n",
       "      <th>Sex_upon_Outcome</th>\n",
       "    </tr>\n",
       "    <tr>\n",
       "      <th>Animal ID</th>\n",
       "      <th></th>\n",
       "      <th></th>\n",
       "      <th></th>\n",
       "      <th></th>\n",
       "    </tr>\n",
       "  </thead>\n",
       "  <tbody>\n",
       "    <tr>\n",
       "      <th>A683644</th>\n",
       "      <td>Female</td>\n",
       "      <td>Female</td>\n",
       "      <td>Intact Female</td>\n",
       "      <td>Spayed Female</td>\n",
       "    </tr>\n",
       "    <tr>\n",
       "      <th>A676515</th>\n",
       "      <td>Male</td>\n",
       "      <td>Male</td>\n",
       "      <td>Intact Male</td>\n",
       "      <td>Neutered Male</td>\n",
       "    </tr>\n",
       "    <tr>\n",
       "      <th>A742953</th>\n",
       "      <td>Male</td>\n",
       "      <td>Male</td>\n",
       "      <td>Intact Male</td>\n",
       "      <td>Intact Male</td>\n",
       "    </tr>\n",
       "    <tr>\n",
       "      <th>A692161</th>\n",
       "      <td>Male</td>\n",
       "      <td>Male</td>\n",
       "      <td>Intact Male</td>\n",
       "      <td>Neutered Male</td>\n",
       "    </tr>\n",
       "    <tr>\n",
       "      <th>A720597</th>\n",
       "      <td>Male</td>\n",
       "      <td>Male</td>\n",
       "      <td>Intact Male</td>\n",
       "      <td>Intact Male</td>\n",
       "    </tr>\n",
       "    <tr>\n",
       "      <th>...</th>\n",
       "      <td>...</td>\n",
       "      <td>...</td>\n",
       "      <td>...</td>\n",
       "      <td>...</td>\n",
       "    </tr>\n",
       "    <tr>\n",
       "      <th>A746624</th>\n",
       "      <td>Female</td>\n",
       "      <td>Female</td>\n",
       "      <td>Intact Female</td>\n",
       "      <td>Intact Female</td>\n",
       "    </tr>\n",
       "    <tr>\n",
       "      <th>A746460</th>\n",
       "      <td>Male</td>\n",
       "      <td>Male</td>\n",
       "      <td>Intact Male</td>\n",
       "      <td>Neutered Male</td>\n",
       "    </tr>\n",
       "    <tr>\n",
       "      <th>A746689</th>\n",
       "      <td>Female</td>\n",
       "      <td>Female</td>\n",
       "      <td>Spayed Female</td>\n",
       "      <td>Spayed Female</td>\n",
       "    </tr>\n",
       "    <tr>\n",
       "      <th>A746466</th>\n",
       "      <td>Male</td>\n",
       "      <td>Male</td>\n",
       "      <td>Intact Male</td>\n",
       "      <td>Neutered Male</td>\n",
       "    </tr>\n",
       "    <tr>\n",
       "      <th>A746072</th>\n",
       "      <td>Male</td>\n",
       "      <td>Male</td>\n",
       "      <td>Neutered Male</td>\n",
       "      <td>Neutered Male</td>\n",
       "    </tr>\n",
       "  </tbody>\n",
       "</table>\n",
       "<p>30041 rows × 4 columns</p>\n",
       "</div>"
      ],
      "text/plain": [
       "          gender_intake gender_outcome            Sex Sex_upon_Outcome\n",
       "Animal ID                                                             \n",
       "A683644          Female         Female  Intact Female    Spayed Female\n",
       "A676515            Male           Male    Intact Male    Neutered Male\n",
       "A742953            Male           Male    Intact Male      Intact Male\n",
       "A692161            Male           Male    Intact Male    Neutered Male\n",
       "A720597            Male           Male    Intact Male      Intact Male\n",
       "...                 ...            ...            ...              ...\n",
       "A746624          Female         Female  Intact Female    Intact Female\n",
       "A746460            Male           Male    Intact Male    Neutered Male\n",
       "A746689          Female         Female  Spayed Female    Spayed Female\n",
       "A746466            Male           Male    Intact Male    Neutered Male\n",
       "A746072            Male           Male  Neutered Male    Neutered Male\n",
       "\n",
       "[30041 rows x 4 columns]"
      ]
     },
     "execution_count": 162,
     "metadata": {},
     "output_type": "execute_result"
    }
   ],
   "source": [
    "#what do these columns look like\n",
    "shelter_df[['gender_intake', 'gender_outcome', 'Sex', 'Sex_upon_Outcome']]"
   ]
  },
  {
   "cell_type": "code",
   "execution_count": 163,
   "id": "dbdf0046",
   "metadata": {},
   "outputs": [
    {
     "data": {
      "text/plain": [
       "array(['Intact Female', 'Intact Male', 'Neutered Male', 'Spayed Female',\n",
       "       'Unknown', nan], dtype=object)"
      ]
     },
     "execution_count": 163,
     "metadata": {},
     "output_type": "execute_result"
    }
   ],
   "source": [
    "#what are the classes\n",
    "shelter_df['Sex'].unique()"
   ]
  },
  {
   "cell_type": "code",
   "execution_count": 164,
   "id": "ec9969cc",
   "metadata": {},
   "outputs": [
    {
     "data": {
      "text/plain": [
       "1"
      ]
     },
     "execution_count": 164,
     "metadata": {},
     "output_type": "execute_result"
    }
   ],
   "source": [
    "#how many NaNs are there?\n",
    "shelter_df['Sex'].isna().sum()"
   ]
  },
  {
   "cell_type": "code",
   "execution_count": 165,
   "id": "91cfa16e",
   "metadata": {},
   "outputs": [
    {
     "data": {
      "text/html": [
       "<div>\n",
       "<style scoped>\n",
       "    .dataframe tbody tr th:only-of-type {\n",
       "        vertical-align: middle;\n",
       "    }\n",
       "\n",
       "    .dataframe tbody tr th {\n",
       "        vertical-align: top;\n",
       "    }\n",
       "\n",
       "    .dataframe thead th {\n",
       "        text-align: right;\n",
       "    }\n",
       "</style>\n",
       "<table border=\"1\" class=\"dataframe\">\n",
       "  <thead>\n",
       "    <tr style=\"text-align: right;\">\n",
       "      <th></th>\n",
       "      <th>Name_intake</th>\n",
       "      <th>DateTime_intake</th>\n",
       "      <th>Found_Location</th>\n",
       "      <th>Intake_Type</th>\n",
       "      <th>IntakeCondition</th>\n",
       "      <th>Sex</th>\n",
       "      <th>Age</th>\n",
       "      <th>DateTime_outcome</th>\n",
       "      <th>Outcome_Type</th>\n",
       "      <th>Sex_upon_Outcome</th>\n",
       "      <th>...</th>\n",
       "      <th>black</th>\n",
       "      <th>white</th>\n",
       "      <th>brown</th>\n",
       "      <th>tan</th>\n",
       "      <th>tricolor</th>\n",
       "      <th>brindle</th>\n",
       "      <th>blue</th>\n",
       "      <th>red</th>\n",
       "      <th>chocolate</th>\n",
       "      <th>sable</th>\n",
       "    </tr>\n",
       "    <tr>\n",
       "      <th>Animal ID</th>\n",
       "      <th></th>\n",
       "      <th></th>\n",
       "      <th></th>\n",
       "      <th></th>\n",
       "      <th></th>\n",
       "      <th></th>\n",
       "      <th></th>\n",
       "      <th></th>\n",
       "      <th></th>\n",
       "      <th></th>\n",
       "      <th></th>\n",
       "      <th></th>\n",
       "      <th></th>\n",
       "      <th></th>\n",
       "      <th></th>\n",
       "      <th></th>\n",
       "      <th></th>\n",
       "      <th></th>\n",
       "      <th></th>\n",
       "      <th></th>\n",
       "      <th></th>\n",
       "    </tr>\n",
       "  </thead>\n",
       "  <tbody>\n",
       "    <tr>\n",
       "      <th>A667395</th>\n",
       "      <td>Diego</td>\n",
       "      <td>2013-11-17 13:15:00</td>\n",
       "      <td>Pflugerville (TX)</td>\n",
       "      <td>Owner Surrender</td>\n",
       "      <td>Normal</td>\n",
       "      <td>NaN</td>\n",
       "      <td>84.0</td>\n",
       "      <td>2013-11-27 16:11:00</td>\n",
       "      <td>0</td>\n",
       "      <td>NaN</td>\n",
       "      <td>...</td>\n",
       "      <td>0</td>\n",
       "      <td>0</td>\n",
       "      <td>1</td>\n",
       "      <td>0</td>\n",
       "      <td>0</td>\n",
       "      <td>0</td>\n",
       "      <td>0</td>\n",
       "      <td>0</td>\n",
       "      <td>0</td>\n",
       "      <td>0</td>\n",
       "    </tr>\n",
       "  </tbody>\n",
       "</table>\n",
       "<p>1 rows × 58 columns</p>\n",
       "</div>"
      ],
      "text/plain": [
       "          Name_intake     DateTime_intake     Found_Location      Intake_Type  \\\n",
       "Animal ID                                                                       \n",
       "A667395         Diego 2013-11-17 13:15:00  Pflugerville (TX)  Owner Surrender   \n",
       "\n",
       "          IntakeCondition  Sex   Age    DateTime_outcome  Outcome_Type  \\\n",
       "Animal ID                                                                \n",
       "A667395            Normal  NaN  84.0 2013-11-27 16:11:00             0   \n",
       "\n",
       "          Sex_upon_Outcome  ...  black white brown  tan  tricolor  brindle  \\\n",
       "Animal ID                   ...                                              \n",
       "A667395                NaN  ...      0     0     1    0         0        0   \n",
       "\n",
       "           blue  red  chocolate  sable  \n",
       "Animal ID                               \n",
       "A667395       0    0          0      0  \n",
       "\n",
       "[1 rows x 58 columns]"
      ]
     },
     "execution_count": 165,
     "metadata": {},
     "output_type": "execute_result"
    }
   ],
   "source": [
    "#which row has the nan value, can other columns help us fill it in?\n",
    "shelter_df[shelter_df['Sex'].isna()==True]"
   ]
  },
  {
   "cell_type": "code",
   "execution_count": 166,
   "id": "0aff5590",
   "metadata": {},
   "outputs": [
    {
     "data": {
      "text/html": [
       "<div>\n",
       "<style scoped>\n",
       "    .dataframe tbody tr th:only-of-type {\n",
       "        vertical-align: middle;\n",
       "    }\n",
       "\n",
       "    .dataframe tbody tr th {\n",
       "        vertical-align: top;\n",
       "    }\n",
       "\n",
       "    .dataframe thead th {\n",
       "        text-align: right;\n",
       "    }\n",
       "</style>\n",
       "<table border=\"1\" class=\"dataframe\">\n",
       "  <thead>\n",
       "    <tr style=\"text-align: right;\">\n",
       "      <th></th>\n",
       "      <th>gender_intake</th>\n",
       "      <th>gender_outcome</th>\n",
       "      <th>Sex</th>\n",
       "      <th>Sex_upon_Outcome</th>\n",
       "    </tr>\n",
       "    <tr>\n",
       "      <th>Animal ID</th>\n",
       "      <th></th>\n",
       "      <th></th>\n",
       "      <th></th>\n",
       "      <th></th>\n",
       "    </tr>\n",
       "  </thead>\n",
       "  <tbody>\n",
       "    <tr>\n",
       "      <th>A667395</th>\n",
       "      <td>NaN</td>\n",
       "      <td>NaN</td>\n",
       "      <td>NaN</td>\n",
       "      <td>NaN</td>\n",
       "    </tr>\n",
       "  </tbody>\n",
       "</table>\n",
       "</div>"
      ],
      "text/plain": [
       "          gender_intake gender_outcome  Sex Sex_upon_Outcome\n",
       "Animal ID                                                   \n",
       "A667395             NaN            NaN  NaN              NaN"
      ]
     },
     "execution_count": 166,
     "metadata": {},
     "output_type": "execute_result"
    }
   ],
   "source": [
    "#which row has the nan value, can other columns help us fill it in?\n",
    "shelter_df[shelter_df['Sex'].isna()==True][['gender_intake', 'gender_outcome', 'Sex', 'Sex_upon_Outcome']]"
   ]
  },
  {
   "cell_type": "markdown",
   "id": "a9c3ef3c",
   "metadata": {},
   "source": [
    "It looks like this row will need to be dropped because there are a lot of missing cells. "
   ]
  },
  {
   "cell_type": "code",
   "execution_count": 167,
   "id": "1eaf2e0a",
   "metadata": {},
   "outputs": [
    {
     "data": {
      "text/plain": [
       "array(['Spayed Female', 'Neutered Male', 'Intact Male', 'Intact Female',\n",
       "       'Unknown', nan], dtype=object)"
      ]
     },
     "execution_count": 167,
     "metadata": {},
     "output_type": "execute_result"
    }
   ],
   "source": [
    "#what classes are there?\n",
    "shelter_df['Sex_upon_Outcome'].unique()"
   ]
  },
  {
   "cell_type": "code",
   "execution_count": 168,
   "id": "2152322f",
   "metadata": {},
   "outputs": [
    {
     "data": {
      "text/plain": [
       "1"
      ]
     },
     "execution_count": 168,
     "metadata": {},
     "output_type": "execute_result"
    }
   ],
   "source": [
    "#how many NaNs are there?\n",
    "shelter_df['Sex_upon_Outcome'].isna().sum()"
   ]
  },
  {
   "cell_type": "code",
   "execution_count": 169,
   "id": "c3913360",
   "metadata": {},
   "outputs": [
    {
     "data": {
      "text/html": [
       "<div>\n",
       "<style scoped>\n",
       "    .dataframe tbody tr th:only-of-type {\n",
       "        vertical-align: middle;\n",
       "    }\n",
       "\n",
       "    .dataframe tbody tr th {\n",
       "        vertical-align: top;\n",
       "    }\n",
       "\n",
       "    .dataframe thead th {\n",
       "        text-align: right;\n",
       "    }\n",
       "</style>\n",
       "<table border=\"1\" class=\"dataframe\">\n",
       "  <thead>\n",
       "    <tr style=\"text-align: right;\">\n",
       "      <th>Animal ID</th>\n",
       "      <th>A667395</th>\n",
       "    </tr>\n",
       "  </thead>\n",
       "  <tbody>\n",
       "    <tr>\n",
       "      <th>Name_intake</th>\n",
       "      <td>Diego</td>\n",
       "    </tr>\n",
       "    <tr>\n",
       "      <th>DateTime_intake</th>\n",
       "      <td>2013-11-17 13:15:00</td>\n",
       "    </tr>\n",
       "    <tr>\n",
       "      <th>Found_Location</th>\n",
       "      <td>Pflugerville (TX)</td>\n",
       "    </tr>\n",
       "    <tr>\n",
       "      <th>Intake_Type</th>\n",
       "      <td>Owner Surrender</td>\n",
       "    </tr>\n",
       "    <tr>\n",
       "      <th>IntakeCondition</th>\n",
       "      <td>Normal</td>\n",
       "    </tr>\n",
       "    <tr>\n",
       "      <th>Sex</th>\n",
       "      <td>NaN</td>\n",
       "    </tr>\n",
       "    <tr>\n",
       "      <th>Age</th>\n",
       "      <td>84.0</td>\n",
       "    </tr>\n",
       "    <tr>\n",
       "      <th>DateTime_outcome</th>\n",
       "      <td>2013-11-27 16:11:00</td>\n",
       "    </tr>\n",
       "    <tr>\n",
       "      <th>Outcome_Type</th>\n",
       "      <td>0</td>\n",
       "    </tr>\n",
       "    <tr>\n",
       "      <th>Sex_upon_Outcome</th>\n",
       "      <td>NaN</td>\n",
       "    </tr>\n",
       "    <tr>\n",
       "      <th>Age_upon_Outcome</th>\n",
       "      <td>84.0</td>\n",
       "    </tr>\n",
       "    <tr>\n",
       "      <th>gender_intake</th>\n",
       "      <td>NaN</td>\n",
       "    </tr>\n",
       "    <tr>\n",
       "      <th>gender_outcome</th>\n",
       "      <td>NaN</td>\n",
       "    </tr>\n",
       "    <tr>\n",
       "      <th>fixed_intake</th>\n",
       "      <td>0</td>\n",
       "    </tr>\n",
       "    <tr>\n",
       "      <th>fixed_changed</th>\n",
       "      <td>0</td>\n",
       "    </tr>\n",
       "    <tr>\n",
       "      <th>retriever</th>\n",
       "      <td>0</td>\n",
       "    </tr>\n",
       "    <tr>\n",
       "      <th>shepherd</th>\n",
       "      <td>0</td>\n",
       "    </tr>\n",
       "    <tr>\n",
       "      <th>beagle</th>\n",
       "      <td>0</td>\n",
       "    </tr>\n",
       "    <tr>\n",
       "      <th>terrier</th>\n",
       "      <td>0</td>\n",
       "    </tr>\n",
       "    <tr>\n",
       "      <th>boxer</th>\n",
       "      <td>0</td>\n",
       "    </tr>\n",
       "    <tr>\n",
       "      <th>poodle</th>\n",
       "      <td>0</td>\n",
       "    </tr>\n",
       "    <tr>\n",
       "      <th>rottweiler</th>\n",
       "      <td>0</td>\n",
       "    </tr>\n",
       "    <tr>\n",
       "      <th>dachshund</th>\n",
       "      <td>1</td>\n",
       "    </tr>\n",
       "    <tr>\n",
       "      <th>chihuahua</th>\n",
       "      <td>0</td>\n",
       "    </tr>\n",
       "    <tr>\n",
       "      <th>pit bull</th>\n",
       "      <td>0</td>\n",
       "    </tr>\n",
       "    <tr>\n",
       "      <th>DateTime_length</th>\n",
       "      <td>10</td>\n",
       "    </tr>\n",
       "    <tr>\n",
       "      <th>cattle dog</th>\n",
       "      <td>0</td>\n",
       "    </tr>\n",
       "    <tr>\n",
       "      <th>collie</th>\n",
       "      <td>0</td>\n",
       "    </tr>\n",
       "    <tr>\n",
       "      <th>catahoula</th>\n",
       "      <td>0</td>\n",
       "    </tr>\n",
       "    <tr>\n",
       "      <th>schnauzer</th>\n",
       "      <td>0</td>\n",
       "    </tr>\n",
       "    <tr>\n",
       "      <th>husky</th>\n",
       "      <td>0</td>\n",
       "    </tr>\n",
       "    <tr>\n",
       "      <th>pyrenees</th>\n",
       "      <td>0</td>\n",
       "    </tr>\n",
       "    <tr>\n",
       "      <th>shih tzu</th>\n",
       "      <td>0</td>\n",
       "    </tr>\n",
       "    <tr>\n",
       "      <th>pointer</th>\n",
       "      <td>0</td>\n",
       "    </tr>\n",
       "    <tr>\n",
       "      <th>bulldog</th>\n",
       "      <td>0</td>\n",
       "    </tr>\n",
       "    <tr>\n",
       "      <th>kelpie</th>\n",
       "      <td>0</td>\n",
       "    </tr>\n",
       "    <tr>\n",
       "      <th>black mouth cur</th>\n",
       "      <td>0</td>\n",
       "    </tr>\n",
       "    <tr>\n",
       "      <th>hound</th>\n",
       "      <td>0</td>\n",
       "    </tr>\n",
       "    <tr>\n",
       "      <th>heeler</th>\n",
       "      <td>0</td>\n",
       "    </tr>\n",
       "    <tr>\n",
       "      <th>pinscher</th>\n",
       "      <td>0</td>\n",
       "    </tr>\n",
       "    <tr>\n",
       "      <th>maltese</th>\n",
       "      <td>0</td>\n",
       "    </tr>\n",
       "    <tr>\n",
       "      <th>chow</th>\n",
       "      <td>0</td>\n",
       "    </tr>\n",
       "    <tr>\n",
       "      <th>pug</th>\n",
       "      <td>0</td>\n",
       "    </tr>\n",
       "    <tr>\n",
       "      <th>lhasa apso</th>\n",
       "      <td>0</td>\n",
       "    </tr>\n",
       "    <tr>\n",
       "      <th>pomeranian</th>\n",
       "      <td>0</td>\n",
       "    </tr>\n",
       "    <tr>\n",
       "      <th>corgi</th>\n",
       "      <td>0</td>\n",
       "    </tr>\n",
       "    <tr>\n",
       "      <th>spaniel</th>\n",
       "      <td>0</td>\n",
       "    </tr>\n",
       "    <tr>\n",
       "      <th>blue lacy</th>\n",
       "      <td>0</td>\n",
       "    </tr>\n",
       "    <tr>\n",
       "      <th>black</th>\n",
       "      <td>0</td>\n",
       "    </tr>\n",
       "    <tr>\n",
       "      <th>white</th>\n",
       "      <td>0</td>\n",
       "    </tr>\n",
       "    <tr>\n",
       "      <th>brown</th>\n",
       "      <td>1</td>\n",
       "    </tr>\n",
       "    <tr>\n",
       "      <th>tan</th>\n",
       "      <td>0</td>\n",
       "    </tr>\n",
       "    <tr>\n",
       "      <th>tricolor</th>\n",
       "      <td>0</td>\n",
       "    </tr>\n",
       "    <tr>\n",
       "      <th>brindle</th>\n",
       "      <td>0</td>\n",
       "    </tr>\n",
       "    <tr>\n",
       "      <th>blue</th>\n",
       "      <td>0</td>\n",
       "    </tr>\n",
       "    <tr>\n",
       "      <th>red</th>\n",
       "      <td>0</td>\n",
       "    </tr>\n",
       "    <tr>\n",
       "      <th>chocolate</th>\n",
       "      <td>0</td>\n",
       "    </tr>\n",
       "    <tr>\n",
       "      <th>sable</th>\n",
       "      <td>0</td>\n",
       "    </tr>\n",
       "  </tbody>\n",
       "</table>\n",
       "</div>"
      ],
      "text/plain": [
       "Animal ID                     A667395\n",
       "Name_intake                     Diego\n",
       "DateTime_intake   2013-11-17 13:15:00\n",
       "Found_Location      Pflugerville (TX)\n",
       "Intake_Type           Owner Surrender\n",
       "IntakeCondition                Normal\n",
       "Sex                               NaN\n",
       "Age                              84.0\n",
       "DateTime_outcome  2013-11-27 16:11:00\n",
       "Outcome_Type                        0\n",
       "Sex_upon_Outcome                  NaN\n",
       "Age_upon_Outcome                 84.0\n",
       "gender_intake                     NaN\n",
       "gender_outcome                    NaN\n",
       "fixed_intake                        0\n",
       "fixed_changed                       0\n",
       "retriever                           0\n",
       "shepherd                            0\n",
       "beagle                              0\n",
       "terrier                             0\n",
       "boxer                               0\n",
       "poodle                              0\n",
       "rottweiler                          0\n",
       "dachshund                           1\n",
       "chihuahua                           0\n",
       "pit bull                            0\n",
       "DateTime_length                    10\n",
       "cattle dog                          0\n",
       "collie                              0\n",
       "catahoula                           0\n",
       "schnauzer                           0\n",
       "husky                               0\n",
       "pyrenees                            0\n",
       "shih tzu                            0\n",
       "pointer                             0\n",
       "bulldog                             0\n",
       "kelpie                              0\n",
       "black mouth cur                     0\n",
       "hound                               0\n",
       "heeler                              0\n",
       "pinscher                            0\n",
       "maltese                             0\n",
       "chow                                0\n",
       "pug                                 0\n",
       "lhasa apso                          0\n",
       "pomeranian                          0\n",
       "corgi                               0\n",
       "spaniel                             0\n",
       "blue lacy                           0\n",
       "black                               0\n",
       "white                               0\n",
       "brown                               1\n",
       "tan                                 0\n",
       "tricolor                            0\n",
       "brindle                             0\n",
       "blue                                0\n",
       "red                                 0\n",
       "chocolate                           0\n",
       "sable                               0"
      ]
     },
     "execution_count": 169,
     "metadata": {},
     "output_type": "execute_result"
    }
   ],
   "source": [
    "shelter_df[shelter_df['Sex_upon_Outcome'].isna()==True].T"
   ]
  },
  {
   "cell_type": "code",
   "execution_count": 170,
   "id": "4fded349",
   "metadata": {},
   "outputs": [],
   "source": [
    "shelter_df = shelter_df[shelter_df['Sex_upon_Outcome'].isna()!=True]\n",
    "adopt_partner_shelter_df = adopt_partner_shelter_df[adopt_partner_shelter_df['Sex_upon_Outcome'].isna()!=True]"
   ]
  },
  {
   "cell_type": "markdown",
   "id": "0cd3a7c7",
   "metadata": {},
   "source": [
    "The data from `Sex` and `Sex_upon_Outcome` is already encapsulated in the gender columns and fixed columns discussed previously, so I will drop them from the shelter df and adopt transfer df too. "
   ]
  },
  {
   "cell_type": "code",
   "execution_count": 171,
   "id": "3e708b9b",
   "metadata": {},
   "outputs": [],
   "source": [
    "shelter_df.drop(['Sex', 'Sex_upon_Outcome'], axis=1, inplace=True)\n",
    "adopt_partner_shelter_df.drop(['Sex', 'Sex_upon_Outcome'], axis=1, inplace=True)"
   ]
  },
  {
   "cell_type": "markdown",
   "id": "a768f215",
   "metadata": {},
   "source": [
    "Now I will compare the gender columns and convert one of them to binary where male is 1 and female is 0. I will drop which ever column has less data. "
   ]
  },
  {
   "cell_type": "code",
   "execution_count": 172,
   "id": "5d7755c0",
   "metadata": {},
   "outputs": [
    {
     "name": "stdout",
     "output_type": "stream",
     "text": [
      "Male      16041\n",
      "Female    13842\n",
      "Name: gender_intake, dtype: int64\n"
     ]
    },
    {
     "data": {
      "text/plain": [
       "157"
      ]
     },
     "execution_count": 172,
     "metadata": {},
     "output_type": "execute_result"
    }
   ],
   "source": [
    "#what data is in this column?\n",
    "print(shelter_df['gender_intake'].value_counts())\n",
    "shelter_df['gender_intake'].isna().sum()"
   ]
  },
  {
   "cell_type": "code",
   "execution_count": 173,
   "id": "2f21d200",
   "metadata": {},
   "outputs": [
    {
     "name": "stdout",
     "output_type": "stream",
     "text": [
      "Male      16041\n",
      "Female    13842\n",
      "Name: gender_outcome, dtype: int64\n"
     ]
    },
    {
     "data": {
      "text/plain": [
       "157"
      ]
     },
     "execution_count": 173,
     "metadata": {},
     "output_type": "execute_result"
    }
   ],
   "source": [
    "#what data is in this column\n",
    "print(shelter_df['gender_outcome'].value_counts())\n",
    "shelter_df['gender_outcome'].isna().sum()"
   ]
  },
  {
   "cell_type": "code",
   "execution_count": 174,
   "id": "2317eaf0",
   "metadata": {},
   "outputs": [
    {
     "data": {
      "text/plain": [
       "'The null values are 0.55% of the data.'"
      ]
     },
     "execution_count": 174,
     "metadata": {},
     "output_type": "execute_result"
    }
   ],
   "source": [
    "f\"The null values are {round(170/(16622+14340+170)*100, 2)}% of the data.\""
   ]
  },
  {
   "cell_type": "markdown",
   "id": "81566939",
   "metadata": {},
   "source": [
    "Both columns have the same number of male and female dogs and both have 170 null values. I will probably drop the outcome column and then drop the rows will null values since it is only 0.55% of the data, but first I will look into possible reason why these might be NaNs. "
   ]
  },
  {
   "cell_type": "code",
   "execution_count": 175,
   "id": "3f4705bb",
   "metadata": {},
   "outputs": [
    {
     "data": {
      "text/plain": [
       "Intake_Type\n",
       "Euthanasia Request      5\n",
       "Owner Surrender        31\n",
       "Public Assist           3\n",
       "Stray                 118\n",
       "Name: DateTime_intake, dtype: int64"
      ]
     },
     "execution_count": 175,
     "metadata": {},
     "output_type": "execute_result"
    }
   ],
   "source": [
    "#does it have to do with intake_type?\n",
    "shelter_df[shelter_df['gender_intake'].isna()].groupby('Intake_Type')['DateTime_intake'].count()\n",
    "#5 euthanasia, 44 owner surrender, 3 public assist, 119 stray"
   ]
  },
  {
   "cell_type": "code",
   "execution_count": 176,
   "id": "c0256cc8",
   "metadata": {},
   "outputs": [
    {
     "data": {
      "text/plain": [
       "IntakeCondition\n",
       "Aged        3\n",
       "Injured    14\n",
       "Normal     79\n",
       "Nursing    48\n",
       "Sick       13\n",
       "Name: DateTime_intake, dtype: int64"
      ]
     },
     "execution_count": 176,
     "metadata": {},
     "output_type": "execute_result"
    }
   ],
   "source": [
    "#is does it have to do with intake condition?\n",
    "shelter_df[shelter_df['gender_intake'].isna()].groupby('IntakeCondition')['DateTime_intake'].count()\n",
    "#3 aged, 14 injured, 80 noral, 49 nursing, 25 sick"
   ]
  },
  {
   "cell_type": "code",
   "execution_count": 177,
   "id": "3f13639b",
   "metadata": {},
   "outputs": [
    {
     "data": {
      "text/plain": [
       "Outcome_Type\n",
       "0    157\n",
       "Name: DateTime_intake, dtype: int64"
      ]
     },
     "execution_count": 177,
     "metadata": {},
     "output_type": "execute_result"
    }
   ],
   "source": [
    "#is it related to outcome type?\n",
    "shelter_df[shelter_df['gender_intake'].isna()].groupby('Outcome_Type')['DateTime_intake'].count()\n",
    "# 0 adopted"
   ]
  },
  {
   "cell_type": "code",
   "execution_count": 178,
   "id": "add217c4",
   "metadata": {},
   "outputs": [
    {
     "data": {
      "text/plain": [
       "fixed_intake\n",
       "0    157\n",
       "Name: DateTime_intake, dtype: int64"
      ]
     },
     "execution_count": 178,
     "metadata": {},
     "output_type": "execute_result"
    }
   ],
   "source": [
    "#does it have to do with their fixed status?\n",
    "shelter_df[shelter_df['gender_intake'].isna()].groupby('fixed_intake')['DateTime_intake'].count()\n",
    "# 0 fixed"
   ]
  },
  {
   "cell_type": "code",
   "execution_count": 179,
   "id": "1e527858",
   "metadata": {},
   "outputs": [
    {
     "data": {
      "text/plain": [
       "fixed_changed\n",
       "0    157\n",
       "Name: DateTime_intake, dtype: int64"
      ]
     },
     "execution_count": 179,
     "metadata": {},
     "output_type": "execute_result"
    }
   ],
   "source": [
    "#is it related to the 'fixed changed' status?\n",
    "shelter_df[shelter_df['gender_intake'].isna()].groupby('fixed_changed')['DateTime_intake'].count()\n",
    "#3 0 changed"
   ]
  },
  {
   "cell_type": "code",
   "execution_count": 180,
   "id": "2c427038",
   "metadata": {},
   "outputs": [
    {
     "data": {
      "text/plain": [
       "Age\n",
       "0.00      26\n",
       "0.03      13\n",
       "0.07      13\n",
       "0.10       4\n",
       "0.13       1\n",
       "0.20      14\n",
       "0.23      24\n",
       "0.47       7\n",
       "0.70       2\n",
       "0.93       6\n",
       "1.00       7\n",
       "2.00       5\n",
       "3.00       2\n",
       "4.00       2\n",
       "6.00       4\n",
       "9.00       1\n",
       "12.00      7\n",
       "24.00      2\n",
       "36.00      4\n",
       "48.00      3\n",
       "60.00      1\n",
       "96.00      1\n",
       "108.00     2\n",
       "120.00     1\n",
       "132.00     1\n",
       "144.00     1\n",
       "156.00     1\n",
       "168.00     1\n",
       "192.00     1\n",
       "Name: DateTime_intake, dtype: int64"
      ]
     },
     "execution_count": 180,
     "metadata": {},
     "output_type": "execute_result"
    }
   ],
   "source": [
    "#does it have to do with their age?\n",
    "shelter_df[shelter_df['gender_intake'].isna()].groupby('Age')['DateTime_intake'].count()"
   ]
  },
  {
   "cell_type": "markdown",
   "id": "3356d51e",
   "metadata": {},
   "source": [
    "They are all not adopted, not fixed dogs, but there are lots of dogs in those categories with gender inputs, so it is not clear why thy are NaN. Therefore I will drop them from both data frames. "
   ]
  },
  {
   "cell_type": "code",
   "execution_count": 181,
   "id": "2ef57e64",
   "metadata": {},
   "outputs": [],
   "source": [
    "#only keep the columns with gender info\n",
    "shelter_df = shelter_df[shelter_df['gender_intake'].isna()!=True]\n",
    "adopt_partner_shelter_df = adopt_partner_shelter_df[adopt_partner_shelter_df['gender_intake'].isna()!=True]"
   ]
  },
  {
   "cell_type": "code",
   "execution_count": 182,
   "id": "90fd85c0",
   "metadata": {},
   "outputs": [
    {
     "name": "stdout",
     "output_type": "stream",
     "text": [
      "0\n"
     ]
    },
    {
     "data": {
      "text/plain": [
       "0"
      ]
     },
     "execution_count": 182,
     "metadata": {},
     "output_type": "execute_result"
    }
   ],
   "source": [
    "#are there any NaNs left\n",
    "print(shelter_df['gender_intake'].isna().sum())\n",
    "adopt_partner_shelter_df['gender_intake'].isna().sum()"
   ]
  },
  {
   "cell_type": "code",
   "execution_count": 183,
   "id": "ca445f47",
   "metadata": {},
   "outputs": [],
   "source": [
    "#map genders 1 for male, 0 for female\n",
    "shelter_df['gender_intake'] = shelter_df['gender_intake'].map({'Male':1, 'Female':0})\n",
    "adopt_partner_shelter_df['gender_intake'] = adopt_partner_shelter_df['gender_intake'].map({'Male':1, 'Female':0})"
   ]
  },
  {
   "cell_type": "code",
   "execution_count": 184,
   "id": "9ef8f793",
   "metadata": {},
   "outputs": [
    {
     "name": "stdout",
     "output_type": "stream",
     "text": [
      "[0 1]\n"
     ]
    },
    {
     "data": {
      "text/plain": [
       "array([0, 1], dtype=int64)"
      ]
     },
     "execution_count": 184,
     "metadata": {},
     "output_type": "execute_result"
    }
   ],
   "source": [
    "print(shelter_df['gender_intake'].unique())\n",
    "adopt_partner_shelter_df['gender_intake'].unique()"
   ]
  },
  {
   "cell_type": "code",
   "execution_count": 185,
   "id": "5cf7412f",
   "metadata": {},
   "outputs": [],
   "source": [
    "# so let's drop gender_outcome since it's redundant\n",
    "shelter_df.drop(['gender_outcome'], axis=1, inplace=True)\n",
    "adopt_partner_shelter_df.drop(['gender_outcome'], axis=1, inplace=True)"
   ]
  },
  {
   "cell_type": "code",
   "execution_count": 186,
   "id": "b0abf40e",
   "metadata": {},
   "outputs": [
    {
     "name": "stdout",
     "output_type": "stream",
     "text": [
      "<class 'pandas.core.frame.DataFrame'>\n",
      "Index: 29883 entries, A683644 to A746072\n",
      "Data columns (total 55 columns):\n",
      " #   Column            Non-Null Count  Dtype         \n",
      "---  ------            --------------  -----         \n",
      " 0   Name_intake       24586 non-null  object        \n",
      " 1   DateTime_intake   29883 non-null  datetime64[ns]\n",
      " 2   Found_Location    29883 non-null  object        \n",
      " 3   Intake_Type       29883 non-null  object        \n",
      " 4   IntakeCondition   29883 non-null  object        \n",
      " 5   Age               29883 non-null  float64       \n",
      " 6   DateTime_outcome  29883 non-null  datetime64[ns]\n",
      " 7   Outcome_Type      29883 non-null  int32         \n",
      " 8   Age_upon_Outcome  29883 non-null  float64       \n",
      " 9   gender_intake     29883 non-null  int64         \n",
      " 10  fixed_intake      29883 non-null  int32         \n",
      " 11  fixed_changed     29883 non-null  int32         \n",
      " 12  retriever         29883 non-null  int32         \n",
      " 13  shepherd          29883 non-null  int32         \n",
      " 14  beagle            29883 non-null  int32         \n",
      " 15  terrier           29883 non-null  int32         \n",
      " 16  boxer             29883 non-null  int32         \n",
      " 17  poodle            29883 non-null  int32         \n",
      " 18  rottweiler        29883 non-null  int32         \n",
      " 19  dachshund         29883 non-null  int32         \n",
      " 20  chihuahua         29883 non-null  int32         \n",
      " 21  pit bull          29883 non-null  int32         \n",
      " 22  DateTime_length   29883 non-null  int64         \n",
      " 23  cattle dog        29883 non-null  int32         \n",
      " 24  collie            29883 non-null  int32         \n",
      " 25  catahoula         29883 non-null  int32         \n",
      " 26  schnauzer         29883 non-null  int32         \n",
      " 27  husky             29883 non-null  int32         \n",
      " 28  pyrenees          29883 non-null  int32         \n",
      " 29  shih tzu          29883 non-null  int32         \n",
      " 30  pointer           29883 non-null  int32         \n",
      " 31  bulldog           29883 non-null  int32         \n",
      " 32  kelpie            29883 non-null  int32         \n",
      " 33  black mouth cur   29883 non-null  int32         \n",
      " 34  hound             29883 non-null  int32         \n",
      " 35  heeler            29883 non-null  int32         \n",
      " 36  pinscher          29883 non-null  int32         \n",
      " 37  maltese           29883 non-null  int32         \n",
      " 38  chow              29883 non-null  int32         \n",
      " 39  pug               29883 non-null  int32         \n",
      " 40  lhasa apso        29883 non-null  int32         \n",
      " 41  pomeranian        29883 non-null  int32         \n",
      " 42  corgi             29883 non-null  int32         \n",
      " 43  spaniel           29883 non-null  int32         \n",
      " 44  blue lacy         29883 non-null  int32         \n",
      " 45  black             29883 non-null  int64         \n",
      " 46  white             29883 non-null  int64         \n",
      " 47  brown             29883 non-null  int64         \n",
      " 48  tan               29883 non-null  int64         \n",
      " 49  tricolor          29883 non-null  int64         \n",
      " 50  brindle           29883 non-null  int64         \n",
      " 51  blue              29883 non-null  int64         \n",
      " 52  red               29883 non-null  int64         \n",
      " 53  chocolate         29883 non-null  int64         \n",
      " 54  sable             29883 non-null  int64         \n",
      "dtypes: datetime64[ns](2), float64(2), int32(35), int64(12), object(4)\n",
      "memory usage: 8.8+ MB\n"
     ]
    }
   ],
   "source": [
    "shelter_df.info()"
   ]
  },
  {
   "cell_type": "markdown",
   "id": "a51f947d",
   "metadata": {},
   "source": [
    "Now that the 4 sex and gender columns have been reduced to one, there are only a few more columns that need to be cleaned. I will look at the intake condition columns now. "
   ]
  },
  {
   "cell_type": "markdown",
   "id": "f2f4dda7",
   "metadata": {},
   "source": [
    "## Intake Condition Columns\n",
    "<a class=\"anchor\" id=\"intake\"></a>\n",
    "\n",
    "Similar to the outcome conditions, there are two intake condition columns. One is the general intake condition and the second is the subtype to give more detail. I will look into these and see if they are redundant and/or if they can be represented in numerical values. "
   ]
  },
  {
   "cell_type": "code",
   "execution_count": 187,
   "id": "3323a70a",
   "metadata": {},
   "outputs": [
    {
     "data": {
      "text/plain": [
       "array(['Nursing', 'Normal', 'Injured', 'Sick', 'Aged', 'Other',\n",
       "       'Pregnant', 'Feral'], dtype=object)"
      ]
     },
     "execution_count": 187,
     "metadata": {},
     "output_type": "execute_result"
    }
   ],
   "source": [
    "#what does this column look like?\n",
    "shelter_df['IntakeCondition'].unique()\n",
    "#2 major categories: normal - 1 or not - 0"
   ]
  },
  {
   "cell_type": "code",
   "execution_count": 188,
   "id": "4138f354",
   "metadata": {},
   "outputs": [
    {
     "data": {
      "text/plain": [
       "Normal      27074\n",
       "Injured      1296\n",
       "Sick          785\n",
       "Nursing       405\n",
       "Aged          213\n",
       "Other          74\n",
       "Pregnant       29\n",
       "Feral           7\n",
       "Name: IntakeCondition, dtype: int64"
      ]
     },
     "execution_count": 188,
     "metadata": {},
     "output_type": "execute_result"
    }
   ],
   "source": [
    "#what is the distribution\n",
    "shelter_df['IntakeCondition'].value_counts()"
   ]
  },
  {
   "cell_type": "markdown",
   "id": "f78ce57d",
   "metadata": {},
   "source": [
    "The 'Normal' intake condition is significantly larger than any of the other classes. It seems like converting this column into normal (1) versus not normal (0) intake would make the most sense. "
   ]
  },
  {
   "cell_type": "code",
   "execution_count": 189,
   "id": "5ded4804",
   "metadata": {},
   "outputs": [],
   "source": [
    "#turn this column into binary\n",
    "shelter_df['IntakeCondition'] = np.where(shelter_df['IntakeCondition']== 'Normal', 1, 0)\n",
    "adopt_partner_shelter_df['IntakeCondition'] = np.where(adopt_partner_shelter_df['IntakeCondition'] == 'Normal', 1, 0)"
   ]
  },
  {
   "cell_type": "code",
   "execution_count": 190,
   "id": "f39a54ed",
   "metadata": {},
   "outputs": [
    {
     "data": {
      "text/plain": [
       "array([0, 1])"
      ]
     },
     "execution_count": 190,
     "metadata": {},
     "output_type": "execute_result"
    }
   ],
   "source": [
    "shelter_df['IntakeCondition'].unique()"
   ]
  },
  {
   "cell_type": "code",
   "execution_count": 191,
   "id": "25339630",
   "metadata": {},
   "outputs": [],
   "source": [
    "#set values to int\n",
    "shelter_df['IntakeCondition'] = shelter_df['IntakeCondition'].astype(int)\n",
    "adopt_partner_shelter_df['IntakeCondition'] = adopt_partner_shelter_df['IntakeCondition'].astype(int)"
   ]
  },
  {
   "cell_type": "markdown",
   "id": "47d46a67",
   "metadata": {},
   "source": [
    "Now that the general intake condition is cleaned, I will now consider the subtype and determine a plan to clean this column. "
   ]
  },
  {
   "cell_type": "code",
   "execution_count": 192,
   "id": "f708b960",
   "metadata": {},
   "outputs": [
    {
     "data": {
      "text/plain": [
       "array(['Owner Surrender', 'Stray', 'Public Assist', 'Euthanasia Request'],\n",
       "      dtype=object)"
      ]
     },
     "execution_count": 192,
     "metadata": {},
     "output_type": "execute_result"
    }
   ],
   "source": [
    "#what does this column look like?\n",
    "shelter_df['Intake_Type'].unique()\n",
    "# stray:1 or not stray:0 seem to be the cases"
   ]
  },
  {
   "cell_type": "code",
   "execution_count": 193,
   "id": "0d75dcd3",
   "metadata": {},
   "outputs": [
    {
     "data": {
      "text/plain": [
       "Stray                 22316\n",
       "Owner Surrender        4904\n",
       "Public Assist          2496\n",
       "Euthanasia Request      167\n",
       "Name: Intake_Type, dtype: int64"
      ]
     },
     "execution_count": 193,
     "metadata": {},
     "output_type": "execute_result"
    }
   ],
   "source": [
    "#What does the distribution look like?\n",
    "shelter_df['Intake_Type'].value_counts()"
   ]
  },
  {
   "cell_type": "markdown",
   "id": "afad3f78",
   "metadata": {},
   "source": [
    "The stray category is significantly larger than the other classes. I will likely make this column binary with stray (1) and not stray (0) intake, but first I would like to compare it with the IntakeCondition column to make sure this is not redundant. "
   ]
  },
  {
   "cell_type": "code",
   "execution_count": 194,
   "id": "f1f586f8",
   "metadata": {},
   "outputs": [
    {
     "data": {
      "text/plain": [
       "IntakeCondition  Intake_Type       \n",
       "0                Euthanasia Request      100\n",
       "                 Owner Surrender         473\n",
       "                 Public Assist           154\n",
       "                 Stray                  2082\n",
       "1                Euthanasia Request       67\n",
       "                 Owner Surrender        4431\n",
       "                 Public Assist          2342\n",
       "                 Stray                 20234\n",
       "Name: DateTime_length, dtype: int64"
      ]
     },
     "execution_count": 194,
     "metadata": {},
     "output_type": "execute_result"
    }
   ],
   "source": [
    "#grouping the two intake condition columns to see if there is a pattern\n",
    "shelter_df.groupby(['IntakeCondition', 'Intake_Type'])['DateTime_length'].count()"
   ]
  },
  {
   "cell_type": "markdown",
   "id": "74743038",
   "metadata": {},
   "source": [
    "There doesn't seem to be a clear distinction between normal intake and stray or note, so I will go ahead and clean this column accordingly. "
   ]
  },
  {
   "cell_type": "code",
   "execution_count": 195,
   "id": "b2113932",
   "metadata": {},
   "outputs": [],
   "source": [
    "#change this column to stray vs. not stray\n",
    "shelter_df['Intake_Type'] = np.where(shelter_df['Intake_Type']== 'Stray',1, 0)\n",
    "adopt_partner_shelter_df['Intake_Type'] = np.where(adopt_partner_shelter_df['Intake_Type'] == 'Stray', 1, 0)"
   ]
  },
  {
   "cell_type": "code",
   "execution_count": 196,
   "id": "776ba298",
   "metadata": {},
   "outputs": [],
   "source": [
    "#change the binary to into type\n",
    "shelter_df['Intake_Type'] = shelter_df['Intake_Type'].astype(int)\n",
    "adopt_partner_shelter_df['Intake_Type'] = adopt_partner_shelter_df['Intake_Type'].astype(int)"
   ]
  },
  {
   "cell_type": "markdown",
   "id": "b73de5ec",
   "metadata": {},
   "source": [
    "Now that the intake condition columns are cleaned and added to the two modeling data frames, I will also add it to the EDA df. "
   ]
  },
  {
   "cell_type": "code",
   "execution_count": 197,
   "id": "226f4bff",
   "metadata": {},
   "outputs": [
    {
     "name": "stdout",
     "output_type": "stream",
     "text": [
      "<class 'pandas.core.frame.DataFrame'>\n",
      "Index: 30042 entries, A683644 to A746072\n",
      "Data columns (total 26 columns):\n",
      " #   Column               Non-Null Count  Dtype         \n",
      "---  ------               --------------  -----         \n",
      " 0   Name_intake          24606 non-null  object        \n",
      " 1   Found_Location       30042 non-null  object        \n",
      " 2   Intake_Type          30042 non-null  object        \n",
      " 3   IntakeCondition      30042 non-null  object        \n",
      " 4   Outcome_Type         30041 non-null  object        \n",
      " 5   Outcome_Subtype      10152 non-null  object        \n",
      " 6   gender_intake        29884 non-null  object        \n",
      " 7   fixed_changed        30042 non-null  object        \n",
      " 8   fixed_intake         30042 non-null  int32         \n",
      " 9   fixed_outcome        30040 non-null  object        \n",
      " 10  Breed_intake         30042 non-null  object        \n",
      " 11  Color_intake         30042 non-null  object        \n",
      " 12  Date of Birth        30042 non-null  datetime64[ns]\n",
      " 13  Age_Bucket           30042 non-null  object        \n",
      " 14  Days_length          30042 non-null  object        \n",
      " 15  intake_date          30042 non-null  datetime64[ns]\n",
      " 16  outcome_date         30042 non-null  datetime64[ns]\n",
      " 17  Breed1               30042 non-null  object        \n",
      " 18  Breed2               5144 non-null   object        \n",
      " 19  Breed3               19 non-null     object        \n",
      " 20  Color1               30042 non-null  object        \n",
      " 21  Color2               19115 non-null  object        \n",
      " 22  age_months           30042 non-null  float64       \n",
      " 23  outcome_age_months   30042 non-null  float64       \n",
      " 24  bi_intake_condition  29883 non-null  float64       \n",
      " 25  bi_intake_type       29883 non-null  float64       \n",
      "dtypes: datetime64[ns](3), float64(4), int32(1), object(18)\n",
      "memory usage: 7.1+ MB\n"
     ]
    }
   ],
   "source": [
    "#adding the intake columns to EDA df\n",
    "EDA_shelter_df[['bi_intake_condition', 'bi_intake_type']] = shelter_df[['IntakeCondition', 'Intake_Type']]\n",
    "EDA_shelter_df.info()"
   ]
  },
  {
   "cell_type": "code",
   "execution_count": 198,
   "id": "c4286f69",
   "metadata": {},
   "outputs": [
    {
     "name": "stdout",
     "output_type": "stream",
     "text": [
      "<class 'pandas.core.frame.DataFrame'>\n",
      "Index: 29883 entries, A683644 to A746072\n",
      "Data columns (total 55 columns):\n",
      " #   Column            Non-Null Count  Dtype         \n",
      "---  ------            --------------  -----         \n",
      " 0   Name_intake       24586 non-null  object        \n",
      " 1   DateTime_intake   29883 non-null  datetime64[ns]\n",
      " 2   Found_Location    29883 non-null  object        \n",
      " 3   Intake_Type       29883 non-null  int32         \n",
      " 4   IntakeCondition   29883 non-null  int32         \n",
      " 5   Age               29883 non-null  float64       \n",
      " 6   DateTime_outcome  29883 non-null  datetime64[ns]\n",
      " 7   Outcome_Type      29883 non-null  int32         \n",
      " 8   Age_upon_Outcome  29883 non-null  float64       \n",
      " 9   gender_intake     29883 non-null  int64         \n",
      " 10  fixed_intake      29883 non-null  int32         \n",
      " 11  fixed_changed     29883 non-null  int32         \n",
      " 12  retriever         29883 non-null  int32         \n",
      " 13  shepherd          29883 non-null  int32         \n",
      " 14  beagle            29883 non-null  int32         \n",
      " 15  terrier           29883 non-null  int32         \n",
      " 16  boxer             29883 non-null  int32         \n",
      " 17  poodle            29883 non-null  int32         \n",
      " 18  rottweiler        29883 non-null  int32         \n",
      " 19  dachshund         29883 non-null  int32         \n",
      " 20  chihuahua         29883 non-null  int32         \n",
      " 21  pit bull          29883 non-null  int32         \n",
      " 22  DateTime_length   29883 non-null  int64         \n",
      " 23  cattle dog        29883 non-null  int32         \n",
      " 24  collie            29883 non-null  int32         \n",
      " 25  catahoula         29883 non-null  int32         \n",
      " 26  schnauzer         29883 non-null  int32         \n",
      " 27  husky             29883 non-null  int32         \n",
      " 28  pyrenees          29883 non-null  int32         \n",
      " 29  shih tzu          29883 non-null  int32         \n",
      " 30  pointer           29883 non-null  int32         \n",
      " 31  bulldog           29883 non-null  int32         \n",
      " 32  kelpie            29883 non-null  int32         \n",
      " 33  black mouth cur   29883 non-null  int32         \n",
      " 34  hound             29883 non-null  int32         \n",
      " 35  heeler            29883 non-null  int32         \n",
      " 36  pinscher          29883 non-null  int32         \n",
      " 37  maltese           29883 non-null  int32         \n",
      " 38  chow              29883 non-null  int32         \n",
      " 39  pug               29883 non-null  int32         \n",
      " 40  lhasa apso        29883 non-null  int32         \n",
      " 41  pomeranian        29883 non-null  int32         \n",
      " 42  corgi             29883 non-null  int32         \n",
      " 43  spaniel           29883 non-null  int32         \n",
      " 44  blue lacy         29883 non-null  int32         \n",
      " 45  black             29883 non-null  int64         \n",
      " 46  white             29883 non-null  int64         \n",
      " 47  brown             29883 non-null  int64         \n",
      " 48  tan               29883 non-null  int64         \n",
      " 49  tricolor          29883 non-null  int64         \n",
      " 50  brindle           29883 non-null  int64         \n",
      " 51  blue              29883 non-null  int64         \n",
      " 52  red               29883 non-null  int64         \n",
      " 53  chocolate         29883 non-null  int64         \n",
      " 54  sable             29883 non-null  int64         \n",
      "dtypes: datetime64[ns](2), float64(2), int32(37), int64(12), object(2)\n",
      "memory usage: 9.6+ MB\n"
     ]
    }
   ],
   "source": [
    "shelter_df.info()"
   ]
  },
  {
   "cell_type": "markdown",
   "id": "5e874bf3",
   "metadata": {},
   "source": [
    "It looks like the intake conditions are all cleared up and I only have the location column noting where the dog was rescued from as well as their names left. I will look into these quickly, but both are likely to be dropped because they are not strongly associated with if an animal will be adopted or not. "
   ]
  },
  {
   "cell_type": "code",
   "execution_count": 199,
   "id": "2e412ef5",
   "metadata": {},
   "outputs": [
    {
     "data": {
      "text/html": [
       "<div>\n",
       "<style scoped>\n",
       "    .dataframe tbody tr th:only-of-type {\n",
       "        vertical-align: middle;\n",
       "    }\n",
       "\n",
       "    .dataframe tbody tr th {\n",
       "        vertical-align: top;\n",
       "    }\n",
       "\n",
       "    .dataframe thead th {\n",
       "        text-align: right;\n",
       "    }\n",
       "</style>\n",
       "<table border=\"1\" class=\"dataframe\">\n",
       "  <thead>\n",
       "    <tr style=\"text-align: right;\">\n",
       "      <th></th>\n",
       "      <th>0</th>\n",
       "    </tr>\n",
       "  </thead>\n",
       "  <tbody>\n",
       "    <tr>\n",
       "      <th>0</th>\n",
       "      <td>Austin (TX)</td>\n",
       "    </tr>\n",
       "    <tr>\n",
       "      <th>1</th>\n",
       "      <td>615 E. Wonsley in Austin (TX)</td>\n",
       "    </tr>\n",
       "    <tr>\n",
       "      <th>2</th>\n",
       "      <td>S Hwy 183 And Thompson Lane in Austin (TX)</td>\n",
       "    </tr>\n",
       "    <tr>\n",
       "      <th>3</th>\n",
       "      <td>Avenue G/42Nd in Austin (TX)</td>\n",
       "    </tr>\n",
       "    <tr>\n",
       "      <th>4</th>\n",
       "      <td>8413 Danville Dr in Austin (TX)</td>\n",
       "    </tr>\n",
       "    <tr>\n",
       "      <th>...</th>\n",
       "      <td>...</td>\n",
       "    </tr>\n",
       "    <tr>\n",
       "      <th>17075</th>\n",
       "      <td>Cuernevaca &amp; Bee Caves in Austin (TX)</td>\n",
       "    </tr>\n",
       "    <tr>\n",
       "      <th>17076</th>\n",
       "      <td>3426 Greystone Dr in Austin (TX)</td>\n",
       "    </tr>\n",
       "    <tr>\n",
       "      <th>17077</th>\n",
       "      <td>Aspen Glenn Blvd &amp; Alpine Autumn Dr in Austin ...</td>\n",
       "    </tr>\n",
       "    <tr>\n",
       "      <th>17078</th>\n",
       "      <td>Sweet Leaf And St Patricks in Pflugerville (TX)</td>\n",
       "    </tr>\n",
       "    <tr>\n",
       "      <th>17079</th>\n",
       "      <td>9318 Ih 35 in Austin (TX)</td>\n",
       "    </tr>\n",
       "  </tbody>\n",
       "</table>\n",
       "<p>17080 rows × 1 columns</p>\n",
       "</div>"
      ],
      "text/plain": [
       "                                                       0\n",
       "0                                            Austin (TX)\n",
       "1                          615 E. Wonsley in Austin (TX)\n",
       "2             S Hwy 183 And Thompson Lane in Austin (TX)\n",
       "3                           Avenue G/42Nd in Austin (TX)\n",
       "4                        8413 Danville Dr in Austin (TX)\n",
       "...                                                  ...\n",
       "17075              Cuernevaca & Bee Caves in Austin (TX)\n",
       "17076                   3426 Greystone Dr in Austin (TX)\n",
       "17077  Aspen Glenn Blvd & Alpine Autumn Dr in Austin ...\n",
       "17078    Sweet Leaf And St Patricks in Pflugerville (TX)\n",
       "17079                          9318 Ih 35 in Austin (TX)\n",
       "\n",
       "[17080 rows x 1 columns]"
      ]
     },
     "execution_count": 199,
     "metadata": {},
     "output_type": "execute_result"
    }
   ],
   "source": [
    "#how many unique locations are there\n",
    "pd.DataFrame(shelter_df['Found_Location'].unique())"
   ]
  },
  {
   "cell_type": "code",
   "execution_count": 200,
   "id": "6f9f3f98",
   "metadata": {},
   "outputs": [
    {
     "data": {
      "text/plain": [
       "Austin (TX)                                           5108\n",
       "Travis (TX)                                            374\n",
       "7201 Levander Loop in Austin (TX)                      201\n",
       "Outside Jurisdiction                                   189\n",
       "Del Valle (TX)                                         164\n",
       "                                                      ... \n",
       "Roseborough Dr And Running Water Dr in Austin (TX)       1\n",
       "6506 Decker Ln in Austin (TX)                            1\n",
       "6803 Dorchester in Austin (TX)                           1\n",
       "5434 Walknut Grove Drive in Austin (TX)                  1\n",
       "9318 Ih 35 in Austin (TX)                                1\n",
       "Name: Found_Location, Length: 17080, dtype: int64"
      ]
     },
     "execution_count": 200,
     "metadata": {},
     "output_type": "execute_result"
    }
   ],
   "source": [
    "#what is the distribution amongst these locations?\n",
    "shelter_df['Found_Location'].value_counts()"
   ]
  },
  {
   "cell_type": "code",
   "execution_count": 201,
   "id": "a768d30a",
   "metadata": {},
   "outputs": [
    {
     "data": {
      "text/plain": [
       "0"
      ]
     },
     "execution_count": 201,
     "metadata": {},
     "output_type": "execute_result"
    }
   ],
   "source": [
    "#Are there any null values?\n",
    "shelter_df['Found_Location'].isna().sum()"
   ]
  },
  {
   "cell_type": "markdown",
   "id": "ad535286",
   "metadata": {},
   "source": [
    "The vast majority of dogs were noted as being found in Austin, TX which is already obvious, so I feel safe dropping this column. "
   ]
  },
  {
   "cell_type": "code",
   "execution_count": 202,
   "id": "9ae33bdb",
   "metadata": {},
   "outputs": [],
   "source": [
    "#drop the location column\n",
    "shelter_df.drop('Found_Location', axis=1, inplace=True)\n",
    "adopt_partner_shelter_df.drop('Found_Location', axis=1, inplace=True)"
   ]
  },
  {
   "cell_type": "markdown",
   "id": "b898e76f",
   "metadata": {},
   "source": [
    "Now I will take a look at the name column."
   ]
  },
  {
   "cell_type": "code",
   "execution_count": 203,
   "id": "150e248e",
   "metadata": {},
   "outputs": [
    {
     "data": {
      "text/html": [
       "<div>\n",
       "<style scoped>\n",
       "    .dataframe tbody tr th:only-of-type {\n",
       "        vertical-align: middle;\n",
       "    }\n",
       "\n",
       "    .dataframe tbody tr th {\n",
       "        vertical-align: top;\n",
       "    }\n",
       "\n",
       "    .dataframe thead th {\n",
       "        text-align: right;\n",
       "    }\n",
       "</style>\n",
       "<table border=\"1\" class=\"dataframe\">\n",
       "  <thead>\n",
       "    <tr style=\"text-align: right;\">\n",
       "      <th></th>\n",
       "      <th>0</th>\n",
       "    </tr>\n",
       "  </thead>\n",
       "  <tbody>\n",
       "    <tr>\n",
       "      <th>0</th>\n",
       "      <td>*Zoey</td>\n",
       "    </tr>\n",
       "    <tr>\n",
       "      <th>1</th>\n",
       "      <td>Rico</td>\n",
       "    </tr>\n",
       "    <tr>\n",
       "      <th>2</th>\n",
       "      <td>NaN</td>\n",
       "    </tr>\n",
       "    <tr>\n",
       "      <th>3</th>\n",
       "      <td>George</td>\n",
       "    </tr>\n",
       "    <tr>\n",
       "      <th>4</th>\n",
       "      <td>*Franklin</td>\n",
       "    </tr>\n",
       "    <tr>\n",
       "      <th>...</th>\n",
       "      <td>...</td>\n",
       "    </tr>\n",
       "    <tr>\n",
       "      <th>8749</th>\n",
       "      <td>Boi</td>\n",
       "    </tr>\n",
       "    <tr>\n",
       "      <th>8750</th>\n",
       "      <td>Auryn</td>\n",
       "    </tr>\n",
       "    <tr>\n",
       "      <th>8751</th>\n",
       "      <td>Georgi</td>\n",
       "    </tr>\n",
       "    <tr>\n",
       "      <th>8752</th>\n",
       "      <td>Marylin</td>\n",
       "    </tr>\n",
       "    <tr>\n",
       "      <th>8753</th>\n",
       "      <td>Wilson Fitzg</td>\n",
       "    </tr>\n",
       "  </tbody>\n",
       "</table>\n",
       "<p>8754 rows × 1 columns</p>\n",
       "</div>"
      ],
      "text/plain": [
       "                 0\n",
       "0            *Zoey\n",
       "1             Rico\n",
       "2              NaN\n",
       "3           George\n",
       "4        *Franklin\n",
       "...            ...\n",
       "8749           Boi\n",
       "8750         Auryn\n",
       "8751        Georgi\n",
       "8752       Marylin\n",
       "8753  Wilson Fitzg\n",
       "\n",
       "[8754 rows x 1 columns]"
      ]
     },
     "execution_count": 203,
     "metadata": {},
     "output_type": "execute_result"
    }
   ],
   "source": [
    "#how many unique names are there?\n",
    "pd.DataFrame(shelter_df['Name_intake'].unique())"
   ]
  },
  {
   "cell_type": "code",
   "execution_count": 204,
   "id": "2c35849c",
   "metadata": {},
   "outputs": [
    {
     "data": {
      "text/plain": [
       "Bella           190\n",
       "Max             180\n",
       "Rocky           144\n",
       "Princess        133\n",
       "Daisy           131\n",
       "               ... \n",
       "D.O.G             1\n",
       "*Kisa             1\n",
       "Mortakai          1\n",
       "Delia             1\n",
       "Wilson Fitzg      1\n",
       "Name: Name_intake, Length: 8753, dtype: int64"
      ]
     },
     "execution_count": 204,
     "metadata": {},
     "output_type": "execute_result"
    }
   ],
   "source": [
    "#how are the names distributed?\n",
    "shelter_df['Name_intake'].value_counts()"
   ]
  },
  {
   "cell_type": "code",
   "execution_count": 205,
   "id": "146c885d",
   "metadata": {},
   "outputs": [
    {
     "data": {
      "text/plain": [
       "5297"
      ]
     },
     "execution_count": 205,
     "metadata": {},
     "output_type": "execute_result"
    }
   ],
   "source": [
    "#are there any null values?\n",
    "shelter_df['Name_intake'].isna().sum()"
   ]
  },
  {
   "cell_type": "markdown",
   "id": "a558ec02",
   "metadata": {},
   "source": [
    "There are only a few dogs with the same name and quite a lot of null values, so I will drop this column, but for the sake of EDA, I will clean it up a little for the EDA df."
   ]
  },
  {
   "cell_type": "code",
   "execution_count": 206,
   "id": "0db00f55",
   "metadata": {},
   "outputs": [],
   "source": [
    "EDA_shelter_df['Name_intake'] = EDA_shelter_df['Name_intake'].astype(str)"
   ]
  },
  {
   "cell_type": "code",
   "execution_count": 207,
   "id": "fd2c562d",
   "metadata": {},
   "outputs": [
    {
     "data": {
      "text/plain": [
       "Animal ID\n",
       "A683644           Zoey\n",
       "A676515           Rico\n",
       "A742953            nan\n",
       "A692161         George\n",
       "A720597       Franklin\n",
       "              ...     \n",
       "A746624        Cuddles\n",
       "A746460         Spanky\n",
       "A746689        Marylin\n",
       "A746466    WilsonFitzg\n",
       "A746072            Ace\n",
       "Name: Name_intake, Length: 30042, dtype: object"
      ]
     },
     "execution_count": 207,
     "metadata": {},
     "output_type": "execute_result"
    }
   ],
   "source": [
    "for i, name in enumerate(EDA_shelter_df['Name_intake']):\n",
    "    EDA_shelter_df['Name_intake'][i] = re.sub(rf'[*]', '', name)\n",
    "\n",
    "for i, name in enumerate(EDA_shelter_df['Name_intake']):\n",
    "    EDA_shelter_df['Name_intake'][i] = re.sub(rf'[^a-zA-Z0-9]+', '', name)\n",
    "    \n",
    "# printing result\n",
    "EDA_shelter_df['Name_intake']"
   ]
  },
  {
   "cell_type": "code",
   "execution_count": 208,
   "id": "54f21074",
   "metadata": {},
   "outputs": [],
   "source": [
    "def onlySpecialCharacters(df):\n",
    "    \n",
    "    num_special_names = 0\n",
    "    # Regex to check if a string contains\n",
    "    # only special characters\n",
    "    regex = \"[^a-zA-Z0-9]+\"\n",
    " \n",
    "    # Compile the ReGex\n",
    "    p=re.compile(regex)\n",
    "    \n",
    "    for name in df:\n",
    "        # If the string is empty\n",
    "        # then print No\n",
    "        if(len(name) == 0):\n",
    "            pass\n",
    "\n",
    "        # Print Yes If the string matches\n",
    "        # with the Regex\n",
    "        if(re.search(p, name)):\n",
    "            num_special_names +=1\n",
    "    \n",
    "    return num_special_names\n",
    "# https://www.geeksforgeeks.org/check-if-a-string-consists-only-of-special-characters/"
   ]
  },
  {
   "cell_type": "code",
   "execution_count": 209,
   "id": "2498af96",
   "metadata": {},
   "outputs": [
    {
     "data": {
      "text/plain": [
       "0"
      ]
     },
     "execution_count": 209,
     "metadata": {},
     "output_type": "execute_result"
    }
   ],
   "source": [
    "onlySpecialCharacters(EDA_shelter_df['Name_intake'])\n",
    "#no special charecter names remain"
   ]
  },
  {
   "cell_type": "markdown",
   "id": "af3306d8",
   "metadata": {},
   "source": [
    "Then I will drop this column from the dfs"
   ]
  },
  {
   "cell_type": "code",
   "execution_count": 210,
   "id": "d57e1857",
   "metadata": {},
   "outputs": [],
   "source": [
    "#drop the name column\n",
    "shelter_df.drop('Name_intake', axis=1, inplace=True)\n",
    "adopt_partner_shelter_df.drop('Name_intake', axis=1, inplace=True)"
   ]
  },
  {
   "cell_type": "code",
   "execution_count": 211,
   "id": "da08524f",
   "metadata": {},
   "outputs": [
    {
     "name": "stdout",
     "output_type": "stream",
     "text": [
      "<class 'pandas.core.frame.DataFrame'>\n",
      "Index: 29883 entries, A683644 to A746072\n",
      "Data columns (total 53 columns):\n",
      " #   Column            Non-Null Count  Dtype         \n",
      "---  ------            --------------  -----         \n",
      " 0   DateTime_intake   29883 non-null  datetime64[ns]\n",
      " 1   Intake_Type       29883 non-null  int32         \n",
      " 2   IntakeCondition   29883 non-null  int32         \n",
      " 3   Age               29883 non-null  float64       \n",
      " 4   DateTime_outcome  29883 non-null  datetime64[ns]\n",
      " 5   Outcome_Type      29883 non-null  int32         \n",
      " 6   Age_upon_Outcome  29883 non-null  float64       \n",
      " 7   gender_intake     29883 non-null  int64         \n",
      " 8   fixed_intake      29883 non-null  int32         \n",
      " 9   fixed_changed     29883 non-null  int32         \n",
      " 10  retriever         29883 non-null  int32         \n",
      " 11  shepherd          29883 non-null  int32         \n",
      " 12  beagle            29883 non-null  int32         \n",
      " 13  terrier           29883 non-null  int32         \n",
      " 14  boxer             29883 non-null  int32         \n",
      " 15  poodle            29883 non-null  int32         \n",
      " 16  rottweiler        29883 non-null  int32         \n",
      " 17  dachshund         29883 non-null  int32         \n",
      " 18  chihuahua         29883 non-null  int32         \n",
      " 19  pit bull          29883 non-null  int32         \n",
      " 20  DateTime_length   29883 non-null  int64         \n",
      " 21  cattle dog        29883 non-null  int32         \n",
      " 22  collie            29883 non-null  int32         \n",
      " 23  catahoula         29883 non-null  int32         \n",
      " 24  schnauzer         29883 non-null  int32         \n",
      " 25  husky             29883 non-null  int32         \n",
      " 26  pyrenees          29883 non-null  int32         \n",
      " 27  shih tzu          29883 non-null  int32         \n",
      " 28  pointer           29883 non-null  int32         \n",
      " 29  bulldog           29883 non-null  int32         \n",
      " 30  kelpie            29883 non-null  int32         \n",
      " 31  black mouth cur   29883 non-null  int32         \n",
      " 32  hound             29883 non-null  int32         \n",
      " 33  heeler            29883 non-null  int32         \n",
      " 34  pinscher          29883 non-null  int32         \n",
      " 35  maltese           29883 non-null  int32         \n",
      " 36  chow              29883 non-null  int32         \n",
      " 37  pug               29883 non-null  int32         \n",
      " 38  lhasa apso        29883 non-null  int32         \n",
      " 39  pomeranian        29883 non-null  int32         \n",
      " 40  corgi             29883 non-null  int32         \n",
      " 41  spaniel           29883 non-null  int32         \n",
      " 42  blue lacy         29883 non-null  int32         \n",
      " 43  black             29883 non-null  int64         \n",
      " 44  white             29883 non-null  int64         \n",
      " 45  brown             29883 non-null  int64         \n",
      " 46  tan               29883 non-null  int64         \n",
      " 47  tricolor          29883 non-null  int64         \n",
      " 48  brindle           29883 non-null  int64         \n",
      " 49  blue              29883 non-null  int64         \n",
      " 50  red               29883 non-null  int64         \n",
      " 51  chocolate         29883 non-null  int64         \n",
      " 52  sable             29883 non-null  int64         \n",
      "dtypes: datetime64[ns](2), float64(2), int32(37), int64(12)\n",
      "memory usage: 9.1+ MB\n"
     ]
    }
   ],
   "source": [
    "#Check that everything is numeric values now\n",
    "shelter_df.info()"
   ]
  },
  {
   "cell_type": "code",
   "execution_count": 212,
   "id": "56f11907",
   "metadata": {},
   "outputs": [
    {
     "name": "stdout",
     "output_type": "stream",
     "text": [
      "<class 'pandas.core.frame.DataFrame'>\n",
      "Index: 30042 entries, A683644 to A746072\n",
      "Data columns (total 26 columns):\n",
      " #   Column               Non-Null Count  Dtype         \n",
      "---  ------               --------------  -----         \n",
      " 0   Name_intake          30042 non-null  object        \n",
      " 1   Found_Location       30042 non-null  object        \n",
      " 2   Intake_Type          30042 non-null  object        \n",
      " 3   IntakeCondition      30042 non-null  object        \n",
      " 4   Outcome_Type         30041 non-null  object        \n",
      " 5   Outcome_Subtype      10152 non-null  object        \n",
      " 6   gender_intake        29884 non-null  object        \n",
      " 7   fixed_changed        30042 non-null  object        \n",
      " 8   fixed_intake         30042 non-null  int32         \n",
      " 9   fixed_outcome        30040 non-null  object        \n",
      " 10  Breed_intake         30042 non-null  object        \n",
      " 11  Color_intake         30042 non-null  object        \n",
      " 12  Date of Birth        30042 non-null  datetime64[ns]\n",
      " 13  Age_Bucket           30042 non-null  object        \n",
      " 14  Days_length          30042 non-null  object        \n",
      " 15  intake_date          30042 non-null  datetime64[ns]\n",
      " 16  outcome_date         30042 non-null  datetime64[ns]\n",
      " 17  Breed1               30042 non-null  object        \n",
      " 18  Breed2               5144 non-null   object        \n",
      " 19  Breed3               19 non-null     object        \n",
      " 20  Color1               30042 non-null  object        \n",
      " 21  Color2               19115 non-null  object        \n",
      " 22  age_months           30042 non-null  float64       \n",
      " 23  outcome_age_months   30042 non-null  float64       \n",
      " 24  bi_intake_condition  29883 non-null  float64       \n",
      " 25  bi_intake_type       29883 non-null  float64       \n",
      "dtypes: datetime64[ns](3), float64(4), int32(1), object(18)\n",
      "memory usage: 7.1+ MB\n"
     ]
    }
   ],
   "source": [
    "EDA_shelter_df.info()"
   ]
  },
  {
   "cell_type": "markdown",
   "id": "5732a52b",
   "metadata": {},
   "source": [
    "## Split Date Columns\n",
    "<a class=\"anchor\" id=\"split\"></a>\n",
    "\n",
    "The DateTime format is useful for Tableau and EDA, but not for modeling, so I will separate them into intake/outcome day, month, and year."
   ]
  },
  {
   "cell_type": "code",
   "execution_count": 213,
   "id": "8d50fe3e",
   "metadata": {},
   "outputs": [],
   "source": [
    "#spliting up the outcome dates for shelter df\n",
    "shelter_df['outcome_day'] = shelter_df['DateTime_outcome'].dt.day\n",
    "shelter_df['outcome_month'] = shelter_df['DateTime_outcome'].dt.month\n",
    "shelter_df['outcome_year'] = shelter_df['DateTime_outcome'].dt.year\n",
    "\n",
    "#and the same for adopt partner df\n",
    "adopt_partner_shelter_df['outcome_day'] = adopt_partner_shelter_df['DateTime_outcome'].dt.day\n",
    "adopt_partner_shelter_df['outcome_month'] = adopt_partner_shelter_df['DateTime_outcome'].dt.month\n",
    "adopt_partner_shelter_df['outcome_year'] = adopt_partner_shelter_df['DateTime_outcome'].dt.year"
   ]
  },
  {
   "cell_type": "code",
   "execution_count": 214,
   "id": "c277fd21",
   "metadata": {},
   "outputs": [],
   "source": [
    "#drop the date columns that ate in DateTime format\n",
    "shelter_df.drop('DateTime_outcome', axis = 1, inplace = True)\n",
    "adopt_partner_shelter_df.drop('DateTime_outcome', axis = 1, inplace = True)"
   ]
  },
  {
   "cell_type": "code",
   "execution_count": 215,
   "id": "7cb7fc94",
   "metadata": {},
   "outputs": [],
   "source": [
    "#do the same for intake\n",
    "shelter_df['intake_day'] = shelter_df['DateTime_intake'].dt.day\n",
    "shelter_df['intake_month'] = shelter_df['DateTime_intake'].dt.month\n",
    "shelter_df['intake_year'] = shelter_df['DateTime_intake'].dt.year\n",
    "\n",
    "adopt_partner_shelter_df['intake_day'] = adopt_partner_shelter_df['DateTime_intake'].dt.day\n",
    "adopt_partner_shelter_df['intake_month'] = adopt_partner_shelter_df['DateTime_intake'].dt.month\n",
    "adopt_partner_shelter_df['intake_year'] = adopt_partner_shelter_df['DateTime_intake'].dt.year"
   ]
  },
  {
   "cell_type": "code",
   "execution_count": 216,
   "id": "128d7cc3",
   "metadata": {},
   "outputs": [],
   "source": [
    "#drop these DateTime columns too\n",
    "shelter_df.drop('DateTime_intake', axis = 1, inplace = True)\n",
    "adopt_partner_shelter_df.drop('DateTime_intake',axis= 1, inplace=True)"
   ]
  },
  {
   "cell_type": "code",
   "execution_count": 217,
   "id": "ec8ebc37",
   "metadata": {},
   "outputs": [
    {
     "name": "stdout",
     "output_type": "stream",
     "text": [
      "<class 'pandas.core.frame.DataFrame'>\n",
      "Index: 29883 entries, A683644 to A746072\n",
      "Data columns (total 57 columns):\n",
      " #   Column            Non-Null Count  Dtype  \n",
      "---  ------            --------------  -----  \n",
      " 0   Intake_Type       29883 non-null  int32  \n",
      " 1   IntakeCondition   29883 non-null  int32  \n",
      " 2   Age               29883 non-null  float64\n",
      " 3   Outcome_Type      29883 non-null  int32  \n",
      " 4   Age_upon_Outcome  29883 non-null  float64\n",
      " 5   gender_intake     29883 non-null  int64  \n",
      " 6   fixed_intake      29883 non-null  int32  \n",
      " 7   fixed_changed     29883 non-null  int32  \n",
      " 8   retriever         29883 non-null  int32  \n",
      " 9   shepherd          29883 non-null  int32  \n",
      " 10  beagle            29883 non-null  int32  \n",
      " 11  terrier           29883 non-null  int32  \n",
      " 12  boxer             29883 non-null  int32  \n",
      " 13  poodle            29883 non-null  int32  \n",
      " 14  rottweiler        29883 non-null  int32  \n",
      " 15  dachshund         29883 non-null  int32  \n",
      " 16  chihuahua         29883 non-null  int32  \n",
      " 17  pit bull          29883 non-null  int32  \n",
      " 18  DateTime_length   29883 non-null  int64  \n",
      " 19  cattle dog        29883 non-null  int32  \n",
      " 20  collie            29883 non-null  int32  \n",
      " 21  catahoula         29883 non-null  int32  \n",
      " 22  schnauzer         29883 non-null  int32  \n",
      " 23  husky             29883 non-null  int32  \n",
      " 24  pyrenees          29883 non-null  int32  \n",
      " 25  shih tzu          29883 non-null  int32  \n",
      " 26  pointer           29883 non-null  int32  \n",
      " 27  bulldog           29883 non-null  int32  \n",
      " 28  kelpie            29883 non-null  int32  \n",
      " 29  black mouth cur   29883 non-null  int32  \n",
      " 30  hound             29883 non-null  int32  \n",
      " 31  heeler            29883 non-null  int32  \n",
      " 32  pinscher          29883 non-null  int32  \n",
      " 33  maltese           29883 non-null  int32  \n",
      " 34  chow              29883 non-null  int32  \n",
      " 35  pug               29883 non-null  int32  \n",
      " 36  lhasa apso        29883 non-null  int32  \n",
      " 37  pomeranian        29883 non-null  int32  \n",
      " 38  corgi             29883 non-null  int32  \n",
      " 39  spaniel           29883 non-null  int32  \n",
      " 40  blue lacy         29883 non-null  int32  \n",
      " 41  black             29883 non-null  int64  \n",
      " 42  white             29883 non-null  int64  \n",
      " 43  brown             29883 non-null  int64  \n",
      " 44  tan               29883 non-null  int64  \n",
      " 45  tricolor          29883 non-null  int64  \n",
      " 46  brindle           29883 non-null  int64  \n",
      " 47  blue              29883 non-null  int64  \n",
      " 48  red               29883 non-null  int64  \n",
      " 49  chocolate         29883 non-null  int64  \n",
      " 50  sable             29883 non-null  int64  \n",
      " 51  outcome_day       29883 non-null  int64  \n",
      " 52  outcome_month     29883 non-null  int64  \n",
      " 53  outcome_year      29883 non-null  int64  \n",
      " 54  intake_day        29883 non-null  int64  \n",
      " 55  intake_month      29883 non-null  int64  \n",
      " 56  intake_year       29883 non-null  int64  \n",
      "dtypes: float64(2), int32(37), int64(18)\n",
      "memory usage: 10.0+ MB\n"
     ]
    }
   ],
   "source": [
    "shelter_df.info()"
   ]
  },
  {
   "cell_type": "markdown",
   "id": "09a61a7f",
   "metadata": {},
   "source": [
    "That was straight forward and now there are 3 rows to represent the intake date and the outcome date. Now I will check if there are any rogue null values that need to be addressed."
   ]
  },
  {
   "cell_type": "code",
   "execution_count": 218,
   "id": "a3269f1a",
   "metadata": {},
   "outputs": [
    {
     "name": "stdout",
     "output_type": "stream",
     "text": [
      "Intake_Type         0\n",
      "IntakeCondition     0\n",
      "Age                 0\n",
      "Outcome_Type        0\n",
      "Age_upon_Outcome    0\n",
      "gender_intake       0\n",
      "fixed_intake        0\n",
      "fixed_changed       0\n",
      "retriever           0\n",
      "shepherd            0\n",
      "beagle              0\n",
      "terrier             0\n",
      "boxer               0\n",
      "poodle              0\n",
      "rottweiler          0\n",
      "dachshund           0\n",
      "chihuahua           0\n",
      "pit bull            0\n",
      "DateTime_length     0\n",
      "cattle dog          0\n",
      "collie              0\n",
      "catahoula           0\n",
      "schnauzer           0\n",
      "husky               0\n",
      "pyrenees            0\n",
      "shih tzu            0\n",
      "pointer             0\n",
      "bulldog             0\n",
      "kelpie              0\n",
      "black mouth cur     0\n",
      "hound               0\n",
      "heeler              0\n",
      "pinscher            0\n",
      "maltese             0\n",
      "chow                0\n",
      "pug                 0\n",
      "lhasa apso          0\n",
      "pomeranian          0\n",
      "corgi               0\n",
      "spaniel             0\n",
      "blue lacy           0\n",
      "black               0\n",
      "white               0\n",
      "brown               0\n",
      "tan                 0\n",
      "tricolor            0\n",
      "brindle             0\n",
      "blue                0\n",
      "red                 0\n",
      "chocolate           0\n",
      "dtype: int64\n",
      "outcome_day      0\n",
      "outcome_month    0\n",
      "outcome_year     0\n",
      "intake_day       0\n",
      "intake_month     0\n",
      "intake_year      0\n",
      "dtype: int64\n"
     ]
    }
   ],
   "source": [
    "print(shelter_df.isna().sum().head(50))\n",
    "print(shelter_df.isna().sum().tail(6))\n",
    "#only have nulls in gender_intake and they were random and 0.5%, so I feel confident dropping them"
   ]
  },
  {
   "cell_type": "markdown",
   "id": "29f18e98",
   "metadata": {},
   "source": [
    "# Rename Columns\n",
    "<a class=\"anchor\" id=\"rename\"></a>\n",
    "\n",
    "Now that all of the columns are numeric and ready for modeling, I can rename them so they follow a similar convention. "
   ]
  },
  {
   "cell_type": "code",
   "execution_count": 219,
   "id": "aad61270",
   "metadata": {
    "scrolled": true
   },
   "outputs": [
    {
     "name": "stdout",
     "output_type": "stream",
     "text": [
      "<class 'pandas.core.frame.DataFrame'>\n",
      "Index: 29883 entries, A683644 to A746072\n",
      "Data columns (total 57 columns):\n",
      " #   Column            Non-Null Count  Dtype  \n",
      "---  ------            --------------  -----  \n",
      " 0   Intake_Type       29883 non-null  int32  \n",
      " 1   IntakeCondition   29883 non-null  int32  \n",
      " 2   Age               29883 non-null  float64\n",
      " 3   Outcome_Type      29883 non-null  int32  \n",
      " 4   Age_upon_Outcome  29883 non-null  float64\n",
      " 5   gender_intake     29883 non-null  int64  \n",
      " 6   fixed_intake      29883 non-null  int32  \n",
      " 7   fixed_changed     29883 non-null  int32  \n",
      " 8   retriever         29883 non-null  int32  \n",
      " 9   shepherd          29883 non-null  int32  \n",
      " 10  beagle            29883 non-null  int32  \n",
      " 11  terrier           29883 non-null  int32  \n",
      " 12  boxer             29883 non-null  int32  \n",
      " 13  poodle            29883 non-null  int32  \n",
      " 14  rottweiler        29883 non-null  int32  \n",
      " 15  dachshund         29883 non-null  int32  \n",
      " 16  chihuahua         29883 non-null  int32  \n",
      " 17  pit bull          29883 non-null  int32  \n",
      " 18  DateTime_length   29883 non-null  int64  \n",
      " 19  cattle dog        29883 non-null  int32  \n",
      " 20  collie            29883 non-null  int32  \n",
      " 21  catahoula         29883 non-null  int32  \n",
      " 22  schnauzer         29883 non-null  int32  \n",
      " 23  husky             29883 non-null  int32  \n",
      " 24  pyrenees          29883 non-null  int32  \n",
      " 25  shih tzu          29883 non-null  int32  \n",
      " 26  pointer           29883 non-null  int32  \n",
      " 27  bulldog           29883 non-null  int32  \n",
      " 28  kelpie            29883 non-null  int32  \n",
      " 29  black mouth cur   29883 non-null  int32  \n",
      " 30  hound             29883 non-null  int32  \n",
      " 31  heeler            29883 non-null  int32  \n",
      " 32  pinscher          29883 non-null  int32  \n",
      " 33  maltese           29883 non-null  int32  \n",
      " 34  chow              29883 non-null  int32  \n",
      " 35  pug               29883 non-null  int32  \n",
      " 36  lhasa apso        29883 non-null  int32  \n",
      " 37  pomeranian        29883 non-null  int32  \n",
      " 38  corgi             29883 non-null  int32  \n",
      " 39  spaniel           29883 non-null  int32  \n",
      " 40  blue lacy         29883 non-null  int32  \n",
      " 41  black             29883 non-null  int64  \n",
      " 42  white             29883 non-null  int64  \n",
      " 43  brown             29883 non-null  int64  \n",
      " 44  tan               29883 non-null  int64  \n",
      " 45  tricolor          29883 non-null  int64  \n",
      " 46  brindle           29883 non-null  int64  \n",
      " 47  blue              29883 non-null  int64  \n",
      " 48  red               29883 non-null  int64  \n",
      " 49  chocolate         29883 non-null  int64  \n",
      " 50  sable             29883 non-null  int64  \n",
      " 51  outcome_day       29883 non-null  int64  \n",
      " 52  outcome_month     29883 non-null  int64  \n",
      " 53  outcome_year      29883 non-null  int64  \n",
      " 54  intake_day        29883 non-null  int64  \n",
      " 55  intake_month      29883 non-null  int64  \n",
      " 56  intake_year       29883 non-null  int64  \n",
      "dtypes: float64(2), int32(37), int64(18)\n",
      "memory usage: 10.0+ MB\n"
     ]
    }
   ],
   "source": [
    "#which columns need to be renamed?\n",
    "shelter_df.info()"
   ]
  },
  {
   "cell_type": "code",
   "execution_count": 220,
   "id": "f34e504b",
   "metadata": {},
   "outputs": [],
   "source": [
    " #rename the columns with caps\n",
    "shelter_df.rename(columns = {'Intake_Type':'stray', 'IntakeCondition':'normal_intake', 'Age':'age_in_months_intake',\n",
    "                              'Outcome_Type':'adopted', 'Age_upon_Outcome': 'age_in_months_outcome', \n",
    "                              'gender_intake':'sex', 'DateTime_length':'length_of_stay'}, inplace = True)"
   ]
  },
  {
   "cell_type": "code",
   "execution_count": 221,
   "id": "0ba61549",
   "metadata": {
    "scrolled": true
   },
   "outputs": [
    {
     "name": "stdout",
     "output_type": "stream",
     "text": [
      "<class 'pandas.core.frame.DataFrame'>\n",
      "Index: 29883 entries, A683644 to A746072\n",
      "Data columns (total 57 columns):\n",
      " #   Column                 Non-Null Count  Dtype  \n",
      "---  ------                 --------------  -----  \n",
      " 0   stray                  29883 non-null  int32  \n",
      " 1   normal_intake          29883 non-null  int32  \n",
      " 2   age_in_months_intake   29883 non-null  float64\n",
      " 3   adopted                29883 non-null  int32  \n",
      " 4   age_in_months_outcome  29883 non-null  float64\n",
      " 5   sex                    29883 non-null  int64  \n",
      " 6   fixed_intake           29883 non-null  int32  \n",
      " 7   fixed_changed          29883 non-null  int32  \n",
      " 8   retriever              29883 non-null  int32  \n",
      " 9   shepherd               29883 non-null  int32  \n",
      " 10  beagle                 29883 non-null  int32  \n",
      " 11  terrier                29883 non-null  int32  \n",
      " 12  boxer                  29883 non-null  int32  \n",
      " 13  poodle                 29883 non-null  int32  \n",
      " 14  rottweiler             29883 non-null  int32  \n",
      " 15  dachshund              29883 non-null  int32  \n",
      " 16  chihuahua              29883 non-null  int32  \n",
      " 17  pit bull               29883 non-null  int32  \n",
      " 18  length_of_stay         29883 non-null  int64  \n",
      " 19  cattle dog             29883 non-null  int32  \n",
      " 20  collie                 29883 non-null  int32  \n",
      " 21  catahoula              29883 non-null  int32  \n",
      " 22  schnauzer              29883 non-null  int32  \n",
      " 23  husky                  29883 non-null  int32  \n",
      " 24  pyrenees               29883 non-null  int32  \n",
      " 25  shih tzu               29883 non-null  int32  \n",
      " 26  pointer                29883 non-null  int32  \n",
      " 27  bulldog                29883 non-null  int32  \n",
      " 28  kelpie                 29883 non-null  int32  \n",
      " 29  black mouth cur        29883 non-null  int32  \n",
      " 30  hound                  29883 non-null  int32  \n",
      " 31  heeler                 29883 non-null  int32  \n",
      " 32  pinscher               29883 non-null  int32  \n",
      " 33  maltese                29883 non-null  int32  \n",
      " 34  chow                   29883 non-null  int32  \n",
      " 35  pug                    29883 non-null  int32  \n",
      " 36  lhasa apso             29883 non-null  int32  \n",
      " 37  pomeranian             29883 non-null  int32  \n",
      " 38  corgi                  29883 non-null  int32  \n",
      " 39  spaniel                29883 non-null  int32  \n",
      " 40  blue lacy              29883 non-null  int32  \n",
      " 41  black                  29883 non-null  int64  \n",
      " 42  white                  29883 non-null  int64  \n",
      " 43  brown                  29883 non-null  int64  \n",
      " 44  tan                    29883 non-null  int64  \n",
      " 45  tricolor               29883 non-null  int64  \n",
      " 46  brindle                29883 non-null  int64  \n",
      " 47  blue                   29883 non-null  int64  \n",
      " 48  red                    29883 non-null  int64  \n",
      " 49  chocolate              29883 non-null  int64  \n",
      " 50  sable                  29883 non-null  int64  \n",
      " 51  outcome_day            29883 non-null  int64  \n",
      " 52  outcome_month          29883 non-null  int64  \n",
      " 53  outcome_year           29883 non-null  int64  \n",
      " 54  intake_day             29883 non-null  int64  \n",
      " 55  intake_month           29883 non-null  int64  \n",
      " 56  intake_year            29883 non-null  int64  \n",
      "dtypes: float64(2), int32(37), int64(18)\n",
      "memory usage: 10.0+ MB\n"
     ]
    }
   ],
   "source": [
    "#confirm they were renamed properly and didn't miss anything\n",
    "shelter_df.info()"
   ]
  },
  {
   "cell_type": "markdown",
   "id": "9c937d7e",
   "metadata": {},
   "source": [
    "The columns in shelter_df have more accurate names now. So I will focus on changing ints to int8 to save on storage. "
   ]
  },
  {
   "cell_type": "code",
   "execution_count": 222,
   "id": "4f8b0d69",
   "metadata": {},
   "outputs": [
    {
     "name": "stdout",
     "output_type": "stream",
     "text": [
      "<class 'pandas.core.frame.DataFrame'>\n",
      "Index: 29883 entries, A683644 to A746072\n",
      "Data columns (total 57 columns):\n",
      " #   Column                 Non-Null Count  Dtype  \n",
      "---  ------                 --------------  -----  \n",
      " 0   stray                  29883 non-null  int32  \n",
      " 1   normal_intake          29883 non-null  int32  \n",
      " 2   age_in_months_intake   29883 non-null  float64\n",
      " 3   adopted                29883 non-null  int32  \n",
      " 4   age_in_months_outcome  29883 non-null  float64\n",
      " 5   sex                    29883 non-null  int64  \n",
      " 6   fixed_intake           29883 non-null  int32  \n",
      " 7   fixed_changed          29883 non-null  int32  \n",
      " 8   retriever              29883 non-null  int32  \n",
      " 9   shepherd               29883 non-null  int32  \n",
      " 10  beagle                 29883 non-null  int32  \n",
      " 11  terrier                29883 non-null  int32  \n",
      " 12  boxer                  29883 non-null  int32  \n",
      " 13  poodle                 29883 non-null  int32  \n",
      " 14  rottweiler             29883 non-null  int32  \n",
      " 15  dachshund              29883 non-null  int32  \n",
      " 16  chihuahua              29883 non-null  int32  \n",
      " 17  pit bull               29883 non-null  int32  \n",
      " 18  length_of_stay         29883 non-null  int64  \n",
      " 19  cattle dog             29883 non-null  int32  \n",
      " 20  collie                 29883 non-null  int32  \n",
      " 21  catahoula              29883 non-null  int32  \n",
      " 22  schnauzer              29883 non-null  int32  \n",
      " 23  husky                  29883 non-null  int32  \n",
      " 24  pyrenees               29883 non-null  int32  \n",
      " 25  shih tzu               29883 non-null  int32  \n",
      " 26  pointer                29883 non-null  int32  \n",
      " 27  bulldog                29883 non-null  int32  \n",
      " 28  kelpie                 29883 non-null  int32  \n",
      " 29  black mouth cur        29883 non-null  int32  \n",
      " 30  hound                  29883 non-null  int32  \n",
      " 31  heeler                 29883 non-null  int32  \n",
      " 32  pinscher               29883 non-null  int32  \n",
      " 33  maltese                29883 non-null  int32  \n",
      " 34  chow                   29883 non-null  int32  \n",
      " 35  pug                    29883 non-null  int32  \n",
      " 36  lhasa apso             29883 non-null  int32  \n",
      " 37  pomeranian             29883 non-null  int32  \n",
      " 38  corgi                  29883 non-null  int32  \n",
      " 39  spaniel                29883 non-null  int32  \n",
      " 40  blue lacy              29883 non-null  int32  \n",
      " 41  black                  29883 non-null  int64  \n",
      " 42  white                  29883 non-null  int64  \n",
      " 43  brown                  29883 non-null  int64  \n",
      " 44  tan                    29883 non-null  int64  \n",
      " 45  tricolor               29883 non-null  int64  \n",
      " 46  brindle                29883 non-null  int64  \n",
      " 47  blue                   29883 non-null  int64  \n",
      " 48  red                    29883 non-null  int64  \n",
      " 49  chocolate              29883 non-null  int64  \n",
      " 50  sable                  29883 non-null  int64  \n",
      " 51  outcome_day            29883 non-null  int64  \n",
      " 52  outcome_month          29883 non-null  int64  \n",
      " 53  outcome_year           29883 non-null  int64  \n",
      " 54  intake_day             29883 non-null  int64  \n",
      " 55  intake_month           29883 non-null  int64  \n",
      " 56  intake_year            29883 non-null  int64  \n",
      "dtypes: float64(2), int32(37), int64(18)\n",
      "memory usage: 10.0+ MB\n"
     ]
    }
   ],
   "source": [
    "#which columns can be reduced to int8?\n",
    "shelter_df.info()"
   ]
  },
  {
   "cell_type": "code",
   "execution_count": 223,
   "id": "6a85ef6d",
   "metadata": {},
   "outputs": [],
   "source": [
    "for col in shelter_df[['stray', 'normal_intake', 'adopted', 'sex', 'fixed_intake', 'fixed_changed', 'retriever', \n",
    "                       'shepherd', 'beagle', 'terrier', 'boxer', 'poodle', 'rottweiler', 'dachshund', 'chihuahua', \n",
    "                       'pit bull', 'length_of_stay', 'cattle dog', 'collie', 'catahoula', 'schnauzer', 'husky', \n",
    "                       'pyrenees', 'shih tzu', 'pointer', 'bulldog', 'kelpie', 'black mouth cur', 'hound', 'heeler', \n",
    "                       'pinscher', 'maltese', 'chow', 'pug', 'lhasa apso', 'pomeranian', 'corgi', 'spaniel', \n",
    "                       'blue lacy', 'black', 'white', 'brown', 'tan', 'tricolor', 'brindle', 'blue', 'red', \n",
    "                       'chocolate', 'sable', 'outcome_day', 'outcome_month', 'outcome_year', 'intake_day', \n",
    "                       'intake_month', 'intake_year'  ]].columns:\n",
    "    shelter_df[col] = shelter_df[col].astype(np.int8)"
   ]
  },
  {
   "cell_type": "code",
   "execution_count": 224,
   "id": "e56349b8",
   "metadata": {
    "scrolled": false
   },
   "outputs": [
    {
     "name": "stdout",
     "output_type": "stream",
     "text": [
      "<class 'pandas.core.frame.DataFrame'>\n",
      "Index: 29883 entries, A683644 to A746072\n",
      "Data columns (total 57 columns):\n",
      " #   Column                 Non-Null Count  Dtype  \n",
      "---  ------                 --------------  -----  \n",
      " 0   stray                  29883 non-null  int8   \n",
      " 1   normal_intake          29883 non-null  int8   \n",
      " 2   age_in_months_intake   29883 non-null  float64\n",
      " 3   adopted                29883 non-null  int8   \n",
      " 4   age_in_months_outcome  29883 non-null  float64\n",
      " 5   sex                    29883 non-null  int8   \n",
      " 6   fixed_intake           29883 non-null  int8   \n",
      " 7   fixed_changed          29883 non-null  int8   \n",
      " 8   retriever              29883 non-null  int8   \n",
      " 9   shepherd               29883 non-null  int8   \n",
      " 10  beagle                 29883 non-null  int8   \n",
      " 11  terrier                29883 non-null  int8   \n",
      " 12  boxer                  29883 non-null  int8   \n",
      " 13  poodle                 29883 non-null  int8   \n",
      " 14  rottweiler             29883 non-null  int8   \n",
      " 15  dachshund              29883 non-null  int8   \n",
      " 16  chihuahua              29883 non-null  int8   \n",
      " 17  pit bull               29883 non-null  int8   \n",
      " 18  length_of_stay         29883 non-null  int8   \n",
      " 19  cattle dog             29883 non-null  int8   \n",
      " 20  collie                 29883 non-null  int8   \n",
      " 21  catahoula              29883 non-null  int8   \n",
      " 22  schnauzer              29883 non-null  int8   \n",
      " 23  husky                  29883 non-null  int8   \n",
      " 24  pyrenees               29883 non-null  int8   \n",
      " 25  shih tzu               29883 non-null  int8   \n",
      " 26  pointer                29883 non-null  int8   \n",
      " 27  bulldog                29883 non-null  int8   \n",
      " 28  kelpie                 29883 non-null  int8   \n",
      " 29  black mouth cur        29883 non-null  int8   \n",
      " 30  hound                  29883 non-null  int8   \n",
      " 31  heeler                 29883 non-null  int8   \n",
      " 32  pinscher               29883 non-null  int8   \n",
      " 33  maltese                29883 non-null  int8   \n",
      " 34  chow                   29883 non-null  int8   \n",
      " 35  pug                    29883 non-null  int8   \n",
      " 36  lhasa apso             29883 non-null  int8   \n",
      " 37  pomeranian             29883 non-null  int8   \n",
      " 38  corgi                  29883 non-null  int8   \n",
      " 39  spaniel                29883 non-null  int8   \n",
      " 40  blue lacy              29883 non-null  int8   \n",
      " 41  black                  29883 non-null  int8   \n",
      " 42  white                  29883 non-null  int8   \n",
      " 43  brown                  29883 non-null  int8   \n",
      " 44  tan                    29883 non-null  int8   \n",
      " 45  tricolor               29883 non-null  int8   \n",
      " 46  brindle                29883 non-null  int8   \n",
      " 47  blue                   29883 non-null  int8   \n",
      " 48  red                    29883 non-null  int8   \n",
      " 49  chocolate              29883 non-null  int8   \n",
      " 50  sable                  29883 non-null  int8   \n",
      " 51  outcome_day            29883 non-null  int8   \n",
      " 52  outcome_month          29883 non-null  int8   \n",
      " 53  outcome_year           29883 non-null  int8   \n",
      " 54  intake_day             29883 non-null  int8   \n",
      " 55  intake_month           29883 non-null  int8   \n",
      " 56  intake_year            29883 non-null  int8   \n",
      "dtypes: float64(2), int8(55)\n",
      "memory usage: 3.3+ MB\n"
     ]
    }
   ],
   "source": [
    "#did it work?\n",
    "shelter_df.info()"
   ]
  },
  {
   "cell_type": "markdown",
   "id": "7655c308",
   "metadata": {},
   "source": [
    "I successfully changed the names of the columns and converted the dtype to int8 for all columns that apply. I will now do the same for the adopt partner df. "
   ]
  },
  {
   "cell_type": "code",
   "execution_count": 225,
   "id": "8e9f04c3",
   "metadata": {
    "scrolled": true
   },
   "outputs": [
    {
     "name": "stdout",
     "output_type": "stream",
     "text": [
      "<class 'pandas.core.frame.DataFrame'>\n",
      "Index: 21462 entries, A683644 to A746072\n",
      "Data columns (total 57 columns):\n",
      " #   Column            Non-Null Count  Dtype  \n",
      "---  ------            --------------  -----  \n",
      " 0   Intake_Type       21462 non-null  int32  \n",
      " 1   IntakeCondition   21462 non-null  int32  \n",
      " 2   Age               21462 non-null  float64\n",
      " 3   Outcome_Type      21462 non-null  int32  \n",
      " 4   Age_upon_Outcome  21462 non-null  float64\n",
      " 5   gender_intake     21462 non-null  int64  \n",
      " 6   fixed_intake      21462 non-null  int32  \n",
      " 7   fixed_changed     21462 non-null  int32  \n",
      " 8   retriever         21462 non-null  int32  \n",
      " 9   shepherd          21462 non-null  int32  \n",
      " 10  beagle            21462 non-null  int32  \n",
      " 11  terrier           21462 non-null  int32  \n",
      " 12  boxer             21462 non-null  int32  \n",
      " 13  poodle            21462 non-null  int32  \n",
      " 14  rottweiler        21462 non-null  int32  \n",
      " 15  dachshund         21462 non-null  int32  \n",
      " 16  chihuahua         21462 non-null  int32  \n",
      " 17  pit bull          21462 non-null  int32  \n",
      " 18  DateTime_length   21462 non-null  int64  \n",
      " 19  cattle dog        21462 non-null  int32  \n",
      " 20  collie            21462 non-null  int32  \n",
      " 21  catahoula         21462 non-null  int32  \n",
      " 22  schnauzer         21462 non-null  int32  \n",
      " 23  husky             21462 non-null  int32  \n",
      " 24  pyrenees          21462 non-null  int32  \n",
      " 25  shih tzu          21462 non-null  int32  \n",
      " 26  pointer           21462 non-null  int32  \n",
      " 27  bulldog           21462 non-null  int32  \n",
      " 28  kelpie            21462 non-null  int32  \n",
      " 29  black mouth cur   21462 non-null  int32  \n",
      " 30  hound             21462 non-null  int32  \n",
      " 31  heeler            21462 non-null  int32  \n",
      " 32  pinscher          21462 non-null  int32  \n",
      " 33  maltese           21462 non-null  int32  \n",
      " 34  chow              21462 non-null  int32  \n",
      " 35  pug               21462 non-null  int32  \n",
      " 36  lhasa apso        21462 non-null  int32  \n",
      " 37  pomeranian        21462 non-null  int32  \n",
      " 38  corgi             21462 non-null  int32  \n",
      " 39  spaniel           21462 non-null  int32  \n",
      " 40  blue lacy         21462 non-null  int32  \n",
      " 41  black             21462 non-null  int64  \n",
      " 42  white             21462 non-null  int64  \n",
      " 43  brown             21462 non-null  int64  \n",
      " 44  tan               21462 non-null  int64  \n",
      " 45  tricolor          21462 non-null  int64  \n",
      " 46  brindle           21462 non-null  int64  \n",
      " 47  blue              21462 non-null  int64  \n",
      " 48  red               21462 non-null  int64  \n",
      " 49  chocolate         21462 non-null  int64  \n",
      " 50  sable             21462 non-null  int64  \n",
      " 51  outcome_day       21462 non-null  int64  \n",
      " 52  outcome_month     21462 non-null  int64  \n",
      " 53  outcome_year      21462 non-null  int64  \n",
      " 54  intake_day        21462 non-null  int64  \n",
      " 55  intake_month      21462 non-null  int64  \n",
      " 56  intake_year       21462 non-null  int64  \n",
      "dtypes: float64(2), int32(37), int64(18)\n",
      "memory usage: 6.5+ MB\n"
     ]
    }
   ],
   "source": [
    "#which columns need to be renamed?\n",
    "adopt_partner_shelter_df.info()"
   ]
  },
  {
   "cell_type": "code",
   "execution_count": 226,
   "id": "0d93da4b",
   "metadata": {},
   "outputs": [],
   "source": [
    " #rename the columns with caps\n",
    "adopt_partner_shelter_df.rename(columns = {'Intake_Type':'stray', 'IntakeCondition':'normal_intake', \n",
    "                                           'Age':'age_in_months_intake', 'Outcome_Type':'adopted', \n",
    "                                           'Age_upon_Outcome': 'age_in_months_outcome','gender_intake':'sex', \n",
    "                                           'DateTime_length':'length_of_stay'}, inplace = True)"
   ]
  },
  {
   "cell_type": "code",
   "execution_count": 227,
   "id": "7aaf1972",
   "metadata": {
    "scrolled": true
   },
   "outputs": [
    {
     "name": "stdout",
     "output_type": "stream",
     "text": [
      "<class 'pandas.core.frame.DataFrame'>\n",
      "Index: 21462 entries, A683644 to A746072\n",
      "Data columns (total 57 columns):\n",
      " #   Column                 Non-Null Count  Dtype  \n",
      "---  ------                 --------------  -----  \n",
      " 0   stray                  21462 non-null  int32  \n",
      " 1   normal_intake          21462 non-null  int32  \n",
      " 2   age_in_months_intake   21462 non-null  float64\n",
      " 3   adopted                21462 non-null  int32  \n",
      " 4   age_in_months_outcome  21462 non-null  float64\n",
      " 5   sex                    21462 non-null  int64  \n",
      " 6   fixed_intake           21462 non-null  int32  \n",
      " 7   fixed_changed          21462 non-null  int32  \n",
      " 8   retriever              21462 non-null  int32  \n",
      " 9   shepherd               21462 non-null  int32  \n",
      " 10  beagle                 21462 non-null  int32  \n",
      " 11  terrier                21462 non-null  int32  \n",
      " 12  boxer                  21462 non-null  int32  \n",
      " 13  poodle                 21462 non-null  int32  \n",
      " 14  rottweiler             21462 non-null  int32  \n",
      " 15  dachshund              21462 non-null  int32  \n",
      " 16  chihuahua              21462 non-null  int32  \n",
      " 17  pit bull               21462 non-null  int32  \n",
      " 18  length_of_stay         21462 non-null  int64  \n",
      " 19  cattle dog             21462 non-null  int32  \n",
      " 20  collie                 21462 non-null  int32  \n",
      " 21  catahoula              21462 non-null  int32  \n",
      " 22  schnauzer              21462 non-null  int32  \n",
      " 23  husky                  21462 non-null  int32  \n",
      " 24  pyrenees               21462 non-null  int32  \n",
      " 25  shih tzu               21462 non-null  int32  \n",
      " 26  pointer                21462 non-null  int32  \n",
      " 27  bulldog                21462 non-null  int32  \n",
      " 28  kelpie                 21462 non-null  int32  \n",
      " 29  black mouth cur        21462 non-null  int32  \n",
      " 30  hound                  21462 non-null  int32  \n",
      " 31  heeler                 21462 non-null  int32  \n",
      " 32  pinscher               21462 non-null  int32  \n",
      " 33  maltese                21462 non-null  int32  \n",
      " 34  chow                   21462 non-null  int32  \n",
      " 35  pug                    21462 non-null  int32  \n",
      " 36  lhasa apso             21462 non-null  int32  \n",
      " 37  pomeranian             21462 non-null  int32  \n",
      " 38  corgi                  21462 non-null  int32  \n",
      " 39  spaniel                21462 non-null  int32  \n",
      " 40  blue lacy              21462 non-null  int32  \n",
      " 41  black                  21462 non-null  int64  \n",
      " 42  white                  21462 non-null  int64  \n",
      " 43  brown                  21462 non-null  int64  \n",
      " 44  tan                    21462 non-null  int64  \n",
      " 45  tricolor               21462 non-null  int64  \n",
      " 46  brindle                21462 non-null  int64  \n",
      " 47  blue                   21462 non-null  int64  \n",
      " 48  red                    21462 non-null  int64  \n",
      " 49  chocolate              21462 non-null  int64  \n",
      " 50  sable                  21462 non-null  int64  \n",
      " 51  outcome_day            21462 non-null  int64  \n",
      " 52  outcome_month          21462 non-null  int64  \n",
      " 53  outcome_year           21462 non-null  int64  \n",
      " 54  intake_day             21462 non-null  int64  \n",
      " 55  intake_month           21462 non-null  int64  \n",
      " 56  intake_year            21462 non-null  int64  \n",
      "dtypes: float64(2), int32(37), int64(18)\n",
      "memory usage: 6.5+ MB\n"
     ]
    }
   ],
   "source": [
    "#confirm they were renamed properly and didn't miss anything\n",
    "adopt_partner_shelter_df.info()"
   ]
  },
  {
   "cell_type": "markdown",
   "id": "298e919e",
   "metadata": {},
   "source": [
    "TI've corrected the column names here. Now I will focus on changing ints to int8 to save on storage. "
   ]
  },
  {
   "cell_type": "code",
   "execution_count": 228,
   "id": "0d79c2ca",
   "metadata": {},
   "outputs": [
    {
     "name": "stdout",
     "output_type": "stream",
     "text": [
      "<class 'pandas.core.frame.DataFrame'>\n",
      "Index: 21462 entries, A683644 to A746072\n",
      "Data columns (total 57 columns):\n",
      " #   Column                 Non-Null Count  Dtype  \n",
      "---  ------                 --------------  -----  \n",
      " 0   stray                  21462 non-null  int32  \n",
      " 1   normal_intake          21462 non-null  int32  \n",
      " 2   age_in_months_intake   21462 non-null  float64\n",
      " 3   adopted                21462 non-null  int32  \n",
      " 4   age_in_months_outcome  21462 non-null  float64\n",
      " 5   sex                    21462 non-null  int64  \n",
      " 6   fixed_intake           21462 non-null  int32  \n",
      " 7   fixed_changed          21462 non-null  int32  \n",
      " 8   retriever              21462 non-null  int32  \n",
      " 9   shepherd               21462 non-null  int32  \n",
      " 10  beagle                 21462 non-null  int32  \n",
      " 11  terrier                21462 non-null  int32  \n",
      " 12  boxer                  21462 non-null  int32  \n",
      " 13  poodle                 21462 non-null  int32  \n",
      " 14  rottweiler             21462 non-null  int32  \n",
      " 15  dachshund              21462 non-null  int32  \n",
      " 16  chihuahua              21462 non-null  int32  \n",
      " 17  pit bull               21462 non-null  int32  \n",
      " 18  length_of_stay         21462 non-null  int64  \n",
      " 19  cattle dog             21462 non-null  int32  \n",
      " 20  collie                 21462 non-null  int32  \n",
      " 21  catahoula              21462 non-null  int32  \n",
      " 22  schnauzer              21462 non-null  int32  \n",
      " 23  husky                  21462 non-null  int32  \n",
      " 24  pyrenees               21462 non-null  int32  \n",
      " 25  shih tzu               21462 non-null  int32  \n",
      " 26  pointer                21462 non-null  int32  \n",
      " 27  bulldog                21462 non-null  int32  \n",
      " 28  kelpie                 21462 non-null  int32  \n",
      " 29  black mouth cur        21462 non-null  int32  \n",
      " 30  hound                  21462 non-null  int32  \n",
      " 31  heeler                 21462 non-null  int32  \n",
      " 32  pinscher               21462 non-null  int32  \n",
      " 33  maltese                21462 non-null  int32  \n",
      " 34  chow                   21462 non-null  int32  \n",
      " 35  pug                    21462 non-null  int32  \n",
      " 36  lhasa apso             21462 non-null  int32  \n",
      " 37  pomeranian             21462 non-null  int32  \n",
      " 38  corgi                  21462 non-null  int32  \n",
      " 39  spaniel                21462 non-null  int32  \n",
      " 40  blue lacy              21462 non-null  int32  \n",
      " 41  black                  21462 non-null  int64  \n",
      " 42  white                  21462 non-null  int64  \n",
      " 43  brown                  21462 non-null  int64  \n",
      " 44  tan                    21462 non-null  int64  \n",
      " 45  tricolor               21462 non-null  int64  \n",
      " 46  brindle                21462 non-null  int64  \n",
      " 47  blue                   21462 non-null  int64  \n",
      " 48  red                    21462 non-null  int64  \n",
      " 49  chocolate              21462 non-null  int64  \n",
      " 50  sable                  21462 non-null  int64  \n",
      " 51  outcome_day            21462 non-null  int64  \n",
      " 52  outcome_month          21462 non-null  int64  \n",
      " 53  outcome_year           21462 non-null  int64  \n",
      " 54  intake_day             21462 non-null  int64  \n",
      " 55  intake_month           21462 non-null  int64  \n",
      " 56  intake_year            21462 non-null  int64  \n",
      "dtypes: float64(2), int32(37), int64(18)\n",
      "memory usage: 6.5+ MB\n"
     ]
    }
   ],
   "source": [
    "#which columns can be reduced to int8?\n",
    "adopt_partner_shelter_df.info()"
   ]
  },
  {
   "cell_type": "code",
   "execution_count": 229,
   "id": "7bc9bc5a",
   "metadata": {},
   "outputs": [],
   "source": [
    "for col in adopt_partner_shelter_df[['stray', 'normal_intake', 'adopted', 'sex', 'fixed_intake', 'fixed_changed', 'retriever', \n",
    "                       'shepherd', 'beagle', 'terrier', 'boxer', 'poodle', 'rottweiler', 'dachshund', 'chihuahua', \n",
    "                       'pit bull', 'length_of_stay', 'cattle dog', 'collie', 'catahoula', 'schnauzer', 'husky', \n",
    "                       'pyrenees', 'shih tzu', 'pointer', 'bulldog', 'kelpie', 'black mouth cur', 'hound', 'heeler', \n",
    "                       'pinscher', 'maltese', 'chow', 'pug', 'lhasa apso', 'pomeranian', 'corgi', 'spaniel', \n",
    "                       'blue lacy', 'black', 'white', 'brown', 'tan', 'tricolor', 'brindle', 'blue', 'red', \n",
    "                       'chocolate', 'sable', 'outcome_day', 'outcome_month', 'outcome_year', 'intake_day', \n",
    "                       'intake_month', 'intake_year'  ]].columns:\n",
    "    adopt_partner_shelter_df[col] = adopt_partner_shelter_df[col].astype(np.int8)"
   ]
  },
  {
   "cell_type": "code",
   "execution_count": 230,
   "id": "3a118f44",
   "metadata": {
    "scrolled": false
   },
   "outputs": [
    {
     "name": "stdout",
     "output_type": "stream",
     "text": [
      "<class 'pandas.core.frame.DataFrame'>\n",
      "Index: 21462 entries, A683644 to A746072\n",
      "Data columns (total 57 columns):\n",
      " #   Column                 Non-Null Count  Dtype  \n",
      "---  ------                 --------------  -----  \n",
      " 0   stray                  21462 non-null  int8   \n",
      " 1   normal_intake          21462 non-null  int8   \n",
      " 2   age_in_months_intake   21462 non-null  float64\n",
      " 3   adopted                21462 non-null  int8   \n",
      " 4   age_in_months_outcome  21462 non-null  float64\n",
      " 5   sex                    21462 non-null  int8   \n",
      " 6   fixed_intake           21462 non-null  int8   \n",
      " 7   fixed_changed          21462 non-null  int8   \n",
      " 8   retriever              21462 non-null  int8   \n",
      " 9   shepherd               21462 non-null  int8   \n",
      " 10  beagle                 21462 non-null  int8   \n",
      " 11  terrier                21462 non-null  int8   \n",
      " 12  boxer                  21462 non-null  int8   \n",
      " 13  poodle                 21462 non-null  int8   \n",
      " 14  rottweiler             21462 non-null  int8   \n",
      " 15  dachshund              21462 non-null  int8   \n",
      " 16  chihuahua              21462 non-null  int8   \n",
      " 17  pit bull               21462 non-null  int8   \n",
      " 18  length_of_stay         21462 non-null  int8   \n",
      " 19  cattle dog             21462 non-null  int8   \n",
      " 20  collie                 21462 non-null  int8   \n",
      " 21  catahoula              21462 non-null  int8   \n",
      " 22  schnauzer              21462 non-null  int8   \n",
      " 23  husky                  21462 non-null  int8   \n",
      " 24  pyrenees               21462 non-null  int8   \n",
      " 25  shih tzu               21462 non-null  int8   \n",
      " 26  pointer                21462 non-null  int8   \n",
      " 27  bulldog                21462 non-null  int8   \n",
      " 28  kelpie                 21462 non-null  int8   \n",
      " 29  black mouth cur        21462 non-null  int8   \n",
      " 30  hound                  21462 non-null  int8   \n",
      " 31  heeler                 21462 non-null  int8   \n",
      " 32  pinscher               21462 non-null  int8   \n",
      " 33  maltese                21462 non-null  int8   \n",
      " 34  chow                   21462 non-null  int8   \n",
      " 35  pug                    21462 non-null  int8   \n",
      " 36  lhasa apso             21462 non-null  int8   \n",
      " 37  pomeranian             21462 non-null  int8   \n",
      " 38  corgi                  21462 non-null  int8   \n",
      " 39  spaniel                21462 non-null  int8   \n",
      " 40  blue lacy              21462 non-null  int8   \n",
      " 41  black                  21462 non-null  int8   \n",
      " 42  white                  21462 non-null  int8   \n",
      " 43  brown                  21462 non-null  int8   \n",
      " 44  tan                    21462 non-null  int8   \n",
      " 45  tricolor               21462 non-null  int8   \n",
      " 46  brindle                21462 non-null  int8   \n",
      " 47  blue                   21462 non-null  int8   \n",
      " 48  red                    21462 non-null  int8   \n",
      " 49  chocolate              21462 non-null  int8   \n",
      " 50  sable                  21462 non-null  int8   \n",
      " 51  outcome_day            21462 non-null  int8   \n",
      " 52  outcome_month          21462 non-null  int8   \n",
      " 53  outcome_year           21462 non-null  int8   \n",
      " 54  intake_day             21462 non-null  int8   \n",
      " 55  intake_month           21462 non-null  int8   \n",
      " 56  intake_year            21462 non-null  int8   \n",
      "dtypes: float64(2), int8(55)\n",
      "memory usage: 1.6+ MB\n"
     ]
    }
   ],
   "source": [
    "#did it work?\n",
    "adopt_partner_shelter_df.info()"
   ]
  },
  {
   "cell_type": "markdown",
   "id": "d2fd2d26",
   "metadata": {},
   "source": [
    "Now that the columns are using at little space as possible and there is a naming convention, I will save them so I can easily use the clean data in other notebooks. "
   ]
  },
  {
   "cell_type": "markdown",
   "id": "fd15635e",
   "metadata": {},
   "source": [
    "# Download the Data Frames\n",
    "<a class=\"anchor\" id=\"download\"></a>\n",
    "\n",
    "The clean data can neatly be stored in their respective CSV files that can be utalized at anytime without repeating this process again. "
   ]
  },
  {
   "cell_type": "code",
   "execution_count": 231,
   "id": "e933d1b3",
   "metadata": {},
   "outputs": [],
   "source": [
    "shelter_df.to_csv('Tabular Data/num_austin_shelter_dog.csv')"
   ]
  },
  {
   "cell_type": "code",
   "execution_count": 232,
   "id": "1bb42b52",
   "metadata": {},
   "outputs": [],
   "source": [
    "EDA_shelter_df.to_csv('Tabular Data/EDA_austin_shelter_dog.csv')"
   ]
  },
  {
   "cell_type": "code",
   "execution_count": 233,
   "id": "e4694648",
   "metadata": {},
   "outputs": [],
   "source": [
    "adopt_partner_shelter_df.to_csv('Tabular Data/new_adopt_category.csv')"
   ]
  },
  {
   "cell_type": "markdown",
   "id": "26b8f79f",
   "metadata": {},
   "source": [
    "That was a long one, but it had to be done. Thanks for sticking through this far. "
   ]
  }
 ],
 "metadata": {
  "kernelspec": {
   "display_name": "Python 3 (ipykernel)",
   "language": "python",
   "name": "python3"
  },
  "language_info": {
   "codemirror_mode": {
    "name": "ipython",
    "version": 3
   },
   "file_extension": ".py",
   "mimetype": "text/x-python",
   "name": "python",
   "nbconvert_exporter": "python",
   "pygments_lexer": "ipython3",
   "version": "3.8.13"
  },
  "toc": {
   "base_numbering": 1,
   "nav_menu": {},
   "number_sections": true,
   "sideBar": true,
   "skip_h1_title": false,
   "title_cell": "Table of Contents",
   "title_sidebar": "Contents",
   "toc_cell": false,
   "toc_position": {},
   "toc_section_display": true,
   "toc_window_display": false
  }
 },
 "nbformat": 4,
 "nbformat_minor": 5
}

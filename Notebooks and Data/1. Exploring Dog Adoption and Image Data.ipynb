{
 "cells": [
  {
   "cell_type": "markdown",
   "id": "8883b210",
   "metadata": {},
   "source": [
    "**Author: Autumn Salsberry**\n",
    "\n",
    "Contact: <a href=\"https://www.linkedin.com/in/salsbeas/\">linkedin.com/in/salsbeas</a>\n",
    "\n",
    "BrainStation Capstone: Predicting Adoptability of Shelter Dogs\n",
    "\n",
    "August 8, 2022\n"
   ]
  },
  {
   "cell_type": "markdown",
   "id": "cfd14684",
   "metadata": {},
   "source": [
    "This notebook will solely be for the purpose of understanding the datasets I have and how they might be related to each other. Three of these datasets were downloaded together at this <a href=\"https://data.world/rdowns26/austin-animal-shelter\">link</a> and are sourced from an Austin, TX animal shelter. The other data set is from King County Animal Shelter (Seattle, WA) and was downloaded at this <a herf=\"https://data.world/kingcounty/yaai-7frk\">link</a>. It contains less details about each animal, but contains images and labels clarifying if the pet is adoptable or not for each rescue. "
   ]
  },
  {
   "cell_type": "markdown",
   "id": "3ed89fdf",
   "metadata": {},
   "source": [
    "# Table of Contents\n",
    "\n",
    "* [Looking at `austin_breed_info`](#breed)\n",
    "    * [Key Points](#breedkey)\n",
    "* [Looking at `austin_intakes`](#intake)\n",
    "    * [Key Points](#intakekey)\n",
    "* [Looking at `austin_outcomes`](#outcome) \n",
    "    * [Key Points](#outcomekey)\n",
    "* [Looking at `adoptable_images`](#images)\n",
    "    * [Key Points](#imagekey)\n",
    "* [Goal Attainment](#goal)"
   ]
  },
  {
   "cell_type": "code",
   "execution_count": 2,
   "id": "4864df33",
   "metadata": {},
   "outputs": [],
   "source": [
    "#only need pandas for this one\n",
    "import pandas as pd\n",
    "\n",
    "import warnings\n",
    "warnings.filterwarnings('ignore')"
   ]
  },
  {
   "cell_type": "code",
   "execution_count": 3,
   "id": "71cdd734",
   "metadata": {},
   "outputs": [],
   "source": [
    "#these three datasets are from a Austin, TX shelter\n",
    "austin_breed_info = pd.read_csv('Tabular Data/all_records.csv')\n",
    "austin_intakes = pd.read_csv('Tabular Data/austin_animal_center_intakes.csv')\n",
    "austin_outcomes = pd.read_csv('Tabular Data/austin_animal_center_outcomes.csv')\n",
    "\n",
    "\n",
    "#this one is from King County\n",
    "adoptable_images = pd.read_csv('Tabular Data/lost_found_adoptable_pets.csv')"
   ]
  },
  {
   "cell_type": "markdown",
   "id": "09444b09",
   "metadata": {},
   "source": [
    "# Big Goals\n",
    "* To predict the adoptability of any particular dog that is in an animal shelter\n",
    "    * I will use \"outcome type\" adopted versus any other outcome\n",
    "        * I will also consider if this should be adjusted depending on the data\n",
    "        * Consider if the dog's name has any relationship with adoptability \n",
    "* Predict the length of time before the dog is adoption \n",
    "    * This would be modeled only using the dogs that were adopted data\n",
    "* I will use images of dogs up for adoption as the input of this model to predict if it will be adopted or not\n",
    "    * the images will provide breed and color of a dog\n",
    "    * additional information may be needed to predict adoptability "
   ]
  },
  {
   "cell_type": "markdown",
   "id": "7a31a839",
   "metadata": {},
   "source": [
    "# Looking at `austin_breed_info`\n",
    "<a class=\"anchor\" id=\"breed\"></a>\n",
    "\n",
    "This data frame should contain all of the data from the income and outcome data, but I would like to confirm that. If there is a common key between this and the other two data frames, I will consider concatenating them to assure no important information is forgotten. I will start with exploring the data frame. "
   ]
  },
  {
   "cell_type": "code",
   "execution_count": 4,
   "id": "de287814",
   "metadata": {},
   "outputs": [
    {
     "data": {
      "text/plain": [
       "(76977, 38)"
      ]
     },
     "execution_count": 4,
     "metadata": {},
     "output_type": "execute_result"
    }
   ],
   "source": [
    "#the shape is (76977, 38)\n",
    "austin_breed_info.shape"
   ]
  },
  {
   "cell_type": "code",
   "execution_count": 5,
   "id": "9499bb7f",
   "metadata": {},
   "outputs": [
    {
     "data": {
      "text/html": [
       "<div>\n",
       "<style scoped>\n",
       "    .dataframe tbody tr th:only-of-type {\n",
       "        vertical-align: middle;\n",
       "    }\n",
       "\n",
       "    .dataframe tbody tr th {\n",
       "        vertical-align: top;\n",
       "    }\n",
       "\n",
       "    .dataframe thead th {\n",
       "        text-align: right;\n",
       "    }\n",
       "</style>\n",
       "<table border=\"1\" class=\"dataframe\">\n",
       "  <thead>\n",
       "    <tr style=\"text-align: right;\">\n",
       "      <th></th>\n",
       "      <th>Unnamed: 0</th>\n",
       "      <th>Animal ID</th>\n",
       "      <th>Name_intake</th>\n",
       "      <th>DateTime_intake</th>\n",
       "      <th>MonthYear_intake</th>\n",
       "      <th>Found_Location</th>\n",
       "      <th>Intake_Type</th>\n",
       "      <th>IntakeCondition</th>\n",
       "      <th>Animal_Type_intake</th>\n",
       "      <th>Sex</th>\n",
       "      <th>...</th>\n",
       "      <th>beagle</th>\n",
       "      <th>terrier</th>\n",
       "      <th>boxer</th>\n",
       "      <th>poodle</th>\n",
       "      <th>rottweiler</th>\n",
       "      <th>dachshund</th>\n",
       "      <th>chihuahua</th>\n",
       "      <th>pit bull</th>\n",
       "      <th>DateTime_length</th>\n",
       "      <th>Days_length</th>\n",
       "    </tr>\n",
       "  </thead>\n",
       "  <tbody>\n",
       "    <tr>\n",
       "      <th>0</th>\n",
       "      <td>0</td>\n",
       "      <td>A730601</td>\n",
       "      <td>NaN</td>\n",
       "      <td>2016-07-07 12:11:00</td>\n",
       "      <td>07/07/2016 12:11:00 PM</td>\n",
       "      <td>1109 Shady Ln in Austin (TX)</td>\n",
       "      <td>Stray</td>\n",
       "      <td>Normal</td>\n",
       "      <td>Cat</td>\n",
       "      <td>Intact Male</td>\n",
       "      <td>...</td>\n",
       "      <td>0</td>\n",
       "      <td>0</td>\n",
       "      <td>0</td>\n",
       "      <td>0</td>\n",
       "      <td>0</td>\n",
       "      <td>0</td>\n",
       "      <td>0</td>\n",
       "      <td>0</td>\n",
       "      <td>0 days 20:49:00.000000000</td>\n",
       "      <td>0-7 days</td>\n",
       "    </tr>\n",
       "    <tr>\n",
       "      <th>1</th>\n",
       "      <td>1</td>\n",
       "      <td>A683644</td>\n",
       "      <td>*Zoey</td>\n",
       "      <td>2014-07-13 11:02:00</td>\n",
       "      <td>07/13/2014 11:02:00 AM</td>\n",
       "      <td>Austin (TX)</td>\n",
       "      <td>Owner Surrender</td>\n",
       "      <td>Nursing</td>\n",
       "      <td>Dog</td>\n",
       "      <td>Intact Female</td>\n",
       "      <td>...</td>\n",
       "      <td>0</td>\n",
       "      <td>0</td>\n",
       "      <td>0</td>\n",
       "      <td>0</td>\n",
       "      <td>0</td>\n",
       "      <td>0</td>\n",
       "      <td>0</td>\n",
       "      <td>0</td>\n",
       "      <td>115 days 23:04:00.000000000</td>\n",
       "      <td>12 weeks - 6 months</td>\n",
       "    </tr>\n",
       "    <tr>\n",
       "      <th>2</th>\n",
       "      <td>2</td>\n",
       "      <td>A676515</td>\n",
       "      <td>Rico</td>\n",
       "      <td>2014-04-11 08:45:00</td>\n",
       "      <td>04/11/2014 08:45:00 AM</td>\n",
       "      <td>615 E. Wonsley in Austin (TX)</td>\n",
       "      <td>Stray</td>\n",
       "      <td>Normal</td>\n",
       "      <td>Dog</td>\n",
       "      <td>Intact Male</td>\n",
       "      <td>...</td>\n",
       "      <td>0</td>\n",
       "      <td>0</td>\n",
       "      <td>0</td>\n",
       "      <td>0</td>\n",
       "      <td>0</td>\n",
       "      <td>0</td>\n",
       "      <td>0</td>\n",
       "      <td>1</td>\n",
       "      <td>3 days 09:53:00.000000000</td>\n",
       "      <td>0-7 days</td>\n",
       "    </tr>\n",
       "    <tr>\n",
       "      <th>3</th>\n",
       "      <td>3</td>\n",
       "      <td>A742953</td>\n",
       "      <td>NaN</td>\n",
       "      <td>2017-01-31 13:30:00</td>\n",
       "      <td>01/31/2017 01:30:00 PM</td>\n",
       "      <td>S Hwy 183 And Thompson Lane in Austin (TX)</td>\n",
       "      <td>Stray</td>\n",
       "      <td>Normal</td>\n",
       "      <td>Dog</td>\n",
       "      <td>Intact Male</td>\n",
       "      <td>...</td>\n",
       "      <td>0</td>\n",
       "      <td>0</td>\n",
       "      <td>0</td>\n",
       "      <td>0</td>\n",
       "      <td>0</td>\n",
       "      <td>0</td>\n",
       "      <td>0</td>\n",
       "      <td>0</td>\n",
       "      <td>4 days 00:47:00.000000000</td>\n",
       "      <td>0-7 days</td>\n",
       "    </tr>\n",
       "    <tr>\n",
       "      <th>4</th>\n",
       "      <td>4</td>\n",
       "      <td>A679549</td>\n",
       "      <td>*Gilbert</td>\n",
       "      <td>2014-05-22 15:43:00</td>\n",
       "      <td>05/22/2014 03:43:00 PM</td>\n",
       "      <td>124 W Anderson in Austin (TX)</td>\n",
       "      <td>Stray</td>\n",
       "      <td>Normal</td>\n",
       "      <td>Cat</td>\n",
       "      <td>Intact Male</td>\n",
       "      <td>...</td>\n",
       "      <td>0</td>\n",
       "      <td>0</td>\n",
       "      <td>0</td>\n",
       "      <td>0</td>\n",
       "      <td>0</td>\n",
       "      <td>0</td>\n",
       "      <td>0</td>\n",
       "      <td>0</td>\n",
       "      <td>24 days 22:11:00.000000000</td>\n",
       "      <td>3-6 weeks</td>\n",
       "    </tr>\n",
       "  </tbody>\n",
       "</table>\n",
       "<p>5 rows × 38 columns</p>\n",
       "</div>"
      ],
      "text/plain": [
       "   Unnamed: 0 Animal ID Name_intake      DateTime_intake  \\\n",
       "0           0   A730601         NaN  2016-07-07 12:11:00   \n",
       "1           1   A683644       *Zoey  2014-07-13 11:02:00   \n",
       "2           2   A676515        Rico  2014-04-11 08:45:00   \n",
       "3           3   A742953         NaN  2017-01-31 13:30:00   \n",
       "4           4   A679549    *Gilbert  2014-05-22 15:43:00   \n",
       "\n",
       "         MonthYear_intake                              Found_Location  \\\n",
       "0  07/07/2016 12:11:00 PM                1109 Shady Ln in Austin (TX)   \n",
       "1  07/13/2014 11:02:00 AM                                 Austin (TX)   \n",
       "2  04/11/2014 08:45:00 AM               615 E. Wonsley in Austin (TX)   \n",
       "3  01/31/2017 01:30:00 PM  S Hwy 183 And Thompson Lane in Austin (TX)   \n",
       "4  05/22/2014 03:43:00 PM               124 W Anderson in Austin (TX)   \n",
       "\n",
       "       Intake_Type IntakeCondition Animal_Type_intake            Sex  ...  \\\n",
       "0            Stray          Normal                Cat    Intact Male  ...   \n",
       "1  Owner Surrender         Nursing                Dog  Intact Female  ...   \n",
       "2            Stray          Normal                Dog    Intact Male  ...   \n",
       "3            Stray          Normal                Dog    Intact Male  ...   \n",
       "4            Stray          Normal                Cat    Intact Male  ...   \n",
       "\n",
       "  beagle terrier boxer poodle rottweiler dachshund chihuahua pit bull  \\\n",
       "0      0       0     0      0          0         0         0        0   \n",
       "1      0       0     0      0          0         0         0        0   \n",
       "2      0       0     0      0          0         0         0        1   \n",
       "3      0       0     0      0          0         0         0        0   \n",
       "4      0       0     0      0          0         0         0        0   \n",
       "\n",
       "               DateTime_length          Days_length  \n",
       "0    0 days 20:49:00.000000000             0-7 days  \n",
       "1  115 days 23:04:00.000000000  12 weeks - 6 months  \n",
       "2    3 days 09:53:00.000000000             0-7 days  \n",
       "3    4 days 00:47:00.000000000             0-7 days  \n",
       "4   24 days 22:11:00.000000000            3-6 weeks  \n",
       "\n",
       "[5 rows x 38 columns]"
      ]
     },
     "execution_count": 5,
     "metadata": {},
     "output_type": "execute_result"
    }
   ],
   "source": [
    "#see what some of the data inputs are\n",
    "austin_breed_info.head()"
   ]
  },
  {
   "cell_type": "code",
   "execution_count": 6,
   "id": "4171fb21",
   "metadata": {},
   "outputs": [
    {
     "name": "stdout",
     "output_type": "stream",
     "text": [
      "<class 'pandas.core.frame.DataFrame'>\n",
      "RangeIndex: 76977 entries, 0 to 76976\n",
      "Data columns (total 38 columns):\n",
      " #   Column              Non-Null Count  Dtype \n",
      "---  ------              --------------  ----- \n",
      " 0   Unnamed: 0          76977 non-null  int64 \n",
      " 1   Animal ID           76977 non-null  object\n",
      " 2   Name_intake         57493 non-null  object\n",
      " 3   DateTime_intake     76977 non-null  object\n",
      " 4   MonthYear_intake    76977 non-null  object\n",
      " 5   Found_Location      76977 non-null  object\n",
      " 6   Intake_Type         76977 non-null  object\n",
      " 7   IntakeCondition     76977 non-null  object\n",
      " 8   Animal_Type_intake  76977 non-null  object\n",
      " 9   Sex                 76976 non-null  object\n",
      " 10  Age                 76977 non-null  object\n",
      " 11  Breed_intake        76977 non-null  object\n",
      " 12  Color_intake        76977 non-null  object\n",
      " 13  Name_outcome        57493 non-null  object\n",
      " 14  DateTime_outcome    76977 non-null  object\n",
      " 15  MonthYear_outcome   76977 non-null  object\n",
      " 16  Outcome_Type        76970 non-null  object\n",
      " 17  Outcome_Subtype     31723 non-null  object\n",
      " 18  Sex_upon_Outcome    76973 non-null  object\n",
      " 19  Age_upon_Outcome    76956 non-null  object\n",
      " 20  gender_intake       71369 non-null  object\n",
      " 21  gender_outcome      71366 non-null  object\n",
      " 22  fixed_intake        76976 non-null  object\n",
      " 23  fixed_outcome       76973 non-null  object\n",
      " 24  fixed_changed       76977 non-null  int64 \n",
      " 25  Age_Bucket          76977 non-null  object\n",
      " 26  retriever           76977 non-null  int64 \n",
      " 27  shepherd            76977 non-null  int64 \n",
      " 28  beagle              76977 non-null  int64 \n",
      " 29  terrier             76977 non-null  int64 \n",
      " 30  boxer               76977 non-null  int64 \n",
      " 31  poodle              76977 non-null  int64 \n",
      " 32  rottweiler          76977 non-null  int64 \n",
      " 33  dachshund           76977 non-null  int64 \n",
      " 34  chihuahua           76977 non-null  int64 \n",
      " 35  pit bull            76977 non-null  int64 \n",
      " 36  DateTime_length     76977 non-null  object\n",
      " 37  Days_length         69577 non-null  object\n",
      "dtypes: int64(12), object(26)\n",
      "memory usage: 22.3+ MB\n"
     ]
    }
   ],
   "source": [
    "#all of the column names, data types and non-null values\n",
    "austin_breed_info.info()"
   ]
  },
  {
   "cell_type": "markdown",
   "id": "5ded4ed2",
   "metadata": {},
   "source": [
    "The data is sufficiently large with 76,977 columns. I will have to do a lot of data cleaning before I can use this information for modeling because there is a lot of categorical data. There are some null values, but not so many that I am discouraged from using this dataset. \n",
    "Now I will look into some of the key variables in this dataset to get a better idea of what I will be working with. "
   ]
  },
  {
   "cell_type": "code",
   "execution_count": 7,
   "id": "817fcb1f",
   "metadata": {},
   "outputs": [
    {
     "data": {
      "text/plain": [
       "array(['Stray', 'Owner Surrender', 'Wildlife', 'Public Assist',\n",
       "       'Euthanasia Request'], dtype=object)"
      ]
     },
     "execution_count": 7,
     "metadata": {},
     "output_type": "execute_result"
    }
   ],
   "source": [
    "# There are 5 reasons why animals are accepted into the shelter\n",
    "austin_breed_info['Intake_Type'].unique()"
   ]
  },
  {
   "cell_type": "code",
   "execution_count": 8,
   "id": "7c4d60a9",
   "metadata": {},
   "outputs": [
    {
     "data": {
      "text/plain": [
       "array(['Normal', 'Nursing', 'Injured', 'Sick', 'Aged', 'Feral', 'Other',\n",
       "       'Pregnant'], dtype=object)"
      ]
     },
     "execution_count": 8,
     "metadata": {},
     "output_type": "execute_result"
    }
   ],
   "source": [
    "#There are 8 subreason to help explain the intake type above\n",
    "austin_breed_info['IntakeCondition'].unique()"
   ]
  },
  {
   "cell_type": "code",
   "execution_count": 9,
   "id": "90efaa3c",
   "metadata": {},
   "outputs": [
    {
     "data": {
      "text/plain": [
       "array(['Transfer', 'Adoption', 'Return to Owner', 'Euthanasia',\n",
       "       'Disposal', 'Died', 'Rto-Adopt', 'Missing', nan, 'Relocate'],\n",
       "      dtype=object)"
      ]
     },
     "execution_count": 9,
     "metadata": {},
     "output_type": "execute_result"
    }
   ],
   "source": [
    "# There are 9 reasons why animals leaves the shelter\n",
    "austin_breed_info['Outcome_Type'].unique()"
   ]
  },
  {
   "cell_type": "code",
   "execution_count": 10,
   "id": "6231fb20",
   "metadata": {},
   "outputs": [
    {
     "data": {
      "text/plain": [
       "array(['SCRP', 'Foster', nan, 'Partner', 'Medical', 'Aggressive',\n",
       "       'Rabies Risk', 'Suffering', 'Offsite', 'Behavior', 'In Kennel',\n",
       "       'Underage', 'Court/Investigation', 'In Foster', 'Possible Theft',\n",
       "       'At Vet', 'Enroute', 'In Surgery', 'Barn'], dtype=object)"
      ]
     },
     "execution_count": 10,
     "metadata": {},
     "output_type": "execute_result"
    }
   ],
   "source": [
    "#There are 18 subreason to help explain the outcome type above\n",
    "austin_breed_info['Outcome_Subtype'].unique()"
   ]
  },
  {
   "cell_type": "code",
   "execution_count": 11,
   "id": "d856bfa7",
   "metadata": {},
   "outputs": [
    {
     "data": {
      "text/html": [
       "<div>\n",
       "<style scoped>\n",
       "    .dataframe tbody tr th:only-of-type {\n",
       "        vertical-align: middle;\n",
       "    }\n",
       "\n",
       "    .dataframe tbody tr th {\n",
       "        vertical-align: top;\n",
       "    }\n",
       "\n",
       "    .dataframe thead th {\n",
       "        text-align: right;\n",
       "    }\n",
       "</style>\n",
       "<table border=\"1\" class=\"dataframe\">\n",
       "  <thead>\n",
       "    <tr style=\"text-align: right;\">\n",
       "      <th></th>\n",
       "      <th>Animal ID</th>\n",
       "    </tr>\n",
       "    <tr>\n",
       "      <th>Animal_Type_intake</th>\n",
       "      <th></th>\n",
       "    </tr>\n",
       "  </thead>\n",
       "  <tbody>\n",
       "    <tr>\n",
       "      <th>Bird</th>\n",
       "      <td>254</td>\n",
       "    </tr>\n",
       "    <tr>\n",
       "      <th>Cat</th>\n",
       "      <td>25125</td>\n",
       "    </tr>\n",
       "    <tr>\n",
       "      <th>Dog</th>\n",
       "      <td>48097</td>\n",
       "    </tr>\n",
       "    <tr>\n",
       "      <th>Livestock</th>\n",
       "      <td>8</td>\n",
       "    </tr>\n",
       "    <tr>\n",
       "      <th>Other</th>\n",
       "      <td>3493</td>\n",
       "    </tr>\n",
       "  </tbody>\n",
       "</table>\n",
       "</div>"
      ],
      "text/plain": [
       "                    Animal ID\n",
       "Animal_Type_intake           \n",
       "Bird                      254\n",
       "Cat                     25125\n",
       "Dog                     48097\n",
       "Livestock                   8\n",
       "Other                    3493"
      ]
     },
     "execution_count": 11,
     "metadata": {},
     "output_type": "execute_result"
    }
   ],
   "source": [
    "#there are 5 animal categories represented in the data\n",
    "austin_breed_info[['Animal ID','Animal_Type_intake']].groupby('Animal_Type_intake').count()"
   ]
  },
  {
   "cell_type": "code",
   "execution_count": 12,
   "id": "5221bb81",
   "metadata": {},
   "outputs": [
    {
     "data": {
      "text/plain": [
       "'There are 48097 dogs in this dataset which is 62.48% of the data.'"
      ]
     },
     "execution_count": 12,
     "metadata": {},
     "output_type": "execute_result"
    }
   ],
   "source": [
    "dogs = 48097\n",
    "f\"There are {dogs} dogs in this dataset which is {round(dogs/austin_breed_info['Animal_Type_intake'].count()*100, 2)}% of the data.\""
   ]
  },
  {
   "cell_type": "markdown",
   "id": "6262467f",
   "metadata": {},
   "source": [
    "There is a relatively clear explanation on why animals are accepted into the shelter and there are no null values. For the outcome information, there is a lot more variation and there are some NaN values.This potential could be because the animal could still be in the shelter at time of data collection. There are 5 categories of animals in the data and luckily dogs are the largest portion of the data - around 62%. Finally, let's look at the number of NaN specifically in each column. "
   ]
  },
  {
   "cell_type": "code",
   "execution_count": 13,
   "id": "db380b4a",
   "metadata": {},
   "outputs": [
    {
     "data": {
      "text/plain": [
       "Unnamed: 0                0\n",
       "Animal ID                 0\n",
       "Name_intake           19484\n",
       "DateTime_intake           0\n",
       "MonthYear_intake          0\n",
       "Found_Location            0\n",
       "Intake_Type               0\n",
       "IntakeCondition           0\n",
       "Animal_Type_intake        0\n",
       "Sex                       1\n",
       "Age                       0\n",
       "Breed_intake              0\n",
       "Color_intake              0\n",
       "Name_outcome          19484\n",
       "DateTime_outcome          0\n",
       "MonthYear_outcome         0\n",
       "Outcome_Type              7\n",
       "Outcome_Subtype       45254\n",
       "Sex_upon_Outcome          4\n",
       "Age_upon_Outcome         21\n",
       "gender_intake          5608\n",
       "gender_outcome         5611\n",
       "fixed_intake              1\n",
       "fixed_outcome             4\n",
       "fixed_changed             0\n",
       "Age_Bucket                0\n",
       "retriever                 0\n",
       "shepherd                  0\n",
       "beagle                    0\n",
       "terrier                   0\n",
       "boxer                     0\n",
       "poodle                    0\n",
       "rottweiler                0\n",
       "dachshund                 0\n",
       "chihuahua                 0\n",
       "pit bull                  0\n",
       "DateTime_length           0\n",
       "Days_length            7400\n",
       "dtype: int64"
      ]
     },
     "execution_count": 13,
     "metadata": {},
     "output_type": "execute_result"
    }
   ],
   "source": [
    "#checking the null values for each column\n",
    "austin_breed_info.isna().sum()"
   ]
  },
  {
   "cell_type": "code",
   "execution_count": 14,
   "id": "d0f3d2b5",
   "metadata": {},
   "outputs": [
    {
     "data": {
      "text/plain": [
       "array(['Male', 'Female', nan], dtype=object)"
      ]
     },
     "execution_count": 14,
     "metadata": {},
     "output_type": "execute_result"
    }
   ],
   "source": [
    "austin_breed_info['gender_intake'].unique()"
   ]
  },
  {
   "cell_type": "code",
   "execution_count": 15,
   "id": "918feeb9",
   "metadata": {},
   "outputs": [
    {
     "data": {
      "text/plain": [
       "array(['Male', 'Female', nan], dtype=object)"
      ]
     },
     "execution_count": 15,
     "metadata": {},
     "output_type": "execute_result"
    }
   ],
   "source": [
    "austin_breed_info['gender_outcome'].unique()"
   ]
  },
  {
   "cell_type": "code",
   "execution_count": 16,
   "id": "6e04a292",
   "metadata": {},
   "outputs": [
    {
     "data": {
      "text/plain": [
       "array(['Neutered Male', 'Spayed Female', 'Intact Male', 'Unknown',\n",
       "       'Intact Female', nan], dtype=object)"
      ]
     },
     "execution_count": 16,
     "metadata": {},
     "output_type": "execute_result"
    }
   ],
   "source": [
    "austin_breed_info['Sex_upon_Outcome'].unique()"
   ]
  },
  {
   "cell_type": "code",
   "execution_count": 17,
   "id": "8d0126f6",
   "metadata": {},
   "outputs": [
    {
     "data": {
      "text/plain": [
       "array(['Neutered Male', 'Spayed Female', 'Intact Male', 'Unknown',\n",
       "       'Intact Female', nan], dtype=object)"
      ]
     },
     "execution_count": 17,
     "metadata": {},
     "output_type": "execute_result"
    }
   ],
   "source": [
    "austin_breed_info['Sex_upon_Outcome'].unique()"
   ]
  },
  {
   "cell_type": "markdown",
   "id": "b5b56fc4",
   "metadata": {},
   "source": [
    "It looks like there are a lot of pet names missing. I will still consider this is future EDA, but it seems unlikely that I will be able to consider this as an independent variable for modeling purposes. There are quite a lot of outcome subtypes missing, but considering the unique categories from this column above, it would be okay to drop this column all together. There is some gender data missing, but it looks like it can be filled in using wither of the sex columns. Finally, there are a lot of `Days_length` missing, but there are no `DateTime_length` missing, so I don't think this will be an issue. "
   ]
  },
  {
   "cell_type": "markdown",
   "id": "33904915",
   "metadata": {},
   "source": [
    "## Key Points\n",
    "<a class=\"anchor\" id=\"breedkey\"></a>\n",
    "\n",
    "* Has animal ID column that hopefully is a common key with intake and outcome data frames\n",
    "* Contains several OneHotEncoded breed columns\n",
    "* Has 48097 dogs\n",
    "* Has some missing data, but no crucial information\n",
    "* There is a column that tells me the length of time an animal is in the shelter\n",
    "    * I can use this to predict the length of time to adoption\n",
    "* I will have to consider which breeds are represented in both the tabular and image data"
   ]
  },
  {
   "cell_type": "markdown",
   "id": "e51c29fc",
   "metadata": {},
   "source": [
    "# Looking at `austin_intakes`\n",
    "<a class=\"anchor\" id=\"intake\"></a>\n",
    "\n",
    "Theoretically, all of the data from this data frame should already be represented in the dataset above. I will explore the data to confirm this is true. "
   ]
  },
  {
   "cell_type": "code",
   "execution_count": 18,
   "id": "6afe8e57",
   "metadata": {},
   "outputs": [
    {
     "data": {
      "text/plain": [
       "(63328, 12)"
      ]
     },
     "execution_count": 18,
     "metadata": {},
     "output_type": "execute_result"
    }
   ],
   "source": [
    "#the shape is (63328, 12)\n",
    "austin_intakes.shape"
   ]
  },
  {
   "cell_type": "markdown",
   "id": "a443b82a",
   "metadata": {},
   "source": [
    "It's clear this dataset is shorter than the previous, so there will be some missing data. "
   ]
  },
  {
   "cell_type": "code",
   "execution_count": 19,
   "id": "afc6d51a",
   "metadata": {
    "scrolled": true
   },
   "outputs": [
    {
     "data": {
      "text/html": [
       "<div>\n",
       "<style scoped>\n",
       "    .dataframe tbody tr th:only-of-type {\n",
       "        vertical-align: middle;\n",
       "    }\n",
       "\n",
       "    .dataframe tbody tr th {\n",
       "        vertical-align: top;\n",
       "    }\n",
       "\n",
       "    .dataframe thead th {\n",
       "        text-align: right;\n",
       "    }\n",
       "</style>\n",
       "<table border=\"1\" class=\"dataframe\">\n",
       "  <thead>\n",
       "    <tr style=\"text-align: right;\">\n",
       "      <th></th>\n",
       "      <th>Animal ID</th>\n",
       "      <th>Name</th>\n",
       "      <th>DateTime</th>\n",
       "      <th>MonthYear</th>\n",
       "      <th>Found Location</th>\n",
       "      <th>Intake Type</th>\n",
       "      <th>Intake Condition</th>\n",
       "      <th>Animal Type</th>\n",
       "      <th>Sex upon Intake</th>\n",
       "      <th>Age upon Intake</th>\n",
       "      <th>Breed</th>\n",
       "      <th>Color</th>\n",
       "    </tr>\n",
       "  </thead>\n",
       "  <tbody>\n",
       "    <tr>\n",
       "      <th>0</th>\n",
       "      <td>A730601</td>\n",
       "      <td>NaN</td>\n",
       "      <td>07/07/2016 12:11:00 PM</td>\n",
       "      <td>07/07/2016 12:11:00 PM</td>\n",
       "      <td>1109 Shady Ln in Austin (TX)</td>\n",
       "      <td>Stray</td>\n",
       "      <td>Normal</td>\n",
       "      <td>Cat</td>\n",
       "      <td>Intact Male</td>\n",
       "      <td>7 months</td>\n",
       "      <td>Domestic Shorthair Mix</td>\n",
       "      <td>Blue Tabby</td>\n",
       "    </tr>\n",
       "    <tr>\n",
       "      <th>1</th>\n",
       "      <td>A683644</td>\n",
       "      <td>*Zoey</td>\n",
       "      <td>07/13/2014 11:02:00 AM</td>\n",
       "      <td>07/13/2014 11:02:00 AM</td>\n",
       "      <td>Austin (TX)</td>\n",
       "      <td>Owner Surrender</td>\n",
       "      <td>Nursing</td>\n",
       "      <td>Dog</td>\n",
       "      <td>Intact Female</td>\n",
       "      <td>4 weeks</td>\n",
       "      <td>Border Collie Mix</td>\n",
       "      <td>Brown/White</td>\n",
       "    </tr>\n",
       "    <tr>\n",
       "      <th>2</th>\n",
       "      <td>A676515</td>\n",
       "      <td>Rico</td>\n",
       "      <td>04/11/2014 08:45:00 AM</td>\n",
       "      <td>04/11/2014 08:45:00 AM</td>\n",
       "      <td>615 E. Wonsley in Austin (TX)</td>\n",
       "      <td>Stray</td>\n",
       "      <td>Normal</td>\n",
       "      <td>Dog</td>\n",
       "      <td>Intact Male</td>\n",
       "      <td>2 months</td>\n",
       "      <td>Pit Bull Mix</td>\n",
       "      <td>White/Brown</td>\n",
       "    </tr>\n",
       "    <tr>\n",
       "      <th>3</th>\n",
       "      <td>A742953</td>\n",
       "      <td>NaN</td>\n",
       "      <td>01/31/2017 01:30:00 PM</td>\n",
       "      <td>01/31/2017 01:30:00 PM</td>\n",
       "      <td>S Hwy 183 And Thompson Lane in Austin (TX)</td>\n",
       "      <td>Stray</td>\n",
       "      <td>Normal</td>\n",
       "      <td>Dog</td>\n",
       "      <td>Intact Male</td>\n",
       "      <td>2 years</td>\n",
       "      <td>Saluki</td>\n",
       "      <td>Sable/Cream</td>\n",
       "    </tr>\n",
       "    <tr>\n",
       "      <th>4</th>\n",
       "      <td>A679549</td>\n",
       "      <td>*Gilbert</td>\n",
       "      <td>05/22/2014 03:43:00 PM</td>\n",
       "      <td>05/22/2014 03:43:00 PM</td>\n",
       "      <td>124 W Anderson in Austin (TX)</td>\n",
       "      <td>Stray</td>\n",
       "      <td>Normal</td>\n",
       "      <td>Cat</td>\n",
       "      <td>Intact Male</td>\n",
       "      <td>1 month</td>\n",
       "      <td>Domestic Shorthair Mix</td>\n",
       "      <td>Black/White</td>\n",
       "    </tr>\n",
       "  </tbody>\n",
       "</table>\n",
       "</div>"
      ],
      "text/plain": [
       "  Animal ID      Name                DateTime               MonthYear  \\\n",
       "0   A730601       NaN  07/07/2016 12:11:00 PM  07/07/2016 12:11:00 PM   \n",
       "1   A683644     *Zoey  07/13/2014 11:02:00 AM  07/13/2014 11:02:00 AM   \n",
       "2   A676515      Rico  04/11/2014 08:45:00 AM  04/11/2014 08:45:00 AM   \n",
       "3   A742953       NaN  01/31/2017 01:30:00 PM  01/31/2017 01:30:00 PM   \n",
       "4   A679549  *Gilbert  05/22/2014 03:43:00 PM  05/22/2014 03:43:00 PM   \n",
       "\n",
       "                               Found Location      Intake Type  \\\n",
       "0                1109 Shady Ln in Austin (TX)            Stray   \n",
       "1                                 Austin (TX)  Owner Surrender   \n",
       "2               615 E. Wonsley in Austin (TX)            Stray   \n",
       "3  S Hwy 183 And Thompson Lane in Austin (TX)            Stray   \n",
       "4               124 W Anderson in Austin (TX)            Stray   \n",
       "\n",
       "  Intake Condition Animal Type Sex upon Intake Age upon Intake  \\\n",
       "0           Normal         Cat     Intact Male        7 months   \n",
       "1          Nursing         Dog   Intact Female         4 weeks   \n",
       "2           Normal         Dog     Intact Male        2 months   \n",
       "3           Normal         Dog     Intact Male         2 years   \n",
       "4           Normal         Cat     Intact Male         1 month   \n",
       "\n",
       "                    Breed        Color  \n",
       "0  Domestic Shorthair Mix   Blue Tabby  \n",
       "1       Border Collie Mix  Brown/White  \n",
       "2            Pit Bull Mix  White/Brown  \n",
       "3                  Saluki  Sable/Cream  \n",
       "4  Domestic Shorthair Mix  Black/White  "
      ]
     },
     "execution_count": 19,
     "metadata": {},
     "output_type": "execute_result"
    }
   ],
   "source": [
    "#take a look at a few crows in this dataset\n",
    "austin_intakes.head()"
   ]
  },
  {
   "cell_type": "markdown",
   "id": "15651e17",
   "metadata": {},
   "source": [
    "This doesn't look too different"
   ]
  },
  {
   "cell_type": "code",
   "execution_count": 20,
   "id": "826b080b",
   "metadata": {},
   "outputs": [
    {
     "name": "stdout",
     "output_type": "stream",
     "text": [
      "<class 'pandas.core.frame.DataFrame'>\n",
      "RangeIndex: 63328 entries, 0 to 63327\n",
      "Data columns (total 12 columns):\n",
      " #   Column            Non-Null Count  Dtype \n",
      "---  ------            --------------  ----- \n",
      " 0   Animal ID         63328 non-null  object\n",
      " 1   Name              44107 non-null  object\n",
      " 2   DateTime          63328 non-null  object\n",
      " 3   MonthYear         63328 non-null  object\n",
      " 4   Found Location    63328 non-null  object\n",
      " 5   Intake Type       63328 non-null  object\n",
      " 6   Intake Condition  63328 non-null  object\n",
      " 7   Animal Type       63328 non-null  object\n",
      " 8   Sex upon Intake   63327 non-null  object\n",
      " 9   Age upon Intake   63328 non-null  object\n",
      " 10  Breed             63328 non-null  object\n",
      " 11  Color             63328 non-null  object\n",
      "dtypes: object(12)\n",
      "memory usage: 5.8+ MB\n"
     ]
    }
   ],
   "source": [
    "#check what columns there are\n",
    "austin_intakes.info()"
   ]
  },
  {
   "cell_type": "code",
   "execution_count": 22,
   "id": "c6ca0b9e",
   "metadata": {},
   "outputs": [
    {
     "data": {
      "text/html": [
       "<div>\n",
       "<style scoped>\n",
       "    .dataframe tbody tr th:only-of-type {\n",
       "        vertical-align: middle;\n",
       "    }\n",
       "\n",
       "    .dataframe tbody tr th {\n",
       "        vertical-align: top;\n",
       "    }\n",
       "\n",
       "    .dataframe thead th {\n",
       "        text-align: right;\n",
       "    }\n",
       "</style>\n",
       "<table border=\"1\" class=\"dataframe\">\n",
       "  <thead>\n",
       "    <tr style=\"text-align: right;\">\n",
       "      <th></th>\n",
       "      <th>0</th>\n",
       "    </tr>\n",
       "  </thead>\n",
       "  <tbody>\n",
       "    <tr>\n",
       "      <th>0</th>\n",
       "      <td>Domestic Shorthair Mix</td>\n",
       "    </tr>\n",
       "    <tr>\n",
       "      <th>1</th>\n",
       "      <td>Border Collie Mix</td>\n",
       "    </tr>\n",
       "    <tr>\n",
       "      <th>2</th>\n",
       "      <td>Pit Bull Mix</td>\n",
       "    </tr>\n",
       "    <tr>\n",
       "      <th>3</th>\n",
       "      <td>Saluki</td>\n",
       "    </tr>\n",
       "    <tr>\n",
       "      <th>4</th>\n",
       "      <td>Domestic Medium Hair Mix</td>\n",
       "    </tr>\n",
       "    <tr>\n",
       "      <th>...</th>\n",
       "      <td>...</td>\n",
       "    </tr>\n",
       "    <tr>\n",
       "      <th>1969</th>\n",
       "      <td>Brittany/Border Collie</td>\n",
       "    </tr>\n",
       "    <tr>\n",
       "      <th>1970</th>\n",
       "      <td>Tortoise</td>\n",
       "    </tr>\n",
       "    <tr>\n",
       "      <th>1971</th>\n",
       "      <td>Akita/Mastiff</td>\n",
       "    </tr>\n",
       "    <tr>\n",
       "      <th>1972</th>\n",
       "      <td>Dachshund Longhair/Maltese</td>\n",
       "    </tr>\n",
       "    <tr>\n",
       "      <th>1973</th>\n",
       "      <td>Pekingese/Shih Tzu</td>\n",
       "    </tr>\n",
       "  </tbody>\n",
       "</table>\n",
       "<p>1974 rows × 1 columns</p>\n",
       "</div>"
      ],
      "text/plain": [
       "                               0\n",
       "0         Domestic Shorthair Mix\n",
       "1              Border Collie Mix\n",
       "2                   Pit Bull Mix\n",
       "3                         Saluki\n",
       "4       Domestic Medium Hair Mix\n",
       "...                          ...\n",
       "1969      Brittany/Border Collie\n",
       "1970                    Tortoise\n",
       "1971               Akita/Mastiff\n",
       "1972  Dachshund Longhair/Maltese\n",
       "1973          Pekingese/Shih Tzu\n",
       "\n",
       "[1974 rows x 1 columns]"
      ]
     },
     "execution_count": 22,
     "metadata": {},
     "output_type": "execute_result"
    }
   ],
   "source": [
    "#how many breeds are listed and what do they look like\n",
    "pd.DataFrame(austin_intakes['Breed'].unique())"
   ]
  },
  {
   "cell_type": "code",
   "execution_count": 23,
   "id": "33ef1c09",
   "metadata": {},
   "outputs": [
    {
     "data": {
      "text/html": [
       "<div>\n",
       "<style scoped>\n",
       "    .dataframe tbody tr th:only-of-type {\n",
       "        vertical-align: middle;\n",
       "    }\n",
       "\n",
       "    .dataframe tbody tr th {\n",
       "        vertical-align: top;\n",
       "    }\n",
       "\n",
       "    .dataframe thead th {\n",
       "        text-align: right;\n",
       "    }\n",
       "</style>\n",
       "<table border=\"1\" class=\"dataframe\">\n",
       "  <thead>\n",
       "    <tr style=\"text-align: right;\">\n",
       "      <th></th>\n",
       "      <th>0</th>\n",
       "    </tr>\n",
       "  </thead>\n",
       "  <tbody>\n",
       "    <tr>\n",
       "      <th>0</th>\n",
       "      <td>Domestic Shorthair Mix</td>\n",
       "    </tr>\n",
       "    <tr>\n",
       "      <th>1</th>\n",
       "      <td>Border Collie Mix</td>\n",
       "    </tr>\n",
       "    <tr>\n",
       "      <th>2</th>\n",
       "      <td>Pit Bull Mix</td>\n",
       "    </tr>\n",
       "    <tr>\n",
       "      <th>3</th>\n",
       "      <td>Saluki</td>\n",
       "    </tr>\n",
       "    <tr>\n",
       "      <th>4</th>\n",
       "      <td>Domestic Medium Hair Mix</td>\n",
       "    </tr>\n",
       "    <tr>\n",
       "      <th>...</th>\n",
       "      <td>...</td>\n",
       "    </tr>\n",
       "    <tr>\n",
       "      <th>1964</th>\n",
       "      <td>Australian Kelpie/Border Collie</td>\n",
       "    </tr>\n",
       "    <tr>\n",
       "      <th>1965</th>\n",
       "      <td>Brittany/Border Collie</td>\n",
       "    </tr>\n",
       "    <tr>\n",
       "      <th>1966</th>\n",
       "      <td>Tortoise</td>\n",
       "    </tr>\n",
       "    <tr>\n",
       "      <th>1967</th>\n",
       "      <td>Akita/Mastiff</td>\n",
       "    </tr>\n",
       "    <tr>\n",
       "      <th>1968</th>\n",
       "      <td>Dachshund Longhair/Maltese</td>\n",
       "    </tr>\n",
       "  </tbody>\n",
       "</table>\n",
       "<p>1969 rows × 1 columns</p>\n",
       "</div>"
      ],
      "text/plain": [
       "                                    0\n",
       "0              Domestic Shorthair Mix\n",
       "1                   Border Collie Mix\n",
       "2                        Pit Bull Mix\n",
       "3                              Saluki\n",
       "4            Domestic Medium Hair Mix\n",
       "...                               ...\n",
       "1964  Australian Kelpie/Border Collie\n",
       "1965           Brittany/Border Collie\n",
       "1966                         Tortoise\n",
       "1967                    Akita/Mastiff\n",
       "1968       Dachshund Longhair/Maltese\n",
       "\n",
       "[1969 rows x 1 columns]"
      ]
     },
     "execution_count": 23,
     "metadata": {},
     "output_type": "execute_result"
    }
   ],
   "source": [
    "#compared with the similar column in the previous df\n",
    "pd.DataFrame(austin_breed_info['Breed_intake'].unique())"
   ]
  },
  {
   "cell_type": "code",
   "execution_count": 21,
   "id": "abce0960",
   "metadata": {},
   "outputs": [
    {
     "data": {
      "text/html": [
       "<div>\n",
       "<style scoped>\n",
       "    .dataframe tbody tr th:only-of-type {\n",
       "        vertical-align: middle;\n",
       "    }\n",
       "\n",
       "    .dataframe tbody tr th {\n",
       "        vertical-align: top;\n",
       "    }\n",
       "\n",
       "    .dataframe thead th {\n",
       "        text-align: right;\n",
       "    }\n",
       "</style>\n",
       "<table border=\"1\" class=\"dataframe\">\n",
       "  <thead>\n",
       "    <tr style=\"text-align: right;\">\n",
       "      <th></th>\n",
       "      <th>0</th>\n",
       "    </tr>\n",
       "  </thead>\n",
       "  <tbody>\n",
       "    <tr>\n",
       "      <th>0</th>\n",
       "      <td>Blue Tabby</td>\n",
       "    </tr>\n",
       "    <tr>\n",
       "      <th>1</th>\n",
       "      <td>Brown/White</td>\n",
       "    </tr>\n",
       "    <tr>\n",
       "      <th>2</th>\n",
       "      <td>White/Brown</td>\n",
       "    </tr>\n",
       "    <tr>\n",
       "      <th>3</th>\n",
       "      <td>Sable/Cream</td>\n",
       "    </tr>\n",
       "    <tr>\n",
       "      <th>4</th>\n",
       "      <td>Black/White</td>\n",
       "    </tr>\n",
       "    <tr>\n",
       "      <th>...</th>\n",
       "      <td>...</td>\n",
       "    </tr>\n",
       "    <tr>\n",
       "      <th>482</th>\n",
       "      <td>Brown Tabby/Gray Tabby</td>\n",
       "    </tr>\n",
       "    <tr>\n",
       "      <th>483</th>\n",
       "      <td>Brown/Pink</td>\n",
       "    </tr>\n",
       "    <tr>\n",
       "      <th>484</th>\n",
       "      <td>Cream/Yellow</td>\n",
       "    </tr>\n",
       "    <tr>\n",
       "      <th>485</th>\n",
       "      <td>Yellow/Orange Tabby</td>\n",
       "    </tr>\n",
       "    <tr>\n",
       "      <th>486</th>\n",
       "      <td>Chocolate/Chocolate</td>\n",
       "    </tr>\n",
       "  </tbody>\n",
       "</table>\n",
       "<p>487 rows × 1 columns</p>\n",
       "</div>"
      ],
      "text/plain": [
       "                          0\n",
       "0                Blue Tabby\n",
       "1               Brown/White\n",
       "2               White/Brown\n",
       "3               Sable/Cream\n",
       "4               Black/White\n",
       "..                      ...\n",
       "482  Brown Tabby/Gray Tabby\n",
       "483              Brown/Pink\n",
       "484            Cream/Yellow\n",
       "485     Yellow/Orange Tabby\n",
       "486     Chocolate/Chocolate\n",
       "\n",
       "[487 rows x 1 columns]"
      ]
     },
     "execution_count": 21,
     "metadata": {},
     "output_type": "execute_result"
    }
   ],
   "source": [
    "#how many colors are there and how are they listed\n",
    "pd.DataFrame(austin_intakes['Color'].unique())"
   ]
  },
  {
   "cell_type": "code",
   "execution_count": 24,
   "id": "7d92a6d1",
   "metadata": {},
   "outputs": [
    {
     "data": {
      "text/html": [
       "<div>\n",
       "<style scoped>\n",
       "    .dataframe tbody tr th:only-of-type {\n",
       "        vertical-align: middle;\n",
       "    }\n",
       "\n",
       "    .dataframe tbody tr th {\n",
       "        vertical-align: top;\n",
       "    }\n",
       "\n",
       "    .dataframe thead th {\n",
       "        text-align: right;\n",
       "    }\n",
       "</style>\n",
       "<table border=\"1\" class=\"dataframe\">\n",
       "  <thead>\n",
       "    <tr style=\"text-align: right;\">\n",
       "      <th></th>\n",
       "      <th>0</th>\n",
       "    </tr>\n",
       "  </thead>\n",
       "  <tbody>\n",
       "    <tr>\n",
       "      <th>0</th>\n",
       "      <td>Blue Tabby</td>\n",
       "    </tr>\n",
       "    <tr>\n",
       "      <th>1</th>\n",
       "      <td>Brown/White</td>\n",
       "    </tr>\n",
       "    <tr>\n",
       "      <th>2</th>\n",
       "      <td>White/Brown</td>\n",
       "    </tr>\n",
       "    <tr>\n",
       "      <th>3</th>\n",
       "      <td>Sable/Cream</td>\n",
       "    </tr>\n",
       "    <tr>\n",
       "      <th>4</th>\n",
       "      <td>Black/White</td>\n",
       "    </tr>\n",
       "    <tr>\n",
       "      <th>...</th>\n",
       "      <td>...</td>\n",
       "    </tr>\n",
       "    <tr>\n",
       "      <th>479</th>\n",
       "      <td>Cream/Silver</td>\n",
       "    </tr>\n",
       "    <tr>\n",
       "      <th>480</th>\n",
       "      <td>Brown Tabby/Gray Tabby</td>\n",
       "    </tr>\n",
       "    <tr>\n",
       "      <th>481</th>\n",
       "      <td>Brown/Pink</td>\n",
       "    </tr>\n",
       "    <tr>\n",
       "      <th>482</th>\n",
       "      <td>Cream/Yellow</td>\n",
       "    </tr>\n",
       "    <tr>\n",
       "      <th>483</th>\n",
       "      <td>Yellow/Orange Tabby</td>\n",
       "    </tr>\n",
       "  </tbody>\n",
       "</table>\n",
       "<p>484 rows × 1 columns</p>\n",
       "</div>"
      ],
      "text/plain": [
       "                          0\n",
       "0                Blue Tabby\n",
       "1               Brown/White\n",
       "2               White/Brown\n",
       "3               Sable/Cream\n",
       "4               Black/White\n",
       "..                      ...\n",
       "479            Cream/Silver\n",
       "480  Brown Tabby/Gray Tabby\n",
       "481              Brown/Pink\n",
       "482            Cream/Yellow\n",
       "483     Yellow/Orange Tabby\n",
       "\n",
       "[484 rows x 1 columns]"
      ]
     },
     "execution_count": 24,
     "metadata": {},
     "output_type": "execute_result"
    }
   ],
   "source": [
    "#compared with the similar column in the previous df\n",
    "pd.DataFrame(austin_breed_info['Color_intake'].unique())"
   ]
  },
  {
   "cell_type": "markdown",
   "id": "4d44559c",
   "metadata": {},
   "source": [
    "It looks like these columns are already represented in the `austin_breed_info` df, so I won't need to concatenate them onto the df. There are approximately 2,000 breeds listed (many are mixed breeds) and 500 colors (many have multiple colors), so I will need to explore these more to determine how to include them in the modeling data frame. "
   ]
  },
  {
   "cell_type": "code",
   "execution_count": 22,
   "id": "f5c1eb36",
   "metadata": {},
   "outputs": [
    {
     "data": {
      "text/html": [
       "<div>\n",
       "<style scoped>\n",
       "    .dataframe tbody tr th:only-of-type {\n",
       "        vertical-align: middle;\n",
       "    }\n",
       "\n",
       "    .dataframe tbody tr th {\n",
       "        vertical-align: top;\n",
       "    }\n",
       "\n",
       "    .dataframe thead th {\n",
       "        text-align: right;\n",
       "    }\n",
       "</style>\n",
       "<table border=\"1\" class=\"dataframe\">\n",
       "  <thead>\n",
       "    <tr style=\"text-align: right;\">\n",
       "      <th></th>\n",
       "      <th>Animal ID</th>\n",
       "    </tr>\n",
       "    <tr>\n",
       "      <th>Animal Type</th>\n",
       "      <th></th>\n",
       "    </tr>\n",
       "  </thead>\n",
       "  <tbody>\n",
       "    <tr>\n",
       "      <th>Bird</th>\n",
       "      <td>255</td>\n",
       "    </tr>\n",
       "    <tr>\n",
       "      <th>Cat</th>\n",
       "      <td>23408</td>\n",
       "    </tr>\n",
       "    <tr>\n",
       "      <th>Dog</th>\n",
       "      <td>36173</td>\n",
       "    </tr>\n",
       "    <tr>\n",
       "      <th>Livestock</th>\n",
       "      <td>8</td>\n",
       "    </tr>\n",
       "    <tr>\n",
       "      <th>Other</th>\n",
       "      <td>3484</td>\n",
       "    </tr>\n",
       "  </tbody>\n",
       "</table>\n",
       "</div>"
      ],
      "text/plain": [
       "             Animal ID\n",
       "Animal Type           \n",
       "Bird               255\n",
       "Cat              23408\n",
       "Dog              36173\n",
       "Livestock            8\n",
       "Other             3484"
      ]
     },
     "execution_count": 22,
     "metadata": {},
     "output_type": "execute_result"
    }
   ],
   "source": [
    "#checking the animal ratios\n",
    "austin_intakes[['Animal ID', 'Animal Type']].groupby('Animal Type').count()"
   ]
  },
  {
   "cell_type": "markdown",
   "id": "6bb28424",
   "metadata": {},
   "source": [
    "Looks like the animal proportions are about the same, but there are definitely fewer dogs in this dataset. "
   ]
  },
  {
   "cell_type": "code",
   "execution_count": 23,
   "id": "d636f7fd",
   "metadata": {},
   "outputs": [
    {
     "data": {
      "text/plain": [
       "Animal ID               0\n",
       "Name                19221\n",
       "DateTime                0\n",
       "MonthYear               0\n",
       "Found Location          0\n",
       "Intake Type             0\n",
       "Intake Condition        0\n",
       "Animal Type             0\n",
       "Sex upon Intake         1\n",
       "Age upon Intake         0\n",
       "Breed                   0\n",
       "Color                   0\n",
       "dtype: int64"
      ]
     },
     "execution_count": 23,
     "metadata": {},
     "output_type": "execute_result"
    }
   ],
   "source": [
    "austin_intakes.isna().sum()"
   ]
  },
  {
   "cell_type": "markdown",
   "id": "c4f70535",
   "metadata": {},
   "source": [
    "Similar to the previous dataset, a lot of the names are missing and one sex upon intake. I am not worried about this. "
   ]
  },
  {
   "cell_type": "markdown",
   "id": "142e4ddc",
   "metadata": {},
   "source": [
    "## Key points\n",
    "<a class=\"anchor\" id=\"intakekey\"></a>\n",
    "\n",
    "* Has Animal ID that it looks like the datasets can be joined on\n",
    "* Has more detailed breed and color info than in the previous data frame\n",
    "    * Will need to concatenate this onto the previous data frame"
   ]
  },
  {
   "cell_type": "markdown",
   "id": "c547d3b7",
   "metadata": {},
   "source": [
    "# Looking at `austin_outcomes`\n",
    "<a class=\"anchor\" id=\"outcome\"></a>\n",
    "\n",
    "Similarly to the intake data frame, all of this data should already be represented in the first dataset above. I will explore the data to confirm this is true. "
   ]
  },
  {
   "cell_type": "code",
   "execution_count": 24,
   "id": "c76957d6",
   "metadata": {},
   "outputs": [
    {
     "data": {
      "text/plain": [
       "(63643, 12)"
      ]
     },
     "execution_count": 24,
     "metadata": {},
     "output_type": "execute_result"
    }
   ],
   "source": [
    "#the shape is (63643, 12)\n",
    "austin_outcomes.shape"
   ]
  },
  {
   "cell_type": "markdown",
   "id": "19699cf7",
   "metadata": {},
   "source": [
    "This is a similar shape to the intake data frame, but not the exact same size. It is strange that the data frame that should include both intake and outcome data is longer than both by about 10,000 rows, but I will explore a little further. "
   ]
  },
  {
   "cell_type": "code",
   "execution_count": 25,
   "id": "2292493e",
   "metadata": {},
   "outputs": [
    {
     "data": {
      "text/html": [
       "<div>\n",
       "<style scoped>\n",
       "    .dataframe tbody tr th:only-of-type {\n",
       "        vertical-align: middle;\n",
       "    }\n",
       "\n",
       "    .dataframe tbody tr th {\n",
       "        vertical-align: top;\n",
       "    }\n",
       "\n",
       "    .dataframe thead th {\n",
       "        text-align: right;\n",
       "    }\n",
       "</style>\n",
       "<table border=\"1\" class=\"dataframe\">\n",
       "  <thead>\n",
       "    <tr style=\"text-align: right;\">\n",
       "      <th></th>\n",
       "      <th>Animal ID</th>\n",
       "      <th>Name</th>\n",
       "      <th>DateTime</th>\n",
       "      <th>MonthYear</th>\n",
       "      <th>Date of Birth</th>\n",
       "      <th>Outcome Type</th>\n",
       "      <th>Outcome Subtype</th>\n",
       "      <th>Animal Type</th>\n",
       "      <th>Sex upon Outcome</th>\n",
       "      <th>Age upon Outcome</th>\n",
       "      <th>Breed</th>\n",
       "      <th>Color</th>\n",
       "    </tr>\n",
       "  </thead>\n",
       "  <tbody>\n",
       "    <tr>\n",
       "      <th>0</th>\n",
       "      <td>A741715</td>\n",
       "      <td>*Pebbles</td>\n",
       "      <td>01/11/2017 06:17:00 PM</td>\n",
       "      <td>01/11/2017 06:17:00 PM</td>\n",
       "      <td>03/07/2016</td>\n",
       "      <td>Adoption</td>\n",
       "      <td>NaN</td>\n",
       "      <td>Cat</td>\n",
       "      <td>Spayed Female</td>\n",
       "      <td>10 months</td>\n",
       "      <td>Domestic Shorthair Mix</td>\n",
       "      <td>Calico</td>\n",
       "    </tr>\n",
       "    <tr>\n",
       "      <th>1</th>\n",
       "      <td>A658751</td>\n",
       "      <td>Benji</td>\n",
       "      <td>11/13/2016 01:38:00 PM</td>\n",
       "      <td>11/13/2016 01:38:00 PM</td>\n",
       "      <td>07/14/2011</td>\n",
       "      <td>Return to Owner</td>\n",
       "      <td>NaN</td>\n",
       "      <td>Dog</td>\n",
       "      <td>Neutered Male</td>\n",
       "      <td>5 years</td>\n",
       "      <td>Border Terrier Mix</td>\n",
       "      <td>Tan</td>\n",
       "    </tr>\n",
       "    <tr>\n",
       "      <th>2</th>\n",
       "      <td>A721285</td>\n",
       "      <td>NaN</td>\n",
       "      <td>02/24/2016 02:42:00 PM</td>\n",
       "      <td>02/24/2016 02:42:00 PM</td>\n",
       "      <td>02/24/2014</td>\n",
       "      <td>Euthanasia</td>\n",
       "      <td>Suffering</td>\n",
       "      <td>Other</td>\n",
       "      <td>Unknown</td>\n",
       "      <td>2 years</td>\n",
       "      <td>Raccoon Mix</td>\n",
       "      <td>Black/Gray</td>\n",
       "    </tr>\n",
       "    <tr>\n",
       "      <th>3</th>\n",
       "      <td>A707443</td>\n",
       "      <td>NaN</td>\n",
       "      <td>07/13/2015 01:50:00 PM</td>\n",
       "      <td>07/13/2015 01:50:00 PM</td>\n",
       "      <td>06/21/2015</td>\n",
       "      <td>Transfer</td>\n",
       "      <td>Partner</td>\n",
       "      <td>Cat</td>\n",
       "      <td>Intact Female</td>\n",
       "      <td>3 weeks</td>\n",
       "      <td>Domestic Longhair Mix</td>\n",
       "      <td>Black Smoke</td>\n",
       "    </tr>\n",
       "    <tr>\n",
       "      <th>4</th>\n",
       "      <td>A684346</td>\n",
       "      <td>NaN</td>\n",
       "      <td>07/22/2014 04:04:00 PM</td>\n",
       "      <td>07/22/2014 04:04:00 PM</td>\n",
       "      <td>07/07/2014</td>\n",
       "      <td>Transfer</td>\n",
       "      <td>Partner</td>\n",
       "      <td>Cat</td>\n",
       "      <td>Intact Male</td>\n",
       "      <td>2 weeks</td>\n",
       "      <td>Domestic Shorthair Mix</td>\n",
       "      <td>Orange Tabby</td>\n",
       "    </tr>\n",
       "  </tbody>\n",
       "</table>\n",
       "</div>"
      ],
      "text/plain": [
       "  Animal ID      Name                DateTime               MonthYear  \\\n",
       "0   A741715  *Pebbles  01/11/2017 06:17:00 PM  01/11/2017 06:17:00 PM   \n",
       "1   A658751     Benji  11/13/2016 01:38:00 PM  11/13/2016 01:38:00 PM   \n",
       "2   A721285       NaN  02/24/2016 02:42:00 PM  02/24/2016 02:42:00 PM   \n",
       "3   A707443       NaN  07/13/2015 01:50:00 PM  07/13/2015 01:50:00 PM   \n",
       "4   A684346       NaN  07/22/2014 04:04:00 PM  07/22/2014 04:04:00 PM   \n",
       "\n",
       "  Date of Birth     Outcome Type Outcome Subtype Animal Type Sex upon Outcome  \\\n",
       "0    03/07/2016         Adoption             NaN         Cat    Spayed Female   \n",
       "1    07/14/2011  Return to Owner             NaN         Dog    Neutered Male   \n",
       "2    02/24/2014       Euthanasia       Suffering       Other          Unknown   \n",
       "3    06/21/2015         Transfer         Partner         Cat    Intact Female   \n",
       "4    07/07/2014         Transfer         Partner         Cat      Intact Male   \n",
       "\n",
       "  Age upon Outcome                   Breed         Color  \n",
       "0        10 months  Domestic Shorthair Mix        Calico  \n",
       "1          5 years      Border Terrier Mix           Tan  \n",
       "2          2 years             Raccoon Mix    Black/Gray  \n",
       "3          3 weeks   Domestic Longhair Mix   Black Smoke  \n",
       "4          2 weeks  Domestic Shorthair Mix  Orange Tabby  "
      ]
     },
     "execution_count": 25,
     "metadata": {},
     "output_type": "execute_result"
    }
   ],
   "source": [
    "#have a look at the rows in the dataset\n",
    "austin_outcomes.head()"
   ]
  },
  {
   "cell_type": "markdown",
   "id": "16f9c16b",
   "metadata": {},
   "source": [
    "Looks pretty similar to the previous two data frames. "
   ]
  },
  {
   "cell_type": "code",
   "execution_count": 26,
   "id": "902cd377",
   "metadata": {},
   "outputs": [
    {
     "name": "stdout",
     "output_type": "stream",
     "text": [
      "<class 'pandas.core.frame.DataFrame'>\n",
      "RangeIndex: 63643 entries, 0 to 63642\n",
      "Data columns (total 12 columns):\n",
      " #   Column            Non-Null Count  Dtype \n",
      "---  ------            --------------  ----- \n",
      " 0   Animal ID         63643 non-null  object\n",
      " 1   Name              44458 non-null  object\n",
      " 2   DateTime          63643 non-null  object\n",
      " 3   MonthYear         63643 non-null  object\n",
      " 4   Date of Birth     63643 non-null  object\n",
      " 5   Outcome Type      63636 non-null  object\n",
      " 6   Outcome Subtype   29729 non-null  object\n",
      " 7   Animal Type       63643 non-null  object\n",
      " 8   Sex upon Outcome  63639 non-null  object\n",
      " 9   Age upon Outcome  63622 non-null  object\n",
      " 10  Breed             63643 non-null  object\n",
      " 11  Color             63643 non-null  object\n",
      "dtypes: object(12)\n",
      "memory usage: 5.8+ MB\n"
     ]
    }
   ],
   "source": [
    "#column names in the data frame\n",
    "austin_outcomes.info()"
   ]
  },
  {
   "cell_type": "markdown",
   "id": "a0944d00",
   "metadata": {},
   "source": [
    "Breed and color are also present in this dataset like the one above. "
   ]
  },
  {
   "cell_type": "code",
   "execution_count": 27,
   "id": "c7dd4efd",
   "metadata": {},
   "outputs": [
    {
     "data": {
      "text/html": [
       "<div>\n",
       "<style scoped>\n",
       "    .dataframe tbody tr th:only-of-type {\n",
       "        vertical-align: middle;\n",
       "    }\n",
       "\n",
       "    .dataframe tbody tr th {\n",
       "        vertical-align: top;\n",
       "    }\n",
       "\n",
       "    .dataframe thead th {\n",
       "        text-align: right;\n",
       "    }\n",
       "</style>\n",
       "<table border=\"1\" class=\"dataframe\">\n",
       "  <thead>\n",
       "    <tr style=\"text-align: right;\">\n",
       "      <th></th>\n",
       "      <th>0</th>\n",
       "    </tr>\n",
       "  </thead>\n",
       "  <tbody>\n",
       "    <tr>\n",
       "      <th>0</th>\n",
       "      <td>Adoption</td>\n",
       "    </tr>\n",
       "    <tr>\n",
       "      <th>1</th>\n",
       "      <td>Return to Owner</td>\n",
       "    </tr>\n",
       "    <tr>\n",
       "      <th>2</th>\n",
       "      <td>Euthanasia</td>\n",
       "    </tr>\n",
       "    <tr>\n",
       "      <th>3</th>\n",
       "      <td>Transfer</td>\n",
       "    </tr>\n",
       "    <tr>\n",
       "      <th>4</th>\n",
       "      <td>Died</td>\n",
       "    </tr>\n",
       "    <tr>\n",
       "      <th>5</th>\n",
       "      <td>Disposal</td>\n",
       "    </tr>\n",
       "    <tr>\n",
       "      <th>6</th>\n",
       "      <td>Missing</td>\n",
       "    </tr>\n",
       "    <tr>\n",
       "      <th>7</th>\n",
       "      <td>Relocate</td>\n",
       "    </tr>\n",
       "    <tr>\n",
       "      <th>8</th>\n",
       "      <td>NaN</td>\n",
       "    </tr>\n",
       "    <tr>\n",
       "      <th>9</th>\n",
       "      <td>Rto-Adopt</td>\n",
       "    </tr>\n",
       "  </tbody>\n",
       "</table>\n",
       "</div>"
      ],
      "text/plain": [
       "                 0\n",
       "0         Adoption\n",
       "1  Return to Owner\n",
       "2       Euthanasia\n",
       "3         Transfer\n",
       "4             Died\n",
       "5         Disposal\n",
       "6          Missing\n",
       "7         Relocate\n",
       "8              NaN\n",
       "9        Rto-Adopt"
      ]
     },
     "execution_count": 27,
     "metadata": {},
     "output_type": "execute_result"
    }
   ],
   "source": [
    "#what outcome types are there\n",
    "pd.DataFrame(austin_outcomes['Outcome Type'].unique())"
   ]
  },
  {
   "cell_type": "markdown",
   "id": "badacb2d",
   "metadata": {},
   "source": [
    "Outcome types look the same at the first dataset above. There are some NaN values that I am concerned about though. "
   ]
  },
  {
   "cell_type": "code",
   "execution_count": 28,
   "id": "0d8ff87f",
   "metadata": {
    "scrolled": true
   },
   "outputs": [
    {
     "data": {
      "text/html": [
       "<div>\n",
       "<style scoped>\n",
       "    .dataframe tbody tr th:only-of-type {\n",
       "        vertical-align: middle;\n",
       "    }\n",
       "\n",
       "    .dataframe tbody tr th {\n",
       "        vertical-align: top;\n",
       "    }\n",
       "\n",
       "    .dataframe thead th {\n",
       "        text-align: right;\n",
       "    }\n",
       "</style>\n",
       "<table border=\"1\" class=\"dataframe\">\n",
       "  <thead>\n",
       "    <tr style=\"text-align: right;\">\n",
       "      <th></th>\n",
       "      <th></th>\n",
       "      <th>Animal ID</th>\n",
       "    </tr>\n",
       "    <tr>\n",
       "      <th>Animal Type</th>\n",
       "      <th>Outcome Type</th>\n",
       "      <th></th>\n",
       "    </tr>\n",
       "  </thead>\n",
       "  <tbody>\n",
       "    <tr>\n",
       "      <th rowspan=\"8\" valign=\"top\">Bird</th>\n",
       "      <th>Adoption</th>\n",
       "      <td>91</td>\n",
       "    </tr>\n",
       "    <tr>\n",
       "      <th>Died</th>\n",
       "      <td>4</td>\n",
       "    </tr>\n",
       "    <tr>\n",
       "      <th>Disposal</th>\n",
       "      <td>18</td>\n",
       "    </tr>\n",
       "    <tr>\n",
       "      <th>Euthanasia</th>\n",
       "      <td>64</td>\n",
       "    </tr>\n",
       "    <tr>\n",
       "      <th>Missing</th>\n",
       "      <td>1</td>\n",
       "    </tr>\n",
       "    <tr>\n",
       "      <th>Relocate</th>\n",
       "      <td>6</td>\n",
       "    </tr>\n",
       "    <tr>\n",
       "      <th>Return to Owner</th>\n",
       "      <td>7</td>\n",
       "    </tr>\n",
       "    <tr>\n",
       "      <th>Transfer</th>\n",
       "      <td>63</td>\n",
       "    </tr>\n",
       "    <tr>\n",
       "      <th rowspan=\"8\" valign=\"top\">Cat</th>\n",
       "      <th>Adoption</th>\n",
       "      <td>9842</td>\n",
       "    </tr>\n",
       "    <tr>\n",
       "      <th>Died</th>\n",
       "      <td>317</td>\n",
       "    </tr>\n",
       "    <tr>\n",
       "      <th>Disposal</th>\n",
       "      <td>12</td>\n",
       "    </tr>\n",
       "    <tr>\n",
       "      <th>Euthanasia</th>\n",
       "      <td>1235</td>\n",
       "    </tr>\n",
       "    <tr>\n",
       "      <th>Missing</th>\n",
       "      <td>25</td>\n",
       "    </tr>\n",
       "    <tr>\n",
       "      <th>Return to Owner</th>\n",
       "      <td>1143</td>\n",
       "    </tr>\n",
       "    <tr>\n",
       "      <th>Rto-Adopt</th>\n",
       "      <td>5</td>\n",
       "    </tr>\n",
       "    <tr>\n",
       "      <th>Transfer</th>\n",
       "      <td>11099</td>\n",
       "    </tr>\n",
       "    <tr>\n",
       "      <th rowspan=\"8\" valign=\"top\">Dog</th>\n",
       "      <th>Adoption</th>\n",
       "      <td>16276</td>\n",
       "    </tr>\n",
       "    <tr>\n",
       "      <th>Died</th>\n",
       "      <td>120</td>\n",
       "    </tr>\n",
       "    <tr>\n",
       "      <th>Disposal</th>\n",
       "      <td>9</td>\n",
       "    </tr>\n",
       "    <tr>\n",
       "      <th>Euthanasia</th>\n",
       "      <td>1419</td>\n",
       "    </tr>\n",
       "    <tr>\n",
       "      <th>Missing</th>\n",
       "      <td>15</td>\n",
       "    </tr>\n",
       "    <tr>\n",
       "      <th>Return to Owner</th>\n",
       "      <td>10606</td>\n",
       "    </tr>\n",
       "    <tr>\n",
       "      <th>Rto-Adopt</th>\n",
       "      <td>13</td>\n",
       "    </tr>\n",
       "    <tr>\n",
       "      <th>Transfer</th>\n",
       "      <td>7760</td>\n",
       "    </tr>\n",
       "    <tr>\n",
       "      <th rowspan=\"3\" valign=\"top\">Livestock</th>\n",
       "      <th>Adoption</th>\n",
       "      <td>2</td>\n",
       "    </tr>\n",
       "    <tr>\n",
       "      <th>Return to Owner</th>\n",
       "      <td>1</td>\n",
       "    </tr>\n",
       "    <tr>\n",
       "      <th>Transfer</th>\n",
       "      <td>6</td>\n",
       "    </tr>\n",
       "    <tr>\n",
       "      <th rowspan=\"7\" valign=\"top\">Other</th>\n",
       "      <th>Adoption</th>\n",
       "      <td>124</td>\n",
       "    </tr>\n",
       "    <tr>\n",
       "      <th>Died</th>\n",
       "      <td>106</td>\n",
       "    </tr>\n",
       "    <tr>\n",
       "      <th>Disposal</th>\n",
       "      <td>216</td>\n",
       "    </tr>\n",
       "    <tr>\n",
       "      <th>Euthanasia</th>\n",
       "      <td>2544</td>\n",
       "    </tr>\n",
       "    <tr>\n",
       "      <th>Relocate</th>\n",
       "      <td>8</td>\n",
       "    </tr>\n",
       "    <tr>\n",
       "      <th>Return to Owner</th>\n",
       "      <td>26</td>\n",
       "    </tr>\n",
       "    <tr>\n",
       "      <th>Transfer</th>\n",
       "      <td>453</td>\n",
       "    </tr>\n",
       "  </tbody>\n",
       "</table>\n",
       "</div>"
      ],
      "text/plain": [
       "                             Animal ID\n",
       "Animal Type Outcome Type              \n",
       "Bird        Adoption                91\n",
       "            Died                     4\n",
       "            Disposal                18\n",
       "            Euthanasia              64\n",
       "            Missing                  1\n",
       "            Relocate                 6\n",
       "            Return to Owner          7\n",
       "            Transfer                63\n",
       "Cat         Adoption              9842\n",
       "            Died                   317\n",
       "            Disposal                12\n",
       "            Euthanasia            1235\n",
       "            Missing                 25\n",
       "            Return to Owner       1143\n",
       "            Rto-Adopt                5\n",
       "            Transfer             11099\n",
       "Dog         Adoption             16276\n",
       "            Died                   120\n",
       "            Disposal                 9\n",
       "            Euthanasia            1419\n",
       "            Missing                 15\n",
       "            Return to Owner      10606\n",
       "            Rto-Adopt               13\n",
       "            Transfer              7760\n",
       "Livestock   Adoption                 2\n",
       "            Return to Owner          1\n",
       "            Transfer                 6\n",
       "Other       Adoption               124\n",
       "            Died                   106\n",
       "            Disposal               216\n",
       "            Euthanasia            2544\n",
       "            Relocate                 8\n",
       "            Return to Owner         26\n",
       "            Transfer               453"
      ]
     },
     "execution_count": 28,
     "metadata": {},
     "output_type": "execute_result"
    }
   ],
   "source": [
    "austin_outcomes[['Animal ID', 'Outcome Type', 'Animal Type']].groupby(['Animal Type', 'Outcome Type']).count()"
   ]
  },
  {
   "cell_type": "markdown",
   "id": "2a08972c",
   "metadata": {},
   "source": [
    "Dogs are most often adopted, euthanized, returned to owner or transfered. It doesn't seem fair to say a dog that was euthanized is not adoptable, so I will need to consider this when I clean the data. "
   ]
  },
  {
   "cell_type": "code",
   "execution_count": 29,
   "id": "1c776a1a",
   "metadata": {},
   "outputs": [
    {
     "data": {
      "text/html": [
       "<div>\n",
       "<style scoped>\n",
       "    .dataframe tbody tr th:only-of-type {\n",
       "        vertical-align: middle;\n",
       "    }\n",
       "\n",
       "    .dataframe tbody tr th {\n",
       "        vertical-align: top;\n",
       "    }\n",
       "\n",
       "    .dataframe thead th {\n",
       "        text-align: right;\n",
       "    }\n",
       "</style>\n",
       "<table border=\"1\" class=\"dataframe\">\n",
       "  <thead>\n",
       "    <tr style=\"text-align: right;\">\n",
       "      <th></th>\n",
       "      <th>Animal ID</th>\n",
       "    </tr>\n",
       "    <tr>\n",
       "      <th>Animal Type</th>\n",
       "      <th></th>\n",
       "    </tr>\n",
       "  </thead>\n",
       "  <tbody>\n",
       "    <tr>\n",
       "      <th>Bird</th>\n",
       "      <td>254</td>\n",
       "    </tr>\n",
       "    <tr>\n",
       "      <th>Cat</th>\n",
       "      <td>23679</td>\n",
       "    </tr>\n",
       "    <tr>\n",
       "      <th>Dog</th>\n",
       "      <td>36219</td>\n",
       "    </tr>\n",
       "    <tr>\n",
       "      <th>Livestock</th>\n",
       "      <td>9</td>\n",
       "    </tr>\n",
       "    <tr>\n",
       "      <th>Other</th>\n",
       "      <td>3482</td>\n",
       "    </tr>\n",
       "  </tbody>\n",
       "</table>\n",
       "</div>"
      ],
      "text/plain": [
       "             Animal ID\n",
       "Animal Type           \n",
       "Bird               254\n",
       "Cat              23679\n",
       "Dog              36219\n",
       "Livestock            9\n",
       "Other             3482"
      ]
     },
     "execution_count": 29,
     "metadata": {},
     "output_type": "execute_result"
    }
   ],
   "source": [
    "#animal preportions\n",
    "austin_outcomes[['Animal ID', 'Animal Type']].groupby('Animal Type').count()"
   ]
  },
  {
   "cell_type": "code",
   "execution_count": 30,
   "id": "e35ef0ac",
   "metadata": {},
   "outputs": [
    {
     "data": {
      "text/plain": [
       "'Of the 36219 dogs, only 16276 were adopted. Thats a 44.94% adoption rate (base rate).'"
      ]
     },
     "execution_count": 30,
     "metadata": {},
     "output_type": "execute_result"
    }
   ],
   "source": [
    "adopted_dogs = 16276\n",
    "total_dogs = 36219\n",
    "\n",
    "f\"Of the {total_dogs} dogs, only {adopted_dogs} were adopted. Thats a {round(adopted_dogs/total_dogs*100, 2)}% adoption rate (base rate).\""
   ]
  },
  {
   "cell_type": "markdown",
   "id": "416f78e0",
   "metadata": {},
   "source": [
    "Very similar to the intake data, but still fewer than the first data frame above. "
   ]
  },
  {
   "cell_type": "code",
   "execution_count": 31,
   "id": "3e4aa839",
   "metadata": {},
   "outputs": [
    {
     "data": {
      "text/plain": [
       "Animal ID               0\n",
       "Name                19185\n",
       "DateTime                0\n",
       "MonthYear               0\n",
       "Date of Birth           0\n",
       "Outcome Type            7\n",
       "Outcome Subtype     33914\n",
       "Animal Type             0\n",
       "Sex upon Outcome        4\n",
       "Age upon Outcome       21\n",
       "Breed                   0\n",
       "Color                   0\n",
       "dtype: int64"
      ]
     },
     "execution_count": 31,
     "metadata": {},
     "output_type": "execute_result"
    }
   ],
   "source": [
    "#checking for nulls\n",
    "austin_outcomes.isna().sum()"
   ]
  },
  {
   "cell_type": "markdown",
   "id": "89c78594",
   "metadata": {},
   "source": [
    "Name data is also missing in the dataset and the outcome subtype has a lot of NaN values here similar to the first data frame above. I am not concerned about this. "
   ]
  },
  {
   "cell_type": "markdown",
   "id": "77a59aa0",
   "metadata": {},
   "source": [
    "## Key Points\n",
    "<a class=\"anchor\" id=\"outcomekey\"></a>\n",
    "\n",
    "* Hopefully animal ID that can be used as a common key\n",
    "* Only 63,643 rows\n",
    "* Has an outcome column with adopted or not information\n",
    "* About 45% of dogs reported as being adopted"
   ]
  },
  {
   "cell_type": "markdown",
   "id": "2ef53887",
   "metadata": {},
   "source": [
    "# Looking at `adoptable_images`\n",
    "<a class=\"anchor\" id=\"images\"></a>\n",
    "\n",
    "This is a very small dataset (409 rows) that might be used for real world testing the data. It is too small to use for modeling, but I would like to explore it a little bit more to see if it can be of use in the future. "
   ]
  },
  {
   "cell_type": "code",
   "execution_count": 32,
   "id": "088886cd",
   "metadata": {},
   "outputs": [
    {
     "data": {
      "text/plain": [
       "(409, 25)"
      ]
     },
     "execution_count": 32,
     "metadata": {},
     "output_type": "execute_result"
    }
   ],
   "source": [
    "#the shape is (409, 25)\n",
    "adoptable_images.shape"
   ]
  },
  {
   "cell_type": "code",
   "execution_count": 33,
   "id": "7ade59a5",
   "metadata": {},
   "outputs": [
    {
     "data": {
      "text/html": [
       "<div>\n",
       "<style scoped>\n",
       "    .dataframe tbody tr th:only-of-type {\n",
       "        vertical-align: middle;\n",
       "    }\n",
       "\n",
       "    .dataframe tbody tr th {\n",
       "        vertical-align: top;\n",
       "    }\n",
       "\n",
       "    .dataframe thead th {\n",
       "        text-align: right;\n",
       "    }\n",
       "</style>\n",
       "<table border=\"1\" class=\"dataframe\">\n",
       "  <thead>\n",
       "    <tr style=\"text-align: right;\">\n",
       "      <th></th>\n",
       "      <th>impound_no</th>\n",
       "      <th>Animal_ID</th>\n",
       "      <th>Data_Source</th>\n",
       "      <th>Record_Type</th>\n",
       "      <th>Link</th>\n",
       "      <th>Current_Location</th>\n",
       "      <th>Animal_Name</th>\n",
       "      <th>animal_type</th>\n",
       "      <th>Age</th>\n",
       "      <th>Animal_Gender</th>\n",
       "      <th>...</th>\n",
       "      <th>City</th>\n",
       "      <th>State</th>\n",
       "      <th>Zip</th>\n",
       "      <th>jurisdiction</th>\n",
       "      <th>obfuscated_latitude</th>\n",
       "      <th>obfuscated_longitude</th>\n",
       "      <th>Image</th>\n",
       "      <th>image_alt_text</th>\n",
       "      <th>location_for_map</th>\n",
       "      <th>Memo</th>\n",
       "    </tr>\n",
       "  </thead>\n",
       "  <tbody>\n",
       "    <tr>\n",
       "      <th>0</th>\n",
       "      <td>K17-103806</td>\n",
       "      <td>A542208</td>\n",
       "      <td>Regional Animal Services of King County</td>\n",
       "      <td>FOUND</td>\n",
       "      <td>http://petharbor.com/PublicDetail.asp?searchty...</td>\n",
       "      <td>In Public Home</td>\n",
       "      <td>NaN</td>\n",
       "      <td>Cat</td>\n",
       "      <td>NaN</td>\n",
       "      <td>NaN</td>\n",
       "      <td>...</td>\n",
       "      <td>NaN</td>\n",
       "      <td>NaN</td>\n",
       "      <td>NaN</td>\n",
       "      <td>JURISDICTION</td>\n",
       "      <td>NaN</td>\n",
       "      <td>NaN</td>\n",
       "      <td>http://www.petharbor.com/get_image.asp?RES=Det...</td>\n",
       "      <td>Image Copyright HLP Inc. 2017</td>\n",
       "      <td>96TH AVE NE AND NE 28TH ST\\n</td>\n",
       "      <td>NaN</td>\n",
       "    </tr>\n",
       "    <tr>\n",
       "      <th>1</th>\n",
       "      <td>K17-103558</td>\n",
       "      <td>A541114</td>\n",
       "      <td>Regional Animal Services of King County</td>\n",
       "      <td>LOST</td>\n",
       "      <td>http://petharbor.com/PublicDetail.asp?searchty...</td>\n",
       "      <td>LOST</td>\n",
       "      <td>Neko</td>\n",
       "      <td>Cat</td>\n",
       "      <td>NaN</td>\n",
       "      <td>Male</td>\n",
       "      <td>...</td>\n",
       "      <td>NaN</td>\n",
       "      <td>NaN</td>\n",
       "      <td>NaN</td>\n",
       "      <td>JURISDICTION</td>\n",
       "      <td>NaN</td>\n",
       "      <td>NaN</td>\n",
       "      <td>http://www.petharbor.com/get_image.asp?RES=Det...</td>\n",
       "      <td>Image Copyright HLP Inc. 2017</td>\n",
       "      <td>WALLINGFORD AVE N NEAR 150TH ST\\n</td>\n",
       "      <td>NaN</td>\n",
       "    </tr>\n",
       "    <tr>\n",
       "      <th>2</th>\n",
       "      <td>K17-104020</td>\n",
       "      <td>A543155</td>\n",
       "      <td>Regional Animal Services of King County</td>\n",
       "      <td>LOST</td>\n",
       "      <td>http://petharbor.com/PublicDetail.asp?searchty...</td>\n",
       "      <td>LOST</td>\n",
       "      <td>Trixie</td>\n",
       "      <td>Dog</td>\n",
       "      <td>NaN</td>\n",
       "      <td>Female</td>\n",
       "      <td>...</td>\n",
       "      <td>NaN</td>\n",
       "      <td>NaN</td>\n",
       "      <td>NaN</td>\n",
       "      <td>JURISDICTION</td>\n",
       "      <td>NaN</td>\n",
       "      <td>NaN</td>\n",
       "      <td>http://www.petharbor.com/get_image.asp?RES=Det...</td>\n",
       "      <td>Image Copyright HLP Inc. 2017</td>\n",
       "      <td>THOMAS RD\\n</td>\n",
       "      <td>NaN</td>\n",
       "    </tr>\n",
       "    <tr>\n",
       "      <th>3</th>\n",
       "      <td>K17-103994</td>\n",
       "      <td>A543033</td>\n",
       "      <td>Regional Animal Services of King County</td>\n",
       "      <td>FOUND</td>\n",
       "      <td>http://petharbor.com/PublicDetail.asp?searchty...</td>\n",
       "      <td>In Public Home</td>\n",
       "      <td>NaN</td>\n",
       "      <td>Dog</td>\n",
       "      <td>NaN</td>\n",
       "      <td>Female</td>\n",
       "      <td>...</td>\n",
       "      <td>APT</td>\n",
       "      <td>NaN</td>\n",
       "      <td>NaN</td>\n",
       "      <td>JURISDICTION</td>\n",
       "      <td>NaN</td>\n",
       "      <td>NaN</td>\n",
       "      <td>http://www.petharbor.com/get_image.asp?RES=Det...</td>\n",
       "      <td>Image Copyright HLP Inc. 2017</td>\n",
       "      <td>10000 MEYDENBAUER WAY SE\\nAPT\\n</td>\n",
       "      <td>NaN</td>\n",
       "    </tr>\n",
       "    <tr>\n",
       "      <th>4</th>\n",
       "      <td>K17-104418</td>\n",
       "      <td>A544774</td>\n",
       "      <td>Regional Animal Services of King County</td>\n",
       "      <td>LOST</td>\n",
       "      <td>http://petharbor.com/PublicDetail.asp?searchty...</td>\n",
       "      <td>LOST</td>\n",
       "      <td>Kitty</td>\n",
       "      <td>Cat</td>\n",
       "      <td>NaN</td>\n",
       "      <td>Female</td>\n",
       "      <td>...</td>\n",
       "      <td>NaN</td>\n",
       "      <td>NaN</td>\n",
       "      <td>NaN</td>\n",
       "      <td>JURISDICTION</td>\n",
       "      <td>NaN</td>\n",
       "      <td>NaN</td>\n",
       "      <td>http://www.petharbor.com/get_image.asp?RES=Det...</td>\n",
       "      <td>Image Copyright HLP Inc. 2017</td>\n",
       "      <td>76TH AVE SE\\n</td>\n",
       "      <td>NaN</td>\n",
       "    </tr>\n",
       "  </tbody>\n",
       "</table>\n",
       "<p>5 rows × 25 columns</p>\n",
       "</div>"
      ],
      "text/plain": [
       "   impound_no Animal_ID                              Data_Source Record_Type  \\\n",
       "0  K17-103806   A542208  Regional Animal Services of King County       FOUND   \n",
       "1  K17-103558   A541114  Regional Animal Services of King County        LOST   \n",
       "2  K17-104020   A543155  Regional Animal Services of King County        LOST   \n",
       "3  K17-103994   A543033  Regional Animal Services of King County       FOUND   \n",
       "4  K17-104418   A544774  Regional Animal Services of King County        LOST   \n",
       "\n",
       "                                                Link Current_Location  \\\n",
       "0  http://petharbor.com/PublicDetail.asp?searchty...   In Public Home   \n",
       "1  http://petharbor.com/PublicDetail.asp?searchty...             LOST   \n",
       "2  http://petharbor.com/PublicDetail.asp?searchty...             LOST   \n",
       "3  http://petharbor.com/PublicDetail.asp?searchty...   In Public Home   \n",
       "4  http://petharbor.com/PublicDetail.asp?searchty...             LOST   \n",
       "\n",
       "  Animal_Name animal_type  Age Animal_Gender  ... City State Zip  \\\n",
       "0         NaN         Cat  NaN           NaN  ...  NaN   NaN NaN   \n",
       "1        Neko         Cat  NaN          Male  ...  NaN   NaN NaN   \n",
       "2      Trixie         Dog  NaN        Female  ...  NaN   NaN NaN   \n",
       "3         NaN         Dog  NaN        Female  ...  APT   NaN NaN   \n",
       "4       Kitty         Cat  NaN        Female  ...  NaN   NaN NaN   \n",
       "\n",
       "   jurisdiction obfuscated_latitude obfuscated_longitude  \\\n",
       "0  JURISDICTION                 NaN                  NaN   \n",
       "1  JURISDICTION                 NaN                  NaN   \n",
       "2  JURISDICTION                 NaN                  NaN   \n",
       "3  JURISDICTION                 NaN                  NaN   \n",
       "4  JURISDICTION                 NaN                  NaN   \n",
       "\n",
       "                                               Image  \\\n",
       "0  http://www.petharbor.com/get_image.asp?RES=Det...   \n",
       "1  http://www.petharbor.com/get_image.asp?RES=Det...   \n",
       "2  http://www.petharbor.com/get_image.asp?RES=Det...   \n",
       "3  http://www.petharbor.com/get_image.asp?RES=Det...   \n",
       "4  http://www.petharbor.com/get_image.asp?RES=Det...   \n",
       "\n",
       "                  image_alt_text                   location_for_map  Memo  \n",
       "0  Image Copyright HLP Inc. 2017       96TH AVE NE AND NE 28TH ST\\n   NaN  \n",
       "1  Image Copyright HLP Inc. 2017  WALLINGFORD AVE N NEAR 150TH ST\\n   NaN  \n",
       "2  Image Copyright HLP Inc. 2017                        THOMAS RD\\n   NaN  \n",
       "3  Image Copyright HLP Inc. 2017    10000 MEYDENBAUER WAY SE\\nAPT\\n   NaN  \n",
       "4  Image Copyright HLP Inc. 2017                      76TH AVE SE\\n   NaN  \n",
       "\n",
       "[5 rows x 25 columns]"
      ]
     },
     "execution_count": 33,
     "metadata": {},
     "output_type": "execute_result"
    }
   ],
   "source": [
    "#what do the rows in this data frame look like?\n",
    "adoptable_images.head()"
   ]
  },
  {
   "cell_type": "code",
   "execution_count": 34,
   "id": "561e12cc",
   "metadata": {
    "scrolled": true
   },
   "outputs": [
    {
     "name": "stdout",
     "output_type": "stream",
     "text": [
      "<class 'pandas.core.frame.DataFrame'>\n",
      "RangeIndex: 409 entries, 0 to 408\n",
      "Data columns (total 25 columns):\n",
      " #   Column                Non-Null Count  Dtype  \n",
      "---  ------                --------------  -----  \n",
      " 0   impound_no            409 non-null    object \n",
      " 1   Animal_ID             409 non-null    object \n",
      " 2   Data_Source           409 non-null    object \n",
      " 3   Record_Type           409 non-null    object \n",
      " 4   Link                  409 non-null    object \n",
      " 5   Current_Location      398 non-null    object \n",
      " 6   Animal_Name           299 non-null    object \n",
      " 7   animal_type           409 non-null    object \n",
      " 8   Age                   228 non-null    object \n",
      " 9   Animal_Gender         399 non-null    object \n",
      " 10  Animal_Breed          409 non-null    object \n",
      " 11  Animal_Color          409 non-null    object \n",
      " 12  Date                  409 non-null    object \n",
      " 13  Date_Type             409 non-null    object \n",
      " 14  Obfuscated_Address    363 non-null    object \n",
      " 15  City                  314 non-null    object \n",
      " 16  State                 308 non-null    object \n",
      " 17  Zip                   311 non-null    float64\n",
      " 18  jurisdiction          379 non-null    object \n",
      " 19  obfuscated_latitude   48 non-null     float64\n",
      " 20  obfuscated_longitude  48 non-null     float64\n",
      " 21  Image                 398 non-null    object \n",
      " 22  image_alt_text        409 non-null    object \n",
      " 23  location_for_map      374 non-null    object \n",
      " 24  Memo                  228 non-null    object \n",
      "dtypes: float64(3), object(22)\n",
      "memory usage: 80.0+ KB\n"
     ]
    }
   ],
   "source": [
    "# have a look at the columns in this dataset\n",
    "adoptable_images.info()"
   ]
  },
  {
   "cell_type": "markdown",
   "id": "57e579a5",
   "metadata": {},
   "source": [
    "Data frame has a lot of detail, but most is not very helpful for predicting adoptability such as jurisdiction/location information. I will look into the helpful columns a bit more now. "
   ]
  },
  {
   "cell_type": "code",
   "execution_count": 35,
   "id": "10190f75",
   "metadata": {},
   "outputs": [
    {
     "data": {
      "text/plain": [
       "0    http://www.petharbor.com/get_image.asp?RES=Det...\n",
       "1    http://www.petharbor.com/get_image.asp?RES=Det...\n",
       "2    http://www.petharbor.com/get_image.asp?RES=Det...\n",
       "3    http://www.petharbor.com/get_image.asp?RES=Det...\n",
       "4    http://www.petharbor.com/get_image.asp?RES=Det...\n",
       "Name: Image, dtype: object"
      ]
     },
     "execution_count": 35,
     "metadata": {},
     "output_type": "execute_result"
    }
   ],
   "source": [
    "#what does the image data look like\n",
    "adoptable_images['Image'].head()"
   ]
  },
  {
   "cell_type": "code",
   "execution_count": 36,
   "id": "16f2146a",
   "metadata": {},
   "outputs": [
    {
     "data": {
      "text/plain": [
       "array(['FOUND', 'LOST', 'ADOPTABLE'], dtype=object)"
      ]
     },
     "execution_count": 36,
     "metadata": {},
     "output_type": "execute_result"
    }
   ],
   "source": [
    "#what are the outcome types\n",
    "adoptable_images['Record_Type'].unique()"
   ]
  },
  {
   "cell_type": "code",
   "execution_count": 37,
   "id": "69275889",
   "metadata": {},
   "outputs": [
    {
     "data": {
      "text/plain": [
       "array(['Cat', 'Dog', 'Goat/sheep', 'Bird', 'Rabbit Sh', 'Angora',\n",
       "       'Dead Cat', 'Dead Dog', 'Hamster', 'Dead Bird', 'Lop-Mini'],\n",
       "      dtype=object)"
      ]
     },
     "execution_count": 37,
     "metadata": {},
     "output_type": "execute_result"
    }
   ],
   "source": [
    "# what animals are in this dataset\n",
    "adoptable_images['animal_type'].unique()"
   ]
  },
  {
   "cell_type": "code",
   "execution_count": 38,
   "id": "7990b3c8",
   "metadata": {},
   "outputs": [
    {
     "data": {
      "text/html": [
       "<div>\n",
       "<style scoped>\n",
       "    .dataframe tbody tr th:only-of-type {\n",
       "        vertical-align: middle;\n",
       "    }\n",
       "\n",
       "    .dataframe tbody tr th {\n",
       "        vertical-align: top;\n",
       "    }\n",
       "\n",
       "    .dataframe thead th {\n",
       "        text-align: right;\n",
       "    }\n",
       "</style>\n",
       "<table border=\"1\" class=\"dataframe\">\n",
       "  <thead>\n",
       "    <tr style=\"text-align: right;\">\n",
       "      <th></th>\n",
       "      <th></th>\n",
       "      <th>impound_no</th>\n",
       "    </tr>\n",
       "    <tr>\n",
       "      <th>animal_type</th>\n",
       "      <th>Record_Type</th>\n",
       "      <th></th>\n",
       "    </tr>\n",
       "  </thead>\n",
       "  <tbody>\n",
       "    <tr>\n",
       "      <th>Angora</th>\n",
       "      <th>ADOPTABLE</th>\n",
       "      <td>1</td>\n",
       "    </tr>\n",
       "    <tr>\n",
       "      <th>Bird</th>\n",
       "      <th>FOUND</th>\n",
       "      <td>1</td>\n",
       "    </tr>\n",
       "    <tr>\n",
       "      <th rowspan=\"3\" valign=\"top\">Cat</th>\n",
       "      <th>ADOPTABLE</th>\n",
       "      <td>42</td>\n",
       "    </tr>\n",
       "    <tr>\n",
       "      <th>FOUND</th>\n",
       "      <td>154</td>\n",
       "    </tr>\n",
       "    <tr>\n",
       "      <th>LOST</th>\n",
       "      <td>91</td>\n",
       "    </tr>\n",
       "    <tr>\n",
       "      <th>Dead Bird</th>\n",
       "      <th>FOUND</th>\n",
       "      <td>1</td>\n",
       "    </tr>\n",
       "    <tr>\n",
       "      <th>Dead Cat</th>\n",
       "      <th>FOUND</th>\n",
       "      <td>8</td>\n",
       "    </tr>\n",
       "    <tr>\n",
       "      <th>Dead Dog</th>\n",
       "      <th>FOUND</th>\n",
       "      <td>2</td>\n",
       "    </tr>\n",
       "    <tr>\n",
       "      <th rowspan=\"3\" valign=\"top\">Dog</th>\n",
       "      <th>ADOPTABLE</th>\n",
       "      <td>11</td>\n",
       "    </tr>\n",
       "    <tr>\n",
       "      <th>FOUND</th>\n",
       "      <td>32</td>\n",
       "    </tr>\n",
       "    <tr>\n",
       "      <th>LOST</th>\n",
       "      <td>59</td>\n",
       "    </tr>\n",
       "    <tr>\n",
       "      <th>Goat/sheep</th>\n",
       "      <th>LOST</th>\n",
       "      <td>2</td>\n",
       "    </tr>\n",
       "    <tr>\n",
       "      <th rowspan=\"2\" valign=\"top\">Hamster</th>\n",
       "      <th>ADOPTABLE</th>\n",
       "      <td>1</td>\n",
       "    </tr>\n",
       "    <tr>\n",
       "      <th>FOUND</th>\n",
       "      <td>1</td>\n",
       "    </tr>\n",
       "    <tr>\n",
       "      <th>Lop-Mini</th>\n",
       "      <th>FOUND</th>\n",
       "      <td>1</td>\n",
       "    </tr>\n",
       "    <tr>\n",
       "      <th>Rabbit Sh</th>\n",
       "      <th>ADOPTABLE</th>\n",
       "      <td>2</td>\n",
       "    </tr>\n",
       "  </tbody>\n",
       "</table>\n",
       "</div>"
      ],
      "text/plain": [
       "                         impound_no\n",
       "animal_type Record_Type            \n",
       "Angora      ADOPTABLE             1\n",
       "Bird        FOUND                 1\n",
       "Cat         ADOPTABLE            42\n",
       "            FOUND               154\n",
       "            LOST                 91\n",
       "Dead Bird   FOUND                 1\n",
       "Dead Cat    FOUND                 8\n",
       "Dead Dog    FOUND                 2\n",
       "Dog         ADOPTABLE            11\n",
       "            FOUND                32\n",
       "            LOST                 59\n",
       "Goat/sheep  LOST                  2\n",
       "Hamster     ADOPTABLE             1\n",
       "            FOUND                 1\n",
       "Lop-Mini    FOUND                 1\n",
       "Rabbit Sh   ADOPTABLE             2"
      ]
     },
     "execution_count": 38,
     "metadata": {},
     "output_type": "execute_result"
    }
   ],
   "source": [
    "#what are the outcome breakdowns for dogs\n",
    "adoptable_images[['impound_no','Record_Type', 'animal_type']].groupby(['animal_type','Record_Type']).count()"
   ]
  },
  {
   "cell_type": "code",
   "execution_count": 39,
   "id": "d55afa80",
   "metadata": {},
   "outputs": [
    {
     "data": {
      "text/plain": [
       "impound_no                0\n",
       "Animal_ID                 0\n",
       "Data_Source               0\n",
       "Record_Type               0\n",
       "Link                      0\n",
       "Current_Location         11\n",
       "Animal_Name             110\n",
       "animal_type               0\n",
       "Age                     181\n",
       "Animal_Gender            10\n",
       "Animal_Breed              0\n",
       "Animal_Color              0\n",
       "Date                      0\n",
       "Date_Type                 0\n",
       "Obfuscated_Address       46\n",
       "City                     95\n",
       "State                   101\n",
       "Zip                      98\n",
       "jurisdiction             30\n",
       "obfuscated_latitude     361\n",
       "obfuscated_longitude    361\n",
       "Image                    11\n",
       "image_alt_text            0\n",
       "location_for_map         35\n",
       "Memo                    181\n",
       "dtype: int64"
      ]
     },
     "execution_count": 39,
     "metadata": {},
     "output_type": "execute_result"
    }
   ],
   "source": [
    "#How many nulls are there?\n",
    "adoptable_images.isna().sum()"
   ]
  },
  {
   "cell_type": "code",
   "execution_count": 40,
   "id": "76b43714",
   "metadata": {},
   "outputs": [
    {
     "name": "stdout",
     "output_type": "stream",
     "text": [
      "Dead Cat\n",
      "Dead Cat\n",
      "Dead Cat\n",
      "Dead Cat\n",
      "Dead Cat\n",
      "Dead Cat\n",
      "Dead Dog\n",
      "Dead Bird\n",
      "Dead Cat\n",
      "Dead Dog\n",
      "Dead Cat\n"
     ]
    }
   ],
   "source": [
    "#which images (for which animal) are missing?\n",
    "for i in range(0,len(adoptable_images['Image'].isna())):\n",
    "    if adoptable_images['Image'].isna()[i] == True:\n",
    "        print(adoptable_images['animal_type'][i])"
   ]
  },
  {
   "cell_type": "markdown",
   "id": "6e91ec0e",
   "metadata": {},
   "source": [
    "It looks like (luckily for us) this shelter did not upload pictures of dead animals. The dataset is missing name information and age of animals similar to the Austin Shelter data and it also is missing a lot of location information, but that doesn't affect this project. "
   ]
  },
  {
   "cell_type": "markdown",
   "id": "ebc41b40",
   "metadata": {},
   "source": [
    "## Key Points\n",
    "<a class=\"anchor\" id=\"imageskey\"></a>\n",
    "\n",
    "* There are images of animals in this dataset, but it is too small to be used. There are only 11 adoptable dogs. \n",
    "* Not a good dataset for modeling, but could be used as real world examples to test the model \n",
    "    * Can check predictability based on common breeds"
   ]
  },
  {
   "cell_type": "markdown",
   "id": "2e99da2b",
   "metadata": {},
   "source": [
    "# Goal Attainment Assessment\n",
    "<a class=\"anchor\" id=\"goal\"></a>\n",
    "\n",
    "* To predict the adoptability of any particular dog that is in an animal shelter\n",
    "    * There is a column \"outcome type\" that can be used as the target variable\n",
    "    * The size of the data frame should be enough to get statistically significant results\n",
    "    * There are important details about each dog (such as breed, color, age, sex, neutered status) that theoretically affected the adoptability of a dog. \n",
    "* Predict the length of time before the dog is adoption \n",
    "    * There is a column that specifies how long a dog was at the shelter and the arrival date and departure time can be used to calculate this if needed\n",
    "* I will use images of dogs up for adoption as the input of this model to predict if it will be adopted or not\n",
    "    * The data considered in this notebook does not pertain to this goal, so it is unclear at this time if this is achievable"
   ]
  }
 ],
 "metadata": {
  "kernelspec": {
   "display_name": "Python 3 (ipykernel)",
   "language": "python",
   "name": "python3"
  },
  "language_info": {
   "codemirror_mode": {
    "name": "ipython",
    "version": 3
   },
   "file_extension": ".py",
   "mimetype": "text/x-python",
   "name": "python",
   "nbconvert_exporter": "python",
   "pygments_lexer": "ipython3",
   "version": "3.8.13"
  },
  "toc": {
   "base_numbering": 1,
   "nav_menu": {},
   "number_sections": true,
   "sideBar": true,
   "skip_h1_title": false,
   "title_cell": "Table of Contents",
   "title_sidebar": "Contents",
   "toc_cell": false,
   "toc_position": {},
   "toc_section_display": true,
   "toc_window_display": false
  }
 },
 "nbformat": 4,
 "nbformat_minor": 5
}
